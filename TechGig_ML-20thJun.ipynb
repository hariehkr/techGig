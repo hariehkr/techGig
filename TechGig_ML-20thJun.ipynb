{
 "cells": [
  {
   "cell_type": "markdown",
   "metadata": {},
   "source": [
    "## Import Libraries"
   ]
  },
  {
   "cell_type": "code",
   "execution_count": 1,
   "metadata": {},
   "outputs": [],
   "source": [
    "import pandas as pd # Pandas for data manipulations\n",
    "import numpy as np  # Numpy for the computations\n",
    "import os\n",
    "from sklearn.metrics import accuracy_score,classification_report # For metrics\n",
    "from sklearn.model_selection import train_test_split             # For train and test splits\n",
    "from sklearn.model_selection import GridSearchCV                 # For GridSearch and K-fold cross validation\n",
    "from sklearn.impute import SimpleImputer                         # For Imputation\n",
    "\n",
    "import matplotlib.pyplot as plt # For visualizations\n",
    "import seaborn as sns           # For visualizations\n",
    "\n",
    "import warnings                   # For warnings\n",
    "warnings.filterwarnings('ignore') # Supress/Ignore warnings"
   ]
  },
  {
   "cell_type": "markdown",
   "metadata": {},
   "source": [
    "### Function for training the model"
   ]
  },
  {
   "cell_type": "code",
   "execution_count": 2,
   "metadata": {},
   "outputs": [],
   "source": [
    "# Function for training the model\n",
    "from sklearn.metrics import make_scorer\n",
    "from sklearn.metrics import recall_score\n",
    "\n",
    "def fn_train_model(model, \n",
    "                X_train, \n",
    "                y_train, \n",
    "                parameters = None, \n",
    "                k = 1):\n",
    "    if parameters == None:\n",
    "        model.fit(X_train, y_train) \n",
    "    else:\n",
    "        model_cv = GridSearchCV(model, \n",
    "                                param_grid = parameters, \n",
    "                                cv = k)\n",
    "        \n",
    "        model_cv.fit(X_train, y_train)\n",
    "        model = model_cv.best_estimator_\n",
    "        \n",
    "    return model"
   ]
  },
  {
   "cell_type": "code",
   "execution_count": 3,
   "metadata": {},
   "outputs": [],
   "source": [
    "# Function to count the null values and their percentages in each column.\n",
    "def fn_nulls_count(df):\n",
    "    # Nulls counts in each column.\n",
    "    nulls_counts = df.isnull().sum()\n",
    "    # Convert above series into dataframe.\n",
    "    nulls_counts_df = nulls_counts.to_frame(name = 'nulls_count')\n",
    "    # Add a new column - to get the null counts percentage to the total rows.\n",
    "    nulls_counts_df['nulls_percentage'] = round(100 * nulls_counts_df['nulls_count']/df.shape[0], 2)\n",
    "    # Return the null counts dataframe.\n",
    "    return nulls_counts_df"
   ]
  },
  {
   "cell_type": "markdown",
   "metadata": {},
   "source": [
    "### # Function to generate classification metrics"
   ]
  },
  {
   "cell_type": "code",
   "execution_count": 4,
   "metadata": {},
   "outputs": [],
   "source": [
    "# Function to generate classification metrics\n",
    "from sklearn.metrics import accuracy_score,recall_score,precision_score,f1_score\n",
    "\n",
    "def fn_compute_metrics(model,\n",
    "                       model_name,\n",
    "                       train_data, \n",
    "                       train_actuals,\n",
    "                       test_data,\n",
    "                       test_actuals):\n",
    "    metrics = {}\n",
    "    # train metrics\n",
    "    train_predictions = model.predict(train_data)\n",
    "    metrics['train_accuracy']    = accuracy_score(train_actuals, train_predictions)\n",
    "    metrics['train_precision']   = precision_score(train_actuals, train_predictions)\n",
    "    metrics['train_recall']      = recall_score(train_actuals, train_predictions)\n",
    "    metrics['train_f1_score']    = f1_score(train_actuals, train_predictions)\n",
    "    # test metrics\n",
    "    test_predictions  = model.predict(test_data)\n",
    "    metrics['test_accuracy']     = accuracy_score(test_actuals, test_predictions)\n",
    "    metrics['test_precision']    = precision_score(test_actuals, test_predictions)\n",
    "    metrics['test_recall']       = recall_score(test_actuals, test_predictions)\n",
    "    metrics['test_f1_score']     = f1_score(test_actuals, test_predictions)\n",
    "    \n",
    "    return pd.Series(metrics, name = model_name)"
   ]
  },
  {
   "cell_type": "code",
   "execution_count": 5,
   "metadata": {},
   "outputs": [],
   "source": [
    "# Function to generate classification metrics\n",
    "from sklearn.metrics import recall_score\n",
    "from sklearn.metrics import confusion_matrix\n",
    "from sklearn.metrics import classification_report\n",
    "\n",
    "def fn_compute_metrics_train(model, \n",
    "                       data, \n",
    "                       actuals):\n",
    "    \n",
    "    predictions = model.predict(data)\n",
    "    print('\\nConfusion Matrix :')\n",
    "    print(confusion_matrix(actuals, predictions) ) \n",
    "    \n",
    "    print('\\nReport : ')\n",
    "    print(classification_report(actuals, predictions))\n",
    "    \n",
    "    fe_recall = recall_score(actuals, predictions, average = None)[0]\n",
    "    print('Recall score :', fe_recall)\n",
    "    \n",
    "    return fe_recall"
   ]
  },
  {
   "cell_type": "markdown",
   "metadata": {},
   "source": [
    "### Train/Validation data reading"
   ]
  },
  {
   "cell_type": "code",
   "execution_count": 95,
   "metadata": {},
   "outputs": [
    {
     "data": {
      "text/plain": [
       "['20200829_Batch81A_CSE7405o_ModuleEndSession (1)',\n",
       " '20200829_Batch81A_CSE7405o_ModuleEndSession (1).zip',\n",
       " 'dfMetrics.xlsx',\n",
       " 'dfMetrics_After2Removal.xlsx',\n",
       " 'dfMetrics_After2RemovalV2.xlsx',\n",
       " 'dfMetrics_After2RemovalV3.xlsx',\n",
       " 'dfMetrics_After2RemovalV4.xlsx',\n",
       " 'kmeans_cluster_centroids.csv',\n",
       " 'Phising_Sample_Submisson.csv',\n",
       " 'Phising_Testing_Dataset.csv',\n",
       " 'Phising_Training_Dataset.csv',\n",
       " 'ProblemStatement.pdf',\n",
       " 'test_predictions_20thJunV1.csv',\n",
       " 'test_predictions_20thJun_xbm.csv',\n",
       " 'test_predictions_25thJulyV1.csv',\n",
       " 'test_predictions_25thJulyV2.csv',\n",
       " 'test_predictions_25thJulyV2_XGB.csv',\n",
       " 'test_predictions_25thJulyV3.csv',\n",
       " 'test_predictions_25thJulyV3_XgB.csv',\n",
       " 'test_predictions_25thJulyV3_XGB_New.csv',\n",
       " 'test_predictions_25thJulyV4_XgB.csv',\n",
       " '~$dfMetrics_After2Removal.xlsx',\n",
       " '~$dfMetrics_After2RemovalV2.xlsx']"
      ]
     },
     "execution_count": 95,
     "metadata": {},
     "output_type": "execute_result"
    }
   ],
   "source": [
    "folder=\"D:/Notes/TechGig/data\"\n",
    "os.listdir(folder)\n"
   ]
  },
  {
   "cell_type": "code",
   "execution_count": 96,
   "metadata": {},
   "outputs": [
    {
     "ename": "FileNotFoundError",
     "evalue": "[Errno 2] No such file or directory: 'D:/Notes/TechGig/data//sample_submission.csv'",
     "output_type": "error",
     "traceback": [
      "\u001b[1;31m---------------------------------------------------------------------------\u001b[0m",
      "\u001b[1;31mFileNotFoundError\u001b[0m                         Traceback (most recent call last)",
      "\u001b[1;32m~\\AppData\\Local\\Temp\\ipykernel_4360\\2695349642.py\u001b[0m in \u001b[0;36m<cell line: 1>\u001b[1;34m()\u001b[0m\n\u001b[1;32m----> 1\u001b[1;33m \u001b[0msub\u001b[0m \u001b[1;33m=\u001b[0m \u001b[0mpd\u001b[0m\u001b[1;33m.\u001b[0m\u001b[0mread_csv\u001b[0m\u001b[1;33m(\u001b[0m\u001b[0mfolder\u001b[0m\u001b[1;33m+\u001b[0m\u001b[1;34mu'//'\u001b[0m\u001b[1;33m+\u001b[0m\u001b[1;34m'sample_submission.csv'\u001b[0m\u001b[1;33m)\u001b[0m\u001b[1;33m\u001b[0m\u001b[1;33m\u001b[0m\u001b[0m\n\u001b[0m\u001b[0;32m      2\u001b[0m \u001b[1;31m#sub.index=df_train['key']\u001b[0m\u001b[1;33m\u001b[0m\u001b[1;33m\u001b[0m\u001b[1;33m\u001b[0m\u001b[0m\n\u001b[0;32m      3\u001b[0m \u001b[1;31m#df_train.drop('key', inplace=True, axis=1)\u001b[0m\u001b[1;33m\u001b[0m\u001b[1;33m\u001b[0m\u001b[1;33m\u001b[0m\u001b[0m\n\u001b[0;32m      4\u001b[0m \u001b[0mprint\u001b[0m\u001b[1;33m(\u001b[0m\u001b[0msub\u001b[0m\u001b[1;33m.\u001b[0m\u001b[0mshape\u001b[0m\u001b[1;33m)\u001b[0m\u001b[1;33m\u001b[0m\u001b[1;33m\u001b[0m\u001b[0m\n\u001b[0;32m      5\u001b[0m \u001b[0msub\u001b[0m\u001b[1;33m.\u001b[0m\u001b[0mhead\u001b[0m\u001b[1;33m(\u001b[0m\u001b[1;33m)\u001b[0m\u001b[1;33m\u001b[0m\u001b[1;33m\u001b[0m\u001b[0m\n",
      "\u001b[1;32m~\\Anaconda3\\lib\\site-packages\\pandas\\io\\parsers.py\u001b[0m in \u001b[0;36mread_csv\u001b[1;34m(filepath_or_buffer, sep, delimiter, header, names, index_col, usecols, squeeze, prefix, mangle_dupe_cols, dtype, engine, converters, true_values, false_values, skipinitialspace, skiprows, skipfooter, nrows, na_values, keep_default_na, na_filter, verbose, skip_blank_lines, parse_dates, infer_datetime_format, keep_date_col, date_parser, dayfirst, cache_dates, iterator, chunksize, compression, thousands, decimal, lineterminator, quotechar, quoting, doublequote, escapechar, comment, encoding, dialect, error_bad_lines, warn_bad_lines, delim_whitespace, low_memory, memory_map, float_precision, storage_options)\u001b[0m\n\u001b[0;32m    608\u001b[0m     \u001b[0mkwds\u001b[0m\u001b[1;33m.\u001b[0m\u001b[0mupdate\u001b[0m\u001b[1;33m(\u001b[0m\u001b[0mkwds_defaults\u001b[0m\u001b[1;33m)\u001b[0m\u001b[1;33m\u001b[0m\u001b[1;33m\u001b[0m\u001b[0m\n\u001b[0;32m    609\u001b[0m \u001b[1;33m\u001b[0m\u001b[0m\n\u001b[1;32m--> 610\u001b[1;33m     \u001b[1;32mreturn\u001b[0m \u001b[0m_read\u001b[0m\u001b[1;33m(\u001b[0m\u001b[0mfilepath_or_buffer\u001b[0m\u001b[1;33m,\u001b[0m \u001b[0mkwds\u001b[0m\u001b[1;33m)\u001b[0m\u001b[1;33m\u001b[0m\u001b[1;33m\u001b[0m\u001b[0m\n\u001b[0m\u001b[0;32m    611\u001b[0m \u001b[1;33m\u001b[0m\u001b[0m\n\u001b[0;32m    612\u001b[0m \u001b[1;33m\u001b[0m\u001b[0m\n",
      "\u001b[1;32m~\\Anaconda3\\lib\\site-packages\\pandas\\io\\parsers.py\u001b[0m in \u001b[0;36m_read\u001b[1;34m(filepath_or_buffer, kwds)\u001b[0m\n\u001b[0;32m    460\u001b[0m \u001b[1;33m\u001b[0m\u001b[0m\n\u001b[0;32m    461\u001b[0m     \u001b[1;31m# Create the parser.\u001b[0m\u001b[1;33m\u001b[0m\u001b[1;33m\u001b[0m\u001b[1;33m\u001b[0m\u001b[0m\n\u001b[1;32m--> 462\u001b[1;33m     \u001b[0mparser\u001b[0m \u001b[1;33m=\u001b[0m \u001b[0mTextFileReader\u001b[0m\u001b[1;33m(\u001b[0m\u001b[0mfilepath_or_buffer\u001b[0m\u001b[1;33m,\u001b[0m \u001b[1;33m**\u001b[0m\u001b[0mkwds\u001b[0m\u001b[1;33m)\u001b[0m\u001b[1;33m\u001b[0m\u001b[1;33m\u001b[0m\u001b[0m\n\u001b[0m\u001b[0;32m    463\u001b[0m \u001b[1;33m\u001b[0m\u001b[0m\n\u001b[0;32m    464\u001b[0m     \u001b[1;32mif\u001b[0m \u001b[0mchunksize\u001b[0m \u001b[1;32mor\u001b[0m \u001b[0miterator\u001b[0m\u001b[1;33m:\u001b[0m\u001b[1;33m\u001b[0m\u001b[1;33m\u001b[0m\u001b[0m\n",
      "\u001b[1;32m~\\Anaconda3\\lib\\site-packages\\pandas\\io\\parsers.py\u001b[0m in \u001b[0;36m__init__\u001b[1;34m(self, f, engine, **kwds)\u001b[0m\n\u001b[0;32m    817\u001b[0m             \u001b[0mself\u001b[0m\u001b[1;33m.\u001b[0m\u001b[0moptions\u001b[0m\u001b[1;33m[\u001b[0m\u001b[1;34m\"has_index_names\"\u001b[0m\u001b[1;33m]\u001b[0m \u001b[1;33m=\u001b[0m \u001b[0mkwds\u001b[0m\u001b[1;33m[\u001b[0m\u001b[1;34m\"has_index_names\"\u001b[0m\u001b[1;33m]\u001b[0m\u001b[1;33m\u001b[0m\u001b[1;33m\u001b[0m\u001b[0m\n\u001b[0;32m    818\u001b[0m \u001b[1;33m\u001b[0m\u001b[0m\n\u001b[1;32m--> 819\u001b[1;33m         \u001b[0mself\u001b[0m\u001b[1;33m.\u001b[0m\u001b[0m_engine\u001b[0m \u001b[1;33m=\u001b[0m \u001b[0mself\u001b[0m\u001b[1;33m.\u001b[0m\u001b[0m_make_engine\u001b[0m\u001b[1;33m(\u001b[0m\u001b[0mself\u001b[0m\u001b[1;33m.\u001b[0m\u001b[0mengine\u001b[0m\u001b[1;33m)\u001b[0m\u001b[1;33m\u001b[0m\u001b[1;33m\u001b[0m\u001b[0m\n\u001b[0m\u001b[0;32m    820\u001b[0m \u001b[1;33m\u001b[0m\u001b[0m\n\u001b[0;32m    821\u001b[0m     \u001b[1;32mdef\u001b[0m \u001b[0mclose\u001b[0m\u001b[1;33m(\u001b[0m\u001b[0mself\u001b[0m\u001b[1;33m)\u001b[0m\u001b[1;33m:\u001b[0m\u001b[1;33m\u001b[0m\u001b[1;33m\u001b[0m\u001b[0m\n",
      "\u001b[1;32m~\\Anaconda3\\lib\\site-packages\\pandas\\io\\parsers.py\u001b[0m in \u001b[0;36m_make_engine\u001b[1;34m(self, engine)\u001b[0m\n\u001b[0;32m   1048\u001b[0m             )\n\u001b[0;32m   1049\u001b[0m         \u001b[1;31m# error: Too many arguments for \"ParserBase\"\u001b[0m\u001b[1;33m\u001b[0m\u001b[1;33m\u001b[0m\u001b[1;33m\u001b[0m\u001b[0m\n\u001b[1;32m-> 1050\u001b[1;33m         \u001b[1;32mreturn\u001b[0m \u001b[0mmapping\u001b[0m\u001b[1;33m[\u001b[0m\u001b[0mengine\u001b[0m\u001b[1;33m]\u001b[0m\u001b[1;33m(\u001b[0m\u001b[0mself\u001b[0m\u001b[1;33m.\u001b[0m\u001b[0mf\u001b[0m\u001b[1;33m,\u001b[0m \u001b[1;33m**\u001b[0m\u001b[0mself\u001b[0m\u001b[1;33m.\u001b[0m\u001b[0moptions\u001b[0m\u001b[1;33m)\u001b[0m  \u001b[1;31m# type: ignore[call-arg]\u001b[0m\u001b[1;33m\u001b[0m\u001b[1;33m\u001b[0m\u001b[0m\n\u001b[0m\u001b[0;32m   1051\u001b[0m \u001b[1;33m\u001b[0m\u001b[0m\n\u001b[0;32m   1052\u001b[0m     \u001b[1;32mdef\u001b[0m \u001b[0m_failover_to_python\u001b[0m\u001b[1;33m(\u001b[0m\u001b[0mself\u001b[0m\u001b[1;33m)\u001b[0m\u001b[1;33m:\u001b[0m\u001b[1;33m\u001b[0m\u001b[1;33m\u001b[0m\u001b[0m\n",
      "\u001b[1;32m~\\Anaconda3\\lib\\site-packages\\pandas\\io\\parsers.py\u001b[0m in \u001b[0;36m__init__\u001b[1;34m(self, src, **kwds)\u001b[0m\n\u001b[0;32m   1865\u001b[0m \u001b[1;33m\u001b[0m\u001b[0m\n\u001b[0;32m   1866\u001b[0m         \u001b[1;31m# open handles\u001b[0m\u001b[1;33m\u001b[0m\u001b[1;33m\u001b[0m\u001b[1;33m\u001b[0m\u001b[0m\n\u001b[1;32m-> 1867\u001b[1;33m         \u001b[0mself\u001b[0m\u001b[1;33m.\u001b[0m\u001b[0m_open_handles\u001b[0m\u001b[1;33m(\u001b[0m\u001b[0msrc\u001b[0m\u001b[1;33m,\u001b[0m \u001b[0mkwds\u001b[0m\u001b[1;33m)\u001b[0m\u001b[1;33m\u001b[0m\u001b[1;33m\u001b[0m\u001b[0m\n\u001b[0m\u001b[0;32m   1868\u001b[0m         \u001b[1;32massert\u001b[0m \u001b[0mself\u001b[0m\u001b[1;33m.\u001b[0m\u001b[0mhandles\u001b[0m \u001b[1;32mis\u001b[0m \u001b[1;32mnot\u001b[0m \u001b[1;32mNone\u001b[0m\u001b[1;33m\u001b[0m\u001b[1;33m\u001b[0m\u001b[0m\n\u001b[0;32m   1869\u001b[0m         \u001b[1;32mfor\u001b[0m \u001b[0mkey\u001b[0m \u001b[1;32min\u001b[0m \u001b[1;33m(\u001b[0m\u001b[1;34m\"storage_options\"\u001b[0m\u001b[1;33m,\u001b[0m \u001b[1;34m\"encoding\"\u001b[0m\u001b[1;33m,\u001b[0m \u001b[1;34m\"memory_map\"\u001b[0m\u001b[1;33m,\u001b[0m \u001b[1;34m\"compression\"\u001b[0m\u001b[1;33m)\u001b[0m\u001b[1;33m:\u001b[0m\u001b[1;33m\u001b[0m\u001b[1;33m\u001b[0m\u001b[0m\n",
      "\u001b[1;32m~\\Anaconda3\\lib\\site-packages\\pandas\\io\\parsers.py\u001b[0m in \u001b[0;36m_open_handles\u001b[1;34m(self, src, kwds)\u001b[0m\n\u001b[0;32m   1360\u001b[0m         \u001b[0mLet\u001b[0m \u001b[0mthe\u001b[0m \u001b[0mreaders\u001b[0m \u001b[0mopen\u001b[0m \u001b[0mIOHanldes\u001b[0m \u001b[0mafter\u001b[0m \u001b[0mthey\u001b[0m \u001b[0mare\u001b[0m \u001b[0mdone\u001b[0m \u001b[1;32mwith\u001b[0m \u001b[0mtheir\u001b[0m \u001b[0mpotential\u001b[0m \u001b[0mraises\u001b[0m\u001b[1;33m.\u001b[0m\u001b[1;33m\u001b[0m\u001b[1;33m\u001b[0m\u001b[0m\n\u001b[0;32m   1361\u001b[0m         \"\"\"\n\u001b[1;32m-> 1362\u001b[1;33m         self.handles = get_handle(\n\u001b[0m\u001b[0;32m   1363\u001b[0m             \u001b[0msrc\u001b[0m\u001b[1;33m,\u001b[0m\u001b[1;33m\u001b[0m\u001b[1;33m\u001b[0m\u001b[0m\n\u001b[0;32m   1364\u001b[0m             \u001b[1;34m\"r\"\u001b[0m\u001b[1;33m,\u001b[0m\u001b[1;33m\u001b[0m\u001b[1;33m\u001b[0m\u001b[0m\n",
      "\u001b[1;32m~\\Anaconda3\\lib\\site-packages\\pandas\\io\\common.py\u001b[0m in \u001b[0;36mget_handle\u001b[1;34m(path_or_buf, mode, encoding, compression, memory_map, is_text, errors, storage_options)\u001b[0m\n\u001b[0;32m    645\u001b[0m                 \u001b[0merrors\u001b[0m \u001b[1;33m=\u001b[0m \u001b[1;34m\"replace\"\u001b[0m\u001b[1;33m\u001b[0m\u001b[1;33m\u001b[0m\u001b[0m\n\u001b[0;32m    646\u001b[0m             \u001b[1;31m# Encoding\u001b[0m\u001b[1;33m\u001b[0m\u001b[1;33m\u001b[0m\u001b[1;33m\u001b[0m\u001b[0m\n\u001b[1;32m--> 647\u001b[1;33m             handle = open(\n\u001b[0m\u001b[0;32m    648\u001b[0m                 \u001b[0mhandle\u001b[0m\u001b[1;33m,\u001b[0m\u001b[1;33m\u001b[0m\u001b[1;33m\u001b[0m\u001b[0m\n\u001b[0;32m    649\u001b[0m                 \u001b[0mioargs\u001b[0m\u001b[1;33m.\u001b[0m\u001b[0mmode\u001b[0m\u001b[1;33m,\u001b[0m\u001b[1;33m\u001b[0m\u001b[1;33m\u001b[0m\u001b[0m\n",
      "\u001b[1;31mFileNotFoundError\u001b[0m: [Errno 2] No such file or directory: 'D:/Notes/TechGig/data//sample_submission.csv'"
     ]
    }
   ],
   "source": [
    "sub = pd.read_csv(folder+u'//'+'sample_submission.csv')\n",
    "#sub.index=df_train['key']\n",
    "#df_train.drop('key', inplace=True, axis=1)\n",
    "print(sub.shape)\n",
    "sub.head()"
   ]
  },
  {
   "cell_type": "code",
   "execution_count": 97,
   "metadata": {},
   "outputs": [
    {
     "name": "stdout",
     "output_type": "stream",
     "text": [
      "(8955, 31)\n"
     ]
    },
    {
     "data": {
      "text/html": [
       "<div>\n",
       "<style scoped>\n",
       "    .dataframe tbody tr th:only-of-type {\n",
       "        vertical-align: middle;\n",
       "    }\n",
       "\n",
       "    .dataframe tbody tr th {\n",
       "        vertical-align: top;\n",
       "    }\n",
       "\n",
       "    .dataframe thead th {\n",
       "        text-align: right;\n",
       "    }\n",
       "</style>\n",
       "<table border=\"1\" class=\"dataframe\">\n",
       "  <thead>\n",
       "    <tr style=\"text-align: right;\">\n",
       "      <th></th>\n",
       "      <th>having_IP</th>\n",
       "      <th>URL_Length</th>\n",
       "      <th>Shortining_Service</th>\n",
       "      <th>having_At_Symbol</th>\n",
       "      <th>double_slash_redirecting</th>\n",
       "      <th>Prefix_Suffix</th>\n",
       "      <th>having_Sub_Domain</th>\n",
       "      <th>SSLfinal_State</th>\n",
       "      <th>Domain_registeration_length</th>\n",
       "      <th>Favicon</th>\n",
       "      <th>...</th>\n",
       "      <th>popUpWidnow</th>\n",
       "      <th>Iframe</th>\n",
       "      <th>age_of_domain</th>\n",
       "      <th>DNSRecord</th>\n",
       "      <th>web_traffic</th>\n",
       "      <th>Page_Rank</th>\n",
       "      <th>Google_Index</th>\n",
       "      <th>Links_pointing_to_page</th>\n",
       "      <th>Statistical_report</th>\n",
       "      <th>Result</th>\n",
       "    </tr>\n",
       "    <tr>\n",
       "      <th>key</th>\n",
       "      <th></th>\n",
       "      <th></th>\n",
       "      <th></th>\n",
       "      <th></th>\n",
       "      <th></th>\n",
       "      <th></th>\n",
       "      <th></th>\n",
       "      <th></th>\n",
       "      <th></th>\n",
       "      <th></th>\n",
       "      <th></th>\n",
       "      <th></th>\n",
       "      <th></th>\n",
       "      <th></th>\n",
       "      <th></th>\n",
       "      <th></th>\n",
       "      <th></th>\n",
       "      <th></th>\n",
       "      <th></th>\n",
       "      <th></th>\n",
       "      <th></th>\n",
       "    </tr>\n",
       "  </thead>\n",
       "  <tbody>\n",
       "    <tr>\n",
       "      <th>12344</th>\n",
       "      <td>-1</td>\n",
       "      <td>1</td>\n",
       "      <td>1</td>\n",
       "      <td>1</td>\n",
       "      <td>-1</td>\n",
       "      <td>-1</td>\n",
       "      <td>-1</td>\n",
       "      <td>-1</td>\n",
       "      <td>-1</td>\n",
       "      <td>1</td>\n",
       "      <td>...</td>\n",
       "      <td>1</td>\n",
       "      <td>1</td>\n",
       "      <td>-1</td>\n",
       "      <td>-1</td>\n",
       "      <td>-1</td>\n",
       "      <td>-1</td>\n",
       "      <td>1</td>\n",
       "      <td>1</td>\n",
       "      <td>-1</td>\n",
       "      <td>-1</td>\n",
       "    </tr>\n",
       "    <tr>\n",
       "      <th>12345</th>\n",
       "      <td>1</td>\n",
       "      <td>1</td>\n",
       "      <td>1</td>\n",
       "      <td>1</td>\n",
       "      <td>1</td>\n",
       "      <td>-1</td>\n",
       "      <td>0</td>\n",
       "      <td>1</td>\n",
       "      <td>-1</td>\n",
       "      <td>1</td>\n",
       "      <td>...</td>\n",
       "      <td>1</td>\n",
       "      <td>1</td>\n",
       "      <td>-1</td>\n",
       "      <td>-1</td>\n",
       "      <td>0</td>\n",
       "      <td>-1</td>\n",
       "      <td>1</td>\n",
       "      <td>1</td>\n",
       "      <td>1</td>\n",
       "      <td>-1</td>\n",
       "    </tr>\n",
       "    <tr>\n",
       "      <th>12346</th>\n",
       "      <td>1</td>\n",
       "      <td>0</td>\n",
       "      <td>1</td>\n",
       "      <td>1</td>\n",
       "      <td>1</td>\n",
       "      <td>-1</td>\n",
       "      <td>-1</td>\n",
       "      <td>-1</td>\n",
       "      <td>-1</td>\n",
       "      <td>1</td>\n",
       "      <td>...</td>\n",
       "      <td>1</td>\n",
       "      <td>1</td>\n",
       "      <td>1</td>\n",
       "      <td>-1</td>\n",
       "      <td>1</td>\n",
       "      <td>-1</td>\n",
       "      <td>1</td>\n",
       "      <td>0</td>\n",
       "      <td>-1</td>\n",
       "      <td>-1</td>\n",
       "    </tr>\n",
       "    <tr>\n",
       "      <th>12347</th>\n",
       "      <td>1</td>\n",
       "      <td>0</td>\n",
       "      <td>1</td>\n",
       "      <td>1</td>\n",
       "      <td>1</td>\n",
       "      <td>-1</td>\n",
       "      <td>-1</td>\n",
       "      <td>-1</td>\n",
       "      <td>1</td>\n",
       "      <td>1</td>\n",
       "      <td>...</td>\n",
       "      <td>1</td>\n",
       "      <td>1</td>\n",
       "      <td>-1</td>\n",
       "      <td>-1</td>\n",
       "      <td>1</td>\n",
       "      <td>-1</td>\n",
       "      <td>1</td>\n",
       "      <td>-1</td>\n",
       "      <td>1</td>\n",
       "      <td>-1</td>\n",
       "    </tr>\n",
       "    <tr>\n",
       "      <th>12348</th>\n",
       "      <td>1</td>\n",
       "      <td>0</td>\n",
       "      <td>-1</td>\n",
       "      <td>1</td>\n",
       "      <td>1</td>\n",
       "      <td>-1</td>\n",
       "      <td>1</td>\n",
       "      <td>1</td>\n",
       "      <td>-1</td>\n",
       "      <td>1</td>\n",
       "      <td>...</td>\n",
       "      <td>-1</td>\n",
       "      <td>1</td>\n",
       "      <td>-1</td>\n",
       "      <td>-1</td>\n",
       "      <td>0</td>\n",
       "      <td>-1</td>\n",
       "      <td>1</td>\n",
       "      <td>1</td>\n",
       "      <td>1</td>\n",
       "      <td>1</td>\n",
       "    </tr>\n",
       "  </tbody>\n",
       "</table>\n",
       "<p>5 rows × 31 columns</p>\n",
       "</div>"
      ],
      "text/plain": [
       "       having_IP  URL_Length  Shortining_Service  having_At_Symbol  \\\n",
       "key                                                                  \n",
       "12344         -1           1                   1                 1   \n",
       "12345          1           1                   1                 1   \n",
       "12346          1           0                   1                 1   \n",
       "12347          1           0                   1                 1   \n",
       "12348          1           0                  -1                 1   \n",
       "\n",
       "       double_slash_redirecting  Prefix_Suffix  having_Sub_Domain  \\\n",
       "key                                                                 \n",
       "12344                        -1             -1                 -1   \n",
       "12345                         1             -1                  0   \n",
       "12346                         1             -1                 -1   \n",
       "12347                         1             -1                 -1   \n",
       "12348                         1             -1                  1   \n",
       "\n",
       "       SSLfinal_State  Domain_registeration_length  Favicon  ...  popUpWidnow  \\\n",
       "key                                                          ...                \n",
       "12344              -1                           -1        1  ...            1   \n",
       "12345               1                           -1        1  ...            1   \n",
       "12346              -1                           -1        1  ...            1   \n",
       "12347              -1                            1        1  ...            1   \n",
       "12348               1                           -1        1  ...           -1   \n",
       "\n",
       "       Iframe  age_of_domain  DNSRecord  web_traffic  Page_Rank  Google_Index  \\\n",
       "key                                                                             \n",
       "12344       1             -1         -1           -1         -1             1   \n",
       "12345       1             -1         -1            0         -1             1   \n",
       "12346       1              1         -1            1         -1             1   \n",
       "12347       1             -1         -1            1         -1             1   \n",
       "12348       1             -1         -1            0         -1             1   \n",
       "\n",
       "       Links_pointing_to_page  Statistical_report  Result  \n",
       "key                                                        \n",
       "12344                       1                  -1      -1  \n",
       "12345                       1                   1      -1  \n",
       "12346                       0                  -1      -1  \n",
       "12347                      -1                   1      -1  \n",
       "12348                       1                   1       1  \n",
       "\n",
       "[5 rows x 31 columns]"
      ]
     },
     "execution_count": 97,
     "metadata": {},
     "output_type": "execute_result"
    }
   ],
   "source": [
    "df_train = pd.read_csv(folder+u'//'+'Phising_Training_Dataset.csv')\n",
    "df_train.index=df_train['key']\n",
    "df_train.drop('key', inplace=True, axis=1)\n",
    "print(df_train.shape)\n",
    "df_train.head()"
   ]
  },
  {
   "cell_type": "code",
   "execution_count": 98,
   "metadata": {},
   "outputs": [
    {
     "name": "stdout",
     "output_type": "stream",
     "text": [
      "(2100, 30)\n"
     ]
    },
    {
     "data": {
      "text/html": [
       "<div>\n",
       "<style scoped>\n",
       "    .dataframe tbody tr th:only-of-type {\n",
       "        vertical-align: middle;\n",
       "    }\n",
       "\n",
       "    .dataframe tbody tr th {\n",
       "        vertical-align: top;\n",
       "    }\n",
       "\n",
       "    .dataframe thead th {\n",
       "        text-align: right;\n",
       "    }\n",
       "</style>\n",
       "<table border=\"1\" class=\"dataframe\">\n",
       "  <thead>\n",
       "    <tr style=\"text-align: right;\">\n",
       "      <th></th>\n",
       "      <th>having_IP</th>\n",
       "      <th>URL_Length</th>\n",
       "      <th>Shortining_Service</th>\n",
       "      <th>having_At_Symbol</th>\n",
       "      <th>double_slash_redirecting</th>\n",
       "      <th>Prefix_Suffix</th>\n",
       "      <th>having_Sub_Domain</th>\n",
       "      <th>SSLfinal_State</th>\n",
       "      <th>Domain_registeration_length</th>\n",
       "      <th>Favicon</th>\n",
       "      <th>...</th>\n",
       "      <th>RightClick</th>\n",
       "      <th>popUpWidnow</th>\n",
       "      <th>Iframe</th>\n",
       "      <th>age_of_domain</th>\n",
       "      <th>DNSRecord</th>\n",
       "      <th>web_traffic</th>\n",
       "      <th>Page_Rank</th>\n",
       "      <th>Google_Index</th>\n",
       "      <th>Links_pointing_to_page</th>\n",
       "      <th>Statistical_report</th>\n",
       "    </tr>\n",
       "    <tr>\n",
       "      <th>key</th>\n",
       "      <th></th>\n",
       "      <th></th>\n",
       "      <th></th>\n",
       "      <th></th>\n",
       "      <th></th>\n",
       "      <th></th>\n",
       "      <th></th>\n",
       "      <th></th>\n",
       "      <th></th>\n",
       "      <th></th>\n",
       "      <th></th>\n",
       "      <th></th>\n",
       "      <th></th>\n",
       "      <th></th>\n",
       "      <th></th>\n",
       "      <th></th>\n",
       "      <th></th>\n",
       "      <th></th>\n",
       "      <th></th>\n",
       "      <th></th>\n",
       "      <th></th>\n",
       "    </tr>\n",
       "  </thead>\n",
       "  <tbody>\n",
       "    <tr>\n",
       "      <th>21338</th>\n",
       "      <td>1</td>\n",
       "      <td>1</td>\n",
       "      <td>1</td>\n",
       "      <td>1</td>\n",
       "      <td>1</td>\n",
       "      <td>1</td>\n",
       "      <td>-1</td>\n",
       "      <td>1</td>\n",
       "      <td>-1</td>\n",
       "      <td>1</td>\n",
       "      <td>...</td>\n",
       "      <td>1</td>\n",
       "      <td>1</td>\n",
       "      <td>1</td>\n",
       "      <td>1</td>\n",
       "      <td>1</td>\n",
       "      <td>1</td>\n",
       "      <td>1</td>\n",
       "      <td>-1</td>\n",
       "      <td>0</td>\n",
       "      <td>1</td>\n",
       "    </tr>\n",
       "    <tr>\n",
       "      <th>21339</th>\n",
       "      <td>1</td>\n",
       "      <td>-1</td>\n",
       "      <td>1</td>\n",
       "      <td>1</td>\n",
       "      <td>1</td>\n",
       "      <td>-1</td>\n",
       "      <td>0</td>\n",
       "      <td>-1</td>\n",
       "      <td>1</td>\n",
       "      <td>1</td>\n",
       "      <td>...</td>\n",
       "      <td>1</td>\n",
       "      <td>1</td>\n",
       "      <td>1</td>\n",
       "      <td>-1</td>\n",
       "      <td>-1</td>\n",
       "      <td>0</td>\n",
       "      <td>-1</td>\n",
       "      <td>-1</td>\n",
       "      <td>0</td>\n",
       "      <td>1</td>\n",
       "    </tr>\n",
       "  </tbody>\n",
       "</table>\n",
       "<p>2 rows × 30 columns</p>\n",
       "</div>"
      ],
      "text/plain": [
       "       having_IP  URL_Length  Shortining_Service  having_At_Symbol  \\\n",
       "key                                                                  \n",
       "21338          1           1                   1                 1   \n",
       "21339          1          -1                   1                 1   \n",
       "\n",
       "       double_slash_redirecting  Prefix_Suffix  having_Sub_Domain  \\\n",
       "key                                                                 \n",
       "21338                         1              1                 -1   \n",
       "21339                         1             -1                  0   \n",
       "\n",
       "       SSLfinal_State  Domain_registeration_length  Favicon  ...  RightClick  \\\n",
       "key                                                          ...               \n",
       "21338               1                           -1        1  ...           1   \n",
       "21339              -1                            1        1  ...           1   \n",
       "\n",
       "       popUpWidnow  Iframe  age_of_domain  DNSRecord  web_traffic  Page_Rank  \\\n",
       "key                                                                            \n",
       "21338            1       1              1          1            1          1   \n",
       "21339            1       1             -1         -1            0         -1   \n",
       "\n",
       "       Google_Index  Links_pointing_to_page  Statistical_report  \n",
       "key                                                              \n",
       "21338            -1                       0                   1  \n",
       "21339            -1                       0                   1  \n",
       "\n",
       "[2 rows x 30 columns]"
      ]
     },
     "execution_count": 98,
     "metadata": {},
     "output_type": "execute_result"
    }
   ],
   "source": [
    "df_test = pd.read_csv(folder+u'//'+'Phising_Testing_Dataset.csv')\n",
    "df_test.index=df_test['key']\n",
    "df_test.drop('key', inplace=True, axis=1)\n",
    "print(df_test.shape)\n",
    "df_test.head(2)"
   ]
  },
  {
   "cell_type": "markdown",
   "metadata": {},
   "source": [
    "### Divide data into training and validation subsets"
   ]
  },
  {
   "cell_type": "code",
   "execution_count": 99,
   "metadata": {},
   "outputs": [],
   "source": [
    "# Divide data into training and validation subsets\n",
    "y = df_train['Result']\n",
    "X = df_train.drop(['Result'], axis=1)\n",
    "X_train, X_test, y_train, y_test = train_test_split(X, \n",
    "                                                    y, \n",
    "                                                    train_size=0.8, \n",
    "                                                    test_size=0.2,\n",
    "                                                    random_state=0)"
   ]
  },
  {
   "cell_type": "code",
   "execution_count": 101,
   "metadata": {},
   "outputs": [],
   "source": [
    "# first neural network with keras tutorial\n",
    "from numpy import loadtxt\n",
    "from tensorflow.keras.models import Sequential\n",
    "from tensorflow.keras.layers import Dense\n"
   ]
  },
  {
   "cell_type": "code",
   "execution_count": 108,
   "metadata": {},
   "outputs": [],
   "source": [
    "...\n",
    "# define the keras model\n",
    "model = Sequential()\n",
    "model.add(Dense(12, input_shape=(30,), activation='relu'))\n",
    "model.add(Dense(8, activation='relu'))\n",
    "model.add(Dense(1, activation='sigmoid'))\n"
   ]
  },
  {
   "cell_type": "code",
   "execution_count": 109,
   "metadata": {},
   "outputs": [],
   "source": [
    "\n",
    "# compile the keras model\n",
    "model.compile(loss='binary_crossentropy', optimizer='adam', metrics=['accuracy'])\n"
   ]
  },
  {
   "cell_type": "code",
   "execution_count": 110,
   "metadata": {},
   "outputs": [
    {
     "name": "stdout",
     "output_type": "stream",
     "text": [
      "Epoch 1/150\n",
      "717/717 [==============================] - 1s 730us/step - loss: -2.2957 - accuracy: 0.4239\n",
      "Epoch 2/150\n",
      "717/717 [==============================] - 1s 770us/step - loss: -56.2122 - accuracy: 0.3664\n",
      "Epoch 3/150\n",
      "717/717 [==============================] - 1s 735us/step - loss: -261.5593 - accuracy: 0.3636\n",
      "Epoch 4/150\n",
      "717/717 [==============================] - 1s 744us/step - loss: -691.4153 - accuracy: 0.3603\n",
      "Epoch 5/150\n",
      "717/717 [==============================] - 1s 739us/step - loss: -1380.8767 - accuracy: 0.3592\n",
      "Epoch 6/150\n",
      "717/717 [==============================] - 1s 724us/step - loss: -2354.8645 - accuracy: 0.3578\n",
      "Epoch 7/150\n",
      "717/717 [==============================] - 1s 791us/step - loss: -3626.8032 - accuracy: 0.3596\n",
      "Epoch 8/150\n",
      "717/717 [==============================] - 1s 766us/step - loss: -5228.9258 - accuracy: 0.3562\n",
      "Epoch 9/150\n",
      "717/717 [==============================] - 1s 756us/step - loss: -7189.9316 - accuracy: 0.3559\n",
      "Epoch 10/150\n",
      "717/717 [==============================] - 1s 772us/step - loss: -9511.3438 - accuracy: 0.3564\n",
      "Epoch 11/150\n",
      "717/717 [==============================] - 1s 749us/step - loss: -12249.2402 - accuracy: 0.3569\n",
      "Epoch 12/150\n",
      "717/717 [==============================] - 1s 754us/step - loss: -15416.0869 - accuracy: 0.3573\n",
      "Epoch 13/150\n",
      "717/717 [==============================] - 1s 738us/step - loss: -19008.2285 - accuracy: 0.3587\n",
      "Epoch 14/150\n",
      "717/717 [==============================] - 1s 743us/step - loss: -23052.6953 - accuracy: 0.3568\n",
      "Epoch 15/150\n",
      "717/717 [==============================] - 1s 739us/step - loss: -27580.5488 - accuracy: 0.3537\n",
      "Epoch 16/150\n",
      "717/717 [==============================] - 1s 755us/step - loss: -32621.7891 - accuracy: 0.3578\n",
      "Epoch 17/150\n",
      "717/717 [==============================] - 1s 738us/step - loss: -38221.2031 - accuracy: 0.3551\n",
      "Epoch 18/150\n",
      "717/717 [==============================] - 1s 819us/step - loss: -44408.8906 - accuracy: 0.3551\n",
      "Epoch 19/150\n",
      "717/717 [==============================] - 1s 787us/step - loss: -51182.9180 - accuracy: 0.3589\n",
      "Epoch 20/150\n",
      "717/717 [==============================] - 1s 766us/step - loss: -58529.2461 - accuracy: 0.3550\n",
      "Epoch 21/150\n",
      "717/717 [==============================] - 1s 759us/step - loss: -66548.3906 - accuracy: 0.3575\n",
      "Epoch 22/150\n",
      "717/717 [==============================] - 1s 754us/step - loss: -75284.9609 - accuracy: 0.3579\n",
      "Epoch 23/150\n",
      "717/717 [==============================] - 1s 770us/step - loss: -84675.4141 - accuracy: 0.3544\n",
      "Epoch 24/150\n",
      "717/717 [==============================] - 1s 744us/step - loss: -94717.7812 - accuracy: 0.3554\n",
      "Epoch 25/150\n",
      "717/717 [==============================] - 1s 791us/step - loss: -105519.5625 - accuracy: 0.3561\n",
      "Epoch 26/150\n",
      "717/717 [==============================] - 1s 744us/step - loss: -117125.4688 - accuracy: 0.3555\n",
      "Epoch 27/150\n",
      "717/717 [==============================] - 1s 756us/step - loss: -129460.4922 - accuracy: 0.3557\n",
      "Epoch 28/150\n",
      "717/717 [==============================] - 1s 751us/step - loss: -142509.3594 - accuracy: 0.3572\n",
      "Epoch 29/150\n",
      "717/717 [==============================] - 1s 801us/step - loss: -156309.9531 - accuracy: 0.3571\n",
      "Epoch 30/150\n",
      "717/717 [==============================] - 1s 774us/step - loss: -170873.8125 - accuracy: 0.3551\n",
      "Epoch 31/150\n",
      "717/717 [==============================] - 1s 749us/step - loss: -186241.3750 - accuracy: 0.3550\n",
      "Epoch 32/150\n",
      "717/717 [==============================] - 1s 795us/step - loss: -202574.8438 - accuracy: 0.3562\n",
      "Epoch 33/150\n",
      "717/717 [==============================] - 1s 789us/step - loss: -219850.2500 - accuracy: 0.3543\n",
      "Epoch 34/150\n",
      "717/717 [==============================] - 1s 755us/step - loss: -237954.1875 - accuracy: 0.3589\n",
      "Epoch 35/150\n",
      "717/717 [==============================] - 1s 766us/step - loss: -256925.4219 - accuracy: 0.3552\n",
      "Epoch 36/150\n",
      "717/717 [==============================] - 1s 817us/step - loss: -276861.5938 - accuracy: 0.3557\n",
      "Epoch 37/150\n",
      "717/717 [==============================] - 1s 868us/step - loss: -297654.8125 - accuracy: 0.3533\n",
      "Epoch 38/150\n",
      "717/717 [==============================] - 1s 835us/step - loss: -319497.2500 - accuracy: 0.3586\n",
      "Epoch 39/150\n",
      "717/717 [==============================] - 1s 803us/step - loss: -342565.2500 - accuracy: 0.3552\n",
      "Epoch 40/150\n",
      "717/717 [==============================] - 1s 754us/step - loss: -366762.1875 - accuracy: 0.3575\n",
      "Epoch 41/150\n",
      "717/717 [==============================] - 1s 772us/step - loss: -391878.5000 - accuracy: 0.3543\n",
      "Epoch 42/150\n",
      "717/717 [==============================] - 1s 790us/step - loss: -417705.8125 - accuracy: 0.3562\n",
      "Epoch 43/150\n",
      "717/717 [==============================] - 1s 872us/step - loss: -444886.5625 - accuracy: 0.3585\n",
      "Epoch 44/150\n",
      "717/717 [==============================] - 1s 791us/step - loss: -473203.6250 - accuracy: 0.3554\n",
      "Epoch 45/150\n",
      "717/717 [==============================] - 1s 706us/step - loss: -502669.0000 - accuracy: 0.3579\n",
      "Epoch 46/150\n",
      "717/717 [==============================] - 1s 806us/step - loss: -533543.1875 - accuracy: 0.3557\n",
      "Epoch 47/150\n",
      "717/717 [==============================] - 1s 743us/step - loss: -565716.3125 - accuracy: 0.3565\n",
      "Epoch 48/150\n",
      "717/717 [==============================] - 1s 731us/step - loss: -599038.6875 - accuracy: 0.3543\n",
      "Epoch 49/150\n",
      "717/717 [==============================] - 1s 722us/step - loss: -633553.6875 - accuracy: 0.3572\n",
      "Epoch 50/150\n",
      "717/717 [==============================] - 1s 705us/step - loss: -669338.0000 - accuracy: 0.3575\n",
      "Epoch 51/150\n",
      "717/717 [==============================] - 1s 720us/step - loss: -706379.8125 - accuracy: 0.3564\n",
      "Epoch 52/150\n",
      "717/717 [==============================] - 1s 760us/step - loss: -744732.8750 - accuracy: 0.3547\n",
      "Epoch 53/150\n",
      "717/717 [==============================] - 1s 745us/step - loss: -784325.6875 - accuracy: 0.3543\n",
      "Epoch 54/150\n",
      "717/717 [==============================] - 1s 773us/step - loss: -825343.8750 - accuracy: 0.3566\n",
      "Epoch 55/150\n",
      "717/717 [==============================] - 1s 717us/step - loss: -867923.1875 - accuracy: 0.3558\n",
      "Epoch 56/150\n",
      "717/717 [==============================] - 1s 804us/step - loss: -912080.1875 - accuracy: 0.3534\n",
      "Epoch 57/150\n",
      "717/717 [==============================] - 1s 864us/step - loss: -957730.1875 - accuracy: 0.3569\n",
      "Epoch 58/150\n",
      "717/717 [==============================] - 1s 740us/step - loss: -1004919.4375 - accuracy: 0.3547\n",
      "Epoch 59/150\n",
      "717/717 [==============================] - 1s 726us/step - loss: -1053510.8750 - accuracy: 0.3561\n",
      "Epoch 60/150\n",
      "717/717 [==============================] - 1s 877us/step - loss: -1103444.3750 - accuracy: 0.3572\n",
      "Epoch 61/150\n",
      "717/717 [==============================] - 1s 825us/step - loss: -1154623.0000 - accuracy: 0.3548\n",
      "Epoch 62/150\n",
      "717/717 [==============================] - 1s 887us/step - loss: -1207498.3750 - accuracy: 0.3561\n",
      "Epoch 63/150\n",
      "717/717 [==============================] - 1s 765us/step - loss: -1262100.8750 - accuracy: 0.3552\n",
      "Epoch 64/150\n",
      "717/717 [==============================] - 1s 735us/step - loss: -1318519.6250 - accuracy: 0.3548\n",
      "Epoch 65/150\n",
      "717/717 [==============================] - 1s 810us/step - loss: -1376409.1250 - accuracy: 0.3568\n",
      "Epoch 66/150\n",
      "717/717 [==============================] - 1s 825us/step - loss: -1435727.0000 - accuracy: 0.3576\n",
      "Epoch 67/150\n",
      "717/717 [==============================] - 1s 764us/step - loss: -1496785.2500 - accuracy: 0.3548\n",
      "Epoch 68/150\n",
      "717/717 [==============================] - 1s 787us/step - loss: -1559220.5000 - accuracy: 0.3580\n",
      "Epoch 69/150\n",
      "717/717 [==============================] - 1s 856us/step - loss: -1623641.2500 - accuracy: 0.3557\n",
      "Epoch 70/150\n",
      "717/717 [==============================] - 1s 753us/step - loss: -1689700.6250 - accuracy: 0.3561\n",
      "Epoch 71/150\n",
      "717/717 [==============================] - 1s 803us/step - loss: -1757282.2500 - accuracy: 0.3573\n",
      "Epoch 72/150\n",
      "717/717 [==============================] - 1s 821us/step - loss: -1826746.3750 - accuracy: 0.3562\n",
      "Epoch 73/150\n",
      "717/717 [==============================] - 1s 768us/step - loss: -1898530.0000 - accuracy: 0.3555\n",
      "Epoch 74/150\n",
      "717/717 [==============================] - 1s 795us/step - loss: -1971666.1250 - accuracy: 0.3561\n",
      "Epoch 75/150\n",
      "717/717 [==============================] - 1s 791us/step - loss: -2046543.3750 - accuracy: 0.3543\n",
      "Epoch 76/150\n",
      "717/717 [==============================] - 1s 751us/step - loss: -2123586.0000 - accuracy: 0.3565\n",
      "Epoch 77/150\n",
      "717/717 [==============================] - 1s 755us/step - loss: -2202656.2500 - accuracy: 0.3564\n",
      "Epoch 78/150\n",
      "717/717 [==============================] - 1s 832us/step - loss: -2283005.7500 - accuracy: 0.3566\n",
      "Epoch 79/150\n",
      "717/717 [==============================] - 1s 905us/step - loss: -2364759.5000 - accuracy: 0.3566\n",
      "Epoch 80/150\n",
      "717/717 [==============================] - 1s 733us/step - loss: -2448830.2500 - accuracy: 0.3536\n",
      "Epoch 81/150\n",
      "717/717 [==============================] - 1s 823us/step - loss: -2534972.0000 - accuracy: 0.3572\n",
      "Epoch 82/150\n",
      "717/717 [==============================] - 1s 737us/step - loss: -2623236.5000 - accuracy: 0.3576\n",
      "Epoch 83/150\n",
      "717/717 [==============================] - 1s 871us/step - loss: -2713135.5000 - accuracy: 0.3575\n",
      "Epoch 84/150\n",
      "717/717 [==============================] - 1s 759us/step - loss: -2805602.7500 - accuracy: 0.3559\n",
      "Epoch 85/150\n",
      "717/717 [==============================] - 1s 770us/step - loss: -2900310.2500 - accuracy: 0.3552\n",
      "Epoch 86/150\n",
      "717/717 [==============================] - 1s 909us/step - loss: -2997212.2500 - accuracy: 0.3555\n",
      "Epoch 87/150\n",
      "717/717 [==============================] - 1s 760us/step - loss: -3096141.7500 - accuracy: 0.3575\n",
      "Epoch 88/150\n",
      "717/717 [==============================] - 1s 903us/step - loss: -3196850.0000 - accuracy: 0.3564\n",
      "Epoch 89/150\n",
      "717/717 [==============================] - 1s 785us/step - loss: -3299365.0000 - accuracy: 0.3550\n",
      "Epoch 90/150\n",
      "717/717 [==============================] - 1s 765us/step - loss: -3403270.7500 - accuracy: 0.3544\n",
      "Epoch 91/150\n",
      "717/717 [==============================] - 1s 752us/step - loss: -3509927.5000 - accuracy: 0.3551\n",
      "Epoch 92/150\n",
      "717/717 [==============================] - 1s 751us/step - loss: -3618812.0000 - accuracy: 0.3554\n",
      "Epoch 93/150\n",
      "717/717 [==============================] - 1s 828us/step - loss: -3729936.5000 - accuracy: 0.3557\n",
      "Epoch 94/150\n",
      "717/717 [==============================] - 1s 839us/step - loss: -3844091.5000 - accuracy: 0.3552\n",
      "Epoch 95/150\n",
      "717/717 [==============================] - 1s 837us/step - loss: -3960872.5000 - accuracy: 0.3583\n",
      "Epoch 96/150\n",
      "717/717 [==============================] - 1s 857us/step - loss: -4079817.7500 - accuracy: 0.3540\n",
      "Epoch 97/150\n",
      "717/717 [==============================] - 1s 826us/step - loss: -4200134.0000 - accuracy: 0.3558\n",
      "Epoch 98/150\n",
      "717/717 [==============================] - 1s 855us/step - loss: -4322493.0000 - accuracy: 0.3546\n",
      "Epoch 99/150\n",
      "717/717 [==============================] - 1s 783us/step - loss: -4447192.5000 - accuracy: 0.3583\n",
      "Epoch 100/150\n",
      "717/717 [==============================] - 1s 791us/step - loss: -4574053.0000 - accuracy: 0.3546\n",
      "Epoch 101/150\n",
      "717/717 [==============================] - 1s 766us/step - loss: -4703181.0000 - accuracy: 0.3565\n",
      "Epoch 102/150\n",
      "717/717 [==============================] - 1s 764us/step - loss: -4834819.0000 - accuracy: 0.3555\n",
      "Epoch 103/150\n",
      "717/717 [==============================] - 1s 777us/step - loss: -4969144.5000 - accuracy: 0.3578\n",
      "Epoch 104/150\n",
      "717/717 [==============================] - 1s 766us/step - loss: -5105520.5000 - accuracy: 0.3552\n",
      "Epoch 105/150\n",
      "717/717 [==============================] - 1s 783us/step - loss: -5243783.5000 - accuracy: 0.3568\n",
      "Epoch 106/150\n",
      "717/717 [==============================] - 1s 787us/step - loss: -5384737.5000 - accuracy: 0.3559\n",
      "Epoch 107/150\n",
      "717/717 [==============================] - 1s 781us/step - loss: -5529188.0000 - accuracy: 0.3576\n",
      "Epoch 108/150\n",
      "717/717 [==============================] - 1s 785us/step - loss: -5675207.0000 - accuracy: 0.3543\n",
      "Epoch 109/150\n",
      "717/717 [==============================] - 1s 803us/step - loss: -5823755.5000 - accuracy: 0.3565\n",
      "Epoch 110/150\n",
      "717/717 [==============================] - 1s 768us/step - loss: -5976343.5000 - accuracy: 0.3558\n",
      "Epoch 111/150\n",
      "717/717 [==============================] - 1s 815us/step - loss: -6131801.0000 - accuracy: 0.3579\n",
      "Epoch 112/150\n",
      "717/717 [==============================] - 1s 1ms/step - loss: -6289301.0000 - accuracy: 0.3548\n",
      "Epoch 113/150\n",
      "717/717 [==============================] - 1s 966us/step - loss: -6449195.5000 - accuracy: 0.3571\n",
      "Epoch 114/150\n",
      "717/717 [==============================] - 1s 802us/step - loss: -6611537.5000 - accuracy: 0.3569\n",
      "Epoch 115/150\n",
      "717/717 [==============================] - 1s 817us/step - loss: -6776027.0000 - accuracy: 0.3536\n",
      "Epoch 116/150\n",
      "717/717 [==============================] - 1s 904us/step - loss: -6943388.5000 - accuracy: 0.3573\n",
      "Epoch 117/150\n",
      "717/717 [==============================] - 1s 812us/step - loss: -7112635.0000 - accuracy: 0.3555\n",
      "Epoch 118/150\n",
      "717/717 [==============================] - 1s 795us/step - loss: -7284467.5000 - accuracy: 0.3552\n",
      "Epoch 119/150\n",
      "717/717 [==============================] - 1s 887us/step - loss: -7459664.0000 - accuracy: 0.3557\n",
      "Epoch 120/150\n",
      "717/717 [==============================] - 1s 833us/step - loss: -7637812.0000 - accuracy: 0.3561\n",
      "Epoch 121/150\n",
      "717/717 [==============================] - 1s 819us/step - loss: -7819846.5000 - accuracy: 0.3559\n",
      "Epoch 122/150\n",
      "717/717 [==============================] - 1s 819us/step - loss: -8003799.0000 - accuracy: 0.3558\n",
      "Epoch 123/150\n",
      "717/717 [==============================] - 1s 821us/step - loss: -8189941.0000 - accuracy: 0.3566\n",
      "Epoch 124/150\n",
      "717/717 [==============================] - 1s 819us/step - loss: -8379794.5000 - accuracy: 0.3557\n",
      "Epoch 125/150\n",
      "717/717 [==============================] - 1s 854us/step - loss: -8572244.0000 - accuracy: 0.3558\n",
      "Epoch 126/150\n",
      "717/717 [==============================] - 1s 829us/step - loss: -8768302.0000 - accuracy: 0.3547\n",
      "Epoch 127/150\n",
      "717/717 [==============================] - 1s 823us/step - loss: -8967304.0000 - accuracy: 0.3551\n",
      "Epoch 128/150\n",
      "717/717 [==============================] - 1s 824us/step - loss: -9168992.0000 - accuracy: 0.3566\n",
      "Epoch 129/150\n",
      "717/717 [==============================] - 1s 829us/step - loss: -9373531.0000 - accuracy: 0.3573\n",
      "Epoch 130/150\n",
      "717/717 [==============================] - 1s 847us/step - loss: -9578757.0000 - accuracy: 0.3540\n",
      "Epoch 131/150\n",
      "717/717 [==============================] - 1s 867us/step - loss: -9786804.0000 - accuracy: 0.3552\n",
      "Epoch 132/150\n",
      "717/717 [==============================] - 1s 902us/step - loss: -9999498.0000 - accuracy: 0.3555\n",
      "Epoch 133/150\n",
      "717/717 [==============================] - 1s 853us/step - loss: -10217064.0000 - accuracy: 0.3579\n",
      "Epoch 134/150\n",
      "717/717 [==============================] - 1s 817us/step - loss: -10438973.0000 - accuracy: 0.3557\n",
      "Epoch 135/150\n",
      "717/717 [==============================] - 1s 826us/step - loss: -10663281.0000 - accuracy: 0.3539\n",
      "Epoch 136/150\n",
      "717/717 [==============================] - 1s 966us/step - loss: -10889522.0000 - accuracy: 0.3551\n",
      "Epoch 137/150\n",
      "717/717 [==============================] - 1s 1ms/step - loss: -11120353.0000 - accuracy: 0.3580\n",
      "Epoch 138/150\n",
      "717/717 [==============================] - 1s 1ms/step - loss: -11354853.0000 - accuracy: 0.3547\n",
      "Epoch 139/150\n",
      "717/717 [==============================] - 1s 873us/step - loss: -11591834.0000 - accuracy: 0.3552\n",
      "Epoch 140/150\n",
      "717/717 [==============================] - 1s 808us/step - loss: -11830985.0000 - accuracy: 0.3559\n",
      "Epoch 141/150\n",
      "717/717 [==============================] - 1s 860us/step - loss: -12072941.0000 - accuracy: 0.3575\n",
      "Epoch 142/150\n",
      "717/717 [==============================] - 1s 828us/step - loss: -12316571.0000 - accuracy: 0.3550\n",
      "Epoch 143/150\n",
      "717/717 [==============================] - 1s 839us/step - loss: -12564200.0000 - accuracy: 0.3546\n",
      "Epoch 144/150\n",
      "717/717 [==============================] - 1s 882us/step - loss: -12816261.0000 - accuracy: 0.3558\n",
      "Epoch 145/150\n",
      "717/717 [==============================] - 1s 1ms/step - loss: -13070245.0000 - accuracy: 0.3550\n",
      "Epoch 146/150\n",
      "717/717 [==============================] - 1s 833us/step - loss: -13327531.0000 - accuracy: 0.3552\n",
      "Epoch 147/150\n",
      "717/717 [==============================] - 1s 842us/step - loss: -13587047.0000 - accuracy: 0.3561\n",
      "Epoch 148/150\n",
      "717/717 [==============================] - 1s 808us/step - loss: -13850152.0000 - accuracy: 0.3551\n",
      "Epoch 149/150\n",
      "717/717 [==============================] - 1s 864us/step - loss: -14118492.0000 - accuracy: 0.3544\n",
      "Epoch 150/150\n",
      "717/717 [==============================] - 1s 868us/step - loss: -14391046.0000 - accuracy: 0.3562\n"
     ]
    },
    {
     "data": {
      "text/plain": [
       "<tensorflow.python.keras.callbacks.History at 0x1b161585880>"
      ]
     },
     "execution_count": 110,
     "metadata": {},
     "output_type": "execute_result"
    }
   ],
   "source": [
    "model.fit(X_train, y_train, epochs=150, batch_size=10)"
   ]
  },
  {
   "cell_type": "code",
   "execution_count": 113,
   "metadata": {},
   "outputs": [
    {
     "name": "stdout",
     "output_type": "stream",
     "text": [
      "224/224 [==============================] - 0s 624us/step - loss: -14530214.0000 - accuracy: 0.3544\n",
      "Accuracy: 35.44\n"
     ]
    }
   ],
   "source": [
    "\n",
    "# evaluate the keras model\n",
    "_, accuracy = model.evaluate(X_train, y_train)\n",
    "print('Accuracy: %.2f' % (accuracy*100))"
   ]
  },
  {
   "cell_type": "code",
   "execution_count": 116,
   "metadata": {},
   "outputs": [
    {
     "data": {
      "text/plain": [
       "array([[0],\n",
       "       [0],\n",
       "       [0],\n",
       "       ...,\n",
       "       [0],\n",
       "       [0],\n",
       "       [0]])"
      ]
     },
     "execution_count": 116,
     "metadata": {},
     "output_type": "execute_result"
    }
   ],
   "source": [
    "...\n",
    "# make probability predictions with the model\n",
    "predictions = model.predict(X_train)\n",
    "# round predictions \n",
    "rounded = [round(x[0]) for x in predictions]\n",
    "...\n",
    "# make class predictions with the model\n",
    "predictions = (model.predict(X) > 0.5).astype(int)\n",
    "predictions"
   ]
  },
  {
   "cell_type": "code",
   "execution_count": 122,
   "metadata": {},
   "outputs": [
    {
     "data": {
      "text/plain": [
       "8955"
      ]
     },
     "execution_count": 122,
     "metadata": {},
     "output_type": "execute_result"
    }
   ],
   "source": [
    "...\n",
    "# make class predictions with the model\n",
    "predictions = (model.predict(X) > 0.5).astype(int)\n",
    "len(predictions)"
   ]
  },
  {
   "cell_type": "code",
   "execution_count": 120,
   "metadata": {},
   "outputs": [
    {
     "ename": "KeyError",
     "evalue": "0",
     "output_type": "error",
     "traceback": [
      "\u001b[1;31m---------------------------------------------------------------------------\u001b[0m",
      "\u001b[1;31mKeyError\u001b[0m                                  Traceback (most recent call last)",
      "\u001b[1;32m~\\Anaconda3\\lib\\site-packages\\pandas\\core\\indexes\\base.py\u001b[0m in \u001b[0;36mget_loc\u001b[1;34m(self, key, method, tolerance)\u001b[0m\n\u001b[0;32m   3080\u001b[0m             \u001b[1;32mtry\u001b[0m\u001b[1;33m:\u001b[0m\u001b[1;33m\u001b[0m\u001b[1;33m\u001b[0m\u001b[0m\n\u001b[1;32m-> 3081\u001b[1;33m                 \u001b[1;32mreturn\u001b[0m \u001b[0mself\u001b[0m\u001b[1;33m.\u001b[0m\u001b[0m_engine\u001b[0m\u001b[1;33m.\u001b[0m\u001b[0mget_loc\u001b[0m\u001b[1;33m(\u001b[0m\u001b[0mcasted_key\u001b[0m\u001b[1;33m)\u001b[0m\u001b[1;33m\u001b[0m\u001b[1;33m\u001b[0m\u001b[0m\n\u001b[0m\u001b[0;32m   3082\u001b[0m             \u001b[1;32mexcept\u001b[0m \u001b[0mKeyError\u001b[0m \u001b[1;32mas\u001b[0m \u001b[0merr\u001b[0m\u001b[1;33m:\u001b[0m\u001b[1;33m\u001b[0m\u001b[1;33m\u001b[0m\u001b[0m\n",
      "\u001b[1;32mpandas\\_libs\\index.pyx\u001b[0m in \u001b[0;36mpandas._libs.index.IndexEngine.get_loc\u001b[1;34m()\u001b[0m\n",
      "\u001b[1;32mpandas\\_libs\\index.pyx\u001b[0m in \u001b[0;36mpandas._libs.index.IndexEngine.get_loc\u001b[1;34m()\u001b[0m\n",
      "\u001b[1;32mpandas\\_libs\\hashtable_class_helper.pxi\u001b[0m in \u001b[0;36mpandas._libs.hashtable.PyObjectHashTable.get_item\u001b[1;34m()\u001b[0m\n",
      "\u001b[1;32mpandas\\_libs\\hashtable_class_helper.pxi\u001b[0m in \u001b[0;36mpandas._libs.hashtable.PyObjectHashTable.get_item\u001b[1;34m()\u001b[0m\n",
      "\u001b[1;31mKeyError\u001b[0m: 0",
      "\nThe above exception was the direct cause of the following exception:\n",
      "\u001b[1;31mKeyError\u001b[0m                                  Traceback (most recent call last)",
      "\u001b[1;32m~\\AppData\\Local\\Temp\\ipykernel_4360\\3458086883.py\u001b[0m in \u001b[0;36m<cell line: 1>\u001b[1;34m()\u001b[0m\n\u001b[0;32m      1\u001b[0m \u001b[1;32mfor\u001b[0m \u001b[0mi\u001b[0m \u001b[1;32min\u001b[0m \u001b[0mrange\u001b[0m\u001b[1;33m(\u001b[0m\u001b[1;36m5\u001b[0m\u001b[1;33m)\u001b[0m\u001b[1;33m:\u001b[0m\u001b[1;33m\u001b[0m\u001b[1;33m\u001b[0m\u001b[0m\n\u001b[1;32m----> 2\u001b[1;33m         \u001b[0mprint\u001b[0m\u001b[1;33m(\u001b[0m\u001b[1;34m'%s => %d (expected %d)'\u001b[0m \u001b[1;33m%\u001b[0m \u001b[1;33m(\u001b[0m\u001b[0mX_train\u001b[0m\u001b[1;33m[\u001b[0m\u001b[0mi\u001b[0m\u001b[1;33m]\u001b[0m\u001b[1;33m.\u001b[0m\u001b[0mtolist\u001b[0m\u001b[1;33m(\u001b[0m\u001b[1;33m)\u001b[0m\u001b[1;33m,\u001b[0m \u001b[0mpredictions\u001b[0m\u001b[1;33m[\u001b[0m\u001b[0mi\u001b[0m\u001b[1;33m]\u001b[0m\u001b[1;33m,\u001b[0m \u001b[0my_train\u001b[0m\u001b[1;33m[\u001b[0m\u001b[0mi\u001b[0m\u001b[1;33m]\u001b[0m\u001b[1;33m)\u001b[0m\u001b[1;33m)\u001b[0m\u001b[1;33m\u001b[0m\u001b[1;33m\u001b[0m\u001b[0m\n\u001b[0m",
      "\u001b[1;32m~\\Anaconda3\\lib\\site-packages\\pandas\\core\\frame.py\u001b[0m in \u001b[0;36m__getitem__\u001b[1;34m(self, key)\u001b[0m\n\u001b[0;32m   3022\u001b[0m             \u001b[1;32mif\u001b[0m \u001b[0mself\u001b[0m\u001b[1;33m.\u001b[0m\u001b[0mcolumns\u001b[0m\u001b[1;33m.\u001b[0m\u001b[0mnlevels\u001b[0m \u001b[1;33m>\u001b[0m \u001b[1;36m1\u001b[0m\u001b[1;33m:\u001b[0m\u001b[1;33m\u001b[0m\u001b[1;33m\u001b[0m\u001b[0m\n\u001b[0;32m   3023\u001b[0m                 \u001b[1;32mreturn\u001b[0m \u001b[0mself\u001b[0m\u001b[1;33m.\u001b[0m\u001b[0m_getitem_multilevel\u001b[0m\u001b[1;33m(\u001b[0m\u001b[0mkey\u001b[0m\u001b[1;33m)\u001b[0m\u001b[1;33m\u001b[0m\u001b[1;33m\u001b[0m\u001b[0m\n\u001b[1;32m-> 3024\u001b[1;33m             \u001b[0mindexer\u001b[0m \u001b[1;33m=\u001b[0m \u001b[0mself\u001b[0m\u001b[1;33m.\u001b[0m\u001b[0mcolumns\u001b[0m\u001b[1;33m.\u001b[0m\u001b[0mget_loc\u001b[0m\u001b[1;33m(\u001b[0m\u001b[0mkey\u001b[0m\u001b[1;33m)\u001b[0m\u001b[1;33m\u001b[0m\u001b[1;33m\u001b[0m\u001b[0m\n\u001b[0m\u001b[0;32m   3025\u001b[0m             \u001b[1;32mif\u001b[0m \u001b[0mis_integer\u001b[0m\u001b[1;33m(\u001b[0m\u001b[0mindexer\u001b[0m\u001b[1;33m)\u001b[0m\u001b[1;33m:\u001b[0m\u001b[1;33m\u001b[0m\u001b[1;33m\u001b[0m\u001b[0m\n\u001b[0;32m   3026\u001b[0m                 \u001b[0mindexer\u001b[0m \u001b[1;33m=\u001b[0m \u001b[1;33m[\u001b[0m\u001b[0mindexer\u001b[0m\u001b[1;33m]\u001b[0m\u001b[1;33m\u001b[0m\u001b[1;33m\u001b[0m\u001b[0m\n",
      "\u001b[1;32m~\\Anaconda3\\lib\\site-packages\\pandas\\core\\indexes\\base.py\u001b[0m in \u001b[0;36mget_loc\u001b[1;34m(self, key, method, tolerance)\u001b[0m\n\u001b[0;32m   3081\u001b[0m                 \u001b[1;32mreturn\u001b[0m \u001b[0mself\u001b[0m\u001b[1;33m.\u001b[0m\u001b[0m_engine\u001b[0m\u001b[1;33m.\u001b[0m\u001b[0mget_loc\u001b[0m\u001b[1;33m(\u001b[0m\u001b[0mcasted_key\u001b[0m\u001b[1;33m)\u001b[0m\u001b[1;33m\u001b[0m\u001b[1;33m\u001b[0m\u001b[0m\n\u001b[0;32m   3082\u001b[0m             \u001b[1;32mexcept\u001b[0m \u001b[0mKeyError\u001b[0m \u001b[1;32mas\u001b[0m \u001b[0merr\u001b[0m\u001b[1;33m:\u001b[0m\u001b[1;33m\u001b[0m\u001b[1;33m\u001b[0m\u001b[0m\n\u001b[1;32m-> 3083\u001b[1;33m                 \u001b[1;32mraise\u001b[0m \u001b[0mKeyError\u001b[0m\u001b[1;33m(\u001b[0m\u001b[0mkey\u001b[0m\u001b[1;33m)\u001b[0m \u001b[1;32mfrom\u001b[0m \u001b[0merr\u001b[0m\u001b[1;33m\u001b[0m\u001b[1;33m\u001b[0m\u001b[0m\n\u001b[0m\u001b[0;32m   3084\u001b[0m \u001b[1;33m\u001b[0m\u001b[0m\n\u001b[0;32m   3085\u001b[0m         \u001b[1;32mif\u001b[0m \u001b[0mtolerance\u001b[0m \u001b[1;32mis\u001b[0m \u001b[1;32mnot\u001b[0m \u001b[1;32mNone\u001b[0m\u001b[1;33m:\u001b[0m\u001b[1;33m\u001b[0m\u001b[1;33m\u001b[0m\u001b[0m\n",
      "\u001b[1;31mKeyError\u001b[0m: 0"
     ]
    }
   ],
   "source": [
    "for i in range(5):\n",
    "\tprint('%s => %d (expected %d)' % (X_train[i].tolist(), predictions[i], y[i]))"
   ]
  },
  {
   "cell_type": "code",
   "execution_count": 11,
   "metadata": {},
   "outputs": [],
   "source": [
    "y_train = y_train.astype('category')\n",
    "y_test = y_test.astype('category')"
   ]
  },
  {
   "cell_type": "code",
   "execution_count": 12,
   "metadata": {},
   "outputs": [
    {
     "name": "stdout",
     "output_type": "stream",
     "text": [
      "X_train dimensions:  (7164, 30)\n",
      "y_train dimensions:  (7164,)\n",
      "X_test dimensions:   (1791, 30)\n",
      "y_test dimensions:   (1791,)\n"
     ]
    }
   ],
   "source": [
    "print('X_train dimensions: ', X_train.shape)\n",
    "print('y_train dimensions: ', y_train.shape)\n",
    "print('X_test dimensions:  ', X_test.shape)\n",
    "print('y_test dimensions:  ', y_test.shape)"
   ]
  },
  {
   "cell_type": "code",
   "execution_count": 13,
   "metadata": {},
   "outputs": [
    {
     "data": {
      "text/plain": [
       " 1    5034\n",
       "-1    3921\n",
       "Name: Result, dtype: int64"
      ]
     },
     "execution_count": 13,
     "metadata": {},
     "output_type": "execute_result"
    },
    {
     "data": {
      "image/png": "[encoded data removed]",
      "text/plain": [
       "<Figure size 432x288 with 1 Axes>"
      ]
     },
     "metadata": {
      "needs_background": "light"
     },
     "output_type": "display_data"
    }
   ],
   "source": [
    "plot_data = y_train.to_frame()\n",
    "sns.countplot(x = 'Result', data=plot_data)\n",
    "df_train.Result.value_counts()"
   ]
  },
  {
   "cell_type": "markdown",
   "metadata": {},
   "source": [
    "# RandomForestClassifier"
   ]
  },
  {
   "cell_type": "code",
   "execution_count": 14,
   "metadata": {},
   "outputs": [],
   "source": [
    "from sklearn.ensemble import RandomForestClassifier\n",
    "\n",
    "rfc = RandomForestClassifier(n_jobs = -1,\n",
    "                             random_state = 1)\n",
    "# Function for training the model\n",
    "from sklearn.metrics import make_scorer\n",
    "\n",
    "def fn_train_model(model, \n",
    "                X_train, \n",
    "                y_train, \n",
    "                parameters = None, \n",
    "                k = 1):\n",
    "    if parameters == None:\n",
    "        model.fit(X_train, y_train) \n",
    "    else:\n",
    "        model_cv = GridSearchCV(model, \n",
    "                                param_grid = parameters, \n",
    "                                cv = k,\n",
    "                                scoring = make_scorer(\n",
    "                                    lambda yt,yp: f1_score(yt,yp,pos_label = 1)))\n",
    "        model_cv.fit(X_train, y_train)\n",
    "        model = model_cv.best_estimator_\n",
    "        \n",
    "    return model"
   ]
  },
  {
   "cell_type": "code",
   "execution_count": 15,
   "metadata": {},
   "outputs": [],
   "source": [
    "base_model = fn_train_model(rfc, \n",
    "                            X_train,\n",
    "                            y_train)"
   ]
  },
  {
   "cell_type": "code",
   "execution_count": 16,
   "metadata": {},
   "outputs": [],
   "source": [
    "base_model_metrics = fn_compute_metrics(base_model,\n",
    "                                        'base_model',\n",
    "                                        X_train,\n",
    "                                        y_train,\n",
    "                                        X_test,\n",
    "                                        y_test)"
   ]
  },
  {
   "cell_type": "code",
   "execution_count": 17,
   "metadata": {
    "scrolled": true
   },
   "outputs": [
    {
     "data": {
      "text/plain": [
       "train_accuracy     0.989671\n",
       "train_precision    0.988664\n",
       "train_recall       0.993069\n",
       "train_f1_score     0.990862\n",
       "test_accuracy      0.970408\n",
       "test_precision     0.964462\n",
       "test_recall        0.982897\n",
       "test_f1_score      0.973592\n",
       "Name: base_model, dtype: float64"
      ]
     },
     "execution_count": 17,
     "metadata": {},
     "output_type": "execute_result"
    }
   ],
   "source": [
    "base_model_metrics"
   ]
  },
  {
   "cell_type": "code",
   "execution_count": 18,
   "metadata": {},
   "outputs": [
    {
     "name": "stdout",
     "output_type": "stream",
     "text": [
      "RandomForestClassifier(n_estimators=200, n_jobs=-1, random_state=1)\n",
      "train_accuracy     0.989671\n",
      "train_precision    0.988664\n",
      "train_recall       0.993069\n",
      "train_f1_score     0.990862\n",
      "test_accuracy      0.971524\n",
      "test_precision     0.966370\n",
      "test_recall        0.982897\n",
      "test_f1_score      0.974564\n",
      "Name: parameters_1, dtype: float64\n"
     ]
    }
   ],
   "source": [
    "parameters = {\"n_estimators\" : [100, 150, 200]}\n",
    "\n",
    "cv_model_1 = fn_train_model(rfc,\n",
    "                          X_train,\n",
    "                          y_train,\n",
    "                          parameters,\n",
    "                          k = 10)\n",
    "\n",
    "\n",
    "cv_model_1_metrics = fn_compute_metrics(cv_model_1,\n",
    "                                      'parameters_1',\n",
    "                                       X_train,\n",
    "                                       y_train,\n",
    "                                        X_test,\n",
    "                                       y_test)\n",
    "\n",
    "print(cv_model_1)\n",
    "print(cv_model_1_metrics)"
   ]
  },
  {
   "cell_type": "code",
   "execution_count": 123,
   "metadata": {},
   "outputs": [
    {
     "name": "stdout",
     "output_type": "stream",
     "text": [
      "RandomForestClassifier(min_samples_leaf=3, n_estimators=150, n_jobs=-1,\n",
      "                       random_state=1)\n",
      "train_accuracy     0.969012\n",
      "train_precision    0.966292\n",
      "train_recall       0.979208\n",
      "train_f1_score     0.972707\n",
      "test_accuracy      0.954774\n",
      "test_precision     0.949754\n",
      "test_recall        0.969819\n",
      "test_f1_score      0.959681\n",
      "Name: parameters_2, dtype: float64\n",
      "Wall time: 20.4 s\n"
     ]
    }
   ],
   "source": [
    "%%time\n",
    "parameters = {\n",
    "    \"n_estimators\" : [150],\n",
    "    \"min_samples_leaf\" : [3, 5, 10]}\n",
    "\n",
    "cv_model_2 = fn_train_model(rfc,\n",
    "                          X_train,\n",
    "                          y_train,\n",
    "                          parameters, k = 10)\n",
    "\n",
    "\n",
    "cv_model_2_metrics = fn_compute_metrics(cv_model_2,\n",
    "                                      'parameters_2',\n",
    "                                       X_train,\n",
    "                                       y_train,\n",
    "                                       X_test,\n",
    "                                       y_test)\n",
    "\n",
    "print(cv_model_2)\n",
    "print(cv_model_2_metrics)"
   ]
  },
  {
   "cell_type": "code",
   "execution_count": 124,
   "metadata": {},
   "outputs": [
    {
     "name": "stdout",
     "output_type": "stream",
     "text": [
      "RandomForestClassifier(class_weight='balanced_subsample', max_features=0.5,\n",
      "                       min_samples_leaf=3, n_estimators=150, n_jobs=-1,\n",
      "                       random_state=1)\n",
      "train_accuracy     0.975851\n",
      "train_precision    0.980611\n",
      "train_recall       0.976485\n",
      "train_f1_score     0.978544\n",
      "test_accuracy      0.950865\n",
      "test_precision     0.955734\n",
      "test_recall        0.955734\n",
      "test_f1_score      0.955734\n",
      "Name: Final_rfc_model, dtype: float64\n"
     ]
    }
   ],
   "source": [
    "parameters = {\n",
    "    \"n_estimators\" : [150],\n",
    "    \"min_samples_leaf\" : [3],\n",
    "    \"max_features\": [0.5],\n",
    "    \"class_weight\" : ['balanced_subsample']}\n",
    "\n",
    "final_rfc_model = fn_train_model(rfc,\n",
    "                          X_train,\n",
    "                          y_train,\n",
    "                          parameters, k = 10)\n",
    "\n",
    "\n",
    "final_rfc_model_metrics = fn_compute_metrics(final_rfc_model,\n",
    "                                      'Final_rfc_model',\n",
    "                                       X_train,\n",
    "                                       y_train,\n",
    "                                       X_test,\n",
    "                                       y_test)\n",
    "\n",
    "print(final_rfc_model)\n",
    "print(final_rfc_model_metrics)"
   ]
  },
  {
   "cell_type": "code",
   "execution_count": 125,
   "metadata": {},
   "outputs": [
    {
     "data": {
      "text/plain": [
       "array([0.00718812, 0.00638379, 0.00248256, 0.00125681, 0.00172631,\n",
       "       0.03057312, 0.04408097, 0.4607394 , 0.00879827, 0.00216273,\n",
       "       0.00053715, 0.00237849, 0.01002886, 0.24490537, 0.03535156,\n",
       "       0.01246146, 0.00360458, 0.0013561 , 0.00216203, 0.00130535,\n",
       "       0.00079821, 0.00220618, 0.00104583, 0.01046588, 0.00743662,\n",
       "       0.07115041, 0.00528351, 0.00566361, 0.01485073, 0.00161599])"
      ]
     },
     "execution_count": 125,
     "metadata": {},
     "output_type": "execute_result"
    }
   ],
   "source": [
    "final_rfc_model.feature_importances_"
   ]
  },
  {
   "cell_type": "code",
   "execution_count": 159,
   "metadata": {},
   "outputs": [
    {
     "data": {
      "text/plain": [
       "<matplotlib.axes._subplots.AxesSubplot at 0x1b16159f460>"
      ]
     },
     "execution_count": 159,
     "metadata": {},
     "output_type": "execute_result"
    },
    {
     "data": {
      "image/png": "[encoded data removed]",
      "text/plain": [
       "<Figure size 360x216 with 1 Axes>"
      ]
     },
     "metadata": {
      "needs_background": "light"
     },
     "output_type": "display_data"
    }
   ],
   "source": [
    "feature_names = list(X_train.columns)\n",
    "plt.figure(figsize=(5,3))\n",
    "d = pd.DataFrame([feature_names,final_rfc_model.feature_importances_]).T\n",
    "d = d.sort_values([1],ascending=False)[0:10]\n",
    "sns.barplot(d[1],d[0])\n",
    "plt."
   ]
  },
  {
   "cell_type": "code",
   "execution_count": 146,
   "metadata": {},
   "outputs": [],
   "source": [
    "pd.set_option('precision', 2)"
   ]
  },
  {
   "cell_type": "code",
   "execution_count": 148,
   "metadata": {},
   "outputs": [
    {
     "data": {
      "text/html": [
       "<div>\n",
       "<style scoped>\n",
       "    .dataframe tbody tr th:only-of-type {\n",
       "        vertical-align: middle;\n",
       "    }\n",
       "\n",
       "    .dataframe tbody tr th {\n",
       "        vertical-align: top;\n",
       "    }\n",
       "\n",
       "    .dataframe thead th {\n",
       "        text-align: right;\n",
       "    }\n",
       "</style>\n",
       "<table border=\"1\" class=\"dataframe\">\n",
       "  <thead>\n",
       "    <tr style=\"text-align: right;\">\n",
       "      <th></th>\n",
       "      <th>variable</th>\n",
       "      <th>percantage (%)</th>\n",
       "    </tr>\n",
       "  </thead>\n",
       "  <tbody>\n",
       "    <tr>\n",
       "      <th>7</th>\n",
       "      <td>SSLfinal_State</td>\n",
       "      <td>46.07</td>\n",
       "    </tr>\n",
       "    <tr>\n",
       "      <th>13</th>\n",
       "      <td>URL_of_Anchor</td>\n",
       "      <td>24.49</td>\n",
       "    </tr>\n",
       "    <tr>\n",
       "      <th>25</th>\n",
       "      <td>web_traffic</td>\n",
       "      <td>7.12</td>\n",
       "    </tr>\n",
       "    <tr>\n",
       "      <th>6</th>\n",
       "      <td>having_Sub_Domain</td>\n",
       "      <td>4.41</td>\n",
       "    </tr>\n",
       "    <tr>\n",
       "      <th>14</th>\n",
       "      <td>Links_in_tags</td>\n",
       "      <td>3.54</td>\n",
       "    </tr>\n",
       "    <tr>\n",
       "      <th>5</th>\n",
       "      <td>Prefix_Suffix</td>\n",
       "      <td>3.06</td>\n",
       "    </tr>\n",
       "    <tr>\n",
       "      <th>28</th>\n",
       "      <td>Links_pointing_to_page</td>\n",
       "      <td>1.49</td>\n",
       "    </tr>\n",
       "    <tr>\n",
       "      <th>15</th>\n",
       "      <td>SFH</td>\n",
       "      <td>1.25</td>\n",
       "    </tr>\n",
       "    <tr>\n",
       "      <th>23</th>\n",
       "      <td>age_of_domain</td>\n",
       "      <td>1.05</td>\n",
       "    </tr>\n",
       "    <tr>\n",
       "      <th>12</th>\n",
       "      <td>Request_URL</td>\n",
       "      <td>1.0</td>\n",
       "    </tr>\n",
       "  </tbody>\n",
       "</table>\n",
       "</div>"
      ],
      "text/plain": [
       "                  variable percantage (%)\n",
       "7           SSLfinal_State          46.07\n",
       "13           URL_of_Anchor          24.49\n",
       "25             web_traffic           7.12\n",
       "6        having_Sub_Domain           4.41\n",
       "14           Links_in_tags           3.54\n",
       "5            Prefix_Suffix           3.06\n",
       "28  Links_pointing_to_page           1.49\n",
       "15                     SFH           1.25\n",
       "23           age_of_domain           1.05\n",
       "12             Request_URL            1.0"
      ]
     },
     "execution_count": 148,
     "metadata": {},
     "output_type": "execute_result"
    }
   ],
   "source": [
    "d.columns=[\"variable\", \"percantage (%)\"]\n",
    "#d[\"percantage\"] = d[\"percantage\"] * 100\n",
    "d"
   ]
  },
  {
   "cell_type": "markdown",
   "metadata": {},
   "source": [
    "# LogisticRegression"
   ]
  },
  {
   "cell_type": "code",
   "execution_count": 25,
   "metadata": {},
   "outputs": [
    {
     "name": "stdout",
     "output_type": "stream",
     "text": [
      "RandomForestClassifier(n_jobs=-1, random_state=1)\n",
      "train_accuracy     0.989671\n",
      "train_precision    0.988664\n",
      "train_recall       0.993069\n",
      "train_f1_score     0.990862\n",
      "test_accuracy      0.970408\n",
      "test_precision     0.964462\n",
      "test_recall        0.982897\n",
      "test_f1_score      0.973592\n",
      "Name: Final_lrc_model, dtype: float64\n"
     ]
    }
   ],
   "source": [
    "from sklearn.linear_model import LogisticRegression\n",
    "\n",
    "lrc = LogisticRegression(penalty='l2',\n",
    "                         class_weight=\"balanced\",\n",
    "                         random_state=1,\n",
    "                         n_jobs=-1)\n",
    "\n",
    "final_lrc_model = fn_train_model(rfc,\n",
    "                          X_train,\n",
    "                          y_train)\n",
    "\n",
    "\n",
    "final_lrc_model_metrics = fn_compute_metrics(final_lrc_model,\n",
    "                                      'Final_lrc_model',\n",
    "                                       X_train,\n",
    "                                       y_train,\n",
    "                                       X_test,\n",
    "                                       y_test)\n",
    "\n",
    "print(final_lrc_model)\n",
    "print(final_lrc_model_metrics)"
   ]
  },
  {
   "cell_type": "markdown",
   "metadata": {},
   "source": [
    "# DecisionTreeClassifier"
   ]
  },
  {
   "cell_type": "code",
   "execution_count": 26,
   "metadata": {},
   "outputs": [
    {
     "name": "stdout",
     "output_type": "stream",
     "text": [
      "DecisionTreeClassifier()\n",
      "train_accuracy     0.989671\n",
      "train_precision    0.991815\n",
      "train_recall       0.989851\n",
      "train_f1_score     0.990833\n",
      "test_accuracy      0.959241\n",
      "test_precision     0.962814\n",
      "test_recall        0.963783\n",
      "test_f1_score      0.963298\n",
      "Name: Final_dtc_model, dtype: float64\n"
     ]
    }
   ],
   "source": [
    "from sklearn.tree import DecisionTreeClassifier\n",
    "\n",
    "dtc = DecisionTreeClassifier()\n",
    "\n",
    "final_dtc_model = fn_train_model(dtc,\n",
    "                          X_train,\n",
    "                          y_train)\n",
    "\n",
    "\n",
    "final_dtc_model_metrics = fn_compute_metrics(final_dtc_model,\n",
    "                                      'Final_dtc_model',\n",
    "                                       X_train,\n",
    "                                       y_train,\n",
    "                                       X_test,\n",
    "                                       y_test)\n",
    "\n",
    "print(final_dtc_model)\n",
    "print(final_dtc_model_metrics)"
   ]
  },
  {
   "cell_type": "code",
   "execution_count": 31,
   "metadata": {},
   "outputs": [],
   "source": [
    "# Function to return predictions\n",
    "def fn_return_predictions(model, data):\n",
    "    predictions = model.predict(data)\n",
    "    return predictions"
   ]
  },
  {
   "cell_type": "code",
   "execution_count": 33,
   "metadata": {},
   "outputs": [
    {
     "data": {
      "text/plain": [
       "(1791, 1791, 1791)"
      ]
     },
     "execution_count": 33,
     "metadata": {},
     "output_type": "execute_result"
    }
   ],
   "source": [
    "Final_X_test=X_test\n",
    "test_pred_rfc = fn_return_predictions(final_rfc_model, Final_X_test)\n",
    "test_pred_dtc = fn_return_predictions(final_dtc_model, Final_X_test)\n",
    "test_pred_lrc = fn_return_predictions(final_lrc_model, Final_X_test)\n",
    "len(test_pred_rfc), len(test_pred_dtc), len(test_pred_lrc)"
   ]
  },
  {
   "cell_type": "code",
   "execution_count": 34,
   "metadata": {},
   "outputs": [],
   "source": [
    "# Create stack of predictions\n",
    "stack = np.array([test_pred_rfc,\n",
    "                  test_pred_dtc,\n",
    "                  test_pred_lrc]).T\n",
    "\n",
    "# Predictions\n",
    "stacked_pred = mode(stack, axis=1)[0]"
   ]
  },
  {
   "cell_type": "code",
   "execution_count": 35,
   "metadata": {},
   "outputs": [
    {
     "data": {
      "text/plain": [
       "0.9676158570630933"
      ]
     },
     "execution_count": 35,
     "metadata": {},
     "output_type": "execute_result"
    }
   ],
   "source": [
    "accuracy_score(y_test, stacked_pred)\n"
   ]
  },
  {
   "cell_type": "code",
   "execution_count": 23,
   "metadata": {},
   "outputs": [
    {
     "name": "stdout",
     "output_type": "stream",
     "text": [
      "(8955, 30) (8955,)\n"
     ]
    }
   ],
   "source": [
    "X_train_all = pd.concat([X_train, X_test])\n",
    "y_train_all = pd.concat([y_train, y_test])\n",
    "\n",
    "print(X_train_all.shape, y_train_all.shape)"
   ]
  },
  {
   "cell_type": "code",
   "execution_count": 24,
   "metadata": {},
   "outputs": [],
   "source": [
    "y_train_all = y_train_all.astype('category')\n"
   ]
  },
  {
   "cell_type": "markdown",
   "metadata": {},
   "source": [
    "# Gradient Boosting Machines model."
   ]
  },
  {
   "cell_type": "code",
   "execution_count": 37,
   "metadata": {},
   "outputs": [],
   "source": [
    "from sklearn.ensemble import GradientBoostingClassifier\n",
    "\n",
    "gbm = GradientBoostingClassifier(n_estimators=10,\n",
    "                                 learning_rate=1,\n",
    "                                 max_depth = 2,\n",
    "                                 warm_start = True,\n",
    "                                 random_state=2345)"
   ]
  },
  {
   "cell_type": "code",
   "execution_count": 38,
   "metadata": {},
   "outputs": [
    {
     "name": "stdout",
     "output_type": "stream",
     "text": [
      "GradientBoostingClassifier(learning_rate=0.8, n_estimators=20,\n",
      "                           random_state=2345, warm_start=True)\n",
      "Wall time: 4.57 s\n"
     ]
    }
   ],
   "source": [
    "%%time\n",
    "from sklearn.model_selection import GridSearchCV\n",
    "\n",
    "parameters = { 'learning_rate':[0.8],\n",
    "               'n_estimators':[10, 20],\n",
    "               'max_depth':[2, 3],\n",
    "               'warm_start': [True]\n",
    "                }\n",
    "\n",
    "\n",
    "gbm_cv_model = fn_train_model(gbm,\n",
    "                          X_train_all,\n",
    "                          y_train_all,\n",
    "                          parameters,\n",
    "                          k = 5)\n",
    "print(gbm_cv_model)"
   ]
  },
  {
   "cell_type": "code",
   "execution_count": 39,
   "metadata": {},
   "outputs": [],
   "source": [
    "final_model = fn_train_model(gbm,\n",
    "                             X_train_all,\n",
    "                             y_train_all)"
   ]
  },
  {
   "cell_type": "code",
   "execution_count": 40,
   "metadata": {},
   "outputs": [
    {
     "name": "stdout",
     "output_type": "stream",
     "text": [
      "\n",
      "Confusion Matrix :\n",
      "[[3595  326]\n",
      " [ 233 4801]]\n",
      "\n",
      "Report : \n",
      "              precision    recall  f1-score   support\n",
      "\n",
      "          -1       0.94      0.92      0.93      3921\n",
      "           1       0.94      0.95      0.94      5034\n",
      "\n",
      "    accuracy                           0.94      8955\n",
      "   macro avg       0.94      0.94      0.94      8955\n",
      "weighted avg       0.94      0.94      0.94      8955\n",
      "\n",
      "Recall score : 0.9168579444019382\n"
     ]
    },
    {
     "data": {
      "text/plain": [
       "0.9168579444019382"
      ]
     },
     "execution_count": 40,
     "metadata": {},
     "output_type": "execute_result"
    }
   ],
   "source": [
    "fn_compute_metrics_train(gbm,\n",
    "                             X_train_all,\n",
    "                             y_train_all)"
   ]
  },
  {
   "cell_type": "markdown",
   "metadata": {},
   "source": [
    "# Adaptive Boosting model"
   ]
  },
  {
   "cell_type": "code",
   "execution_count": 149,
   "metadata": {},
   "outputs": [],
   "source": [
    "from sklearn.ensemble import AdaBoostClassifier\n",
    "\n",
    "adb = AdaBoostClassifier(n_estimators=200,\n",
    "                         learning_rate=1)"
   ]
  },
  {
   "cell_type": "code",
   "execution_count": 42,
   "metadata": {},
   "outputs": [
    {
     "name": "stdout",
     "output_type": "stream",
     "text": [
      "Wall time: 2.6 s\n"
     ]
    }
   ],
   "source": [
    "%%time \n",
    "adb_base_model = fn_train_model(adb,\n",
    "                             X_train_all,\n",
    "                             y_train_all)"
   ]
  },
  {
   "cell_type": "code",
   "execution_count": 43,
   "metadata": {},
   "outputs": [
    {
     "name": "stdout",
     "output_type": "stream",
     "text": [
      "\n",
      "Confusion Matrix :\n",
      "[[3584  337]\n",
      " [ 233 4801]]\n",
      "\n",
      "Report : \n",
      "              precision    recall  f1-score   support\n",
      "\n",
      "          -1       0.94      0.91      0.93      3921\n",
      "           1       0.93      0.95      0.94      5034\n",
      "\n",
      "    accuracy                           0.94      8955\n",
      "   macro avg       0.94      0.93      0.94      8955\n",
      "weighted avg       0.94      0.94      0.94      8955\n",
      "\n",
      "Recall score : 0.9140525376179546\n"
     ]
    }
   ],
   "source": [
    "adb_base_train = fn_compute_metrics_train(adb_base_model, \n",
    "                             X_train_all,\n",
    "                             y_train_all)"
   ]
  },
  {
   "cell_type": "markdown",
   "metadata": {},
   "source": [
    "# Improve model\n",
    "Tune the hyperparameters based on the recall using the class GridSearchCV available in sklearn.model_selection.\n",
    "Use k-fold crossvalidation."
   ]
  },
  {
   "cell_type": "code",
   "execution_count": 62,
   "metadata": {},
   "outputs": [
    {
     "name": "stdout",
     "output_type": "stream",
     "text": [
      "AdaBoostClassifier(learning_rate=0.3, n_estimators=300)\n",
      "Wall time: 2min 3s\n"
     ]
    }
   ],
   "source": [
    "%%time\n",
    "from sklearn.model_selection import GridSearchCV\n",
    "\n",
    "parameters = { 'learning_rate':[0.1, 0.2, 0.3],\n",
    "               'n_estimators':[100, 200, 300]}\n",
    "\n",
    "\n",
    "adb_cv_model = fn_train_model(adb,\n",
    "                             X_train_all,\n",
    "                             y_train_all,\n",
    "                          parameters,\n",
    "                          k = 5)\n",
    "print(adb_cv_model)"
   ]
  },
  {
   "cell_type": "code",
   "execution_count": 45,
   "metadata": {},
   "outputs": [
    {
     "name": "stdout",
     "output_type": "stream",
     "text": [
      "\n",
      "Confusion Matrix :\n",
      "[[3585  336]\n",
      " [ 216 4818]]\n",
      "\n",
      "Report : \n",
      "              precision    recall  f1-score   support\n",
      "\n",
      "          -1       0.94      0.91      0.93      3921\n",
      "           1       0.93      0.96      0.95      5034\n",
      "\n",
      "    accuracy                           0.94      8955\n",
      "   macro avg       0.94      0.94      0.94      8955\n",
      "weighted avg       0.94      0.94      0.94      8955\n",
      "\n",
      "Recall score : 0.9143075745983168\n"
     ]
    }
   ],
   "source": [
    "adb_cv_train = fn_compute_metrics_train(adb_cv_model, \n",
    "                             X_train_all,\n",
    "                             y_train_all)"
   ]
  },
  {
   "cell_type": "markdown",
   "metadata": {},
   "source": [
    "# Gradient Boosting Machines model."
   ]
  },
  {
   "cell_type": "code",
   "execution_count": 46,
   "metadata": {},
   "outputs": [],
   "source": [
    "from sklearn.ensemble import GradientBoostingClassifier\n",
    "\n",
    "gbm = GradientBoostingClassifier(n_estimators=10,\n",
    "                                 learning_rate=1,\n",
    "                                 max_depth = 2,\n",
    "                                 warm_start = True,\n",
    "                                 random_state=2345)"
   ]
  },
  {
   "cell_type": "code",
   "execution_count": 47,
   "metadata": {},
   "outputs": [
    {
     "data": {
      "text/html": [
       "<div>\n",
       "<style scoped>\n",
       "    .dataframe tbody tr th:only-of-type {\n",
       "        vertical-align: middle;\n",
       "    }\n",
       "\n",
       "    .dataframe tbody tr th {\n",
       "        vertical-align: top;\n",
       "    }\n",
       "\n",
       "    .dataframe thead th {\n",
       "        text-align: right;\n",
       "    }\n",
       "</style>\n",
       "<table border=\"1\" class=\"dataframe\">\n",
       "  <thead>\n",
       "    <tr style=\"text-align: right;\">\n",
       "      <th></th>\n",
       "      <th>having_IP</th>\n",
       "      <th>URL_Length</th>\n",
       "      <th>Shortining_Service</th>\n",
       "      <th>having_At_Symbol</th>\n",
       "      <th>double_slash_redirecting</th>\n",
       "      <th>Prefix_Suffix</th>\n",
       "      <th>having_Sub_Domain</th>\n",
       "      <th>SSLfinal_State</th>\n",
       "      <th>Domain_registeration_length</th>\n",
       "      <th>Favicon</th>\n",
       "      <th>...</th>\n",
       "      <th>RightClick</th>\n",
       "      <th>popUpWidnow</th>\n",
       "      <th>Iframe</th>\n",
       "      <th>age_of_domain</th>\n",
       "      <th>DNSRecord</th>\n",
       "      <th>web_traffic</th>\n",
       "      <th>Page_Rank</th>\n",
       "      <th>Google_Index</th>\n",
       "      <th>Links_pointing_to_page</th>\n",
       "      <th>Statistical_report</th>\n",
       "    </tr>\n",
       "    <tr>\n",
       "      <th>key</th>\n",
       "      <th></th>\n",
       "      <th></th>\n",
       "      <th></th>\n",
       "      <th></th>\n",
       "      <th></th>\n",
       "      <th></th>\n",
       "      <th></th>\n",
       "      <th></th>\n",
       "      <th></th>\n",
       "      <th></th>\n",
       "      <th></th>\n",
       "      <th></th>\n",
       "      <th></th>\n",
       "      <th></th>\n",
       "      <th></th>\n",
       "      <th></th>\n",
       "      <th></th>\n",
       "      <th></th>\n",
       "      <th></th>\n",
       "      <th></th>\n",
       "      <th></th>\n",
       "    </tr>\n",
       "  </thead>\n",
       "  <tbody>\n",
       "    <tr>\n",
       "      <th>21338</th>\n",
       "      <td>1</td>\n",
       "      <td>1</td>\n",
       "      <td>1</td>\n",
       "      <td>1</td>\n",
       "      <td>1</td>\n",
       "      <td>1</td>\n",
       "      <td>-1</td>\n",
       "      <td>1</td>\n",
       "      <td>-1</td>\n",
       "      <td>1</td>\n",
       "      <td>...</td>\n",
       "      <td>1</td>\n",
       "      <td>1</td>\n",
       "      <td>1</td>\n",
       "      <td>1</td>\n",
       "      <td>1</td>\n",
       "      <td>1</td>\n",
       "      <td>1</td>\n",
       "      <td>-1</td>\n",
       "      <td>0</td>\n",
       "      <td>1</td>\n",
       "    </tr>\n",
       "    <tr>\n",
       "      <th>21339</th>\n",
       "      <td>1</td>\n",
       "      <td>-1</td>\n",
       "      <td>1</td>\n",
       "      <td>1</td>\n",
       "      <td>1</td>\n",
       "      <td>-1</td>\n",
       "      <td>0</td>\n",
       "      <td>-1</td>\n",
       "      <td>1</td>\n",
       "      <td>1</td>\n",
       "      <td>...</td>\n",
       "      <td>1</td>\n",
       "      <td>1</td>\n",
       "      <td>1</td>\n",
       "      <td>-1</td>\n",
       "      <td>-1</td>\n",
       "      <td>0</td>\n",
       "      <td>-1</td>\n",
       "      <td>-1</td>\n",
       "      <td>0</td>\n",
       "      <td>1</td>\n",
       "    </tr>\n",
       "    <tr>\n",
       "      <th>21340</th>\n",
       "      <td>1</td>\n",
       "      <td>-1</td>\n",
       "      <td>1</td>\n",
       "      <td>1</td>\n",
       "      <td>1</td>\n",
       "      <td>-1</td>\n",
       "      <td>0</td>\n",
       "      <td>0</td>\n",
       "      <td>-1</td>\n",
       "      <td>-1</td>\n",
       "      <td>...</td>\n",
       "      <td>-1</td>\n",
       "      <td>-1</td>\n",
       "      <td>-1</td>\n",
       "      <td>1</td>\n",
       "      <td>-1</td>\n",
       "      <td>1</td>\n",
       "      <td>-1</td>\n",
       "      <td>1</td>\n",
       "      <td>1</td>\n",
       "      <td>-1</td>\n",
       "    </tr>\n",
       "    <tr>\n",
       "      <th>21341</th>\n",
       "      <td>-1</td>\n",
       "      <td>-1</td>\n",
       "      <td>-1</td>\n",
       "      <td>1</td>\n",
       "      <td>-1</td>\n",
       "      <td>-1</td>\n",
       "      <td>-1</td>\n",
       "      <td>-1</td>\n",
       "      <td>1</td>\n",
       "      <td>-1</td>\n",
       "      <td>...</td>\n",
       "      <td>1</td>\n",
       "      <td>-1</td>\n",
       "      <td>-1</td>\n",
       "      <td>1</td>\n",
       "      <td>-1</td>\n",
       "      <td>1</td>\n",
       "      <td>-1</td>\n",
       "      <td>1</td>\n",
       "      <td>1</td>\n",
       "      <td>-1</td>\n",
       "    </tr>\n",
       "    <tr>\n",
       "      <th>21342</th>\n",
       "      <td>1</td>\n",
       "      <td>-1</td>\n",
       "      <td>1</td>\n",
       "      <td>1</td>\n",
       "      <td>1</td>\n",
       "      <td>-1</td>\n",
       "      <td>1</td>\n",
       "      <td>1</td>\n",
       "      <td>-1</td>\n",
       "      <td>1</td>\n",
       "      <td>...</td>\n",
       "      <td>1</td>\n",
       "      <td>1</td>\n",
       "      <td>1</td>\n",
       "      <td>1</td>\n",
       "      <td>1</td>\n",
       "      <td>1</td>\n",
       "      <td>-1</td>\n",
       "      <td>1</td>\n",
       "      <td>0</td>\n",
       "      <td>1</td>\n",
       "    </tr>\n",
       "    <tr>\n",
       "      <th>...</th>\n",
       "      <td>...</td>\n",
       "      <td>...</td>\n",
       "      <td>...</td>\n",
       "      <td>...</td>\n",
       "      <td>...</td>\n",
       "      <td>...</td>\n",
       "      <td>...</td>\n",
       "      <td>...</td>\n",
       "      <td>...</td>\n",
       "      <td>...</td>\n",
       "      <td>...</td>\n",
       "      <td>...</td>\n",
       "      <td>...</td>\n",
       "      <td>...</td>\n",
       "      <td>...</td>\n",
       "      <td>...</td>\n",
       "      <td>...</td>\n",
       "      <td>...</td>\n",
       "      <td>...</td>\n",
       "      <td>...</td>\n",
       "      <td>...</td>\n",
       "    </tr>\n",
       "    <tr>\n",
       "      <th>23433</th>\n",
       "      <td>-1</td>\n",
       "      <td>-1</td>\n",
       "      <td>-1</td>\n",
       "      <td>1</td>\n",
       "      <td>-1</td>\n",
       "      <td>-1</td>\n",
       "      <td>1</td>\n",
       "      <td>1</td>\n",
       "      <td>1</td>\n",
       "      <td>1</td>\n",
       "      <td>...</td>\n",
       "      <td>1</td>\n",
       "      <td>1</td>\n",
       "      <td>1</td>\n",
       "      <td>1</td>\n",
       "      <td>-1</td>\n",
       "      <td>1</td>\n",
       "      <td>-1</td>\n",
       "      <td>-1</td>\n",
       "      <td>1</td>\n",
       "      <td>1</td>\n",
       "    </tr>\n",
       "    <tr>\n",
       "      <th>23434</th>\n",
       "      <td>1</td>\n",
       "      <td>1</td>\n",
       "      <td>1</td>\n",
       "      <td>-1</td>\n",
       "      <td>1</td>\n",
       "      <td>-1</td>\n",
       "      <td>1</td>\n",
       "      <td>1</td>\n",
       "      <td>-1</td>\n",
       "      <td>-1</td>\n",
       "      <td>...</td>\n",
       "      <td>1</td>\n",
       "      <td>-1</td>\n",
       "      <td>1</td>\n",
       "      <td>-1</td>\n",
       "      <td>1</td>\n",
       "      <td>-1</td>\n",
       "      <td>1</td>\n",
       "      <td>1</td>\n",
       "      <td>1</td>\n",
       "      <td>1</td>\n",
       "    </tr>\n",
       "    <tr>\n",
       "      <th>23435</th>\n",
       "      <td>1</td>\n",
       "      <td>-1</td>\n",
       "      <td>1</td>\n",
       "      <td>1</td>\n",
       "      <td>1</td>\n",
       "      <td>-1</td>\n",
       "      <td>-1</td>\n",
       "      <td>-1</td>\n",
       "      <td>1</td>\n",
       "      <td>1</td>\n",
       "      <td>...</td>\n",
       "      <td>1</td>\n",
       "      <td>1</td>\n",
       "      <td>1</td>\n",
       "      <td>-1</td>\n",
       "      <td>1</td>\n",
       "      <td>0</td>\n",
       "      <td>-1</td>\n",
       "      <td>1</td>\n",
       "      <td>0</td>\n",
       "      <td>1</td>\n",
       "    </tr>\n",
       "    <tr>\n",
       "      <th>23436</th>\n",
       "      <td>1</td>\n",
       "      <td>-1</td>\n",
       "      <td>1</td>\n",
       "      <td>-1</td>\n",
       "      <td>1</td>\n",
       "      <td>-1</td>\n",
       "      <td>0</td>\n",
       "      <td>-1</td>\n",
       "      <td>-1</td>\n",
       "      <td>-1</td>\n",
       "      <td>...</td>\n",
       "      <td>1</td>\n",
       "      <td>-1</td>\n",
       "      <td>-1</td>\n",
       "      <td>1</td>\n",
       "      <td>1</td>\n",
       "      <td>-1</td>\n",
       "      <td>-1</td>\n",
       "      <td>1</td>\n",
       "      <td>1</td>\n",
       "      <td>1</td>\n",
       "    </tr>\n",
       "    <tr>\n",
       "      <th>23437</th>\n",
       "      <td>-1</td>\n",
       "      <td>1</td>\n",
       "      <td>-1</td>\n",
       "      <td>-1</td>\n",
       "      <td>-1</td>\n",
       "      <td>-1</td>\n",
       "      <td>1</td>\n",
       "      <td>1</td>\n",
       "      <td>1</td>\n",
       "      <td>-1</td>\n",
       "      <td>...</td>\n",
       "      <td>1</td>\n",
       "      <td>-1</td>\n",
       "      <td>1</td>\n",
       "      <td>-1</td>\n",
       "      <td>-1</td>\n",
       "      <td>0</td>\n",
       "      <td>1</td>\n",
       "      <td>1</td>\n",
       "      <td>1</td>\n",
       "      <td>1</td>\n",
       "    </tr>\n",
       "  </tbody>\n",
       "</table>\n",
       "<p>2100 rows × 30 columns</p>\n",
       "</div>"
      ],
      "text/plain": [
       "       having_IP  URL_Length  Shortining_Service  having_At_Symbol  \\\n",
       "key                                                                  \n",
       "21338          1           1                   1                 1   \n",
       "21339          1          -1                   1                 1   \n",
       "21340          1          -1                   1                 1   \n",
       "21341         -1          -1                  -1                 1   \n",
       "21342          1          -1                   1                 1   \n",
       "...          ...         ...                 ...               ...   \n",
       "23433         -1          -1                  -1                 1   \n",
       "23434          1           1                   1                -1   \n",
       "23435          1          -1                   1                 1   \n",
       "23436          1          -1                   1                -1   \n",
       "23437         -1           1                  -1                -1   \n",
       "\n",
       "       double_slash_redirecting  Prefix_Suffix  having_Sub_Domain  \\\n",
       "key                                                                 \n",
       "21338                         1              1                 -1   \n",
       "21339                         1             -1                  0   \n",
       "21340                         1             -1                  0   \n",
       "21341                        -1             -1                 -1   \n",
       "21342                         1             -1                  1   \n",
       "...                         ...            ...                ...   \n",
       "23433                        -1             -1                  1   \n",
       "23434                         1             -1                  1   \n",
       "23435                         1             -1                 -1   \n",
       "23436                         1             -1                  0   \n",
       "23437                        -1             -1                  1   \n",
       "\n",
       "       SSLfinal_State  Domain_registeration_length  Favicon  ...  RightClick  \\\n",
       "key                                                          ...               \n",
       "21338               1                           -1        1  ...           1   \n",
       "21339              -1                            1        1  ...           1   \n",
       "21340               0                           -1       -1  ...          -1   \n",
       "21341              -1                            1       -1  ...           1   \n",
       "21342               1                           -1        1  ...           1   \n",
       "...               ...                          ...      ...  ...         ...   \n",
       "23433               1                            1        1  ...           1   \n",
       "23434               1                           -1       -1  ...           1   \n",
       "23435              -1                            1        1  ...           1   \n",
       "23436              -1                           -1       -1  ...           1   \n",
       "23437               1                            1       -1  ...           1   \n",
       "\n",
       "       popUpWidnow  Iframe  age_of_domain  DNSRecord  web_traffic  Page_Rank  \\\n",
       "key                                                                            \n",
       "21338            1       1              1          1            1          1   \n",
       "21339            1       1             -1         -1            0         -1   \n",
       "21340           -1      -1              1         -1            1         -1   \n",
       "21341           -1      -1              1         -1            1         -1   \n",
       "21342            1       1              1          1            1         -1   \n",
       "...            ...     ...            ...        ...          ...        ...   \n",
       "23433            1       1              1         -1            1         -1   \n",
       "23434           -1       1             -1          1           -1          1   \n",
       "23435            1       1             -1          1            0         -1   \n",
       "23436           -1      -1              1          1           -1         -1   \n",
       "23437           -1       1             -1         -1            0          1   \n",
       "\n",
       "       Google_Index  Links_pointing_to_page  Statistical_report  \n",
       "key                                                              \n",
       "21338            -1                       0                   1  \n",
       "21339            -1                       0                   1  \n",
       "21340             1                       1                  -1  \n",
       "21341             1                       1                  -1  \n",
       "21342             1                       0                   1  \n",
       "...             ...                     ...                 ...  \n",
       "23433            -1                       1                   1  \n",
       "23434             1                       1                   1  \n",
       "23435             1                       0                   1  \n",
       "23436             1                       1                   1  \n",
       "23437             1                       1                   1  \n",
       "\n",
       "[2100 rows x 30 columns]"
      ]
     },
     "execution_count": 47,
     "metadata": {},
     "output_type": "execute_result"
    }
   ],
   "source": [
    "df_test"
   ]
  },
  {
   "cell_type": "code",
   "execution_count": 48,
   "metadata": {},
   "outputs": [
    {
     "name": "stdout",
     "output_type": "stream",
     "text": [
      "Wall time: 112 ms\n"
     ]
    }
   ],
   "source": [
    "%%time \n",
    "gbm_base_model = fn_train_model(gbm,\n",
    "                             X_train_all,\n",
    "                             y_train_all)"
   ]
  },
  {
   "cell_type": "code",
   "execution_count": 49,
   "metadata": {},
   "outputs": [
    {
     "name": "stdout",
     "output_type": "stream",
     "text": [
      "\n",
      "Confusion Matrix :\n",
      "[[3595  326]\n",
      " [ 233 4801]]\n",
      "\n",
      "Report : \n",
      "              precision    recall  f1-score   support\n",
      "\n",
      "          -1       0.94      0.92      0.93      3921\n",
      "           1       0.94      0.95      0.94      5034\n",
      "\n",
      "    accuracy                           0.94      8955\n",
      "   macro avg       0.94      0.94      0.94      8955\n",
      "weighted avg       0.94      0.94      0.94      8955\n",
      "\n",
      "Recall score : 0.9168579444019382\n"
     ]
    }
   ],
   "source": [
    "gbm_base_train = fn_compute_metrics_train(gbm_base_model, \n",
    "                             X_train_all,\n",
    "                             y_train_all)"
   ]
  },
  {
   "cell_type": "code",
   "execution_count": 69,
   "metadata": {},
   "outputs": [],
   "source": [
    "from xgboost import XGBClassifier\n",
    "\n",
    "xgb_model = XGBClassifier()"
   ]
  },
  {
   "cell_type": "code",
   "execution_count": 74,
   "metadata": {},
   "outputs": [
    {
     "name": "stdout",
     "output_type": "stream",
     "text": [
      "[23:17:35] WARNING: C:/Users/Administrator/workspace/xgboost-win64_release_1.4.0/src/learner.cc:1095: Starting in XGBoost 1.3.0, the default evaluation metric used with the objective 'binary:logistic' was changed from 'error' to 'logloss'. Explicitly set eval_metric if you'd like to restore the old behavior.\n"
     ]
    }
   ],
   "source": [
    "final_model = fn_train_model(xgb_model,\n",
    "                             X_train_all,\n",
    "                             y_train_all)"
   ]
  },
  {
   "cell_type": "code",
   "execution_count": 75,
   "metadata": {},
   "outputs": [
    {
     "name": "stdout",
     "output_type": "stream",
     "text": [
      "\n",
      "Confusion Matrix :\n",
      "[[3686  235]\n",
      " [ 148 4886]]\n",
      "\n",
      "Report : \n",
      "              precision    recall  f1-score   support\n",
      "\n",
      "          -1       0.96      0.94      0.95      3921\n",
      "           1       0.95      0.97      0.96      5034\n",
      "\n",
      "    accuracy                           0.96      8955\n",
      "   macro avg       0.96      0.96      0.96      8955\n",
      "weighted avg       0.96      0.96      0.96      8955\n",
      "\n",
      "Recall score : 0.9400663096148941\n"
     ]
    }
   ],
   "source": [
    "xgb_cv_train  = fn_compute_metrics_train(xgb_model, \n",
    "                             X_train_all,\n",
    "                             y_train_all)"
   ]
  },
  {
   "cell_type": "code",
   "execution_count": 80,
   "metadata": {},
   "outputs": [
    {
     "name": "stdout",
     "output_type": "stream",
     "text": [
      "\n",
      "Confusion Matrix :\n",
      "[[3686  235]\n",
      " [ 148 4886]]\n",
      "\n",
      "Report : \n",
      "              precision    recall  f1-score   support\n",
      "\n",
      "          -1       0.96      0.94      0.95      3921\n",
      "           1       0.95      0.97      0.96      5034\n",
      "\n",
      "    accuracy                           0.96      8955\n",
      "   macro avg       0.96      0.96      0.96      8955\n",
      "weighted avg       0.96      0.96      0.96      8955\n",
      "\n",
      "Recall score : 0.9400663096148941\n",
      "Wall time: 267 ms\n"
     ]
    }
   ],
   "source": [
    "%%time\n",
    "from xgboost import XGBClassifier\n",
    "\n",
    "xgb_model = XGBClassifier(n_estimators = 15, random_state = 2)\n",
    "\n",
    "final_model = fn_train_model(xgb_model,\n",
    "                             X_train_all,\n",
    "                             y_train_all)\n",
    "xgb_cv_train  = fn_compute_metrics_train(xgb_model, \n",
    "                             X_train_all,\n",
    "                             y_train_all)"
   ]
  },
  {
   "cell_type": "code",
   "execution_count": 78,
   "metadata": {},
   "outputs": [
    {
     "name": "stdout",
     "output_type": "stream",
     "text": [
      "\n",
      "Confusion Matrix :\n",
      "[[3866   55]\n",
      " [  41 4993]]\n",
      "\n",
      "Report : \n",
      "              precision    recall  f1-score   support\n",
      "\n",
      "          -1       0.99      0.99      0.99      3921\n",
      "           1       0.99      0.99      0.99      5034\n",
      "\n",
      "    accuracy                           0.99      8955\n",
      "   macro avg       0.99      0.99      0.99      8955\n",
      "weighted avg       0.99      0.99      0.99      8955\n",
      "\n",
      "Recall score : 0.9859729660800816\n",
      "Wall time: 3.5 s\n"
     ]
    }
   ],
   "source": [
    "%%time\n",
    "from xgboost import XGBClassifier\n",
    "\n",
    "#xgb_model = XGBClassifier(n_estimators = 15, random_state = 2)\n",
    "xgb_model = XGBClassifier(n_estimators = 500, \n",
    "                          early_stopping_rounds=5,\n",
    "                          random_state = 2,\n",
    "                          verbosity = 0)\n",
    "final_model = fn_train_model(xgb_model,\n",
    "                             X_train_all,\n",
    "                             y_train_all)\n",
    "xgb_cv_train  = fn_compute_metrics_train(xgb_model, \n",
    "                             X_train_all,\n",
    "                             y_train_all)"
   ]
  },
  {
   "cell_type": "code",
   "execution_count": 79,
   "metadata": {},
   "outputs": [
    {
     "name": "stdout",
     "output_type": "stream",
     "text": [
      "\n",
      "Confusion Matrix :\n",
      "[[3828   93]\n",
      " [  83 4951]]\n",
      "\n",
      "Report : \n",
      "              precision    recall  f1-score   support\n",
      "\n",
      "          -1       0.98      0.98      0.98      3921\n",
      "           1       0.98      0.98      0.98      5034\n",
      "\n",
      "    accuracy                           0.98      8955\n",
      "   macro avg       0.98      0.98      0.98      8955\n",
      "weighted avg       0.98      0.98      0.98      8955\n",
      "\n",
      "Recall score : 0.9762815608263198\n",
      "Wall time: 5.09 s\n"
     ]
    }
   ],
   "source": [
    "%%time\n",
    "from xgboost import XGBClassifier\n",
    "\n",
    "#xgb_model = XGBClassifier(n_estimators = 15, random_state = 2)\n",
    "\n",
    "xgb_model = XGBClassifier(n_estimators = 500,\n",
    "                          learning_rate = 0.05,\n",
    "                          early_stopping_rounds=5,\n",
    "                          n_jobs = 4,\n",
    "                          random_state = 2,\n",
    "                          verbosity = 0)\n",
    "final_model = fn_train_model(xgb_model,\n",
    "                             X_train_all,\n",
    "                             y_train_all)\n",
    "xgb_cv_train  = fn_compute_metrics_train(xgb_model, \n",
    "                             X_train_all,\n",
    "                             y_train_all)"
   ]
  },
  {
   "cell_type": "code",
   "execution_count": 83,
   "metadata": {},
   "outputs": [
    {
     "name": "stdout",
     "output_type": "stream",
     "text": [
      "Wall time: 1min 10s\n"
     ]
    },
    {
     "data": {
      "text/plain": [
       "GridSearchCV(cv=5,\n",
       "             estimator=XGBClassifier(base_score=None, booster=None,\n",
       "                                     colsample_bylevel=None,\n",
       "                                     colsample_bynode=None,\n",
       "                                     colsample_bytree=None,\n",
       "                                     early_stopping_rounds=5, gamma=None,\n",
       "                                     gpu_id=None, importance_type='gain',\n",
       "                                     interaction_constraints=None,\n",
       "                                     learning_rate=None, max_delta_step=None,\n",
       "                                     max_depth=None, min_child_weight=None,\n",
       "                                     missing=nan, monotone_constraints=None,\n",
       "                                     n_estimators=100, n_jobs=4,\n",
       "                                     num_parallel_tree=None, random_state=2,\n",
       "                                     reg_alpha=None, reg_lambda=None,\n",
       "                                     scale_pos_weight=None, subsample=None,\n",
       "                                     tree_method=None, validate_parameters=None,\n",
       "                                     verbosity=0),\n",
       "             param_grid={'model__learning_rate': [0.05, 0.1, 0.5, 1],\n",
       "                         'model__n_estimators': [10, 50, 100, 500]})"
      ]
     },
     "execution_count": 83,
     "metadata": {},
     "output_type": "execute_result"
    }
   ],
   "source": [
    "%%time\n",
    "from xgboost import XGBClassifier\n",
    "\n",
    "xgb_model = XGBClassifier(early_stopping_rounds=5,\n",
    "                          n_jobs = 4,\n",
    "                          random_state = 2,\n",
    "                          verbosity = 0)\n",
    "from sklearn.model_selection import GridSearchCV\n",
    "\n",
    "param_grid = {\n",
    "    \"model__n_estimators\": [10, 50, 100, 500],\n",
    "    \"model__learning_rate\": [0.05, 0.1, 0.5, 1],\n",
    "}\n",
    "\n",
    "searchCV = GridSearchCV(xgb_model, \n",
    "                        cv=5, \n",
    "                        param_grid=param_grid)\n",
    "\n",
    "searchCV.fit(X_train_all, y_train_all) "
   ]
  },
  {
   "cell_type": "code",
   "execution_count": 84,
   "metadata": {},
   "outputs": [
    {
     "data": {
      "text/plain": [
       "{'model__learning_rate': 0.05, 'model__n_estimators': 10}"
      ]
     },
     "execution_count": 84,
     "metadata": {},
     "output_type": "execute_result"
    }
   ],
   "source": [
    "searchCV.best_params_"
   ]
  },
  {
   "cell_type": "code",
   "execution_count": 86,
   "metadata": {},
   "outputs": [
    {
     "name": "stdout",
     "output_type": "stream",
     "text": [
      "\n",
      "Confusion Matrix :\n",
      "[[3828   93]\n",
      " [  83 4951]]\n",
      "\n",
      "Report : \n",
      "              precision    recall  f1-score   support\n",
      "\n",
      "          -1       0.98      0.98      0.98      3921\n",
      "           1       0.98      0.98      0.98      5034\n",
      "\n",
      "    accuracy                           0.98      8955\n",
      "   macro avg       0.98      0.98      0.98      8955\n",
      "weighted avg       0.98      0.98      0.98      8955\n",
      "\n",
      "Recall score : 0.9762815608263198\n",
      "Wall time: 4.83 s\n"
     ]
    }
   ],
   "source": []
  },
  {
   "cell_type": "code",
   "execution_count": null,
   "metadata": {},
   "outputs": [],
   "source": []
  },
  {
   "cell_type": "markdown",
   "metadata": {},
   "source": [
    "# Improve the model¶\n",
    "Improve the GBM model by tuning the hyperparameters."
   ]
  },
  {
   "cell_type": "code",
   "execution_count": 63,
   "metadata": {},
   "outputs": [
    {
     "name": "stdout",
     "output_type": "stream",
     "text": [
      "GradientBoostingClassifier(learning_rate=0.8, n_estimators=20,\n",
      "                           random_state=2345, warm_start=True)\n",
      "Wall time: 4.21 s\n"
     ]
    }
   ],
   "source": [
    "%%time\n",
    "from sklearn.model_selection import GridSearchCV\n",
    "\n",
    "parameters = { 'learning_rate':[0.8],\n",
    "               'n_estimators':[10, 20],\n",
    "               'max_depth':[2, 3],\n",
    "               'warm_start': [True]\n",
    "                }\n",
    "\n",
    "\n",
    "gbm_cv_model = fn_train_model(gbm,\n",
    "                                X_train_all,\n",
    "                             y_train_all,\n",
    "                          parameters,\n",
    "                          k = 5)\n",
    "print(gbm_cv_model)"
   ]
  },
  {
   "cell_type": "code",
   "execution_count": 64,
   "metadata": {},
   "outputs": [
    {
     "name": "stdout",
     "output_type": "stream",
     "text": [
      "\n",
      "Confusion Matrix :\n",
      "[[3683  238]\n",
      " [ 164 4870]]\n",
      "\n",
      "Report : \n",
      "              precision    recall  f1-score   support\n",
      "\n",
      "          -1       0.96      0.94      0.95      3921\n",
      "           1       0.95      0.97      0.96      5034\n",
      "\n",
      "    accuracy                           0.96      8955\n",
      "   macro avg       0.96      0.95      0.95      8955\n",
      "weighted avg       0.96      0.96      0.96      8955\n",
      "\n",
      "Recall score : 0.9393011986738077\n"
     ]
    }
   ],
   "source": [
    "gbm_cv_train  = fn_compute_metrics_train(gbm_cv_model, \n",
    "                             X_train_all,\n",
    "                             y_train_all)"
   ]
  },
  {
   "cell_type": "code",
   "execution_count": 28,
   "metadata": {},
   "outputs": [],
   "source": [
    "from sklearn.ensemble import GradientBoostingClassifier\n",
    "\n",
    "gbm = GradientBoostingClassifier(n_estimators=20,\n",
    "                                 learning_rate=0.8,\n",
    "                                 max_depth = 3,\n",
    "                                 random_state=2345,\n",
    "                                 warm_start = True)"
   ]
  },
  {
   "cell_type": "code",
   "execution_count": 29,
   "metadata": {},
   "outputs": [],
   "source": [
    "final_model = fn_train_model(gbm,\n",
    "                             X_train_all,\n",
    "                             y_train_all)"
   ]
  },
  {
   "cell_type": "code",
   "execution_count": 30,
   "metadata": {},
   "outputs": [
    {
     "name": "stdout",
     "output_type": "stream",
     "text": [
      "\n",
      "Confusion Matrix :\n",
      "[[3683  238]\n",
      " [ 164 4870]]\n",
      "\n",
      "Report : \n",
      "              precision    recall  f1-score   support\n",
      "\n",
      "          -1       0.96      0.94      0.95      3921\n",
      "           1       0.95      0.97      0.96      5034\n",
      "\n",
      "    accuracy                           0.96      8955\n",
      "   macro avg       0.96      0.95      0.95      8955\n",
      "weighted avg       0.96      0.96      0.96      8955\n",
      "\n",
      "Recall score : 0.9393011986738077\n"
     ]
    }
   ],
   "source": [
    "final_metrics  = fn_compute_metrics_train(gbm,\n",
    "                             X_train_all,\n",
    "                             y_train_all)"
   ]
  },
  {
   "cell_type": "code",
   "execution_count": 31,
   "metadata": {},
   "outputs": [
    {
     "name": "stdout",
     "output_type": "stream",
     "text": [
      "(2100, 30)\n"
     ]
    },
    {
     "data": {
      "text/html": [
       "<div>\n",
       "<style scoped>\n",
       "    .dataframe tbody tr th:only-of-type {\n",
       "        vertical-align: middle;\n",
       "    }\n",
       "\n",
       "    .dataframe tbody tr th {\n",
       "        vertical-align: top;\n",
       "    }\n",
       "\n",
       "    .dataframe thead th {\n",
       "        text-align: right;\n",
       "    }\n",
       "</style>\n",
       "<table border=\"1\" class=\"dataframe\">\n",
       "  <thead>\n",
       "    <tr style=\"text-align: right;\">\n",
       "      <th></th>\n",
       "      <th>having_IP</th>\n",
       "      <th>URL_Length</th>\n",
       "      <th>Shortining_Service</th>\n",
       "      <th>having_At_Symbol</th>\n",
       "      <th>double_slash_redirecting</th>\n",
       "      <th>Prefix_Suffix</th>\n",
       "      <th>having_Sub_Domain</th>\n",
       "      <th>SSLfinal_State</th>\n",
       "      <th>Domain_registeration_length</th>\n",
       "      <th>Favicon</th>\n",
       "      <th>...</th>\n",
       "      <th>RightClick</th>\n",
       "      <th>popUpWidnow</th>\n",
       "      <th>Iframe</th>\n",
       "      <th>age_of_domain</th>\n",
       "      <th>DNSRecord</th>\n",
       "      <th>web_traffic</th>\n",
       "      <th>Page_Rank</th>\n",
       "      <th>Google_Index</th>\n",
       "      <th>Links_pointing_to_page</th>\n",
       "      <th>Statistical_report</th>\n",
       "    </tr>\n",
       "    <tr>\n",
       "      <th>key</th>\n",
       "      <th></th>\n",
       "      <th></th>\n",
       "      <th></th>\n",
       "      <th></th>\n",
       "      <th></th>\n",
       "      <th></th>\n",
       "      <th></th>\n",
       "      <th></th>\n",
       "      <th></th>\n",
       "      <th></th>\n",
       "      <th></th>\n",
       "      <th></th>\n",
       "      <th></th>\n",
       "      <th></th>\n",
       "      <th></th>\n",
       "      <th></th>\n",
       "      <th></th>\n",
       "      <th></th>\n",
       "      <th></th>\n",
       "      <th></th>\n",
       "      <th></th>\n",
       "    </tr>\n",
       "  </thead>\n",
       "  <tbody>\n",
       "    <tr>\n",
       "      <th>21338</th>\n",
       "      <td>1</td>\n",
       "      <td>1</td>\n",
       "      <td>1</td>\n",
       "      <td>1</td>\n",
       "      <td>1</td>\n",
       "      <td>1</td>\n",
       "      <td>-1</td>\n",
       "      <td>1</td>\n",
       "      <td>-1</td>\n",
       "      <td>1</td>\n",
       "      <td>...</td>\n",
       "      <td>1</td>\n",
       "      <td>1</td>\n",
       "      <td>1</td>\n",
       "      <td>1</td>\n",
       "      <td>1</td>\n",
       "      <td>1</td>\n",
       "      <td>1</td>\n",
       "      <td>-1</td>\n",
       "      <td>0</td>\n",
       "      <td>1</td>\n",
       "    </tr>\n",
       "    <tr>\n",
       "      <th>21339</th>\n",
       "      <td>1</td>\n",
       "      <td>-1</td>\n",
       "      <td>1</td>\n",
       "      <td>1</td>\n",
       "      <td>1</td>\n",
       "      <td>-1</td>\n",
       "      <td>0</td>\n",
       "      <td>-1</td>\n",
       "      <td>1</td>\n",
       "      <td>1</td>\n",
       "      <td>...</td>\n",
       "      <td>1</td>\n",
       "      <td>1</td>\n",
       "      <td>1</td>\n",
       "      <td>-1</td>\n",
       "      <td>-1</td>\n",
       "      <td>0</td>\n",
       "      <td>-1</td>\n",
       "      <td>-1</td>\n",
       "      <td>0</td>\n",
       "      <td>1</td>\n",
       "    </tr>\n",
       "  </tbody>\n",
       "</table>\n",
       "<p>2 rows × 30 columns</p>\n",
       "</div>"
      ],
      "text/plain": [
       "       having_IP  URL_Length  Shortining_Service  having_At_Symbol  \\\n",
       "key                                                                  \n",
       "21338          1           1                   1                 1   \n",
       "21339          1          -1                   1                 1   \n",
       "\n",
       "       double_slash_redirecting  Prefix_Suffix  having_Sub_Domain  \\\n",
       "key                                                                 \n",
       "21338                         1              1                 -1   \n",
       "21339                         1             -1                  0   \n",
       "\n",
       "       SSLfinal_State  Domain_registeration_length  Favicon  ...  RightClick  \\\n",
       "key                                                          ...               \n",
       "21338               1                           -1        1  ...           1   \n",
       "21339              -1                            1        1  ...           1   \n",
       "\n",
       "       popUpWidnow  Iframe  age_of_domain  DNSRecord  web_traffic  Page_Rank  \\\n",
       "key                                                                            \n",
       "21338            1       1              1          1            1          1   \n",
       "21339            1       1             -1         -1            0         -1   \n",
       "\n",
       "       Google_Index  Links_pointing_to_page  Statistical_report  \n",
       "key                                                              \n",
       "21338            -1                       0                   1  \n",
       "21339            -1                       0                   1  \n",
       "\n",
       "[2 rows x 30 columns]"
      ]
     },
     "execution_count": 31,
     "metadata": {},
     "output_type": "execute_result"
    }
   ],
   "source": [
    "df_test = pd.read_csv(folder+u'//'+'Phising_Testing_Dataset.csv')\n",
    "df_predict=df_test.copy()\n",
    "\n",
    "df_predict.index=df_test['key']\n",
    "df_predict.drop('key', inplace=True, axis=1)\n",
    "print(df_predict.shape)\n",
    "df_predict.head(2)"
   ]
  },
  {
   "cell_type": "code",
   "execution_count": 32,
   "metadata": {},
   "outputs": [
    {
     "data": {
      "text/plain": [
       "GradientBoostingClassifier(learning_rate=0.8, n_estimators=20,\n",
       "                           random_state=2345, warm_start=True)"
      ]
     },
     "execution_count": 32,
     "metadata": {},
     "output_type": "execute_result"
    }
   ],
   "source": [
    "final_model"
   ]
  },
  {
   "cell_type": "code",
   "execution_count": 33,
   "metadata": {},
   "outputs": [],
   "source": [
    "test_pred = final_model.predict(df_predict)"
   ]
  },
  {
   "cell_type": "code",
   "execution_count": 34,
   "metadata": {},
   "outputs": [
    {
     "data": {
      "text/plain": [
       "array([ 1, -1, -1, -1,  1,  1,  1,  1,  1, -1], dtype=int64)"
      ]
     },
     "execution_count": 34,
     "metadata": {},
     "output_type": "execute_result"
    }
   ],
   "source": [
    "test_pred[0:10]"
   ]
  },
  {
   "cell_type": "code",
   "execution_count": 35,
   "metadata": {},
   "outputs": [
    {
     "data": {
      "text/html": [
       "<div>\n",
       "<style scoped>\n",
       "    .dataframe tbody tr th:only-of-type {\n",
       "        vertical-align: middle;\n",
       "    }\n",
       "\n",
       "    .dataframe tbody tr th {\n",
       "        vertical-align: top;\n",
       "    }\n",
       "\n",
       "    .dataframe thead th {\n",
       "        text-align: right;\n",
       "    }\n",
       "</style>\n",
       "<table border=\"1\" class=\"dataframe\">\n",
       "  <thead>\n",
       "    <tr style=\"text-align: right;\">\n",
       "      <th></th>\n",
       "      <th>key</th>\n",
       "      <th>Result</th>\n",
       "    </tr>\n",
       "  </thead>\n",
       "  <tbody>\n",
       "    <tr>\n",
       "      <th>0</th>\n",
       "      <td>21338</td>\n",
       "      <td>1</td>\n",
       "    </tr>\n",
       "    <tr>\n",
       "      <th>1</th>\n",
       "      <td>21339</td>\n",
       "      <td>-1</td>\n",
       "    </tr>\n",
       "    <tr>\n",
       "      <th>2</th>\n",
       "      <td>21340</td>\n",
       "      <td>-1</td>\n",
       "    </tr>\n",
       "    <tr>\n",
       "      <th>3</th>\n",
       "      <td>21341</td>\n",
       "      <td>-1</td>\n",
       "    </tr>\n",
       "    <tr>\n",
       "      <th>4</th>\n",
       "      <td>21342</td>\n",
       "      <td>1</td>\n",
       "    </tr>\n",
       "  </tbody>\n",
       "</table>\n",
       "</div>"
      ],
      "text/plain": [
       "     key  Result\n",
       "0  21338       1\n",
       "1  21339      -1\n",
       "2  21340      -1\n",
       "3  21341      -1\n",
       "4  21342       1"
      ]
     },
     "execution_count": 35,
     "metadata": {},
     "output_type": "execute_result"
    }
   ],
   "source": [
    "submissions_df = pd.DataFrame({'key': df_test.key, 'Result': test_pred})\n",
    "submissions_df.head()"
   ]
  },
  {
   "cell_type": "code",
   "execution_count": 36,
   "metadata": {},
   "outputs": [],
   "source": [
    "submissions_df.to_csv(folder+u'//'+ \"test_predictions_20thJunV1.csv\", index=None)"
   ]
  },
  {
   "cell_type": "code",
   "execution_count": 37,
   "metadata": {},
   "outputs": [
    {
     "data": {
      "text/plain": [
       "'D:/Notes/TechGig/data'"
      ]
     },
     "execution_count": 37,
     "metadata": {},
     "output_type": "execute_result"
    }
   ],
   "source": [
    "folder"
   ]
  },
  {
   "cell_type": "code",
   "execution_count": 38,
   "metadata": {},
   "outputs": [
    {
     "name": "stdout",
     "output_type": "stream",
     "text": [
      "\n",
      "Confusion Matrix :\n",
      "[[3866   55]\n",
      " [  41 4993]]\n",
      "\n",
      "Report : \n",
      "              precision    recall  f1-score   support\n",
      "\n",
      "          -1       0.99      0.99      0.99      3921\n",
      "           1       0.99      0.99      0.99      5034\n",
      "\n",
      "    accuracy                           0.99      8955\n",
      "   macro avg       0.99      0.99      0.99      8955\n",
      "weighted avg       0.99      0.99      0.99      8955\n",
      "\n",
      "Recall score : 0.9859729660800816\n",
      "Wall time: 2.13 s\n"
     ]
    }
   ],
   "source": [
    "%%time\n",
    "from xgboost import XGBClassifier\n",
    "\n",
    "#xgb_model = XGBClassifier(n_estimators = 15, random_state = 2)\n",
    "xgb_model = XGBClassifier(n_estimators = 500, \n",
    "                          early_stopping_rounds=5,\n",
    "                          random_state = 2,\n",
    "                          verbosity = 0)\n",
    "final_model = fn_train_model(xgb_model,\n",
    "                             X_train_all,\n",
    "                             y_train_all)\n",
    "xgb_cv_train  = fn_compute_metrics_train(xgb_model, \n",
    "                             X_train_all,\n",
    "                             y_train_all)"
   ]
  },
  {
   "cell_type": "code",
   "execution_count": 39,
   "metadata": {},
   "outputs": [
    {
     "data": {
      "text/html": [
       "<div>\n",
       "<style scoped>\n",
       "    .dataframe tbody tr th:only-of-type {\n",
       "        vertical-align: middle;\n",
       "    }\n",
       "\n",
       "    .dataframe tbody tr th {\n",
       "        vertical-align: top;\n",
       "    }\n",
       "\n",
       "    .dataframe thead th {\n",
       "        text-align: right;\n",
       "    }\n",
       "</style>\n",
       "<table border=\"1\" class=\"dataframe\">\n",
       "  <thead>\n",
       "    <tr style=\"text-align: right;\">\n",
       "      <th></th>\n",
       "      <th>key</th>\n",
       "      <th>Result</th>\n",
       "    </tr>\n",
       "  </thead>\n",
       "  <tbody>\n",
       "    <tr>\n",
       "      <th>0</th>\n",
       "      <td>21338</td>\n",
       "      <td>1</td>\n",
       "    </tr>\n",
       "    <tr>\n",
       "      <th>1</th>\n",
       "      <td>21339</td>\n",
       "      <td>-1</td>\n",
       "    </tr>\n",
       "    <tr>\n",
       "      <th>2</th>\n",
       "      <td>21340</td>\n",
       "      <td>-1</td>\n",
       "    </tr>\n",
       "    <tr>\n",
       "      <th>3</th>\n",
       "      <td>21341</td>\n",
       "      <td>-1</td>\n",
       "    </tr>\n",
       "    <tr>\n",
       "      <th>4</th>\n",
       "      <td>21342</td>\n",
       "      <td>1</td>\n",
       "    </tr>\n",
       "  </tbody>\n",
       "</table>\n",
       "</div>"
      ],
      "text/plain": [
       "     key  Result\n",
       "0  21338       1\n",
       "1  21339      -1\n",
       "2  21340      -1\n",
       "3  21341      -1\n",
       "4  21342       1"
      ]
     },
     "execution_count": 39,
     "metadata": {},
     "output_type": "execute_result"
    }
   ],
   "source": [
    "test_pred_xbm = final_model.predict(df_predict)\n",
    "submissions_df_xbm = pd.DataFrame({'key': df_test.key, 'Result': test_pred_xbm})\n",
    "submissions_df_xbm.head()"
   ]
  },
  {
   "cell_type": "code",
   "execution_count": 40,
   "metadata": {},
   "outputs": [],
   "source": [
    "submissions_df_xbm.to_csv(folder+u'//'+ \"test_predictions_20thJun_xbm.csv\", index=None)"
   ]
  },
  {
   "cell_type": "code",
   "execution_count": 41,
   "metadata": {},
   "outputs": [
    {
     "data": {
      "text/html": [
       "<div>\n",
       "<style scoped>\n",
       "    .dataframe tbody tr th:only-of-type {\n",
       "        vertical-align: middle;\n",
       "    }\n",
       "\n",
       "    .dataframe tbody tr th {\n",
       "        vertical-align: top;\n",
       "    }\n",
       "\n",
       "    .dataframe thead th {\n",
       "        text-align: right;\n",
       "    }\n",
       "</style>\n",
       "<table border=\"1\" class=\"dataframe\">\n",
       "  <thead>\n",
       "    <tr style=\"text-align: right;\">\n",
       "      <th></th>\n",
       "      <th>key</th>\n",
       "      <th>Result</th>\n",
       "    </tr>\n",
       "  </thead>\n",
       "  <tbody>\n",
       "    <tr>\n",
       "      <th>0</th>\n",
       "      <td>21338</td>\n",
       "      <td>1</td>\n",
       "    </tr>\n",
       "    <tr>\n",
       "      <th>1</th>\n",
       "      <td>21339</td>\n",
       "      <td>-1</td>\n",
       "    </tr>\n",
       "    <tr>\n",
       "      <th>2</th>\n",
       "      <td>21340</td>\n",
       "      <td>-1</td>\n",
       "    </tr>\n",
       "    <tr>\n",
       "      <th>3</th>\n",
       "      <td>21341</td>\n",
       "      <td>-1</td>\n",
       "    </tr>\n",
       "    <tr>\n",
       "      <th>4</th>\n",
       "      <td>21342</td>\n",
       "      <td>1</td>\n",
       "    </tr>\n",
       "    <tr>\n",
       "      <th>...</th>\n",
       "      <td>...</td>\n",
       "      <td>...</td>\n",
       "    </tr>\n",
       "    <tr>\n",
       "      <th>2095</th>\n",
       "      <td>23433</td>\n",
       "      <td>1</td>\n",
       "    </tr>\n",
       "    <tr>\n",
       "      <th>2096</th>\n",
       "      <td>23434</td>\n",
       "      <td>1</td>\n",
       "    </tr>\n",
       "    <tr>\n",
       "      <th>2097</th>\n",
       "      <td>23435</td>\n",
       "      <td>-1</td>\n",
       "    </tr>\n",
       "    <tr>\n",
       "      <th>2098</th>\n",
       "      <td>23436</td>\n",
       "      <td>1</td>\n",
       "    </tr>\n",
       "    <tr>\n",
       "      <th>2099</th>\n",
       "      <td>23437</td>\n",
       "      <td>1</td>\n",
       "    </tr>\n",
       "  </tbody>\n",
       "</table>\n",
       "<p>2100 rows × 2 columns</p>\n",
       "</div>"
      ],
      "text/plain": [
       "        key  Result\n",
       "0     21338       1\n",
       "1     21339      -1\n",
       "2     21340      -1\n",
       "3     21341      -1\n",
       "4     21342       1\n",
       "...     ...     ...\n",
       "2095  23433       1\n",
       "2096  23434       1\n",
       "2097  23435      -1\n",
       "2098  23436       1\n",
       "2099  23437       1\n",
       "\n",
       "[2100 rows x 2 columns]"
      ]
     },
     "execution_count": 41,
     "metadata": {},
     "output_type": "execute_result"
    }
   ],
   "source": [
    "submissions_df_xbm"
   ]
  },
  {
   "cell_type": "code",
   "execution_count": 45,
   "metadata": {},
   "outputs": [
    {
     "data": {
      "text/html": [
       "<div>\n",
       "<style scoped>\n",
       "    .dataframe tbody tr th:only-of-type {\n",
       "        vertical-align: middle;\n",
       "    }\n",
       "\n",
       "    .dataframe tbody tr th {\n",
       "        vertical-align: top;\n",
       "    }\n",
       "\n",
       "    .dataframe thead th {\n",
       "        text-align: right;\n",
       "    }\n",
       "</style>\n",
       "<table border=\"1\" class=\"dataframe\">\n",
       "  <thead>\n",
       "    <tr style=\"text-align: right;\">\n",
       "      <th></th>\n",
       "      <th>key</th>\n",
       "      <th>Result</th>\n",
       "    </tr>\n",
       "  </thead>\n",
       "  <tbody>\n",
       "    <tr>\n",
       "      <th>0</th>\n",
       "      <td>21338</td>\n",
       "      <td>1</td>\n",
       "    </tr>\n",
       "    <tr>\n",
       "      <th>1</th>\n",
       "      <td>21339</td>\n",
       "      <td>-1</td>\n",
       "    </tr>\n",
       "    <tr>\n",
       "      <th>2</th>\n",
       "      <td>21340</td>\n",
       "      <td>-1</td>\n",
       "    </tr>\n",
       "    <tr>\n",
       "      <th>3</th>\n",
       "      <td>21341</td>\n",
       "      <td>-1</td>\n",
       "    </tr>\n",
       "    <tr>\n",
       "      <th>4</th>\n",
       "      <td>21342</td>\n",
       "      <td>1</td>\n",
       "    </tr>\n",
       "    <tr>\n",
       "      <th>...</th>\n",
       "      <td>...</td>\n",
       "      <td>...</td>\n",
       "    </tr>\n",
       "    <tr>\n",
       "      <th>2095</th>\n",
       "      <td>23433</td>\n",
       "      <td>1</td>\n",
       "    </tr>\n",
       "    <tr>\n",
       "      <th>2096</th>\n",
       "      <td>23434</td>\n",
       "      <td>1</td>\n",
       "    </tr>\n",
       "    <tr>\n",
       "      <th>2097</th>\n",
       "      <td>23435</td>\n",
       "      <td>-1</td>\n",
       "    </tr>\n",
       "    <tr>\n",
       "      <th>2098</th>\n",
       "      <td>23436</td>\n",
       "      <td>-1</td>\n",
       "    </tr>\n",
       "    <tr>\n",
       "      <th>2099</th>\n",
       "      <td>23437</td>\n",
       "      <td>1</td>\n",
       "    </tr>\n",
       "  </tbody>\n",
       "</table>\n",
       "<p>2100 rows × 2 columns</p>\n",
       "</div>"
      ],
      "text/plain": [
       "        key  Result\n",
       "0     21338       1\n",
       "1     21339      -1\n",
       "2     21340      -1\n",
       "3     21341      -1\n",
       "4     21342       1\n",
       "...     ...     ...\n",
       "2095  23433       1\n",
       "2096  23434       1\n",
       "2097  23435      -1\n",
       "2098  23436      -1\n",
       "2099  23437       1\n",
       "\n",
       "[2100 rows x 2 columns]"
      ]
     },
     "execution_count": 45,
     "metadata": {},
     "output_type": "execute_result"
    }
   ],
   "source": []
  },
  {
   "cell_type": "code",
   "execution_count": 61,
   "metadata": {},
   "outputs": [
    {
     "name": "stdout",
     "output_type": "stream",
     "text": [
      " 1    1128\n",
      "-1     972\n",
      "Name: Result, dtype: int64\n",
      " 1    1112\n",
      "-1     988\n",
      "Name: Result, dtype: int64\n",
      "{'test_accuracy': 0.9162, 'test_precision': 0.9281, 'test_recall': 0.9149, 'test_f1_score': 0.9214}\n"
     ]
    }
   ],
   "source": [
    "df1=pd.read_csv(folder+u'//'+ \"test_predictions_25thJulyV4_XgB.csv\")\n",
    "test_predictions  =df1['Result']\n",
    "actual=submissions_df_xbm['Result']\n",
    "print(actual.value_counts())\n",
    "print(test_predictions.value_counts())\n",
    "metrics={}\n",
    "metrics['test_accuracy']     = round(accuracy_score(actual, test_predictions),4)\n",
    "metrics['test_precision']    = round(precision_score(actual, test_predictions),4)\n",
    "metrics['test_recall']       = round(recall_score(actual, test_predictions),4)\n",
    "metrics['test_f1_score']     = round(f1_score(actual, test_predictions),4)\n",
    "print(metrics)"
   ]
  },
  {
   "cell_type": "code",
   "execution_count": 62,
   "metadata": {},
   "outputs": [
    {
     "name": "stdout",
     "output_type": "stream",
     "text": [
      " 1    1128\n",
      "-1     972\n",
      "Name: Result, dtype: int64\n",
      " 1    1137\n",
      "-1     963\n",
      "Name: Result, dtype: int64\n",
      "{'test_accuracy': 0.9281, 'test_precision': 0.9296, 'test_recall': 0.9371, 'test_f1_score': 0.9333}\n"
     ]
    }
   ],
   "source": [
    "df1=pd.read_csv(folder+u'//'+ \"test_predictions_25thJulyV3_XGB_New.csv\")\n",
    "test_predictions  =df1['Result']\n",
    "actual=submissions_df_xbm['Result']\n",
    "print(actual.value_counts())\n",
    "print(test_predictions.value_counts())\n",
    "metrics={}\n",
    "metrics['test_accuracy']     = round(accuracy_score(actual, test_predictions),4)\n",
    "metrics['test_precision']    = round(precision_score(actual, test_predictions),4)\n",
    "metrics['test_recall']       = round(recall_score(actual, test_predictions),4)\n",
    "metrics['test_f1_score']     = round(f1_score(actual, test_predictions),4)\n",
    "print(metrics)"
   ]
  },
  {
   "cell_type": "code",
   "execution_count": 63,
   "metadata": {},
   "outputs": [
    {
     "name": "stdout",
     "output_type": "stream",
     "text": [
      " 1    1128\n",
      "-1     972\n",
      "Name: Result, dtype: int64\n",
      " 1    1107\n",
      "-1     993\n",
      "Name: Result, dtype: int64\n",
      "{'test_accuracy': 0.9195, 'test_precision': 0.9332, 'test_recall': 0.9158, 'test_f1_score': 0.9244}\n"
     ]
    }
   ],
   "source": [
    "df1=pd.read_csv(folder+u'//'+ \"test_predictions_25thJulyV3_XgB.csv\")\n",
    "test_predictions  =df1['Result']\n",
    "actual=submissions_df_xbm['Result']\n",
    "print(actual.value_counts())\n",
    "print(test_predictions.value_counts())\n",
    "metrics={}\n",
    "metrics['test_accuracy']     = round(accuracy_score(actual, test_predictions),4)\n",
    "metrics['test_precision']    = round(precision_score(actual, test_predictions),4)\n",
    "metrics['test_recall']       = round(recall_score(actual, test_predictions),4)\n",
    "metrics['test_f1_score']     = round(f1_score(actual, test_predictions),4)\n",
    "print(metrics)"
   ]
  },
  {
   "cell_type": "code",
   "execution_count": 64,
   "metadata": {},
   "outputs": [
    {
     "name": "stdout",
     "output_type": "stream",
     "text": [
      " 1    1128\n",
      "-1     972\n",
      "Name: Result, dtype: int64\n",
      " 1    1107\n",
      "-1     993\n",
      "Name: Result, dtype: int64\n",
      "{'test_accuracy': 0.9195, 'test_precision': 0.9332, 'test_recall': 0.9158, 'test_f1_score': 0.9244}\n"
     ]
    }
   ],
   "source": [
    "df1=pd.read_csv(folder+u'//'+ \"test_predictions_25thJulyV3.csv\")\n",
    "test_predictions  =df1['Result']\n",
    "actual=submissions_df_xbm['Result']\n",
    "print(actual.value_counts())\n",
    "print(test_predictions.value_counts())\n",
    "metrics={}\n",
    "metrics['test_accuracy']     = round(accuracy_score(actual, test_predictions),4)\n",
    "metrics['test_precision']    = round(precision_score(actual, test_predictions),4)\n",
    "metrics['test_recall']       = round(recall_score(actual, test_predictions),4)\n",
    "metrics['test_f1_score']     = round(f1_score(actual, test_predictions),4)\n",
    "print(metrics)"
   ]
  },
  {
   "cell_type": "code",
   "execution_count": 88,
   "metadata": {},
   "outputs": [
    {
     "ename": "AttributeError",
     "evalue": "'numpy.ndarray' object has no attribute 'replace'",
     "output_type": "error",
     "traceback": [
      "\u001b[1;31m---------------------------------------------------------------------------\u001b[0m",
      "\u001b[1;31mAttributeError\u001b[0m                            Traceback (most recent call last)",
      "\u001b[1;32m~\\AppData\\Local\\Temp\\ipykernel_4360\\1404591710.py\u001b[0m in \u001b[0;36m<cell line: 8>\u001b[1;34m()\u001b[0m\n\u001b[0;32m      6\u001b[0m \u001b[0mNaive\u001b[0m \u001b[1;33m=\u001b[0m \u001b[0mnaive_bayes\u001b[0m\u001b[1;33m.\u001b[0m\u001b[0mMultinomialNB\u001b[0m\u001b[1;33m(\u001b[0m\u001b[1;33m)\u001b[0m\u001b[1;33m\u001b[0m\u001b[1;33m\u001b[0m\u001b[0m\n\u001b[0;32m      7\u001b[0m \u001b[0mResults_replace\u001b[0m\u001b[1;33m=\u001b[0m\u001b[1;33m{\u001b[0m \u001b[1;36m1\u001b[0m\u001b[1;33m:\u001b[0m\u001b[1;36m1\u001b[0m\u001b[1;33m,\u001b[0m\u001b[1;36m0\u001b[0m\u001b[1;33m:\u001b[0m\u001b[1;36m0\u001b[0m\u001b[1;33m,\u001b[0m\u001b[1;33m-\u001b[0m\u001b[1;36m1\u001b[0m\u001b[1;33m:\u001b[0m\u001b[1;36m2\u001b[0m\u001b[1;33m}\u001b[0m\u001b[1;33m\u001b[0m\u001b[1;33m\u001b[0m\u001b[0m\n\u001b[1;32m----> 8\u001b[1;33m \u001b[0my_trainNB\u001b[0m\u001b[1;33m.\u001b[0m\u001b[0mreplace\u001b[0m\u001b[1;33m(\u001b[0m\u001b[0mResults_replace\u001b[0m\u001b[1;33m,\u001b[0m \u001b[0minplace\u001b[0m\u001b[1;33m=\u001b[0m\u001b[1;32mTrue\u001b[0m\u001b[1;33m)\u001b[0m\u001b[1;33m\u001b[0m\u001b[1;33m\u001b[0m\u001b[0m\n\u001b[0m\u001b[0;32m      9\u001b[0m \u001b[0my_testNB\u001b[0m\u001b[1;33m.\u001b[0m\u001b[0mreplace\u001b[0m\u001b[1;33m(\u001b[0m\u001b[0mResults_replace\u001b[0m\u001b[1;33m,\u001b[0m \u001b[0minplace\u001b[0m\u001b[1;33m=\u001b[0m\u001b[1;32mTrue\u001b[0m\u001b[1;33m)\u001b[0m\u001b[1;33m\u001b[0m\u001b[1;33m\u001b[0m\u001b[0m\n\u001b[0;32m     10\u001b[0m \u001b[1;33m\u001b[0m\u001b[0m\n",
      "\u001b[1;31mAttributeError\u001b[0m: 'numpy.ndarray' object has no attribute 'replace'"
     ]
    }
   ],
   "source": [
    "y_trainNB= y_train\n",
    "y_testNB =y_test\n",
    "X_trainNB=X_train\n",
    "X_testNB = X_test\n",
    "from sklearn import naive_bayes\n",
    "Naive = naive_bayes.MultinomialNB()\n",
    "Results_replace={ 1:1,0:0,-1:2}\n",
    "y_trainNB.replace(Results_replace, inplace=True)\n",
    "y_testNB.replace(Results_replace, inplace=True)\n",
    "\n",
    "X_trainNB.replace(Results_replace, inplace=True)\n",
    "X_testNB.replace(Results_replace, inplace=True)\n",
    "mnb = Naive.fit(X_trainNB, y_trainNB)\n",
    "print(\"score on test: \" + str(mnb.score(X_testNB, y_testNB)))\n",
    "print(\"score on train: \"+ str(mnb.score(X_trainNB, y_trainNB)))"
   ]
  },
  {
   "cell_type": "code",
   "execution_count": 90,
   "metadata": {},
   "outputs": [],
   "source": [
    "\n",
    "X_train, X_test, y_train, y_test =   train_test_split(X, y, test_size=0.20, random_state=111)"
   ]
  },
  {
   "cell_type": "code",
   "execution_count": 91,
   "metadata": {},
   "outputs": [],
   "source": [
    "#Importing necessary modules\n",
    "from tensorflow.keras.models import Sequential\n",
    "from tensorflow.keras import Input, Model\n",
    "from tensorflow.keras.layers import Dense, Dropout, Activation\n",
    "from sklearn.model_selection import train_test_split"
   ]
  },
  {
   "cell_type": "code",
   "execution_count": 92,
   "metadata": {},
   "outputs": [],
   "source": [
    "seed = 7\n",
    "np.random.seed(seed)"
   ]
  },
  {
   "cell_type": "code",
   "execution_count": 93,
   "metadata": {},
   "outputs": [
    {
     "name": "stdout",
     "output_type": "stream",
     "text": [
      "(30,) (30,)\n"
     ]
    }
   ],
   "source": [
    "X_train = np.hstack((X_train))\n",
    "X_test = np.hstack((X_test))\n",
    "print(X_train.shape, X_test.shape)"
   ]
  },
  {
   "cell_type": "code",
   "execution_count": 87,
   "metadata": {},
   "outputs": [
    {
     "ename": "IndexError",
     "evalue": "tuple index out of range",
     "output_type": "error",
     "traceback": [
      "\u001b[1;31m---------------------------------------------------------------------------\u001b[0m",
      "\u001b[1;31mIndexError\u001b[0m                                Traceback (most recent call last)",
      "\u001b[1;32m~\\AppData\\Local\\Temp\\ipykernel_4360\\782027814.py\u001b[0m in \u001b[0;36m<cell line: 6>\u001b[1;34m()\u001b[0m\n\u001b[0;32m      4\u001b[0m \u001b[0my_test\u001b[0m \u001b[1;33m=\u001b[0m \u001b[0mnp\u001b[0m\u001b[1;33m.\u001b[0m\u001b[0marray\u001b[0m\u001b[1;33m(\u001b[0m\u001b[0my_test\u001b[0m\u001b[1;33m)\u001b[0m\u001b[1;33m\u001b[0m\u001b[1;33m\u001b[0m\u001b[0m\n\u001b[0;32m      5\u001b[0m \u001b[1;33m\u001b[0m\u001b[0m\n\u001b[1;32m----> 6\u001b[1;33m \u001b[0minput_shape\u001b[0m \u001b[1;33m=\u001b[0m \u001b[0mX_train\u001b[0m\u001b[1;33m.\u001b[0m\u001b[0mshape\u001b[0m\u001b[1;33m[\u001b[0m\u001b[1;36m1\u001b[0m\u001b[1;33m]\u001b[0m\u001b[1;33m\u001b[0m\u001b[1;33m\u001b[0m\u001b[0m\n\u001b[0m",
      "\u001b[1;31mIndexError\u001b[0m: tuple index out of range"
     ]
    }
   ],
   "source": [
    "X_train = np.array(X_train)\n",
    "y_train = np.array(y_train)\n",
    "X_test = np.array(X_test)\n",
    "y_test = np.array(y_test)\n",
    "\n",
    "input_shape = X_train.shape[1]"
   ]
  },
  {
   "cell_type": "code",
   "execution_count": 94,
   "metadata": {},
   "outputs": [
    {
     "ename": "ValueError",
     "evalue": "Data cardinality is ambiguous:\n  x sizes: 30\n  y sizes: 7164\nMake sure all arrays contain the same number of samples.",
     "output_type": "error",
     "traceback": [
      "\u001b[1;31m---------------------------------------------------------------------------\u001b[0m",
      "\u001b[1;31mValueError\u001b[0m                                Traceback (most recent call last)",
      "\u001b[1;32m~\\AppData\\Local\\Temp\\ipykernel_4360\\221157871.py\u001b[0m in \u001b[0;36m<cell line: 17>\u001b[1;34m()\u001b[0m\n\u001b[0;32m     15\u001b[0m \u001b[1;33m\u001b[0m\u001b[0m\n\u001b[0;32m     16\u001b[0m \u001b[1;33m\u001b[0m\u001b[0m\n\u001b[1;32m---> 17\u001b[1;33m model.fit(X_train, y_train,\n\u001b[0m\u001b[0;32m     18\u001b[0m               \u001b[0mepochs\u001b[0m\u001b[1;33m=\u001b[0m\u001b[1;36m25\u001b[0m\u001b[1;33m,\u001b[0m\u001b[1;33m\u001b[0m\u001b[1;33m\u001b[0m\u001b[0m\n\u001b[0;32m     19\u001b[0m           batch_size=24, class_weight={0:0.2, 1:0.8})\n",
      "\u001b[1;32m~\\Anaconda3\\lib\\site-packages\\tensorflow\\python\\keras\\engine\\training.py\u001b[0m in \u001b[0;36mfit\u001b[1;34m(self, x, y, batch_size, epochs, verbose, callbacks, validation_split, validation_data, shuffle, class_weight, sample_weight, initial_epoch, steps_per_epoch, validation_steps, validation_batch_size, validation_freq, max_queue_size, workers, use_multiprocessing)\u001b[0m\n\u001b[0;32m   1131\u001b[0m          \u001b[0mtraining_utils\u001b[0m\u001b[1;33m.\u001b[0m\u001b[0mRespectCompiledTrainableState\u001b[0m\u001b[1;33m(\u001b[0m\u001b[0mself\u001b[0m\u001b[1;33m)\u001b[0m\u001b[1;33m:\u001b[0m\u001b[1;33m\u001b[0m\u001b[1;33m\u001b[0m\u001b[0m\n\u001b[0;32m   1132\u001b[0m       \u001b[1;31m# Creates a `tf.data.Dataset` and handles batch and epoch iteration.\u001b[0m\u001b[1;33m\u001b[0m\u001b[1;33m\u001b[0m\u001b[1;33m\u001b[0m\u001b[0m\n\u001b[1;32m-> 1133\u001b[1;33m       data_handler = data_adapter.get_data_handler(\n\u001b[0m\u001b[0;32m   1134\u001b[0m           \u001b[0mx\u001b[0m\u001b[1;33m=\u001b[0m\u001b[0mx\u001b[0m\u001b[1;33m,\u001b[0m\u001b[1;33m\u001b[0m\u001b[1;33m\u001b[0m\u001b[0m\n\u001b[0;32m   1135\u001b[0m           \u001b[0my\u001b[0m\u001b[1;33m=\u001b[0m\u001b[0my\u001b[0m\u001b[1;33m,\u001b[0m\u001b[1;33m\u001b[0m\u001b[1;33m\u001b[0m\u001b[0m\n",
      "\u001b[1;32m~\\Anaconda3\\lib\\site-packages\\tensorflow\\python\\keras\\engine\\data_adapter.py\u001b[0m in \u001b[0;36mget_data_handler\u001b[1;34m(*args, **kwargs)\u001b[0m\n\u001b[0;32m   1362\u001b[0m   \u001b[1;32mif\u001b[0m \u001b[0mgetattr\u001b[0m\u001b[1;33m(\u001b[0m\u001b[0mkwargs\u001b[0m\u001b[1;33m[\u001b[0m\u001b[1;34m\"model\"\u001b[0m\u001b[1;33m]\u001b[0m\u001b[1;33m,\u001b[0m \u001b[1;34m\"_cluster_coordinator\"\u001b[0m\u001b[1;33m,\u001b[0m \u001b[1;32mNone\u001b[0m\u001b[1;33m)\u001b[0m\u001b[1;33m:\u001b[0m\u001b[1;33m\u001b[0m\u001b[1;33m\u001b[0m\u001b[0m\n\u001b[0;32m   1363\u001b[0m     \u001b[1;32mreturn\u001b[0m \u001b[0m_ClusterCoordinatorDataHandler\u001b[0m\u001b[1;33m(\u001b[0m\u001b[1;33m*\u001b[0m\u001b[0margs\u001b[0m\u001b[1;33m,\u001b[0m \u001b[1;33m**\u001b[0m\u001b[0mkwargs\u001b[0m\u001b[1;33m)\u001b[0m\u001b[1;33m\u001b[0m\u001b[1;33m\u001b[0m\u001b[0m\n\u001b[1;32m-> 1364\u001b[1;33m   \u001b[1;32mreturn\u001b[0m \u001b[0mDataHandler\u001b[0m\u001b[1;33m(\u001b[0m\u001b[1;33m*\u001b[0m\u001b[0margs\u001b[0m\u001b[1;33m,\u001b[0m \u001b[1;33m**\u001b[0m\u001b[0mkwargs\u001b[0m\u001b[1;33m)\u001b[0m\u001b[1;33m\u001b[0m\u001b[1;33m\u001b[0m\u001b[0m\n\u001b[0m\u001b[0;32m   1365\u001b[0m \u001b[1;33m\u001b[0m\u001b[0m\n\u001b[0;32m   1366\u001b[0m \u001b[1;33m\u001b[0m\u001b[0m\n",
      "\u001b[1;32m~\\Anaconda3\\lib\\site-packages\\tensorflow\\python\\keras\\engine\\data_adapter.py\u001b[0m in \u001b[0;36m__init__\u001b[1;34m(self, x, y, sample_weight, batch_size, steps_per_epoch, initial_epoch, epochs, shuffle, class_weight, max_queue_size, workers, use_multiprocessing, model, steps_per_execution, distribute)\u001b[0m\n\u001b[0;32m   1152\u001b[0m     \u001b[0madapter_cls\u001b[0m \u001b[1;33m=\u001b[0m \u001b[0mselect_data_adapter\u001b[0m\u001b[1;33m(\u001b[0m\u001b[0mx\u001b[0m\u001b[1;33m,\u001b[0m \u001b[0my\u001b[0m\u001b[1;33m)\u001b[0m\u001b[1;33m\u001b[0m\u001b[1;33m\u001b[0m\u001b[0m\n\u001b[0;32m   1153\u001b[0m     \u001b[0mself\u001b[0m\u001b[1;33m.\u001b[0m\u001b[0m_verify_data_adapter_compatibility\u001b[0m\u001b[1;33m(\u001b[0m\u001b[0madapter_cls\u001b[0m\u001b[1;33m)\u001b[0m\u001b[1;33m\u001b[0m\u001b[1;33m\u001b[0m\u001b[0m\n\u001b[1;32m-> 1154\u001b[1;33m     self._adapter = adapter_cls(\n\u001b[0m\u001b[0;32m   1155\u001b[0m         \u001b[0mx\u001b[0m\u001b[1;33m,\u001b[0m\u001b[1;33m\u001b[0m\u001b[1;33m\u001b[0m\u001b[0m\n\u001b[0;32m   1156\u001b[0m         \u001b[0my\u001b[0m\u001b[1;33m,\u001b[0m\u001b[1;33m\u001b[0m\u001b[1;33m\u001b[0m\u001b[0m\n",
      "\u001b[1;32m~\\Anaconda3\\lib\\site-packages\\tensorflow\\python\\keras\\engine\\data_adapter.py\u001b[0m in \u001b[0;36m__init__\u001b[1;34m(self, x, y, sample_weights, sample_weight_modes, batch_size, epochs, steps, shuffle, **kwargs)\u001b[0m\n\u001b[0;32m    256\u001b[0m \u001b[1;33m\u001b[0m\u001b[0m\n\u001b[0;32m    257\u001b[0m     \u001b[0mnum_samples\u001b[0m \u001b[1;33m=\u001b[0m \u001b[0mset\u001b[0m\u001b[1;33m(\u001b[0m\u001b[0mint\u001b[0m\u001b[1;33m(\u001b[0m\u001b[0mi\u001b[0m\u001b[1;33m.\u001b[0m\u001b[0mshape\u001b[0m\u001b[1;33m[\u001b[0m\u001b[1;36m0\u001b[0m\u001b[1;33m]\u001b[0m\u001b[1;33m)\u001b[0m \u001b[1;32mfor\u001b[0m \u001b[0mi\u001b[0m \u001b[1;32min\u001b[0m \u001b[0mnest\u001b[0m\u001b[1;33m.\u001b[0m\u001b[0mflatten\u001b[0m\u001b[1;33m(\u001b[0m\u001b[0minputs\u001b[0m\u001b[1;33m)\u001b[0m\u001b[1;33m)\u001b[0m\u001b[1;33m.\u001b[0m\u001b[0mpop\u001b[0m\u001b[1;33m(\u001b[0m\u001b[1;33m)\u001b[0m\u001b[1;33m\u001b[0m\u001b[1;33m\u001b[0m\u001b[0m\n\u001b[1;32m--> 258\u001b[1;33m     \u001b[0m_check_data_cardinality\u001b[0m\u001b[1;33m(\u001b[0m\u001b[0minputs\u001b[0m\u001b[1;33m)\u001b[0m\u001b[1;33m\u001b[0m\u001b[1;33m\u001b[0m\u001b[0m\n\u001b[0m\u001b[0;32m    259\u001b[0m \u001b[1;33m\u001b[0m\u001b[0m\n\u001b[0;32m    260\u001b[0m     \u001b[1;31m# If batch_size is not passed but steps is, calculate from the input data.\u001b[0m\u001b[1;33m\u001b[0m\u001b[1;33m\u001b[0m\u001b[1;33m\u001b[0m\u001b[0m\n",
      "\u001b[1;32m~\\Anaconda3\\lib\\site-packages\\tensorflow\\python\\keras\\engine\\data_adapter.py\u001b[0m in \u001b[0;36m_check_data_cardinality\u001b[1;34m(data)\u001b[0m\n\u001b[0;32m   1628\u001b[0m           label, \", \".join(str(i.shape[0]) for i in nest.flatten(single_data)))\n\u001b[0;32m   1629\u001b[0m     \u001b[0mmsg\u001b[0m \u001b[1;33m+=\u001b[0m \u001b[1;34m\"Make sure all arrays contain the same number of samples.\"\u001b[0m\u001b[1;33m\u001b[0m\u001b[1;33m\u001b[0m\u001b[0m\n\u001b[1;32m-> 1630\u001b[1;33m     \u001b[1;32mraise\u001b[0m \u001b[0mValueError\u001b[0m\u001b[1;33m(\u001b[0m\u001b[0mmsg\u001b[0m\u001b[1;33m)\u001b[0m\u001b[1;33m\u001b[0m\u001b[1;33m\u001b[0m\u001b[0m\n\u001b[0m\u001b[0;32m   1631\u001b[0m \u001b[1;33m\u001b[0m\u001b[0m\n\u001b[0;32m   1632\u001b[0m \u001b[1;33m\u001b[0m\u001b[0m\n",
      "\u001b[1;31mValueError\u001b[0m: Data cardinality is ambiguous:\n  x sizes: 30\n  y sizes: 7164\nMake sure all arrays contain the same number of samples."
     ]
    }
   ],
   "source": [
    "model = Sequential()\n",
    "model.add(Dense(32, input_dim=input_shape, kernel_initializer='uniform', activation='relu'))\n",
    "model.add(Dropout(0.2))\n",
    "model.add(Dense(64, activation='relu'))\n",
    "model.add(Dropout(0.5))\n",
    "model.add(Dense(128, activation='relu'))\n",
    "model.add(Dropout(0.7))\n",
    "model.add(Dense(1, activation='sigmoid'))\n",
    "\n",
    "\n",
    "\n",
    "model.compile(loss='binary_crossentropy',\n",
    "              optimizer='adam',\n",
    "              metrics=['accuracy'])\n",
    "\n",
    "\n",
    "model.fit(X_train, y_train,\n",
    "              epochs=25,\n",
    "          batch_size=24, class_weight={0:0.2, 1:0.8})"
   ]
  },
  {
   "cell_type": "code",
   "execution_count": null,
   "metadata": {},
   "outputs": [],
   "source": []
  },
  {
   "cell_type": "code",
   "execution_count": null,
   "metadata": {},
   "outputs": [],
   "source": []
  }
 ],
 "metadata": {
  "kernelspec": {
   "display_name": "Python 3 (ipykernel)",
   "language": "python",
   "name": "python3"
  },
  "language_info": {
   "codemirror_mode": {
    "name": "ipython",
    "version": 3
   },
   "file_extension": ".py",
   "mimetype": "text/x-python",
   "name": "python",
   "nbconvert_exporter": "python",
   "pygments_lexer": "ipython3",
   "version": "3.8.3"
  }
 },
 "nbformat": 4,
 "nbformat_minor": 4
}
