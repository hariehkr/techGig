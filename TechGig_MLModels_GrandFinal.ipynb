{
  "cells": [
    {
      "cell_type": "markdown",
      "metadata": {
        "id": "view-in-github",
        "colab_type": "text"
      },
      "source": [
        "<a href=\"https://colab.research.google.com/github/hariehkr/techGig/blob/main/TechGig_MLModels_GrandFinal.ipynb\" target=\"_parent\"><img src=\"https://colab.research.google.com/assets/colab-badge.svg\" alt=\"Open In Colab\"/></a>"
      ]
    },
    {
      "cell_type": "markdown",
      "metadata": {
        "id": "3Ff2NAgOlGWh"
      },
      "source": [
        "## Import Libraries"
      ]
    },
    {
      "cell_type": "code",
      "execution_count": 1,
      "metadata": {
        "id": "SxzBnyzylGWl"
      },
      "outputs": [],
      "source": [
        "import pandas as pd # Pandas for data manipulations\n",
        "import numpy as np  # Numpy for the computations\n",
        "import os\n",
        "from sklearn.metrics import accuracy_score,classification_report # For metrics\n",
        "from sklearn.metrics import make_scorer,recall_score,precision_score,f1_score\n",
        "from sklearn.model_selection import train_test_split             # For train and test splits\n",
        "from sklearn.model_selection import GridSearchCV                 # For GridSearch and K-fold cross validation\n",
        "from sklearn.impute import SimpleImputer                         # For Imputation\n",
        "\n",
        "import matplotlib.pyplot as plt # For visualizations\n",
        "import seaborn as sns           # For visualizations\n",
        "\n",
        "import warnings                   # For warnings\n",
        "warnings.filterwarnings('ignore') # Supress/Ignore warnings"
      ]
    },
    {
      "cell_type": "markdown",
      "metadata": {
        "id": "MwY2Lm5vlGWo"
      },
      "source": [
        "### Function for training the model"
      ]
    },
    {
      "cell_type": "code",
      "execution_count": 2,
      "metadata": {
        "id": "NOpWim64lGWo"
      },
      "outputs": [],
      "source": [
        "# Function for training the model\n",
        "def fn_train_model(model, \n",
        "                X_train, \n",
        "                y_train, \n",
        "                parameters = None, \n",
        "                k = 1):\n",
        "    if parameters == None:\n",
        "        model.fit(X_train, y_train) \n",
        "    else:\n",
        "        model_cv = GridSearchCV(model, \n",
        "                                param_grid = parameters, \n",
        "                                cv = k)\n",
        "        \n",
        "        model_cv.fit(X_train, y_train)\n",
        "        model = model_cv.best_estimator_\n",
        "        \n",
        "    return model"
      ]
    },
    {
      "cell_type": "code",
      "execution_count": 3,
      "metadata": {
        "id": "JhBuVVzflGWp"
      },
      "outputs": [],
      "source": [
        "# Function to generate classification metrics\n",
        "def fn_compute_model_metrics(model, model_name, \n",
        "                       X_train, y_train, X_test, y_test,\n",
        "                       parameters = None, k = 1):\n",
        "    \"\"\"\n",
        "    accuracy_score, precision_score, recall_score,f1_score     \n",
        "    \n",
        "    \"\"\"    \n",
        "    if parameters == None:\n",
        "        model.fit(X_train, y_train) \n",
        "    else:\n",
        "        model_cv = GridSearchCV(model, \n",
        "                                param_grid = parameters, \n",
        "                                cv = k)\n",
        "        \n",
        "        model_cv.fit(X_train, y_train)\n",
        "        model = model_cv.best_estimator_    \n",
        "  \n",
        "    metrics = {}\n",
        "    # train metrics\n",
        "    train_predictions = model.predict(X_train)\n",
        "    metrics['train_accuracy']    = round(accuracy_score(y_train, train_predictions),4)\n",
        "    metrics['train_precision']   = round(precision_score(y_train, train_predictions),4)\n",
        "    metrics['train_recall']      = round(recall_score(y_train, train_predictions),4)\n",
        "    metrics['train_f1_score']    = round(f1_score(y_train, train_predictions),4)\n",
        "    #metrics['train_model_score'] = round(base_lrc.score(X_train, y_train),4)\n",
        "    # test metrics\n",
        "    test_predictions  = model.predict(X_test)\n",
        "    metrics['test_accuracy']     = round(accuracy_score(y_test, test_predictions),4)\n",
        "    metrics['test_precision']    = round(precision_score(y_test, test_predictions),4)\n",
        "    metrics['test_recall']       = round(recall_score(y_test, test_predictions),4)\n",
        "    metrics['test_f1_score']     = round(f1_score(y_test, test_predictions),4)\n",
        "    #metrics['test_model_score']  = round(base_lrc.score(X_test, y_test),4)\n",
        "   \n",
        "    return pd.Series(metrics, name = model_name)"
      ]
    },
    {
      "cell_type": "markdown",
      "metadata": {
        "id": "q5puHIbllGWr"
      },
      "source": [
        "### # Function to generate classification metrics"
      ]
    },
    {
      "cell_type": "code",
      "execution_count": 4,
      "metadata": {
        "id": "80lyT36blGWs"
      },
      "outputs": [],
      "source": [
        "# Function to generate classification metrics\n",
        "def fn_compute_metrics(model,\n",
        "                       model_name,\n",
        "                       train_data, \n",
        "                       train_actuals,\n",
        "                       test_data,\n",
        "                       test_actuals):\n",
        "    \"\"\"\n",
        "    accuracy_score, precision_score, recall_score,f1_score \n",
        "    \n",
        "    \n",
        "    \"\"\"\n",
        "    metrics = {}\n",
        "    # train metrics\n",
        "    train_predictions = model.predict(train_data)\n",
        "    metrics['train_accuracy']    = accuracy_score(train_actuals, train_predictions)\n",
        "    metrics['train_precision']   = precision_score(train_actuals, train_predictions)\n",
        "    metrics['train_recall']      = recall_score(train_actuals, train_predictions)\n",
        "    metrics['train_f1_score']    = f1_score(train_actuals, train_predictions)\n",
        "\n",
        "    # test metrics\n",
        "    test_predictions  = model.predict(test_data)\n",
        "    metrics['test_accuracy']     = accuracy_score(test_actuals, test_predictions)\n",
        "    metrics['test_precision']    = precision_score(test_actuals, test_predictions)\n",
        "    metrics['test_recall']       = recall_score(test_actuals, test_predictions)\n",
        "    metrics['test_f1_score']     = f1_score(test_actuals, test_predictions)\n",
        "\n",
        "\n",
        "   \n",
        "    return pd.Series(metrics, name = model_name)"
      ]
    },
    {
      "cell_type": "code",
      "execution_count": 5,
      "metadata": {
        "id": "hNV04JiMlGWt"
      },
      "outputs": [],
      "source": [
        "# Function to generate classification metrics\n",
        "\n",
        "def fn_compute_metrics_train(model, \n",
        "                       data, \n",
        "                       actuals):\n",
        "    \n",
        "    predictions = model.predict(data)\n",
        "    print('\\nConfusion Matrix :')\n",
        "    print(confusion_matrix(actuals, predictions) ) \n",
        "    \n",
        "    print('\\nReport : ')\n",
        "    print(classification_report(actuals, predictions))\n",
        "    \n",
        "    fe_recall = recall_score(actuals, predictions, average = None)[0]\n",
        "    print('Recall score :', fe_recall)\n",
        "    \n",
        "    return fe_recall"
      ]
    },
    {
      "cell_type": "markdown",
      "metadata": {
        "id": "Q78BGEXdlGWu"
      },
      "source": [
        "### Train/Validation data reading"
      ]
    },
    {
      "cell_type": "code",
      "execution_count": 8,
      "metadata": {
        "id": "RLI0GGY8lGWw",
        "outputId": "6e852f7b-bc8a-4524-8712-f12455d30c5b",
        "colab": {
          "base_uri": "https://localhost:8080/",
          "height": 348
        }
      },
      "outputs": [
        {
          "output_type": "stream",
          "name": "stdout",
          "text": [
            "(8955, 31)\n"
          ]
        },
        {
          "output_type": "execute_result",
          "data": {
            "text/plain": [
              "       having_IP  URL_Length  Shortining_Service  having_At_Symbol  \\\n",
              "key                                                                  \n",
              "12344         -1           1                   1                 1   \n",
              "12345          1           1                   1                 1   \n",
              "12346          1           0                   1                 1   \n",
              "12347          1           0                   1                 1   \n",
              "12348          1           0                  -1                 1   \n",
              "\n",
              "       double_slash_redirecting  Prefix_Suffix  having_Sub_Domain  \\\n",
              "key                                                                 \n",
              "12344                        -1             -1                 -1   \n",
              "12345                         1             -1                  0   \n",
              "12346                         1             -1                 -1   \n",
              "12347                         1             -1                 -1   \n",
              "12348                         1             -1                  1   \n",
              "\n",
              "       SSLfinal_State  Domain_registeration_length  Favicon  ...  popUpWidnow  \\\n",
              "key                                                          ...                \n",
              "12344              -1                           -1        1  ...            1   \n",
              "12345               1                           -1        1  ...            1   \n",
              "12346              -1                           -1        1  ...            1   \n",
              "12347              -1                            1        1  ...            1   \n",
              "12348               1                           -1        1  ...           -1   \n",
              "\n",
              "       Iframe  age_of_domain  DNSRecord  web_traffic  Page_Rank  Google_Index  \\\n",
              "key                                                                             \n",
              "12344       1             -1         -1           -1         -1             1   \n",
              "12345       1             -1         -1            0         -1             1   \n",
              "12346       1              1         -1            1         -1             1   \n",
              "12347       1             -1         -1            1         -1             1   \n",
              "12348       1             -1         -1            0         -1             1   \n",
              "\n",
              "       Links_pointing_to_page  Statistical_report  Result  \n",
              "key                                                        \n",
              "12344                       1                  -1      -1  \n",
              "12345                       1                   1      -1  \n",
              "12346                       0                  -1      -1  \n",
              "12347                      -1                   1      -1  \n",
              "12348                       1                   1       1  \n",
              "\n",
              "[5 rows x 31 columns]"
            ],
            "text/html": [
              "\n",
              "  <div id=\"df-f80a7a9d-1819-4dbe-ac26-b555ce7536c4\">\n",
              "    <div class=\"colab-df-container\">\n",
              "      <div>\n",
              "<style scoped>\n",
              "    .dataframe tbody tr th:only-of-type {\n",
              "        vertical-align: middle;\n",
              "    }\n",
              "\n",
              "    .dataframe tbody tr th {\n",
              "        vertical-align: top;\n",
              "    }\n",
              "\n",
              "    .dataframe thead th {\n",
              "        text-align: right;\n",
              "    }\n",
              "</style>\n",
              "<table border=\"1\" class=\"dataframe\">\n",
              "  <thead>\n",
              "    <tr style=\"text-align: right;\">\n",
              "      <th></th>\n",
              "      <th>having_IP</th>\n",
              "      <th>URL_Length</th>\n",
              "      <th>Shortining_Service</th>\n",
              "      <th>having_At_Symbol</th>\n",
              "      <th>double_slash_redirecting</th>\n",
              "      <th>Prefix_Suffix</th>\n",
              "      <th>having_Sub_Domain</th>\n",
              "      <th>SSLfinal_State</th>\n",
              "      <th>Domain_registeration_length</th>\n",
              "      <th>Favicon</th>\n",
              "      <th>...</th>\n",
              "      <th>popUpWidnow</th>\n",
              "      <th>Iframe</th>\n",
              "      <th>age_of_domain</th>\n",
              "      <th>DNSRecord</th>\n",
              "      <th>web_traffic</th>\n",
              "      <th>Page_Rank</th>\n",
              "      <th>Google_Index</th>\n",
              "      <th>Links_pointing_to_page</th>\n",
              "      <th>Statistical_report</th>\n",
              "      <th>Result</th>\n",
              "    </tr>\n",
              "    <tr>\n",
              "      <th>key</th>\n",
              "      <th></th>\n",
              "      <th></th>\n",
              "      <th></th>\n",
              "      <th></th>\n",
              "      <th></th>\n",
              "      <th></th>\n",
              "      <th></th>\n",
              "      <th></th>\n",
              "      <th></th>\n",
              "      <th></th>\n",
              "      <th></th>\n",
              "      <th></th>\n",
              "      <th></th>\n",
              "      <th></th>\n",
              "      <th></th>\n",
              "      <th></th>\n",
              "      <th></th>\n",
              "      <th></th>\n",
              "      <th></th>\n",
              "      <th></th>\n",
              "      <th></th>\n",
              "    </tr>\n",
              "  </thead>\n",
              "  <tbody>\n",
              "    <tr>\n",
              "      <th>12344</th>\n",
              "      <td>-1</td>\n",
              "      <td>1</td>\n",
              "      <td>1</td>\n",
              "      <td>1</td>\n",
              "      <td>-1</td>\n",
              "      <td>-1</td>\n",
              "      <td>-1</td>\n",
              "      <td>-1</td>\n",
              "      <td>-1</td>\n",
              "      <td>1</td>\n",
              "      <td>...</td>\n",
              "      <td>1</td>\n",
              "      <td>1</td>\n",
              "      <td>-1</td>\n",
              "      <td>-1</td>\n",
              "      <td>-1</td>\n",
              "      <td>-1</td>\n",
              "      <td>1</td>\n",
              "      <td>1</td>\n",
              "      <td>-1</td>\n",
              "      <td>-1</td>\n",
              "    </tr>\n",
              "    <tr>\n",
              "      <th>12345</th>\n",
              "      <td>1</td>\n",
              "      <td>1</td>\n",
              "      <td>1</td>\n",
              "      <td>1</td>\n",
              "      <td>1</td>\n",
              "      <td>-1</td>\n",
              "      <td>0</td>\n",
              "      <td>1</td>\n",
              "      <td>-1</td>\n",
              "      <td>1</td>\n",
              "      <td>...</td>\n",
              "      <td>1</td>\n",
              "      <td>1</td>\n",
              "      <td>-1</td>\n",
              "      <td>-1</td>\n",
              "      <td>0</td>\n",
              "      <td>-1</td>\n",
              "      <td>1</td>\n",
              "      <td>1</td>\n",
              "      <td>1</td>\n",
              "      <td>-1</td>\n",
              "    </tr>\n",
              "    <tr>\n",
              "      <th>12346</th>\n",
              "      <td>1</td>\n",
              "      <td>0</td>\n",
              "      <td>1</td>\n",
              "      <td>1</td>\n",
              "      <td>1</td>\n",
              "      <td>-1</td>\n",
              "      <td>-1</td>\n",
              "      <td>-1</td>\n",
              "      <td>-1</td>\n",
              "      <td>1</td>\n",
              "      <td>...</td>\n",
              "      <td>1</td>\n",
              "      <td>1</td>\n",
              "      <td>1</td>\n",
              "      <td>-1</td>\n",
              "      <td>1</td>\n",
              "      <td>-1</td>\n",
              "      <td>1</td>\n",
              "      <td>0</td>\n",
              "      <td>-1</td>\n",
              "      <td>-1</td>\n",
              "    </tr>\n",
              "    <tr>\n",
              "      <th>12347</th>\n",
              "      <td>1</td>\n",
              "      <td>0</td>\n",
              "      <td>1</td>\n",
              "      <td>1</td>\n",
              "      <td>1</td>\n",
              "      <td>-1</td>\n",
              "      <td>-1</td>\n",
              "      <td>-1</td>\n",
              "      <td>1</td>\n",
              "      <td>1</td>\n",
              "      <td>...</td>\n",
              "      <td>1</td>\n",
              "      <td>1</td>\n",
              "      <td>-1</td>\n",
              "      <td>-1</td>\n",
              "      <td>1</td>\n",
              "      <td>-1</td>\n",
              "      <td>1</td>\n",
              "      <td>-1</td>\n",
              "      <td>1</td>\n",
              "      <td>-1</td>\n",
              "    </tr>\n",
              "    <tr>\n",
              "      <th>12348</th>\n",
              "      <td>1</td>\n",
              "      <td>0</td>\n",
              "      <td>-1</td>\n",
              "      <td>1</td>\n",
              "      <td>1</td>\n",
              "      <td>-1</td>\n",
              "      <td>1</td>\n",
              "      <td>1</td>\n",
              "      <td>-1</td>\n",
              "      <td>1</td>\n",
              "      <td>...</td>\n",
              "      <td>-1</td>\n",
              "      <td>1</td>\n",
              "      <td>-1</td>\n",
              "      <td>-1</td>\n",
              "      <td>0</td>\n",
              "      <td>-1</td>\n",
              "      <td>1</td>\n",
              "      <td>1</td>\n",
              "      <td>1</td>\n",
              "      <td>1</td>\n",
              "    </tr>\n",
              "  </tbody>\n",
              "</table>\n",
              "<p>5 rows × 31 columns</p>\n",
              "</div>\n",
              "      <button class=\"colab-df-convert\" onclick=\"convertToInteractive('df-f80a7a9d-1819-4dbe-ac26-b555ce7536c4')\"\n",
              "              title=\"Convert this dataframe to an interactive table.\"\n",
              "              style=\"display:none;\">\n",
              "        \n",
              "  <svg xmlns=\"http://www.w3.org/2000/svg\" height=\"24px\"viewBox=\"0 0 24 24\"\n",
              "       width=\"24px\">\n",
              "    <path d=\"M0 0h24v24H0V0z\" fill=\"none\"/>\n",
              "    <path d=\"M18.56 5.44l.94 2.06.94-2.06 2.06-.94-2.06-.94-.94-2.06-.94 2.06-2.06.94zm-11 1L8.5 8.5l.94-2.06 2.06-.94-2.06-.94L8.5 2.5l-.94 2.06-2.06.94zm10 10l.94 2.06.94-2.06 2.06-.94-2.06-.94-.94-2.06-.94 2.06-2.06.94z\"/><path d=\"M17.41 7.96l-1.37-1.37c-.4-.4-.92-.59-1.43-.59-.52 0-1.04.2-1.43.59L10.3 9.45l-7.72 7.72c-.78.78-.78 2.05 0 2.83L4 21.41c.39.39.9.59 1.41.59.51 0 1.02-.2 1.41-.59l7.78-7.78 2.81-2.81c.8-.78.8-2.07 0-2.86zM5.41 20L4 18.59l7.72-7.72 1.47 1.35L5.41 20z\"/>\n",
              "  </svg>\n",
              "      </button>\n",
              "      \n",
              "  <style>\n",
              "    .colab-df-container {\n",
              "      display:flex;\n",
              "      flex-wrap:wrap;\n",
              "      gap: 12px;\n",
              "    }\n",
              "\n",
              "    .colab-df-convert {\n",
              "      background-color: #E8F0FE;\n",
              "      border: none;\n",
              "      border-radius: 50%;\n",
              "      cursor: pointer;\n",
              "      display: none;\n",
              "      fill: #1967D2;\n",
              "      height: 32px;\n",
              "      padding: 0 0 0 0;\n",
              "      width: 32px;\n",
              "    }\n",
              "\n",
              "    .colab-df-convert:hover {\n",
              "      background-color: #E2EBFA;\n",
              "      box-shadow: 0px 1px 2px rgba(60, 64, 67, 0.3), 0px 1px 3px 1px rgba(60, 64, 67, 0.15);\n",
              "      fill: #174EA6;\n",
              "    }\n",
              "\n",
              "    [theme=dark] .colab-df-convert {\n",
              "      background-color: #3B4455;\n",
              "      fill: #D2E3FC;\n",
              "    }\n",
              "\n",
              "    [theme=dark] .colab-df-convert:hover {\n",
              "      background-color: #434B5C;\n",
              "      box-shadow: 0px 1px 3px 1px rgba(0, 0, 0, 0.15);\n",
              "      filter: drop-shadow(0px 1px 2px rgba(0, 0, 0, 0.3));\n",
              "      fill: #FFFFFF;\n",
              "    }\n",
              "  </style>\n",
              "\n",
              "      <script>\n",
              "        const buttonEl =\n",
              "          document.querySelector('#df-f80a7a9d-1819-4dbe-ac26-b555ce7536c4 button.colab-df-convert');\n",
              "        buttonEl.style.display =\n",
              "          google.colab.kernel.accessAllowed ? 'block' : 'none';\n",
              "\n",
              "        async function convertToInteractive(key) {\n",
              "          const element = document.querySelector('#df-f80a7a9d-1819-4dbe-ac26-b555ce7536c4');\n",
              "          const dataTable =\n",
              "            await google.colab.kernel.invokeFunction('convertToInteractive',\n",
              "                                                     [key], {});\n",
              "          if (!dataTable) return;\n",
              "\n",
              "          const docLinkHtml = 'Like what you see? Visit the ' +\n",
              "            '<a target=\"_blank\" href=https://colab.research.google.com/notebooks/data_table.ipynb>data table notebook</a>'\n",
              "            + ' to learn more about interactive tables.';\n",
              "          element.innerHTML = '';\n",
              "          dataTable['output_type'] = 'display_data';\n",
              "          await google.colab.output.renderOutput(dataTable, element);\n",
              "          const docLink = document.createElement('div');\n",
              "          docLink.innerHTML = docLinkHtml;\n",
              "          element.appendChild(docLink);\n",
              "        }\n",
              "      </script>\n",
              "    </div>\n",
              "  </div>\n",
              "  "
            ]
          },
          "metadata": {},
          "execution_count": 8
        }
      ],
      "source": [
        "df = pd.read_csv('https://raw.githubusercontent.com/hariehkr/techGig/main/data/Phising_Training_Dataset.csv')\n",
        "df.index=df['key']\n",
        "df.drop('key', inplace=True, axis=1)\n",
        "print(df.shape)\n",
        "df.head()"
      ]
    },
    {
      "cell_type": "code",
      "execution_count": 9,
      "metadata": {
        "id": "exRRW8W9lGWx",
        "outputId": "c0130910-f8d5-4607-f8c6-c6c6a7bf1bd2",
        "colab": {
          "base_uri": "https://localhost:8080/"
        }
      },
      "outputs": [
        {
          "output_type": "stream",
          "name": "stdout",
          "text": [
            "Number of duplicate rows:  3741  % of rows:  41.77554438860972\n"
          ]
        }
      ],
      "source": [
        "print(\"Number of duplicate rows: \", df[df.duplicated()].shape[0],\" % of rows: \",(df[df.duplicated()].shape[0]*100/df.shape[0])) "
      ]
    },
    {
      "cell_type": "code",
      "execution_count": 10,
      "metadata": {
        "id": "L9nCEyVSlGWz",
        "outputId": "83c20755-5dac-43bd-b756-d875d05dd5a8",
        "colab": {
          "base_uri": "https://localhost:8080/",
          "height": 254
        }
      },
      "outputs": [
        {
          "output_type": "stream",
          "name": "stdout",
          "text": [
            "(2100, 30)\n"
          ]
        },
        {
          "output_type": "execute_result",
          "data": {
            "text/plain": [
              "       having_IP  URL_Length  Shortining_Service  having_At_Symbol  \\\n",
              "key                                                                  \n",
              "21338          1           1                   1                 1   \n",
              "21339          1          -1                   1                 1   \n",
              "\n",
              "       double_slash_redirecting  Prefix_Suffix  having_Sub_Domain  \\\n",
              "key                                                                 \n",
              "21338                         1              1                 -1   \n",
              "21339                         1             -1                  0   \n",
              "\n",
              "       SSLfinal_State  Domain_registeration_length  Favicon  ...  RightClick  \\\n",
              "key                                                          ...               \n",
              "21338               1                           -1        1  ...           1   \n",
              "21339              -1                            1        1  ...           1   \n",
              "\n",
              "       popUpWidnow  Iframe  age_of_domain  DNSRecord  web_traffic  Page_Rank  \\\n",
              "key                                                                            \n",
              "21338            1       1              1          1            1          1   \n",
              "21339            1       1             -1         -1            0         -1   \n",
              "\n",
              "       Google_Index  Links_pointing_to_page  Statistical_report  \n",
              "key                                                              \n",
              "21338            -1                       0                   1  \n",
              "21339            -1                       0                   1  \n",
              "\n",
              "[2 rows x 30 columns]"
            ],
            "text/html": [
              "\n",
              "  <div id=\"df-0ef8bb52-ebf3-492e-9998-24e50cfd77f5\">\n",
              "    <div class=\"colab-df-container\">\n",
              "      <div>\n",
              "<style scoped>\n",
              "    .dataframe tbody tr th:only-of-type {\n",
              "        vertical-align: middle;\n",
              "    }\n",
              "\n",
              "    .dataframe tbody tr th {\n",
              "        vertical-align: top;\n",
              "    }\n",
              "\n",
              "    .dataframe thead th {\n",
              "        text-align: right;\n",
              "    }\n",
              "</style>\n",
              "<table border=\"1\" class=\"dataframe\">\n",
              "  <thead>\n",
              "    <tr style=\"text-align: right;\">\n",
              "      <th></th>\n",
              "      <th>having_IP</th>\n",
              "      <th>URL_Length</th>\n",
              "      <th>Shortining_Service</th>\n",
              "      <th>having_At_Symbol</th>\n",
              "      <th>double_slash_redirecting</th>\n",
              "      <th>Prefix_Suffix</th>\n",
              "      <th>having_Sub_Domain</th>\n",
              "      <th>SSLfinal_State</th>\n",
              "      <th>Domain_registeration_length</th>\n",
              "      <th>Favicon</th>\n",
              "      <th>...</th>\n",
              "      <th>RightClick</th>\n",
              "      <th>popUpWidnow</th>\n",
              "      <th>Iframe</th>\n",
              "      <th>age_of_domain</th>\n",
              "      <th>DNSRecord</th>\n",
              "      <th>web_traffic</th>\n",
              "      <th>Page_Rank</th>\n",
              "      <th>Google_Index</th>\n",
              "      <th>Links_pointing_to_page</th>\n",
              "      <th>Statistical_report</th>\n",
              "    </tr>\n",
              "    <tr>\n",
              "      <th>key</th>\n",
              "      <th></th>\n",
              "      <th></th>\n",
              "      <th></th>\n",
              "      <th></th>\n",
              "      <th></th>\n",
              "      <th></th>\n",
              "      <th></th>\n",
              "      <th></th>\n",
              "      <th></th>\n",
              "      <th></th>\n",
              "      <th></th>\n",
              "      <th></th>\n",
              "      <th></th>\n",
              "      <th></th>\n",
              "      <th></th>\n",
              "      <th></th>\n",
              "      <th></th>\n",
              "      <th></th>\n",
              "      <th></th>\n",
              "      <th></th>\n",
              "      <th></th>\n",
              "    </tr>\n",
              "  </thead>\n",
              "  <tbody>\n",
              "    <tr>\n",
              "      <th>21338</th>\n",
              "      <td>1</td>\n",
              "      <td>1</td>\n",
              "      <td>1</td>\n",
              "      <td>1</td>\n",
              "      <td>1</td>\n",
              "      <td>1</td>\n",
              "      <td>-1</td>\n",
              "      <td>1</td>\n",
              "      <td>-1</td>\n",
              "      <td>1</td>\n",
              "      <td>...</td>\n",
              "      <td>1</td>\n",
              "      <td>1</td>\n",
              "      <td>1</td>\n",
              "      <td>1</td>\n",
              "      <td>1</td>\n",
              "      <td>1</td>\n",
              "      <td>1</td>\n",
              "      <td>-1</td>\n",
              "      <td>0</td>\n",
              "      <td>1</td>\n",
              "    </tr>\n",
              "    <tr>\n",
              "      <th>21339</th>\n",
              "      <td>1</td>\n",
              "      <td>-1</td>\n",
              "      <td>1</td>\n",
              "      <td>1</td>\n",
              "      <td>1</td>\n",
              "      <td>-1</td>\n",
              "      <td>0</td>\n",
              "      <td>-1</td>\n",
              "      <td>1</td>\n",
              "      <td>1</td>\n",
              "      <td>...</td>\n",
              "      <td>1</td>\n",
              "      <td>1</td>\n",
              "      <td>1</td>\n",
              "      <td>-1</td>\n",
              "      <td>-1</td>\n",
              "      <td>0</td>\n",
              "      <td>-1</td>\n",
              "      <td>-1</td>\n",
              "      <td>0</td>\n",
              "      <td>1</td>\n",
              "    </tr>\n",
              "  </tbody>\n",
              "</table>\n",
              "<p>2 rows × 30 columns</p>\n",
              "</div>\n",
              "      <button class=\"colab-df-convert\" onclick=\"convertToInteractive('df-0ef8bb52-ebf3-492e-9998-24e50cfd77f5')\"\n",
              "              title=\"Convert this dataframe to an interactive table.\"\n",
              "              style=\"display:none;\">\n",
              "        \n",
              "  <svg xmlns=\"http://www.w3.org/2000/svg\" height=\"24px\"viewBox=\"0 0 24 24\"\n",
              "       width=\"24px\">\n",
              "    <path d=\"M0 0h24v24H0V0z\" fill=\"none\"/>\n",
              "    <path d=\"M18.56 5.44l.94 2.06.94-2.06 2.06-.94-2.06-.94-.94-2.06-.94 2.06-2.06.94zm-11 1L8.5 8.5l.94-2.06 2.06-.94-2.06-.94L8.5 2.5l-.94 2.06-2.06.94zm10 10l.94 2.06.94-2.06 2.06-.94-2.06-.94-.94-2.06-.94 2.06-2.06.94z\"/><path d=\"M17.41 7.96l-1.37-1.37c-.4-.4-.92-.59-1.43-.59-.52 0-1.04.2-1.43.59L10.3 9.45l-7.72 7.72c-.78.78-.78 2.05 0 2.83L4 21.41c.39.39.9.59 1.41.59.51 0 1.02-.2 1.41-.59l7.78-7.78 2.81-2.81c.8-.78.8-2.07 0-2.86zM5.41 20L4 18.59l7.72-7.72 1.47 1.35L5.41 20z\"/>\n",
              "  </svg>\n",
              "      </button>\n",
              "      \n",
              "  <style>\n",
              "    .colab-df-container {\n",
              "      display:flex;\n",
              "      flex-wrap:wrap;\n",
              "      gap: 12px;\n",
              "    }\n",
              "\n",
              "    .colab-df-convert {\n",
              "      background-color: #E8F0FE;\n",
              "      border: none;\n",
              "      border-radius: 50%;\n",
              "      cursor: pointer;\n",
              "      display: none;\n",
              "      fill: #1967D2;\n",
              "      height: 32px;\n",
              "      padding: 0 0 0 0;\n",
              "      width: 32px;\n",
              "    }\n",
              "\n",
              "    .colab-df-convert:hover {\n",
              "      background-color: #E2EBFA;\n",
              "      box-shadow: 0px 1px 2px rgba(60, 64, 67, 0.3), 0px 1px 3px 1px rgba(60, 64, 67, 0.15);\n",
              "      fill: #174EA6;\n",
              "    }\n",
              "\n",
              "    [theme=dark] .colab-df-convert {\n",
              "      background-color: #3B4455;\n",
              "      fill: #D2E3FC;\n",
              "    }\n",
              "\n",
              "    [theme=dark] .colab-df-convert:hover {\n",
              "      background-color: #434B5C;\n",
              "      box-shadow: 0px 1px 3px 1px rgba(0, 0, 0, 0.15);\n",
              "      filter: drop-shadow(0px 1px 2px rgba(0, 0, 0, 0.3));\n",
              "      fill: #FFFFFF;\n",
              "    }\n",
              "  </style>\n",
              "\n",
              "      <script>\n",
              "        const buttonEl =\n",
              "          document.querySelector('#df-0ef8bb52-ebf3-492e-9998-24e50cfd77f5 button.colab-df-convert');\n",
              "        buttonEl.style.display =\n",
              "          google.colab.kernel.accessAllowed ? 'block' : 'none';\n",
              "\n",
              "        async function convertToInteractive(key) {\n",
              "          const element = document.querySelector('#df-0ef8bb52-ebf3-492e-9998-24e50cfd77f5');\n",
              "          const dataTable =\n",
              "            await google.colab.kernel.invokeFunction('convertToInteractive',\n",
              "                                                     [key], {});\n",
              "          if (!dataTable) return;\n",
              "\n",
              "          const docLinkHtml = 'Like what you see? Visit the ' +\n",
              "            '<a target=\"_blank\" href=https://colab.research.google.com/notebooks/data_table.ipynb>data table notebook</a>'\n",
              "            + ' to learn more about interactive tables.';\n",
              "          element.innerHTML = '';\n",
              "          dataTable['output_type'] = 'display_data';\n",
              "          await google.colab.output.renderOutput(dataTable, element);\n",
              "          const docLink = document.createElement('div');\n",
              "          docLink.innerHTML = docLinkHtml;\n",
              "          element.appendChild(docLink);\n",
              "        }\n",
              "      </script>\n",
              "    </div>\n",
              "  </div>\n",
              "  "
            ]
          },
          "metadata": {},
          "execution_count": 10
        }
      ],
      "source": [
        "df_test = pd.read_csv('https://raw.githubusercontent.com/hariehkr/techGig/main/data/Phising_Testing_Dataset.csv')\n",
        "df_test.index=df_test['key']\n",
        "df_test.drop('key', inplace=True, axis=1)\n",
        "print(df_test.shape)\n",
        "df_test.head(2)"
      ]
    },
    {
      "cell_type": "code",
      "execution_count": 11,
      "metadata": {
        "id": "A-d8w3HMlGWz",
        "outputId": "d542c64a-552e-439c-9b48-bd8d17ebedea",
        "colab": {
          "base_uri": "https://localhost:8080/"
        }
      },
      "outputs": [
        {
          "output_type": "stream",
          "name": "stdout",
          "text": [
            "Number of duplicate rows:  409  % of rows:  19.476190476190474\n"
          ]
        }
      ],
      "source": [
        "print(\"Number of duplicate rows: \", df_test[df_test.duplicated()].shape[0],\" % of rows: \",(df_test[df_test.duplicated()].shape[0]*100/df_test.shape[0])) "
      ]
    },
    {
      "cell_type": "markdown",
      "source": [
        "## Identification Dominant Variable by using RandomForestClassifier\n",
        "Steps: <br>\n",
        "* Divide data into training and validation subsets\n",
        "* Convert target variable into categorical\n",
        "* Build RandomForestClassifier Model\n",
        "* Feature extraction and remove Dominant Variables"
      ],
      "metadata": {
        "id": "QdvolQy-mMEn"
      }
    },
    {
      "cell_type": "markdown",
      "source": [
        "## Divide data into training and validation subsets"
      ],
      "metadata": {
        "id": "z2peK6jJm2xQ"
      }
    },
    {
      "cell_type": "code",
      "source": [
        "# Divide data into training and validation subsets\n",
        "y = df['Result']\n",
        "X = df.drop(['Result'], axis=1)\n",
        "X_train, X_test, y_train, y_test = train_test_split(X, \n",
        "                                                    y, \n",
        "                                                    train_size=0.8, \n",
        "                                                    test_size=0.2,\n",
        "                                                    random_state=0)\n",
        "print('X_train dimensions: ', X_train.shape)\n",
        "print('y_train dimensions: ', y_train.shape)\n",
        "print('X_test dimensions:  ', X_test.shape)\n",
        "print('y_test dimensions:  ', y_test.shape)"
      ],
      "metadata": {
        "colab": {
          "base_uri": "https://localhost:8080/"
        },
        "id": "nVnJ55DGnJq-",
        "outputId": "6cdebb58-8c16-44ad-8233-6f95588645a9"
      },
      "execution_count": 13,
      "outputs": [
        {
          "output_type": "stream",
          "name": "stdout",
          "text": [
            "X_train dimensions:  (7164, 30)\n",
            "y_train dimensions:  (7164,)\n",
            "X_test dimensions:   (1791, 30)\n",
            "y_test dimensions:   (1791,)\n",
            "X_train dimensions:  (7164, 30)\n",
            "y_train dimensions:  (7164,)\n",
            "X_test dimensions:   (1791, 30)\n",
            "y_test dimensions:   (1791,)\n"
          ]
        }
      ]
    },
    {
      "cell_type": "code",
      "source": [
        "plot_data = y_train.to_frame()\n",
        "sns.countplot(x = 'Result', data=plot_data)\n",
        "df.Result.value_counts()"
      ],
      "metadata": {
        "colab": {
          "base_uri": "https://localhost:8080/",
          "height": 331
        },
        "id": "rRSlg1Y-nVfe",
        "outputId": "3efe9ea5-e1bf-4d5e-9f13-9c4625857f1a"
      },
      "execution_count": 15,
      "outputs": [
        {
          "output_type": "execute_result",
          "data": {
            "text/plain": [
              " 1    5034\n",
              "-1    3921\n",
              "Name: Result, dtype: int64"
            ]
          },
          "metadata": {},
          "execution_count": 15
        },
        {
          "output_type": "display_data",
          "data": {
            "text/plain": [
              "<Figure size 432x288 with 1 Axes>"
            ],
            "image/png": "[encoded data removed]"
          },
          "metadata": {
            "needs_background": "light"
          }
        }
      ]
    },
    {
      "cell_type": "markdown",
      "source": [
        "## Convert target variable into categorical\n",
        "y_train = y_train.astype('category')\n",
        "y_test = y_test.astype('category')"
      ],
      "metadata": {
        "id": "h7xOl2oAnCb-"
      }
    },
    {
      "cell_type": "markdown",
      "source": [
        "## Build RandomForestClassifier Model\n"
      ],
      "metadata": {
        "id": "x_zwe9ArnCoX"
      }
    },
    {
      "cell_type": "code",
      "source": [
        "from sklearn.ensemble import RandomForestClassifier\n",
        "\n",
        "rfc = RandomForestClassifier(n_jobs = -1,\n",
        "                             random_state = 1)"
      ],
      "metadata": {
        "id": "JXwmp7fPniHX"
      },
      "execution_count": 16,
      "outputs": []
    },
    {
      "cell_type": "code",
      "source": [
        "\n",
        "parameters = {\n",
        "    \"n_estimators\" : [150],\n",
        "    \"min_samples_leaf\" : [3],\n",
        "    \"max_features\": [0.5],\n",
        "    \"class_weight\" : ['balanced_subsample']}\n",
        "\n",
        "final_rfc_model = fn_train_model(rfc,\n",
        "                          X_train,\n",
        "                          y_train,\n",
        "                          parameters, k = 10)\n",
        "\n",
        "\n",
        "final_rfc_model_metrics = fn_compute_metrics(final_rfc_model,\n",
        "                                      'Final_rfc_model',\n",
        "                                       X_train,\n",
        "                                       y_train,\n",
        "                                       X_test,\n",
        "                                       y_test)\n",
        "\n",
        "print(final_rfc_model)\n",
        "print(final_rfc_model_metrics)"
      ],
      "metadata": {
        "colab": {
          "base_uri": "https://localhost:8080/"
        },
        "id": "zsOAdtXBnpin",
        "outputId": "0b28d324-5b6a-46cd-ef6a-ebddd2b1194a"
      },
      "execution_count": 17,
      "outputs": [
        {
          "output_type": "stream",
          "name": "stdout",
          "text": [
            "RandomForestClassifier(class_weight='balanced_subsample', max_features=0.5,\n",
            "                       min_samples_leaf=3, n_estimators=150, n_jobs=-1,\n",
            "                       random_state=1)\n",
            "train_accuracy     0.974456\n",
            "train_precision    0.980563\n",
            "train_recall       0.974010\n",
            "train_f1_score     0.977276\n",
            "test_accuracy      0.951982\n",
            "test_precision     0.957661\n",
            "test_recall        0.955734\n",
            "test_f1_score      0.956697\n",
            "Name: Final_rfc_model, dtype: float64\n"
          ]
        }
      ]
    },
    {
      "cell_type": "markdown",
      "source": [
        "## Feature extraction and remove Dominant Variables"
      ],
      "metadata": {
        "id": "WJe-6OBYnHX3"
      }
    },
    {
      "cell_type": "code",
      "source": [
        "feature_names = list(X_train.columns)\n",
        "plt.figure(figsize=(5,3))\n",
        "d = pd.DataFrame([feature_names,final_rfc_model.feature_importances_]).T\n",
        "d = d.sort_values([1],ascending=False)[0:10]\n",
        "sns.barplot(d[1],d[0])"
      ],
      "metadata": {
        "colab": {
          "base_uri": "https://localhost:8080/",
          "height": 242
        },
        "id": "Sj-EZzsono3P",
        "outputId": "cf5514b0-73b9-4fe1-f0f1-3774a5b7cff9"
      },
      "execution_count": 19,
      "outputs": [
        {
          "output_type": "execute_result",
          "data": {
            "text/plain": [
              "<matplotlib.axes._subplots.AxesSubplot at 0x7fc030044910>"
            ]
          },
          "metadata": {},
          "execution_count": 19
        },
        {
          "output_type": "display_data",
          "data": {
            "text/plain": [
              "<Figure size 360x216 with 1 Axes>"
            ],
            "image/png": "[encoded data removed]"
          },
          "metadata": {
            "needs_background": "light"
          }
        }
      ]
    },
    {
      "cell_type": "code",
      "source": [
        "d.columns=[\"variable\", \"percantage (%)\"]\n",
        "d[\"percantage (%)\"] = d[\"percantage (%)\"] * 100\n",
        "d"
      ],
      "metadata": {
        "colab": {
          "base_uri": "https://localhost:8080/",
          "height": 363
        },
        "id": "_ivbAS0knBa3",
        "outputId": "5b8c647e-b8b8-44b9-d994-56d0229c3e7e"
      },
      "execution_count": 20,
      "outputs": [
        {
          "output_type": "execute_result",
          "data": {
            "text/plain": [
              "                  variable percantage (%)\n",
              "7           SSLfinal_State       46.22681\n",
              "13           URL_of_Anchor      24.352271\n",
              "25             web_traffic       7.140135\n",
              "6        having_Sub_Domain       4.334826\n",
              "14           Links_in_tags       3.526651\n",
              "5            Prefix_Suffix       3.077751\n",
              "28  Links_pointing_to_page       1.486912\n",
              "15                     SFH       1.195586\n",
              "12             Request_URL       1.038621\n",
              "23           age_of_domain       1.029141"
            ],
            "text/html": [
              "\n",
              "  <div id=\"df-5fcea4f1-7a48-48c4-a11f-4d3651500fc4\">\n",
              "    <div class=\"colab-df-container\">\n",
              "      <div>\n",
              "<style scoped>\n",
              "    .dataframe tbody tr th:only-of-type {\n",
              "        vertical-align: middle;\n",
              "    }\n",
              "\n",
              "    .dataframe tbody tr th {\n",
              "        vertical-align: top;\n",
              "    }\n",
              "\n",
              "    .dataframe thead th {\n",
              "        text-align: right;\n",
              "    }\n",
              "</style>\n",
              "<table border=\"1\" class=\"dataframe\">\n",
              "  <thead>\n",
              "    <tr style=\"text-align: right;\">\n",
              "      <th></th>\n",
              "      <th>variable</th>\n",
              "      <th>percantage (%)</th>\n",
              "    </tr>\n",
              "  </thead>\n",
              "  <tbody>\n",
              "    <tr>\n",
              "      <th>7</th>\n",
              "      <td>SSLfinal_State</td>\n",
              "      <td>46.22681</td>\n",
              "    </tr>\n",
              "    <tr>\n",
              "      <th>13</th>\n",
              "      <td>URL_of_Anchor</td>\n",
              "      <td>24.352271</td>\n",
              "    </tr>\n",
              "    <tr>\n",
              "      <th>25</th>\n",
              "      <td>web_traffic</td>\n",
              "      <td>7.140135</td>\n",
              "    </tr>\n",
              "    <tr>\n",
              "      <th>6</th>\n",
              "      <td>having_Sub_Domain</td>\n",
              "      <td>4.334826</td>\n",
              "    </tr>\n",
              "    <tr>\n",
              "      <th>14</th>\n",
              "      <td>Links_in_tags</td>\n",
              "      <td>3.526651</td>\n",
              "    </tr>\n",
              "    <tr>\n",
              "      <th>5</th>\n",
              "      <td>Prefix_Suffix</td>\n",
              "      <td>3.077751</td>\n",
              "    </tr>\n",
              "    <tr>\n",
              "      <th>28</th>\n",
              "      <td>Links_pointing_to_page</td>\n",
              "      <td>1.486912</td>\n",
              "    </tr>\n",
              "    <tr>\n",
              "      <th>15</th>\n",
              "      <td>SFH</td>\n",
              "      <td>1.195586</td>\n",
              "    </tr>\n",
              "    <tr>\n",
              "      <th>12</th>\n",
              "      <td>Request_URL</td>\n",
              "      <td>1.038621</td>\n",
              "    </tr>\n",
              "    <tr>\n",
              "      <th>23</th>\n",
              "      <td>age_of_domain</td>\n",
              "      <td>1.029141</td>\n",
              "    </tr>\n",
              "  </tbody>\n",
              "</table>\n",
              "</div>\n",
              "      <button class=\"colab-df-convert\" onclick=\"convertToInteractive('df-5fcea4f1-7a48-48c4-a11f-4d3651500fc4')\"\n",
              "              title=\"Convert this dataframe to an interactive table.\"\n",
              "              style=\"display:none;\">\n",
              "        \n",
              "  <svg xmlns=\"http://www.w3.org/2000/svg\" height=\"24px\"viewBox=\"0 0 24 24\"\n",
              "       width=\"24px\">\n",
              "    <path d=\"M0 0h24v24H0V0z\" fill=\"none\"/>\n",
              "    <path d=\"M18.56 5.44l.94 2.06.94-2.06 2.06-.94-2.06-.94-.94-2.06-.94 2.06-2.06.94zm-11 1L8.5 8.5l.94-2.06 2.06-.94-2.06-.94L8.5 2.5l-.94 2.06-2.06.94zm10 10l.94 2.06.94-2.06 2.06-.94-2.06-.94-.94-2.06-.94 2.06-2.06.94z\"/><path d=\"M17.41 7.96l-1.37-1.37c-.4-.4-.92-.59-1.43-.59-.52 0-1.04.2-1.43.59L10.3 9.45l-7.72 7.72c-.78.78-.78 2.05 0 2.83L4 21.41c.39.39.9.59 1.41.59.51 0 1.02-.2 1.41-.59l7.78-7.78 2.81-2.81c.8-.78.8-2.07 0-2.86zM5.41 20L4 18.59l7.72-7.72 1.47 1.35L5.41 20z\"/>\n",
              "  </svg>\n",
              "      </button>\n",
              "      \n",
              "  <style>\n",
              "    .colab-df-container {\n",
              "      display:flex;\n",
              "      flex-wrap:wrap;\n",
              "      gap: 12px;\n",
              "    }\n",
              "\n",
              "    .colab-df-convert {\n",
              "      background-color: #E8F0FE;\n",
              "      border: none;\n",
              "      border-radius: 50%;\n",
              "      cursor: pointer;\n",
              "      display: none;\n",
              "      fill: #1967D2;\n",
              "      height: 32px;\n",
              "      padding: 0 0 0 0;\n",
              "      width: 32px;\n",
              "    }\n",
              "\n",
              "    .colab-df-convert:hover {\n",
              "      background-color: #E2EBFA;\n",
              "      box-shadow: 0px 1px 2px rgba(60, 64, 67, 0.3), 0px 1px 3px 1px rgba(60, 64, 67, 0.15);\n",
              "      fill: #174EA6;\n",
              "    }\n",
              "\n",
              "    [theme=dark] .colab-df-convert {\n",
              "      background-color: #3B4455;\n",
              "      fill: #D2E3FC;\n",
              "    }\n",
              "\n",
              "    [theme=dark] .colab-df-convert:hover {\n",
              "      background-color: #434B5C;\n",
              "      box-shadow: 0px 1px 3px 1px rgba(0, 0, 0, 0.15);\n",
              "      filter: drop-shadow(0px 1px 2px rgba(0, 0, 0, 0.3));\n",
              "      fill: #FFFFFF;\n",
              "    }\n",
              "  </style>\n",
              "\n",
              "      <script>\n",
              "        const buttonEl =\n",
              "          document.querySelector('#df-5fcea4f1-7a48-48c4-a11f-4d3651500fc4 button.colab-df-convert');\n",
              "        buttonEl.style.display =\n",
              "          google.colab.kernel.accessAllowed ? 'block' : 'none';\n",
              "\n",
              "        async function convertToInteractive(key) {\n",
              "          const element = document.querySelector('#df-5fcea4f1-7a48-48c4-a11f-4d3651500fc4');\n",
              "          const dataTable =\n",
              "            await google.colab.kernel.invokeFunction('convertToInteractive',\n",
              "                                                     [key], {});\n",
              "          if (!dataTable) return;\n",
              "\n",
              "          const docLinkHtml = 'Like what you see? Visit the ' +\n",
              "            '<a target=\"_blank\" href=https://colab.research.google.com/notebooks/data_table.ipynb>data table notebook</a>'\n",
              "            + ' to learn more about interactive tables.';\n",
              "          element.innerHTML = '';\n",
              "          dataTable['output_type'] = 'display_data';\n",
              "          await google.colab.output.renderOutput(dataTable, element);\n",
              "          const docLink = document.createElement('div');\n",
              "          docLink.innerHTML = docLinkHtml;\n",
              "          element.appendChild(docLink);\n",
              "        }\n",
              "      </script>\n",
              "    </div>\n",
              "  </div>\n",
              "  "
            ]
          },
          "metadata": {},
          "execution_count": 20
        }
      ]
    },
    {
      "cell_type": "markdown",
      "metadata": {
        "id": "BHK79HMplGWz"
      },
      "source": [
        "# Dominant Variables\n",
        "## Remove \n",
        "* 'URL_of_Anchor' \n",
        "* 'SSLfinal_State'\n",
        "* 'RightClick' also removed due to zero covariance"
      ]
    },
    {
      "cell_type": "code",
      "execution_count": 21,
      "metadata": {
        "id": "LkKfQ6f6lGW0"
      },
      "outputs": [],
      "source": [
        "dropCol=['URL_of_Anchor', 'SSLfinal_State','RightClick']#,'Favicon', 'Iframe', 'Redirect','port',  \n",
        "#'double_slash_redirecting', 'on_mouseover',  'Statistical_report','HTTPS_token','having_At_Symbol']\n",
        "df_train=df.copy()\n",
        "df_train.drop(columns=dropCol,inplace=True)"
      ]
    },
    {
      "cell_type": "code",
      "execution_count": 22,
      "metadata": {
        "id": "FQ8mkH6clGW0",
        "outputId": "03c89f48-a9e7-4288-8fdf-437cb77ad773",
        "colab": {
          "base_uri": "https://localhost:8080/",
          "height": 348
        }
      },
      "outputs": [
        {
          "output_type": "stream",
          "name": "stdout",
          "text": [
            "(8955, 28)\n"
          ]
        },
        {
          "output_type": "execute_result",
          "data": {
            "text/plain": [
              "       having_IP  URL_Length  Shortining_Service  having_At_Symbol  \\\n",
              "key                                                                  \n",
              "12344         -1           1                   1                 1   \n",
              "12345          1           1                   1                 1   \n",
              "12346          1           0                   1                 1   \n",
              "12347          1           0                   1                 1   \n",
              "12348          1           0                  -1                 1   \n",
              "\n",
              "       double_slash_redirecting  Prefix_Suffix  having_Sub_Domain  \\\n",
              "key                                                                 \n",
              "12344                        -1             -1                 -1   \n",
              "12345                         1             -1                  0   \n",
              "12346                         1             -1                 -1   \n",
              "12347                         1             -1                 -1   \n",
              "12348                         1             -1                  1   \n",
              "\n",
              "       Domain_registeration_length  Favicon  port  ...  popUpWidnow  Iframe  \\\n",
              "key                                                ...                        \n",
              "12344                           -1        1     1  ...            1       1   \n",
              "12345                           -1        1     1  ...            1       1   \n",
              "12346                           -1        1     1  ...            1       1   \n",
              "12347                            1        1     1  ...            1       1   \n",
              "12348                           -1        1     1  ...           -1       1   \n",
              "\n",
              "       age_of_domain  DNSRecord  web_traffic  Page_Rank  Google_Index  \\\n",
              "key                                                                     \n",
              "12344             -1         -1           -1         -1             1   \n",
              "12345             -1         -1            0         -1             1   \n",
              "12346              1         -1            1         -1             1   \n",
              "12347             -1         -1            1         -1             1   \n",
              "12348             -1         -1            0         -1             1   \n",
              "\n",
              "       Links_pointing_to_page  Statistical_report  Result  \n",
              "key                                                        \n",
              "12344                       1                  -1      -1  \n",
              "12345                       1                   1      -1  \n",
              "12346                       0                  -1      -1  \n",
              "12347                      -1                   1      -1  \n",
              "12348                       1                   1       1  \n",
              "\n",
              "[5 rows x 28 columns]"
            ],
            "text/html": [
              "\n",
              "  <div id=\"df-2027977c-b7d9-42ca-95ef-7ad996bec18e\">\n",
              "    <div class=\"colab-df-container\">\n",
              "      <div>\n",
              "<style scoped>\n",
              "    .dataframe tbody tr th:only-of-type {\n",
              "        vertical-align: middle;\n",
              "    }\n",
              "\n",
              "    .dataframe tbody tr th {\n",
              "        vertical-align: top;\n",
              "    }\n",
              "\n",
              "    .dataframe thead th {\n",
              "        text-align: right;\n",
              "    }\n",
              "</style>\n",
              "<table border=\"1\" class=\"dataframe\">\n",
              "  <thead>\n",
              "    <tr style=\"text-align: right;\">\n",
              "      <th></th>\n",
              "      <th>having_IP</th>\n",
              "      <th>URL_Length</th>\n",
              "      <th>Shortining_Service</th>\n",
              "      <th>having_At_Symbol</th>\n",
              "      <th>double_slash_redirecting</th>\n",
              "      <th>Prefix_Suffix</th>\n",
              "      <th>having_Sub_Domain</th>\n",
              "      <th>Domain_registeration_length</th>\n",
              "      <th>Favicon</th>\n",
              "      <th>port</th>\n",
              "      <th>...</th>\n",
              "      <th>popUpWidnow</th>\n",
              "      <th>Iframe</th>\n",
              "      <th>age_of_domain</th>\n",
              "      <th>DNSRecord</th>\n",
              "      <th>web_traffic</th>\n",
              "      <th>Page_Rank</th>\n",
              "      <th>Google_Index</th>\n",
              "      <th>Links_pointing_to_page</th>\n",
              "      <th>Statistical_report</th>\n",
              "      <th>Result</th>\n",
              "    </tr>\n",
              "    <tr>\n",
              "      <th>key</th>\n",
              "      <th></th>\n",
              "      <th></th>\n",
              "      <th></th>\n",
              "      <th></th>\n",
              "      <th></th>\n",
              "      <th></th>\n",
              "      <th></th>\n",
              "      <th></th>\n",
              "      <th></th>\n",
              "      <th></th>\n",
              "      <th></th>\n",
              "      <th></th>\n",
              "      <th></th>\n",
              "      <th></th>\n",
              "      <th></th>\n",
              "      <th></th>\n",
              "      <th></th>\n",
              "      <th></th>\n",
              "      <th></th>\n",
              "      <th></th>\n",
              "      <th></th>\n",
              "    </tr>\n",
              "  </thead>\n",
              "  <tbody>\n",
              "    <tr>\n",
              "      <th>12344</th>\n",
              "      <td>-1</td>\n",
              "      <td>1</td>\n",
              "      <td>1</td>\n",
              "      <td>1</td>\n",
              "      <td>-1</td>\n",
              "      <td>-1</td>\n",
              "      <td>-1</td>\n",
              "      <td>-1</td>\n",
              "      <td>1</td>\n",
              "      <td>1</td>\n",
              "      <td>...</td>\n",
              "      <td>1</td>\n",
              "      <td>1</td>\n",
              "      <td>-1</td>\n",
              "      <td>-1</td>\n",
              "      <td>-1</td>\n",
              "      <td>-1</td>\n",
              "      <td>1</td>\n",
              "      <td>1</td>\n",
              "      <td>-1</td>\n",
              "      <td>-1</td>\n",
              "    </tr>\n",
              "    <tr>\n",
              "      <th>12345</th>\n",
              "      <td>1</td>\n",
              "      <td>1</td>\n",
              "      <td>1</td>\n",
              "      <td>1</td>\n",
              "      <td>1</td>\n",
              "      <td>-1</td>\n",
              "      <td>0</td>\n",
              "      <td>-1</td>\n",
              "      <td>1</td>\n",
              "      <td>1</td>\n",
              "      <td>...</td>\n",
              "      <td>1</td>\n",
              "      <td>1</td>\n",
              "      <td>-1</td>\n",
              "      <td>-1</td>\n",
              "      <td>0</td>\n",
              "      <td>-1</td>\n",
              "      <td>1</td>\n",
              "      <td>1</td>\n",
              "      <td>1</td>\n",
              "      <td>-1</td>\n",
              "    </tr>\n",
              "    <tr>\n",
              "      <th>12346</th>\n",
              "      <td>1</td>\n",
              "      <td>0</td>\n",
              "      <td>1</td>\n",
              "      <td>1</td>\n",
              "      <td>1</td>\n",
              "      <td>-1</td>\n",
              "      <td>-1</td>\n",
              "      <td>-1</td>\n",
              "      <td>1</td>\n",
              "      <td>1</td>\n",
              "      <td>...</td>\n",
              "      <td>1</td>\n",
              "      <td>1</td>\n",
              "      <td>1</td>\n",
              "      <td>-1</td>\n",
              "      <td>1</td>\n",
              "      <td>-1</td>\n",
              "      <td>1</td>\n",
              "      <td>0</td>\n",
              "      <td>-1</td>\n",
              "      <td>-1</td>\n",
              "    </tr>\n",
              "    <tr>\n",
              "      <th>12347</th>\n",
              "      <td>1</td>\n",
              "      <td>0</td>\n",
              "      <td>1</td>\n",
              "      <td>1</td>\n",
              "      <td>1</td>\n",
              "      <td>-1</td>\n",
              "      <td>-1</td>\n",
              "      <td>1</td>\n",
              "      <td>1</td>\n",
              "      <td>1</td>\n",
              "      <td>...</td>\n",
              "      <td>1</td>\n",
              "      <td>1</td>\n",
              "      <td>-1</td>\n",
              "      <td>-1</td>\n",
              "      <td>1</td>\n",
              "      <td>-1</td>\n",
              "      <td>1</td>\n",
              "      <td>-1</td>\n",
              "      <td>1</td>\n",
              "      <td>-1</td>\n",
              "    </tr>\n",
              "    <tr>\n",
              "      <th>12348</th>\n",
              "      <td>1</td>\n",
              "      <td>0</td>\n",
              "      <td>-1</td>\n",
              "      <td>1</td>\n",
              "      <td>1</td>\n",
              "      <td>-1</td>\n",
              "      <td>1</td>\n",
              "      <td>-1</td>\n",
              "      <td>1</td>\n",
              "      <td>1</td>\n",
              "      <td>...</td>\n",
              "      <td>-1</td>\n",
              "      <td>1</td>\n",
              "      <td>-1</td>\n",
              "      <td>-1</td>\n",
              "      <td>0</td>\n",
              "      <td>-1</td>\n",
              "      <td>1</td>\n",
              "      <td>1</td>\n",
              "      <td>1</td>\n",
              "      <td>1</td>\n",
              "    </tr>\n",
              "  </tbody>\n",
              "</table>\n",
              "<p>5 rows × 28 columns</p>\n",
              "</div>\n",
              "      <button class=\"colab-df-convert\" onclick=\"convertToInteractive('df-2027977c-b7d9-42ca-95ef-7ad996bec18e')\"\n",
              "              title=\"Convert this dataframe to an interactive table.\"\n",
              "              style=\"display:none;\">\n",
              "        \n",
              "  <svg xmlns=\"http://www.w3.org/2000/svg\" height=\"24px\"viewBox=\"0 0 24 24\"\n",
              "       width=\"24px\">\n",
              "    <path d=\"M0 0h24v24H0V0z\" fill=\"none\"/>\n",
              "    <path d=\"M18.56 5.44l.94 2.06.94-2.06 2.06-.94-2.06-.94-.94-2.06-.94 2.06-2.06.94zm-11 1L8.5 8.5l.94-2.06 2.06-.94-2.06-.94L8.5 2.5l-.94 2.06-2.06.94zm10 10l.94 2.06.94-2.06 2.06-.94-2.06-.94-.94-2.06-.94 2.06-2.06.94z\"/><path d=\"M17.41 7.96l-1.37-1.37c-.4-.4-.92-.59-1.43-.59-.52 0-1.04.2-1.43.59L10.3 9.45l-7.72 7.72c-.78.78-.78 2.05 0 2.83L4 21.41c.39.39.9.59 1.41.59.51 0 1.02-.2 1.41-.59l7.78-7.78 2.81-2.81c.8-.78.8-2.07 0-2.86zM5.41 20L4 18.59l7.72-7.72 1.47 1.35L5.41 20z\"/>\n",
              "  </svg>\n",
              "      </button>\n",
              "      \n",
              "  <style>\n",
              "    .colab-df-container {\n",
              "      display:flex;\n",
              "      flex-wrap:wrap;\n",
              "      gap: 12px;\n",
              "    }\n",
              "\n",
              "    .colab-df-convert {\n",
              "      background-color: #E8F0FE;\n",
              "      border: none;\n",
              "      border-radius: 50%;\n",
              "      cursor: pointer;\n",
              "      display: none;\n",
              "      fill: #1967D2;\n",
              "      height: 32px;\n",
              "      padding: 0 0 0 0;\n",
              "      width: 32px;\n",
              "    }\n",
              "\n",
              "    .colab-df-convert:hover {\n",
              "      background-color: #E2EBFA;\n",
              "      box-shadow: 0px 1px 2px rgba(60, 64, 67, 0.3), 0px 1px 3px 1px rgba(60, 64, 67, 0.15);\n",
              "      fill: #174EA6;\n",
              "    }\n",
              "\n",
              "    [theme=dark] .colab-df-convert {\n",
              "      background-color: #3B4455;\n",
              "      fill: #D2E3FC;\n",
              "    }\n",
              "\n",
              "    [theme=dark] .colab-df-convert:hover {\n",
              "      background-color: #434B5C;\n",
              "      box-shadow: 0px 1px 3px 1px rgba(0, 0, 0, 0.15);\n",
              "      filter: drop-shadow(0px 1px 2px rgba(0, 0, 0, 0.3));\n",
              "      fill: #FFFFFF;\n",
              "    }\n",
              "  </style>\n",
              "\n",
              "      <script>\n",
              "        const buttonEl =\n",
              "          document.querySelector('#df-2027977c-b7d9-42ca-95ef-7ad996bec18e button.colab-df-convert');\n",
              "        buttonEl.style.display =\n",
              "          google.colab.kernel.accessAllowed ? 'block' : 'none';\n",
              "\n",
              "        async function convertToInteractive(key) {\n",
              "          const element = document.querySelector('#df-2027977c-b7d9-42ca-95ef-7ad996bec18e');\n",
              "          const dataTable =\n",
              "            await google.colab.kernel.invokeFunction('convertToInteractive',\n",
              "                                                     [key], {});\n",
              "          if (!dataTable) return;\n",
              "\n",
              "          const docLinkHtml = 'Like what you see? Visit the ' +\n",
              "            '<a target=\"_blank\" href=https://colab.research.google.com/notebooks/data_table.ipynb>data table notebook</a>'\n",
              "            + ' to learn more about interactive tables.';\n",
              "          element.innerHTML = '';\n",
              "          dataTable['output_type'] = 'display_data';\n",
              "          await google.colab.output.renderOutput(dataTable, element);\n",
              "          const docLink = document.createElement('div');\n",
              "          docLink.innerHTML = docLinkHtml;\n",
              "          element.appendChild(docLink);\n",
              "        }\n",
              "      </script>\n",
              "    </div>\n",
              "  </div>\n",
              "  "
            ]
          },
          "metadata": {},
          "execution_count": 22
        }
      ],
      "source": [
        "print(df_train.shape)\n",
        "df_train.head()"
      ]
    },
    {
      "cell_type": "markdown",
      "metadata": {
        "id": "WLdEqDA3lGW1"
      },
      "source": [
        "### Divide data into training and validation subsets"
      ]
    },
    {
      "cell_type": "code",
      "execution_count": 23,
      "metadata": {
        "id": "L5NYdpZalGW1"
      },
      "outputs": [],
      "source": [
        "# Divide data into training and validation subsets\n",
        "y = df_train['Result']\n",
        "X = df_train.drop(['Result'], axis=1)\n",
        "X_train, X_test, y_train, y_test = train_test_split(X, \n",
        "                                                    y, \n",
        "                                                    train_size=0.8, \n",
        "                                                    test_size=0.2,\n",
        "                                                    random_state=0)"
      ]
    },
    {
      "cell_type": "code",
      "execution_count": 24,
      "metadata": {
        "id": "vjexBiqjlGW2",
        "outputId": "c3457ef6-93a4-4fb0-acb5-37232f54c9ec",
        "colab": {
          "base_uri": "https://localhost:8080/"
        }
      },
      "outputs": [
        {
          "output_type": "stream",
          "name": "stdout",
          "text": [
            "X_train_all dimensions:  (8955, 27)\n",
            "y_train_all dimensions:  (8955,)\n"
          ]
        }
      ],
      "source": [
        "# Divide data into training and validation subsets\n",
        "y_train_all= df_train['Result']\n",
        "X_train_all = df_train.drop(['Result'], axis=1)\n",
        "y_train_all = y_train_all.astype('category')\n",
        "print('X_train_all dimensions: ', X_train_all.shape)\n",
        "print('y_train_all dimensions: ', y_train_all.shape)"
      ]
    },
    {
      "cell_type": "code",
      "execution_count": 25,
      "metadata": {
        "id": "3AiqG_yflGW2"
      },
      "outputs": [],
      "source": [
        "y_train = y_train.astype('category')\n",
        "y_test = y_test.astype('category')"
      ]
    },
    {
      "cell_type": "code",
      "execution_count": null,
      "metadata": {
        "id": "94WdkD-mlGW2",
        "outputId": "a7d0f34e-df7f-40a0-8431-faa2d11fdff5"
      },
      "outputs": [
        {
          "name": "stdout",
          "output_type": "stream",
          "text": [
            "X_train dimensions:  (7164, 27)\n",
            "y_train dimensions:  (7164,)\n",
            "X_test dimensions:   (1791, 27)\n",
            "y_test dimensions:   (1791,)\n"
          ]
        }
      ],
      "source": [
        "print('X_train dimensions: ', X_train.shape)\n",
        "print('y_train dimensions: ', y_train.shape)\n",
        "print('X_test dimensions:  ', X_test.shape)\n",
        "print('y_test dimensions:  ', y_test.shape)"
      ]
    },
    {
      "cell_type": "code",
      "execution_count": null,
      "metadata": {
        "id": "0jO92MgGlGW3",
        "outputId": "ae29d5d3-305a-4392-bdc6-9b8ba801260d"
      },
      "outputs": [
        {
          "data": {
            "text/plain": [
              " 1    5034\n",
              "-1    3921\n",
              "Name: Result, dtype: int64"
            ]
          },
          "execution_count": 21,
          "metadata": {},
          "output_type": "execute_result"
        },
        {
          "data": {
            "image/png": "[encoded data removed]",
            "text/plain": [
              "<Figure size 432x288 with 1 Axes>"
            ]
          },
          "metadata": {
            "needs_background": "light"
          },
          "output_type": "display_data"
        }
      ],
      "source": [
        "plot_data = y_train.to_frame()\n",
        "sns.countplot(x = 'Result', data=plot_data)\n",
        "df_train.Result.value_counts()"
      ]
    },
    {
      "cell_type": "markdown",
      "metadata": {
        "id": "T4gsmpjilGW3"
      },
      "source": [
        "# Models"
      ]
    },
    {
      "cell_type": "markdown",
      "metadata": {
        "id": "xrIlsgvhlGW3"
      },
      "source": [
        "# LogisticRegression"
      ]
    },
    {
      "cell_type": "code",
      "execution_count": 26,
      "metadata": {
        "id": "CcEAiZUOlGW3"
      },
      "outputs": [],
      "source": [
        "from sklearn.linear_model import LogisticRegression\n",
        "base_lrc = LogisticRegression()"
      ]
    },
    {
      "cell_type": "code",
      "execution_count": 27,
      "metadata": {
        "id": "eE2DjOyrlGW4",
        "outputId": "37ba4a13-0a41-4ea7-9f8d-499b79805f96",
        "colab": {
          "base_uri": "https://localhost:8080/"
        }
      },
      "outputs": [
        {
          "output_type": "stream",
          "name": "stdout",
          "text": [
            "CPU times: user 165 ms, sys: 161 ms, total: 325 ms\n",
            "Wall time: 361 ms\n"
          ]
        }
      ],
      "source": [
        "%%time\n",
        "base_metrics = fn_compute_model_metrics(base_lrc, 'base_lrc', \n",
        "                       X_train, y_train, X_test, y_test,\n",
        "                       parameters = None, k = 1)\n",
        "\n",
        "base_metrics= base_metrics.to_frame()"
      ]
    },
    {
      "cell_type": "code",
      "execution_count": 28,
      "metadata": {
        "id": "CWWeSuu8lGW4",
        "outputId": "878e8efc-4071-4182-a46d-fe74553d986b",
        "colab": {
          "base_uri": "https://localhost:8080/"
        }
      },
      "outputs": [
        {
          "output_type": "stream",
          "name": "stdout",
          "text": [
            "CPU times: user 203 ms, sys: 606 ms, total: 810 ms\n",
            "Wall time: 4.01 s\n"
          ]
        }
      ],
      "source": [
        "%%time\n",
        "parametersBest = {\n",
        "    \"penalty\" : ['l2'],#,'l1', 'l2', 'elasticnet', 'none'],\n",
        "    \"class_weight\" : ['balanced'],\"n_jobs\" : [-1],\n",
        "    \"random_state\" : [1]}\n",
        "\n",
        "para_metrics = fn_compute_model_metrics(base_lrc, 'para_lrc', \n",
        "                       X_train, y_train, X_test, y_test,\n",
        "                       parameters = parametersBest, k = 5)\n",
        "para_metrics= para_metrics.to_frame()"
      ]
    },
    {
      "cell_type": "code",
      "execution_count": 29,
      "metadata": {
        "id": "zMXOj9B7lGW4"
      },
      "outputs": [],
      "source": [
        "model_metrics=pd.merge(base_metrics,para_metrics,right_index=True,left_index=True)\n",
        "dfMetrics=model_metrics.copy()"
      ]
    },
    {
      "cell_type": "markdown",
      "metadata": {
        "id": "WzwOUv3dlGW4"
      },
      "source": [
        "## K-Nearest Neighbours"
      ]
    },
    {
      "cell_type": "code",
      "execution_count": 30,
      "metadata": {
        "id": "gkcWOoJrlGW5"
      },
      "outputs": [],
      "source": [
        "from sklearn.neighbors import KNeighborsClassifier\n",
        "knn = KNeighborsClassifier( n_jobs=-1)"
      ]
    },
    {
      "cell_type": "code",
      "execution_count": 31,
      "metadata": {
        "id": "WVN5m8GYlGW5",
        "outputId": "52180064-a779-4d14-ce7f-dbfcf9bf9454",
        "colab": {
          "base_uri": "https://localhost:8080/"
        }
      },
      "outputs": [
        {
          "output_type": "stream",
          "name": "stdout",
          "text": [
            "CPU times: user 2.33 s, sys: 526 ms, total: 2.86 s\n",
            "Wall time: 2.53 s\n"
          ]
        }
      ],
      "source": [
        "%%time\n",
        "base_metrics = fn_compute_model_metrics(knn, 'base_knn', \n",
        "                       X_train, y_train, X_test, y_test,\n",
        "                       parameters = None, k = 1)\n",
        "base_metrics= base_metrics.to_frame()"
      ]
    },
    {
      "cell_type": "markdown",
      "metadata": {
        "id": "_EDaB30klGW5"
      },
      "source": [
        ""
      ]
    },
    {
      "cell_type": "code",
      "source": [
        "%%time\n",
        "parameters = {'weights' :['uniform', 'distance'],\n",
        "              'algorithm' : ['auto', 'ball_tree', 'kd_tree', 'brute'],\n",
        "              'metric':['minkowski'],\n",
        "              'leaf_size':[10,20,30,40]\n",
        "             }\n",
        "cv_model = fn_train_model(knn, X_train, y_train, parameters, k = 5)\n",
        "cv_model"
      ],
      "metadata": {
        "colab": {
          "base_uri": "https://localhost:8080/"
        },
        "id": "Ca1HQuIHpY86",
        "outputId": "612a3ce6-a040-42db-9608-09dbbc8c6543"
      },
      "execution_count": 32,
      "outputs": [
        {
          "output_type": "stream",
          "name": "stdout",
          "text": [
            "CPU times: user 30.5 s, sys: 7.8 s, total: 38.3 s\n",
            "Wall time: 58.7 s\n"
          ]
        }
      ]
    },
    {
      "cell_type": "code",
      "execution_count": 33,
      "metadata": {
        "id": "SdLB-K7QlGW6"
      },
      "outputs": [],
      "source": [
        "parametersBest = {'weights' :['uniform'],\n",
        "              'algorithm' : [ 'ball_tree'],\n",
        "              'metric':['minkowski'],\n",
        "              'leaf_size':[20]\n",
        "             } "
      ]
    },
    {
      "cell_type": "code",
      "execution_count": 34,
      "metadata": {
        "id": "o_cG-nFrlGW6",
        "outputId": "3d4bac12-9fae-4485-89b1-9579693e4c44",
        "colab": {
          "base_uri": "https://localhost:8080/"
        }
      },
      "outputs": [
        {
          "output_type": "stream",
          "name": "stdout",
          "text": [
            "CPU times: user 4.75 s, sys: 23 ms, total: 4.77 s\n",
            "Wall time: 6.66 s\n"
          ]
        }
      ],
      "source": [
        "%%time\n",
        "para_metrics = fn_compute_model_metrics(knn, 'para_knn', \n",
        "                       X_train, y_train, X_test, y_test,\n",
        "                       parameters = parametersBest, k = 5)\n",
        "para_metrics= para_metrics.to_frame()"
      ]
    },
    {
      "cell_type": "code",
      "execution_count": 35,
      "metadata": {
        "id": "X7i03asGlGW6"
      },
      "outputs": [],
      "source": [
        "model_metrics=pd.merge(base_metrics,para_metrics,right_index=True,left_index=True)"
      ]
    },
    {
      "cell_type": "code",
      "execution_count": 36,
      "metadata": {
        "id": "PpogN0NSlGW6",
        "outputId": "8ada87dc-6ac0-43b9-9ee0-127293431200",
        "colab": {
          "base_uri": "https://localhost:8080/",
          "height": 300
        }
      },
      "outputs": [
        {
          "output_type": "execute_result",
          "data": {
            "text/plain": [
              "                 base_lrc  para_lrc  base_knn  para_knn\n",
              "train_accuracy     0.8206    0.8170    0.9178    0.9158\n",
              "train_precision    0.8443    0.8616    0.9302    0.9240\n",
              "train_recall       0.8361    0.8047    0.9235    0.9270\n",
              "train_f1_score     0.8402    0.8322    0.9268    0.9255\n",
              "test_accuracy      0.8046    0.8018    0.8621    0.8615\n",
              "test_precision     0.8326    0.8546    0.8769    0.8730\n",
              "test_recall        0.8109    0.7746    0.8742    0.8783\n",
              "test_f1_score      0.8216    0.8127    0.8756    0.8756"
            ],
            "text/html": [
              "\n",
              "  <div id=\"df-16256cd5-db85-49a4-b89a-b17d31e8201a\">\n",
              "    <div class=\"colab-df-container\">\n",
              "      <div>\n",
              "<style scoped>\n",
              "    .dataframe tbody tr th:only-of-type {\n",
              "        vertical-align: middle;\n",
              "    }\n",
              "\n",
              "    .dataframe tbody tr th {\n",
              "        vertical-align: top;\n",
              "    }\n",
              "\n",
              "    .dataframe thead th {\n",
              "        text-align: right;\n",
              "    }\n",
              "</style>\n",
              "<table border=\"1\" class=\"dataframe\">\n",
              "  <thead>\n",
              "    <tr style=\"text-align: right;\">\n",
              "      <th></th>\n",
              "      <th>base_lrc</th>\n",
              "      <th>para_lrc</th>\n",
              "      <th>base_knn</th>\n",
              "      <th>para_knn</th>\n",
              "    </tr>\n",
              "  </thead>\n",
              "  <tbody>\n",
              "    <tr>\n",
              "      <th>train_accuracy</th>\n",
              "      <td>0.8206</td>\n",
              "      <td>0.8170</td>\n",
              "      <td>0.9178</td>\n",
              "      <td>0.9158</td>\n",
              "    </tr>\n",
              "    <tr>\n",
              "      <th>train_precision</th>\n",
              "      <td>0.8443</td>\n",
              "      <td>0.8616</td>\n",
              "      <td>0.9302</td>\n",
              "      <td>0.9240</td>\n",
              "    </tr>\n",
              "    <tr>\n",
              "      <th>train_recall</th>\n",
              "      <td>0.8361</td>\n",
              "      <td>0.8047</td>\n",
              "      <td>0.9235</td>\n",
              "      <td>0.9270</td>\n",
              "    </tr>\n",
              "    <tr>\n",
              "      <th>train_f1_score</th>\n",
              "      <td>0.8402</td>\n",
              "      <td>0.8322</td>\n",
              "      <td>0.9268</td>\n",
              "      <td>0.9255</td>\n",
              "    </tr>\n",
              "    <tr>\n",
              "      <th>test_accuracy</th>\n",
              "      <td>0.8046</td>\n",
              "      <td>0.8018</td>\n",
              "      <td>0.8621</td>\n",
              "      <td>0.8615</td>\n",
              "    </tr>\n",
              "    <tr>\n",
              "      <th>test_precision</th>\n",
              "      <td>0.8326</td>\n",
              "      <td>0.8546</td>\n",
              "      <td>0.8769</td>\n",
              "      <td>0.8730</td>\n",
              "    </tr>\n",
              "    <tr>\n",
              "      <th>test_recall</th>\n",
              "      <td>0.8109</td>\n",
              "      <td>0.7746</td>\n",
              "      <td>0.8742</td>\n",
              "      <td>0.8783</td>\n",
              "    </tr>\n",
              "    <tr>\n",
              "      <th>test_f1_score</th>\n",
              "      <td>0.8216</td>\n",
              "      <td>0.8127</td>\n",
              "      <td>0.8756</td>\n",
              "      <td>0.8756</td>\n",
              "    </tr>\n",
              "  </tbody>\n",
              "</table>\n",
              "</div>\n",
              "      <button class=\"colab-df-convert\" onclick=\"convertToInteractive('df-16256cd5-db85-49a4-b89a-b17d31e8201a')\"\n",
              "              title=\"Convert this dataframe to an interactive table.\"\n",
              "              style=\"display:none;\">\n",
              "        \n",
              "  <svg xmlns=\"http://www.w3.org/2000/svg\" height=\"24px\"viewBox=\"0 0 24 24\"\n",
              "       width=\"24px\">\n",
              "    <path d=\"M0 0h24v24H0V0z\" fill=\"none\"/>\n",
              "    <path d=\"M18.56 5.44l.94 2.06.94-2.06 2.06-.94-2.06-.94-.94-2.06-.94 2.06-2.06.94zm-11 1L8.5 8.5l.94-2.06 2.06-.94-2.06-.94L8.5 2.5l-.94 2.06-2.06.94zm10 10l.94 2.06.94-2.06 2.06-.94-2.06-.94-.94-2.06-.94 2.06-2.06.94z\"/><path d=\"M17.41 7.96l-1.37-1.37c-.4-.4-.92-.59-1.43-.59-.52 0-1.04.2-1.43.59L10.3 9.45l-7.72 7.72c-.78.78-.78 2.05 0 2.83L4 21.41c.39.39.9.59 1.41.59.51 0 1.02-.2 1.41-.59l7.78-7.78 2.81-2.81c.8-.78.8-2.07 0-2.86zM5.41 20L4 18.59l7.72-7.72 1.47 1.35L5.41 20z\"/>\n",
              "  </svg>\n",
              "      </button>\n",
              "      \n",
              "  <style>\n",
              "    .colab-df-container {\n",
              "      display:flex;\n",
              "      flex-wrap:wrap;\n",
              "      gap: 12px;\n",
              "    }\n",
              "\n",
              "    .colab-df-convert {\n",
              "      background-color: #E8F0FE;\n",
              "      border: none;\n",
              "      border-radius: 50%;\n",
              "      cursor: pointer;\n",
              "      display: none;\n",
              "      fill: #1967D2;\n",
              "      height: 32px;\n",
              "      padding: 0 0 0 0;\n",
              "      width: 32px;\n",
              "    }\n",
              "\n",
              "    .colab-df-convert:hover {\n",
              "      background-color: #E2EBFA;\n",
              "      box-shadow: 0px 1px 2px rgba(60, 64, 67, 0.3), 0px 1px 3px 1px rgba(60, 64, 67, 0.15);\n",
              "      fill: #174EA6;\n",
              "    }\n",
              "\n",
              "    [theme=dark] .colab-df-convert {\n",
              "      background-color: #3B4455;\n",
              "      fill: #D2E3FC;\n",
              "    }\n",
              "\n",
              "    [theme=dark] .colab-df-convert:hover {\n",
              "      background-color: #434B5C;\n",
              "      box-shadow: 0px 1px 3px 1px rgba(0, 0, 0, 0.15);\n",
              "      filter: drop-shadow(0px 1px 2px rgba(0, 0, 0, 0.3));\n",
              "      fill: #FFFFFF;\n",
              "    }\n",
              "  </style>\n",
              "\n",
              "      <script>\n",
              "        const buttonEl =\n",
              "          document.querySelector('#df-16256cd5-db85-49a4-b89a-b17d31e8201a button.colab-df-convert');\n",
              "        buttonEl.style.display =\n",
              "          google.colab.kernel.accessAllowed ? 'block' : 'none';\n",
              "\n",
              "        async function convertToInteractive(key) {\n",
              "          const element = document.querySelector('#df-16256cd5-db85-49a4-b89a-b17d31e8201a');\n",
              "          const dataTable =\n",
              "            await google.colab.kernel.invokeFunction('convertToInteractive',\n",
              "                                                     [key], {});\n",
              "          if (!dataTable) return;\n",
              "\n",
              "          const docLinkHtml = 'Like what you see? Visit the ' +\n",
              "            '<a target=\"_blank\" href=https://colab.research.google.com/notebooks/data_table.ipynb>data table notebook</a>'\n",
              "            + ' to learn more about interactive tables.';\n",
              "          element.innerHTML = '';\n",
              "          dataTable['output_type'] = 'display_data';\n",
              "          await google.colab.output.renderOutput(dataTable, element);\n",
              "          const docLink = document.createElement('div');\n",
              "          docLink.innerHTML = docLinkHtml;\n",
              "          element.appendChild(docLink);\n",
              "        }\n",
              "      </script>\n",
              "    </div>\n",
              "  </div>\n",
              "  "
            ]
          },
          "metadata": {},
          "execution_count": 36
        }
      ],
      "source": [
        "dfMetrics=pd.merge(dfMetrics,model_metrics,right_index=True,left_index=True)\n",
        "dfMetrics"
      ]
    },
    {
      "cell_type": "markdown",
      "metadata": {
        "id": "adO52IWIlGW6"
      },
      "source": [
        "## Support Vector Machine"
      ]
    },
    {
      "cell_type": "code",
      "execution_count": 37,
      "metadata": {
        "id": "4JyqaOS9lGW7"
      },
      "outputs": [],
      "source": [
        "from sklearn.svm import LinearSVC\n",
        "svm=LinearSVC(random_state=123)\n"
      ]
    },
    {
      "cell_type": "code",
      "execution_count": 38,
      "metadata": {
        "id": "m_H0GNpBlGW7",
        "outputId": "2c0f5e5a-b642-473e-bb29-5ddc139e388b",
        "colab": {
          "base_uri": "https://localhost:8080/"
        }
      },
      "outputs": [
        {
          "output_type": "stream",
          "name": "stdout",
          "text": [
            "CPU times: user 505 ms, sys: 32.9 ms, total: 538 ms\n",
            "Wall time: 512 ms\n"
          ]
        }
      ],
      "source": [
        "%%time\n",
        "base_metrics = fn_compute_model_metrics(svm, 'base_svm', \n",
        "                       X_train, y_train, X_test, y_test,\n",
        "                       parameters = None, k = 1)\n",
        "base_metrics= base_metrics.to_frame()"
      ]
    },
    {
      "cell_type": "code",
      "execution_count": 39,
      "metadata": {
        "id": "3Xz_IIwPlGW7",
        "outputId": "83afd2f3-2a40-4d81-de15-67c74335041e",
        "colab": {
          "base_uri": "https://localhost:8080/"
        }
      },
      "outputs": [
        {
          "output_type": "stream",
          "name": "stdout",
          "text": [
            "CPU times: user 3.77 s, sys: 1.99 s, total: 5.76 s\n",
            "Wall time: 3.76 s\n"
          ]
        }
      ],
      "source": [
        "%%time\n",
        "parameters = {  'penalty': ['l1', 'l2'],\n",
        "              'loss':['hinge', 'squared_hinge'],\n",
        "              'C':[0.0001, 0.001, 0.01,1],\n",
        "             }\n",
        "cv_model = fn_train_model(svm, X_train, y_train, parameters, k = 5)\n",
        "cv_model"
      ]
    },
    {
      "cell_type": "code",
      "execution_count": 40,
      "metadata": {
        "id": "oD7K0UbylGW7"
      },
      "outputs": [],
      "source": [
        "parametersBest = {  'penalty': ['l2'],\n",
        "              'loss':['hinge'],\n",
        "              'C':[1],\n",
        "             }"
      ]
    },
    {
      "cell_type": "code",
      "execution_count": 41,
      "metadata": {
        "id": "vZaSyVqzlGW8"
      },
      "outputs": [],
      "source": [
        "para_metrics = fn_compute_model_metrics(svm, 'para_svm', \n",
        "                       X_train, y_train, X_test, y_test,\n",
        "                       parameters = parametersBest, k = 5)\n",
        "para_metrics= para_metrics.to_frame()"
      ]
    },
    {
      "cell_type": "code",
      "execution_count": 42,
      "metadata": {
        "id": "ePdLAm_3lGW8"
      },
      "outputs": [],
      "source": [
        "model_metrics=pd.merge(base_metrics,para_metrics,right_index=True,left_index=True)"
      ]
    },
    {
      "cell_type": "code",
      "execution_count": 43,
      "metadata": {
        "id": "ZILVs_QPlGW8",
        "outputId": "0ff3c86e-b4bb-4564-9abd-f255863c9954",
        "colab": {
          "base_uri": "https://localhost:8080/",
          "height": 300
        }
      },
      "outputs": [
        {
          "output_type": "execute_result",
          "data": {
            "text/plain": [
              "                 base_lrc  para_lrc  base_knn  para_knn  base_svm  para_svm\n",
              "train_accuracy     0.8206    0.8170    0.9178    0.9158    0.8204    0.8222\n",
              "train_precision    0.8443    0.8616    0.9302    0.9240    0.8440    0.8456\n",
              "train_recall       0.8361    0.8047    0.9235    0.9270    0.8359    0.8376\n",
              "train_f1_score     0.8402    0.8322    0.9268    0.9255    0.8399    0.8416\n",
              "test_accuracy      0.8046    0.8018    0.8621    0.8615    0.8051    0.8074\n",
              "test_precision     0.8326    0.8546    0.8769    0.8730    0.8328    0.8356\n",
              "test_recall        0.8109    0.7746    0.8742    0.8783    0.8119    0.8129\n",
              "test_f1_score      0.8216    0.8127    0.8756    0.8756    0.8222    0.8241"
            ],
            "text/html": [
              "\n",
              "  <div id=\"df-a3ebc388-bf5e-4143-9443-97d8c2476ac6\">\n",
              "    <div class=\"colab-df-container\">\n",
              "      <div>\n",
              "<style scoped>\n",
              "    .dataframe tbody tr th:only-of-type {\n",
              "        vertical-align: middle;\n",
              "    }\n",
              "\n",
              "    .dataframe tbody tr th {\n",
              "        vertical-align: top;\n",
              "    }\n",
              "\n",
              "    .dataframe thead th {\n",
              "        text-align: right;\n",
              "    }\n",
              "</style>\n",
              "<table border=\"1\" class=\"dataframe\">\n",
              "  <thead>\n",
              "    <tr style=\"text-align: right;\">\n",
              "      <th></th>\n",
              "      <th>base_lrc</th>\n",
              "      <th>para_lrc</th>\n",
              "      <th>base_knn</th>\n",
              "      <th>para_knn</th>\n",
              "      <th>base_svm</th>\n",
              "      <th>para_svm</th>\n",
              "    </tr>\n",
              "  </thead>\n",
              "  <tbody>\n",
              "    <tr>\n",
              "      <th>train_accuracy</th>\n",
              "      <td>0.8206</td>\n",
              "      <td>0.8170</td>\n",
              "      <td>0.9178</td>\n",
              "      <td>0.9158</td>\n",
              "      <td>0.8204</td>\n",
              "      <td>0.8222</td>\n",
              "    </tr>\n",
              "    <tr>\n",
              "      <th>train_precision</th>\n",
              "      <td>0.8443</td>\n",
              "      <td>0.8616</td>\n",
              "      <td>0.9302</td>\n",
              "      <td>0.9240</td>\n",
              "      <td>0.8440</td>\n",
              "      <td>0.8456</td>\n",
              "    </tr>\n",
              "    <tr>\n",
              "      <th>train_recall</th>\n",
              "      <td>0.8361</td>\n",
              "      <td>0.8047</td>\n",
              "      <td>0.9235</td>\n",
              "      <td>0.9270</td>\n",
              "      <td>0.8359</td>\n",
              "      <td>0.8376</td>\n",
              "    </tr>\n",
              "    <tr>\n",
              "      <th>train_f1_score</th>\n",
              "      <td>0.8402</td>\n",
              "      <td>0.8322</td>\n",
              "      <td>0.9268</td>\n",
              "      <td>0.9255</td>\n",
              "      <td>0.8399</td>\n",
              "      <td>0.8416</td>\n",
              "    </tr>\n",
              "    <tr>\n",
              "      <th>test_accuracy</th>\n",
              "      <td>0.8046</td>\n",
              "      <td>0.8018</td>\n",
              "      <td>0.8621</td>\n",
              "      <td>0.8615</td>\n",
              "      <td>0.8051</td>\n",
              "      <td>0.8074</td>\n",
              "    </tr>\n",
              "    <tr>\n",
              "      <th>test_precision</th>\n",
              "      <td>0.8326</td>\n",
              "      <td>0.8546</td>\n",
              "      <td>0.8769</td>\n",
              "      <td>0.8730</td>\n",
              "      <td>0.8328</td>\n",
              "      <td>0.8356</td>\n",
              "    </tr>\n",
              "    <tr>\n",
              "      <th>test_recall</th>\n",
              "      <td>0.8109</td>\n",
              "      <td>0.7746</td>\n",
              "      <td>0.8742</td>\n",
              "      <td>0.8783</td>\n",
              "      <td>0.8119</td>\n",
              "      <td>0.8129</td>\n",
              "    </tr>\n",
              "    <tr>\n",
              "      <th>test_f1_score</th>\n",
              "      <td>0.8216</td>\n",
              "      <td>0.8127</td>\n",
              "      <td>0.8756</td>\n",
              "      <td>0.8756</td>\n",
              "      <td>0.8222</td>\n",
              "      <td>0.8241</td>\n",
              "    </tr>\n",
              "  </tbody>\n",
              "</table>\n",
              "</div>\n",
              "      <button class=\"colab-df-convert\" onclick=\"convertToInteractive('df-a3ebc388-bf5e-4143-9443-97d8c2476ac6')\"\n",
              "              title=\"Convert this dataframe to an interactive table.\"\n",
              "              style=\"display:none;\">\n",
              "        \n",
              "  <svg xmlns=\"http://www.w3.org/2000/svg\" height=\"24px\"viewBox=\"0 0 24 24\"\n",
              "       width=\"24px\">\n",
              "    <path d=\"M0 0h24v24H0V0z\" fill=\"none\"/>\n",
              "    <path d=\"M18.56 5.44l.94 2.06.94-2.06 2.06-.94-2.06-.94-.94-2.06-.94 2.06-2.06.94zm-11 1L8.5 8.5l.94-2.06 2.06-.94-2.06-.94L8.5 2.5l-.94 2.06-2.06.94zm10 10l.94 2.06.94-2.06 2.06-.94-2.06-.94-.94-2.06-.94 2.06-2.06.94z\"/><path d=\"M17.41 7.96l-1.37-1.37c-.4-.4-.92-.59-1.43-.59-.52 0-1.04.2-1.43.59L10.3 9.45l-7.72 7.72c-.78.78-.78 2.05 0 2.83L4 21.41c.39.39.9.59 1.41.59.51 0 1.02-.2 1.41-.59l7.78-7.78 2.81-2.81c.8-.78.8-2.07 0-2.86zM5.41 20L4 18.59l7.72-7.72 1.47 1.35L5.41 20z\"/>\n",
              "  </svg>\n",
              "      </button>\n",
              "      \n",
              "  <style>\n",
              "    .colab-df-container {\n",
              "      display:flex;\n",
              "      flex-wrap:wrap;\n",
              "      gap: 12px;\n",
              "    }\n",
              "\n",
              "    .colab-df-convert {\n",
              "      background-color: #E8F0FE;\n",
              "      border: none;\n",
              "      border-radius: 50%;\n",
              "      cursor: pointer;\n",
              "      display: none;\n",
              "      fill: #1967D2;\n",
              "      height: 32px;\n",
              "      padding: 0 0 0 0;\n",
              "      width: 32px;\n",
              "    }\n",
              "\n",
              "    .colab-df-convert:hover {\n",
              "      background-color: #E2EBFA;\n",
              "      box-shadow: 0px 1px 2px rgba(60, 64, 67, 0.3), 0px 1px 3px 1px rgba(60, 64, 67, 0.15);\n",
              "      fill: #174EA6;\n",
              "    }\n",
              "\n",
              "    [theme=dark] .colab-df-convert {\n",
              "      background-color: #3B4455;\n",
              "      fill: #D2E3FC;\n",
              "    }\n",
              "\n",
              "    [theme=dark] .colab-df-convert:hover {\n",
              "      background-color: #434B5C;\n",
              "      box-shadow: 0px 1px 3px 1px rgba(0, 0, 0, 0.15);\n",
              "      filter: drop-shadow(0px 1px 2px rgba(0, 0, 0, 0.3));\n",
              "      fill: #FFFFFF;\n",
              "    }\n",
              "  </style>\n",
              "\n",
              "      <script>\n",
              "        const buttonEl =\n",
              "          document.querySelector('#df-a3ebc388-bf5e-4143-9443-97d8c2476ac6 button.colab-df-convert');\n",
              "        buttonEl.style.display =\n",
              "          google.colab.kernel.accessAllowed ? 'block' : 'none';\n",
              "\n",
              "        async function convertToInteractive(key) {\n",
              "          const element = document.querySelector('#df-a3ebc388-bf5e-4143-9443-97d8c2476ac6');\n",
              "          const dataTable =\n",
              "            await google.colab.kernel.invokeFunction('convertToInteractive',\n",
              "                                                     [key], {});\n",
              "          if (!dataTable) return;\n",
              "\n",
              "          const docLinkHtml = 'Like what you see? Visit the ' +\n",
              "            '<a target=\"_blank\" href=https://colab.research.google.com/notebooks/data_table.ipynb>data table notebook</a>'\n",
              "            + ' to learn more about interactive tables.';\n",
              "          element.innerHTML = '';\n",
              "          dataTable['output_type'] = 'display_data';\n",
              "          await google.colab.output.renderOutput(dataTable, element);\n",
              "          const docLink = document.createElement('div');\n",
              "          docLink.innerHTML = docLinkHtml;\n",
              "          element.appendChild(docLink);\n",
              "        }\n",
              "      </script>\n",
              "    </div>\n",
              "  </div>\n",
              "  "
            ]
          },
          "metadata": {},
          "execution_count": 43
        }
      ],
      "source": [
        "dfMetrics=pd.merge(dfMetrics,model_metrics,right_index=True,left_index=True)\n",
        "dfMetrics"
      ]
    },
    {
      "cell_type": "markdown",
      "metadata": {
        "id": "irWx76J5lGW8"
      },
      "source": [
        "# DecisionTreeClassifier"
      ]
    },
    {
      "cell_type": "code",
      "execution_count": 44,
      "metadata": {
        "id": "wmUu6GL7lGW8"
      },
      "outputs": [],
      "source": [
        "from sklearn.tree import DecisionTreeClassifier\n",
        "dtc = DecisionTreeClassifier()"
      ]
    },
    {
      "cell_type": "code",
      "execution_count": 45,
      "metadata": {
        "id": "sA-rWkbBlGW9",
        "outputId": "684b9e3c-1a3f-4ea2-972c-9cd29934fc0d",
        "colab": {
          "base_uri": "https://localhost:8080/"
        }
      },
      "outputs": [
        {
          "output_type": "stream",
          "name": "stdout",
          "text": [
            "CPU times: user 47.2 ms, sys: 0 ns, total: 47.2 ms\n",
            "Wall time: 49.2 ms\n"
          ]
        }
      ],
      "source": [
        "%%time\n",
        "base_metrics = fn_compute_model_metrics(dtc, 'base_dtc', \n",
        "                       X_train, y_train, X_test, y_test,\n",
        "                        parameters = None, k = 1)\n",
        "base_metrics= base_metrics.to_frame()"
      ]
    },
    {
      "cell_type": "code",
      "execution_count": 46,
      "metadata": {
        "id": "hLoOkBx5lGW9",
        "outputId": "86fbf125-5291-4fa2-96a3-76a0daf36615",
        "colab": {
          "base_uri": "https://localhost:8080/"
        }
      },
      "outputs": [
        {
          "output_type": "stream",
          "name": "stdout",
          "text": [
            "CPU times: user 10.9 s, sys: 63.8 ms, total: 10.9 s\n",
            "Wall time: 10.9 s\n"
          ]
        }
      ],
      "source": [
        "%%time\n",
        "\n",
        "parameters = {'max_depth' : range(1,8),  # 7\n",
        "              'min_impurity_decrease' : [0.001, 0.01,0.05], #3\n",
        "              'min_samples_split':[3,5,7,9,11], #5\n",
        "              'criterion':['gini','entropy'] #{\"gini\", \"entropy\"}\n",
        "             } # total models=7*3*5*1=105\n",
        "\n",
        "cv_model = fn_train_model(dtc,\n",
        "                          X_train,\n",
        "                          y_train,parameters, k=5)\n",
        "cv_model"
      ]
    },
    {
      "cell_type": "code",
      "execution_count": 47,
      "metadata": {
        "id": "yVEUx1eTlGW9"
      },
      "outputs": [],
      "source": [
        "parametersBest = {'max_depth' :[6],  # 7\n",
        "              'min_impurity_decrease' : [0.001], #3\n",
        "              'min_samples_split':[3], #5\n",
        "              'criterion':['entropy'] #{\"gini\", \"entropy\"}\n",
        "             } # total models=7*3*5*1=105\n",
        "para_metrics = fn_compute_model_metrics(dtc, 'para_dtc', \n",
        "                       X_train, y_train, X_test, y_test,\n",
        "                       parameters = parametersBest, k = 5)\n",
        "para_metrics= para_metrics.to_frame()\n"
      ]
    },
    {
      "cell_type": "code",
      "execution_count": 48,
      "metadata": {
        "id": "0VbKYemtlGW9"
      },
      "outputs": [],
      "source": [
        "model_metrics=pd.merge(base_metrics,para_metrics,right_index=True,left_index=True)"
      ]
    },
    {
      "cell_type": "code",
      "execution_count": 49,
      "metadata": {
        "id": "vUm7AkznlGW-",
        "outputId": "32fb959e-9ab9-431b-9a43-636149e4f55a",
        "colab": {
          "base_uri": "https://localhost:8080/",
          "height": 300
        }
      },
      "outputs": [
        {
          "output_type": "execute_result",
          "data": {
            "text/plain": [
              "                 base_lrc  para_lrc  base_knn  para_knn  base_svm  para_svm  \\\n",
              "train_accuracy     0.8206    0.8170    0.9178    0.9158    0.8204    0.8222   \n",
              "train_precision    0.8443    0.8616    0.9302    0.9240    0.8440    0.8456   \n",
              "train_recall       0.8361    0.8047    0.9235    0.9270    0.8359    0.8376   \n",
              "train_f1_score     0.8402    0.8322    0.9268    0.9255    0.8399    0.8416   \n",
              "test_accuracy      0.8046    0.8018    0.8621    0.8615    0.8051    0.8074   \n",
              "test_precision     0.8326    0.8546    0.8769    0.8730    0.8328    0.8356   \n",
              "test_recall        0.8109    0.7746    0.8742    0.8783    0.8119    0.8129   \n",
              "test_f1_score      0.8216    0.8127    0.8756    0.8756    0.8222    0.8241   \n",
              "\n",
              "                 base_dtc  para_dtc  \n",
              "train_accuracy     0.9676    0.8308  \n",
              "train_precision    0.9732    0.8355  \n",
              "train_recall       0.9693    0.8715  \n",
              "train_f1_score     0.9712    0.8532  \n",
              "test_accuracy      0.9028    0.8102  \n",
              "test_precision     0.9051    0.8156  \n",
              "test_recall        0.9215    0.8501  \n",
              "test_f1_score      0.9133    0.8325  "
            ],
            "text/html": [
              "\n",
              "  <div id=\"df-9e8d8c26-3047-4d5d-ab46-502d3d85443c\">\n",
              "    <div class=\"colab-df-container\">\n",
              "      <div>\n",
              "<style scoped>\n",
              "    .dataframe tbody tr th:only-of-type {\n",
              "        vertical-align: middle;\n",
              "    }\n",
              "\n",
              "    .dataframe tbody tr th {\n",
              "        vertical-align: top;\n",
              "    }\n",
              "\n",
              "    .dataframe thead th {\n",
              "        text-align: right;\n",
              "    }\n",
              "</style>\n",
              "<table border=\"1\" class=\"dataframe\">\n",
              "  <thead>\n",
              "    <tr style=\"text-align: right;\">\n",
              "      <th></th>\n",
              "      <th>base_lrc</th>\n",
              "      <th>para_lrc</th>\n",
              "      <th>base_knn</th>\n",
              "      <th>para_knn</th>\n",
              "      <th>base_svm</th>\n",
              "      <th>para_svm</th>\n",
              "      <th>base_dtc</th>\n",
              "      <th>para_dtc</th>\n",
              "    </tr>\n",
              "  </thead>\n",
              "  <tbody>\n",
              "    <tr>\n",
              "      <th>train_accuracy</th>\n",
              "      <td>0.8206</td>\n",
              "      <td>0.8170</td>\n",
              "      <td>0.9178</td>\n",
              "      <td>0.9158</td>\n",
              "      <td>0.8204</td>\n",
              "      <td>0.8222</td>\n",
              "      <td>0.9676</td>\n",
              "      <td>0.8308</td>\n",
              "    </tr>\n",
              "    <tr>\n",
              "      <th>train_precision</th>\n",
              "      <td>0.8443</td>\n",
              "      <td>0.8616</td>\n",
              "      <td>0.9302</td>\n",
              "      <td>0.9240</td>\n",
              "      <td>0.8440</td>\n",
              "      <td>0.8456</td>\n",
              "      <td>0.9732</td>\n",
              "      <td>0.8355</td>\n",
              "    </tr>\n",
              "    <tr>\n",
              "      <th>train_recall</th>\n",
              "      <td>0.8361</td>\n",
              "      <td>0.8047</td>\n",
              "      <td>0.9235</td>\n",
              "      <td>0.9270</td>\n",
              "      <td>0.8359</td>\n",
              "      <td>0.8376</td>\n",
              "      <td>0.9693</td>\n",
              "      <td>0.8715</td>\n",
              "    </tr>\n",
              "    <tr>\n",
              "      <th>train_f1_score</th>\n",
              "      <td>0.8402</td>\n",
              "      <td>0.8322</td>\n",
              "      <td>0.9268</td>\n",
              "      <td>0.9255</td>\n",
              "      <td>0.8399</td>\n",
              "      <td>0.8416</td>\n",
              "      <td>0.9712</td>\n",
              "      <td>0.8532</td>\n",
              "    </tr>\n",
              "    <tr>\n",
              "      <th>test_accuracy</th>\n",
              "      <td>0.8046</td>\n",
              "      <td>0.8018</td>\n",
              "      <td>0.8621</td>\n",
              "      <td>0.8615</td>\n",
              "      <td>0.8051</td>\n",
              "      <td>0.8074</td>\n",
              "      <td>0.9028</td>\n",
              "      <td>0.8102</td>\n",
              "    </tr>\n",
              "    <tr>\n",
              "      <th>test_precision</th>\n",
              "      <td>0.8326</td>\n",
              "      <td>0.8546</td>\n",
              "      <td>0.8769</td>\n",
              "      <td>0.8730</td>\n",
              "      <td>0.8328</td>\n",
              "      <td>0.8356</td>\n",
              "      <td>0.9051</td>\n",
              "      <td>0.8156</td>\n",
              "    </tr>\n",
              "    <tr>\n",
              "      <th>test_recall</th>\n",
              "      <td>0.8109</td>\n",
              "      <td>0.7746</td>\n",
              "      <td>0.8742</td>\n",
              "      <td>0.8783</td>\n",
              "      <td>0.8119</td>\n",
              "      <td>0.8129</td>\n",
              "      <td>0.9215</td>\n",
              "      <td>0.8501</td>\n",
              "    </tr>\n",
              "    <tr>\n",
              "      <th>test_f1_score</th>\n",
              "      <td>0.8216</td>\n",
              "      <td>0.8127</td>\n",
              "      <td>0.8756</td>\n",
              "      <td>0.8756</td>\n",
              "      <td>0.8222</td>\n",
              "      <td>0.8241</td>\n",
              "      <td>0.9133</td>\n",
              "      <td>0.8325</td>\n",
              "    </tr>\n",
              "  </tbody>\n",
              "</table>\n",
              "</div>\n",
              "      <button class=\"colab-df-convert\" onclick=\"convertToInteractive('df-9e8d8c26-3047-4d5d-ab46-502d3d85443c')\"\n",
              "              title=\"Convert this dataframe to an interactive table.\"\n",
              "              style=\"display:none;\">\n",
              "        \n",
              "  <svg xmlns=\"http://www.w3.org/2000/svg\" height=\"24px\"viewBox=\"0 0 24 24\"\n",
              "       width=\"24px\">\n",
              "    <path d=\"M0 0h24v24H0V0z\" fill=\"none\"/>\n",
              "    <path d=\"M18.56 5.44l.94 2.06.94-2.06 2.06-.94-2.06-.94-.94-2.06-.94 2.06-2.06.94zm-11 1L8.5 8.5l.94-2.06 2.06-.94-2.06-.94L8.5 2.5l-.94 2.06-2.06.94zm10 10l.94 2.06.94-2.06 2.06-.94-2.06-.94-.94-2.06-.94 2.06-2.06.94z\"/><path d=\"M17.41 7.96l-1.37-1.37c-.4-.4-.92-.59-1.43-.59-.52 0-1.04.2-1.43.59L10.3 9.45l-7.72 7.72c-.78.78-.78 2.05 0 2.83L4 21.41c.39.39.9.59 1.41.59.51 0 1.02-.2 1.41-.59l7.78-7.78 2.81-2.81c.8-.78.8-2.07 0-2.86zM5.41 20L4 18.59l7.72-7.72 1.47 1.35L5.41 20z\"/>\n",
              "  </svg>\n",
              "      </button>\n",
              "      \n",
              "  <style>\n",
              "    .colab-df-container {\n",
              "      display:flex;\n",
              "      flex-wrap:wrap;\n",
              "      gap: 12px;\n",
              "    }\n",
              "\n",
              "    .colab-df-convert {\n",
              "      background-color: #E8F0FE;\n",
              "      border: none;\n",
              "      border-radius: 50%;\n",
              "      cursor: pointer;\n",
              "      display: none;\n",
              "      fill: #1967D2;\n",
              "      height: 32px;\n",
              "      padding: 0 0 0 0;\n",
              "      width: 32px;\n",
              "    }\n",
              "\n",
              "    .colab-df-convert:hover {\n",
              "      background-color: #E2EBFA;\n",
              "      box-shadow: 0px 1px 2px rgba(60, 64, 67, 0.3), 0px 1px 3px 1px rgba(60, 64, 67, 0.15);\n",
              "      fill: #174EA6;\n",
              "    }\n",
              "\n",
              "    [theme=dark] .colab-df-convert {\n",
              "      background-color: #3B4455;\n",
              "      fill: #D2E3FC;\n",
              "    }\n",
              "\n",
              "    [theme=dark] .colab-df-convert:hover {\n",
              "      background-color: #434B5C;\n",
              "      box-shadow: 0px 1px 3px 1px rgba(0, 0, 0, 0.15);\n",
              "      filter: drop-shadow(0px 1px 2px rgba(0, 0, 0, 0.3));\n",
              "      fill: #FFFFFF;\n",
              "    }\n",
              "  </style>\n",
              "\n",
              "      <script>\n",
              "        const buttonEl =\n",
              "          document.querySelector('#df-9e8d8c26-3047-4d5d-ab46-502d3d85443c button.colab-df-convert');\n",
              "        buttonEl.style.display =\n",
              "          google.colab.kernel.accessAllowed ? 'block' : 'none';\n",
              "\n",
              "        async function convertToInteractive(key) {\n",
              "          const element = document.querySelector('#df-9e8d8c26-3047-4d5d-ab46-502d3d85443c');\n",
              "          const dataTable =\n",
              "            await google.colab.kernel.invokeFunction('convertToInteractive',\n",
              "                                                     [key], {});\n",
              "          if (!dataTable) return;\n",
              "\n",
              "          const docLinkHtml = 'Like what you see? Visit the ' +\n",
              "            '<a target=\"_blank\" href=https://colab.research.google.com/notebooks/data_table.ipynb>data table notebook</a>'\n",
              "            + ' to learn more about interactive tables.';\n",
              "          element.innerHTML = '';\n",
              "          dataTable['output_type'] = 'display_data';\n",
              "          await google.colab.output.renderOutput(dataTable, element);\n",
              "          const docLink = document.createElement('div');\n",
              "          docLink.innerHTML = docLinkHtml;\n",
              "          element.appendChild(docLink);\n",
              "        }\n",
              "      </script>\n",
              "    </div>\n",
              "  </div>\n",
              "  "
            ]
          },
          "metadata": {},
          "execution_count": 49
        }
      ],
      "source": [
        "dfMetrics=pd.merge(dfMetrics,model_metrics,right_index=True,left_index=True)\n",
        "dfMetrics"
      ]
    },
    {
      "cell_type": "markdown",
      "metadata": {
        "id": "bZRRY-3rlGW-"
      },
      "source": [
        "##  Bagging Decision Tree (Ensemble Learning I)"
      ]
    },
    {
      "cell_type": "code",
      "execution_count": 50,
      "metadata": {
        "id": "WASXT3sKlGW-"
      },
      "outputs": [],
      "source": [
        "from sklearn.ensemble import BaggingClassifier\n",
        "from sklearn.tree import DecisionTreeClassifier\n",
        "bg=BaggingClassifier()"
      ]
    },
    {
      "cell_type": "code",
      "execution_count": 51,
      "metadata": {
        "id": "mhRorWI1lGW_",
        "outputId": "1714fa7e-923b-4805-8480-57729cb0fdf9",
        "colab": {
          "base_uri": "https://localhost:8080/"
        }
      },
      "outputs": [
        {
          "output_type": "stream",
          "name": "stdout",
          "text": [
            "CPU times: user 201 ms, sys: 22.6 ms, total: 224 ms\n",
            "Wall time: 226 ms\n"
          ]
        }
      ],
      "source": [
        "%%time\n",
        "base_metrics = fn_compute_model_metrics(bg, 'bg_dtc', \n",
        "                       X_train, y_train, X_test, y_test,\n",
        "                        parameters = None, k = 1)\n",
        "base_metrics= base_metrics.to_frame()"
      ]
    },
    {
      "cell_type": "code",
      "execution_count": 52,
      "metadata": {
        "id": "JkZfoShclGW_",
        "colab": {
          "base_uri": "https://localhost:8080/"
        },
        "outputId": "fd272561-bf37-4854-d72b-c09599b52d8d"
      },
      "outputs": [
        {
          "output_type": "stream",
          "name": "stdout",
          "text": [
            "CPU times: user 6.78 s, sys: 617 ms, total: 7.39 s\n",
            "Wall time: 7.38 s\n"
          ]
        }
      ],
      "source": [
        "%%time\n",
        "\n",
        "parameters = {'n_estimators':[5,10,15],\n",
        "              'max_samples' : [0.5, 0.75,1],\n",
        "              'max_features':[0.5, 0.75,1],\n",
        "             } \n",
        "\n",
        "cv_model = fn_train_model(bg,\n",
        "                          X_train,\n",
        "                          y_train,parameters, k=5)\n",
        "cv_model"
      ]
    },
    {
      "cell_type": "code",
      "execution_count": 53,
      "metadata": {
        "id": "PMIhxRNolGW_"
      },
      "outputs": [],
      "source": [
        "parametersBest = {'n_estimators':[15],\n",
        "              'max_samples' : [0.75],\n",
        "              'max_features':[ 0.5],\n",
        "             } \n",
        "para_metrics = fn_compute_model_metrics(bg, 'para_bgdtc', \n",
        "                       X_train, y_train, X_test, y_test,\n",
        "                       parameters = parametersBest, k = 5)\n",
        "para_metrics= para_metrics.to_frame()"
      ]
    },
    {
      "cell_type": "code",
      "execution_count": 54,
      "metadata": {
        "id": "7y8MlyPrlGW_"
      },
      "outputs": [],
      "source": [
        "model_metrics=pd.merge(base_metrics,para_metrics,right_index=True,left_index=True)"
      ]
    },
    {
      "cell_type": "code",
      "execution_count": 55,
      "metadata": {
        "id": "pgGqHZ2ilGXA"
      },
      "outputs": [],
      "source": [
        "dfMetrics=pd.merge(dfMetrics,model_metrics,right_index=True,left_index=True)"
      ]
    },
    {
      "cell_type": "markdown",
      "metadata": {
        "id": "8I17L8NXlGXA"
      },
      "source": [
        "## Boosting Decision Tree (Ensemble Learning II)/Ada boost"
      ]
    },
    {
      "cell_type": "code",
      "execution_count": 56,
      "metadata": {
        "id": "-ipxPNkalGXA"
      },
      "outputs": [],
      "source": [
        "from sklearn.ensemble import AdaBoostClassifier\n",
        "from sklearn.tree import DecisionTreeClassifier\n",
        "adb = AdaBoostClassifier()\n"
      ]
    },
    {
      "cell_type": "code",
      "execution_count": 57,
      "metadata": {
        "id": "N18DJssalGXA",
        "outputId": "ba579fcc-43b7-4173-f1c5-1b639f9ce84c",
        "colab": {
          "base_uri": "https://localhost:8080/"
        }
      },
      "outputs": [
        {
          "output_type": "stream",
          "name": "stdout",
          "text": [
            "CPU times: user 426 ms, sys: 3.26 ms, total: 430 ms\n",
            "Wall time: 437 ms\n"
          ]
        }
      ],
      "source": [
        "%%time\n",
        "base_metrics = fn_compute_model_metrics(adb, 'base_adb', \n",
        "                       X_train, y_train, X_test, y_test,\n",
        "                        parameters = None, k = 1)\n",
        "base_metrics= base_metrics.to_frame()"
      ]
    },
    {
      "cell_type": "code",
      "execution_count": 58,
      "metadata": {
        "id": "EJBJgUpJlGXA",
        "colab": {
          "base_uri": "https://localhost:8080/"
        },
        "outputId": "c90db99a-b49e-4ede-de4e-58798158508c"
      },
      "outputs": [
        {
          "output_type": "stream",
          "name": "stdout",
          "text": [
            "CPU times: user 29.6 s, sys: 8.3 s, total: 37.9 s\n",
            "Wall time: 55.9 s\n"
          ]
        }
      ],
      "source": [
        "%%time\n",
        "parameters = {'weights' :['uniform', 'distance'],\n",
        "              'algorithm' : ['auto', 'ball_tree', 'kd_tree', 'brute'],\n",
        "              'metric':['minkowski'],\n",
        "              'leaf_size':[10,20,30,40]\n",
        "             }\n",
        "cv_model = fn_train_model(knn, X_train, y_train, parameters, k = 5)\n",
        "cv_model"
      ]
    },
    {
      "cell_type": "code",
      "execution_count": 59,
      "metadata": {
        "id": "3wgSSZ43lGXB"
      },
      "outputs": [],
      "source": [
        "parametersBest = {'learning_rate':[ 0.3],\n",
        "               'n_estimators':[300]}\n",
        "para_metrics = fn_compute_model_metrics(adb, 'para_adb', \n",
        "                       X_train, y_train, X_test, y_test,\n",
        "                       parameters = parametersBest, k = 5)\n",
        "para_metrics= para_metrics.to_frame()"
      ]
    },
    {
      "cell_type": "code",
      "execution_count": 60,
      "metadata": {
        "id": "IRPpS9I5lGXB"
      },
      "outputs": [],
      "source": [
        "model_metrics=pd.merge(base_metrics,para_metrics,right_index=True,left_index=True)"
      ]
    },
    {
      "cell_type": "code",
      "execution_count": 61,
      "metadata": {
        "id": "L7bZSXHXlGXB",
        "outputId": "c0b7bfa8-fed3-44f8-aa3c-aaf1b40010c9",
        "colab": {
          "base_uri": "https://localhost:8080/",
          "height": 300
        }
      },
      "outputs": [
        {
          "output_type": "execute_result",
          "data": {
            "text/plain": [
              "                 base_lrc  para_lrc  base_knn  para_knn  base_svm  para_svm  \\\n",
              "train_accuracy     0.8206    0.8170    0.9178    0.9158    0.8204    0.8222   \n",
              "train_precision    0.8443    0.8616    0.9302    0.9240    0.8440    0.8456   \n",
              "train_recall       0.8361    0.8047    0.9235    0.9270    0.8359    0.8376   \n",
              "train_f1_score     0.8402    0.8322    0.9268    0.9255    0.8399    0.8416   \n",
              "test_accuracy      0.8046    0.8018    0.8621    0.8615    0.8051    0.8074   \n",
              "test_precision     0.8326    0.8546    0.8769    0.8730    0.8328    0.8356   \n",
              "test_recall        0.8109    0.7746    0.8742    0.8783    0.8119    0.8129   \n",
              "test_f1_score      0.8216    0.8127    0.8756    0.8756    0.8222    0.8241   \n",
              "\n",
              "                 base_dtc  para_dtc  bg_dtc  para_bgdtc  base_adb  para_adb  \n",
              "train_accuracy     0.9676    0.8308  0.9645      0.9213    0.8321    0.8333  \n",
              "train_precision    0.9732    0.8355  0.9686      0.9266    0.8474    0.8510  \n",
              "train_recall       0.9693    0.8715  0.9686      0.9344    0.8564    0.8540  \n",
              "train_f1_score     0.9712    0.8532  0.9686      0.9305    0.8519    0.8525  \n",
              "test_accuracy      0.9028    0.8102  0.9073      0.8855    0.8219    0.8241  \n",
              "test_precision     0.9051    0.8156  0.9083      0.8887    0.8469    0.8518  \n",
              "test_recall        0.9215    0.8501  0.9266      0.9074    0.8290    0.8270  \n",
              "test_f1_score      0.9133    0.8325  0.9173      0.8980    0.8378    0.8392  "
            ],
            "text/html": [
              "\n",
              "  <div id=\"df-e723256d-a197-4cac-851d-ad906741494f\">\n",
              "    <div class=\"colab-df-container\">\n",
              "      <div>\n",
              "<style scoped>\n",
              "    .dataframe tbody tr th:only-of-type {\n",
              "        vertical-align: middle;\n",
              "    }\n",
              "\n",
              "    .dataframe tbody tr th {\n",
              "        vertical-align: top;\n",
              "    }\n",
              "\n",
              "    .dataframe thead th {\n",
              "        text-align: right;\n",
              "    }\n",
              "</style>\n",
              "<table border=\"1\" class=\"dataframe\">\n",
              "  <thead>\n",
              "    <tr style=\"text-align: right;\">\n",
              "      <th></th>\n",
              "      <th>base_lrc</th>\n",
              "      <th>para_lrc</th>\n",
              "      <th>base_knn</th>\n",
              "      <th>para_knn</th>\n",
              "      <th>base_svm</th>\n",
              "      <th>para_svm</th>\n",
              "      <th>base_dtc</th>\n",
              "      <th>para_dtc</th>\n",
              "      <th>bg_dtc</th>\n",
              "      <th>para_bgdtc</th>\n",
              "      <th>base_adb</th>\n",
              "      <th>para_adb</th>\n",
              "    </tr>\n",
              "  </thead>\n",
              "  <tbody>\n",
              "    <tr>\n",
              "      <th>train_accuracy</th>\n",
              "      <td>0.8206</td>\n",
              "      <td>0.8170</td>\n",
              "      <td>0.9178</td>\n",
              "      <td>0.9158</td>\n",
              "      <td>0.8204</td>\n",
              "      <td>0.8222</td>\n",
              "      <td>0.9676</td>\n",
              "      <td>0.8308</td>\n",
              "      <td>0.9645</td>\n",
              "      <td>0.9213</td>\n",
              "      <td>0.8321</td>\n",
              "      <td>0.8333</td>\n",
              "    </tr>\n",
              "    <tr>\n",
              "      <th>train_precision</th>\n",
              "      <td>0.8443</td>\n",
              "      <td>0.8616</td>\n",
              "      <td>0.9302</td>\n",
              "      <td>0.9240</td>\n",
              "      <td>0.8440</td>\n",
              "      <td>0.8456</td>\n",
              "      <td>0.9732</td>\n",
              "      <td>0.8355</td>\n",
              "      <td>0.9686</td>\n",
              "      <td>0.9266</td>\n",
              "      <td>0.8474</td>\n",
              "      <td>0.8510</td>\n",
              "    </tr>\n",
              "    <tr>\n",
              "      <th>train_recall</th>\n",
              "      <td>0.8361</td>\n",
              "      <td>0.8047</td>\n",
              "      <td>0.9235</td>\n",
              "      <td>0.9270</td>\n",
              "      <td>0.8359</td>\n",
              "      <td>0.8376</td>\n",
              "      <td>0.9693</td>\n",
              "      <td>0.8715</td>\n",
              "      <td>0.9686</td>\n",
              "      <td>0.9344</td>\n",
              "      <td>0.8564</td>\n",
              "      <td>0.8540</td>\n",
              "    </tr>\n",
              "    <tr>\n",
              "      <th>train_f1_score</th>\n",
              "      <td>0.8402</td>\n",
              "      <td>0.8322</td>\n",
              "      <td>0.9268</td>\n",
              "      <td>0.9255</td>\n",
              "      <td>0.8399</td>\n",
              "      <td>0.8416</td>\n",
              "      <td>0.9712</td>\n",
              "      <td>0.8532</td>\n",
              "      <td>0.9686</td>\n",
              "      <td>0.9305</td>\n",
              "      <td>0.8519</td>\n",
              "      <td>0.8525</td>\n",
              "    </tr>\n",
              "    <tr>\n",
              "      <th>test_accuracy</th>\n",
              "      <td>0.8046</td>\n",
              "      <td>0.8018</td>\n",
              "      <td>0.8621</td>\n",
              "      <td>0.8615</td>\n",
              "      <td>0.8051</td>\n",
              "      <td>0.8074</td>\n",
              "      <td>0.9028</td>\n",
              "      <td>0.8102</td>\n",
              "      <td>0.9073</td>\n",
              "      <td>0.8855</td>\n",
              "      <td>0.8219</td>\n",
              "      <td>0.8241</td>\n",
              "    </tr>\n",
              "    <tr>\n",
              "      <th>test_precision</th>\n",
              "      <td>0.8326</td>\n",
              "      <td>0.8546</td>\n",
              "      <td>0.8769</td>\n",
              "      <td>0.8730</td>\n",
              "      <td>0.8328</td>\n",
              "      <td>0.8356</td>\n",
              "      <td>0.9051</td>\n",
              "      <td>0.8156</td>\n",
              "      <td>0.9083</td>\n",
              "      <td>0.8887</td>\n",
              "      <td>0.8469</td>\n",
              "      <td>0.8518</td>\n",
              "    </tr>\n",
              "    <tr>\n",
              "      <th>test_recall</th>\n",
              "      <td>0.8109</td>\n",
              "      <td>0.7746</td>\n",
              "      <td>0.8742</td>\n",
              "      <td>0.8783</td>\n",
              "      <td>0.8119</td>\n",
              "      <td>0.8129</td>\n",
              "      <td>0.9215</td>\n",
              "      <td>0.8501</td>\n",
              "      <td>0.9266</td>\n",
              "      <td>0.9074</td>\n",
              "      <td>0.8290</td>\n",
              "      <td>0.8270</td>\n",
              "    </tr>\n",
              "    <tr>\n",
              "      <th>test_f1_score</th>\n",
              "      <td>0.8216</td>\n",
              "      <td>0.8127</td>\n",
              "      <td>0.8756</td>\n",
              "      <td>0.8756</td>\n",
              "      <td>0.8222</td>\n",
              "      <td>0.8241</td>\n",
              "      <td>0.9133</td>\n",
              "      <td>0.8325</td>\n",
              "      <td>0.9173</td>\n",
              "      <td>0.8980</td>\n",
              "      <td>0.8378</td>\n",
              "      <td>0.8392</td>\n",
              "    </tr>\n",
              "  </tbody>\n",
              "</table>\n",
              "</div>\n",
              "      <button class=\"colab-df-convert\" onclick=\"convertToInteractive('df-e723256d-a197-4cac-851d-ad906741494f')\"\n",
              "              title=\"Convert this dataframe to an interactive table.\"\n",
              "              style=\"display:none;\">\n",
              "        \n",
              "  <svg xmlns=\"http://www.w3.org/2000/svg\" height=\"24px\"viewBox=\"0 0 24 24\"\n",
              "       width=\"24px\">\n",
              "    <path d=\"M0 0h24v24H0V0z\" fill=\"none\"/>\n",
              "    <path d=\"M18.56 5.44l.94 2.06.94-2.06 2.06-.94-2.06-.94-.94-2.06-.94 2.06-2.06.94zm-11 1L8.5 8.5l.94-2.06 2.06-.94-2.06-.94L8.5 2.5l-.94 2.06-2.06.94zm10 10l.94 2.06.94-2.06 2.06-.94-2.06-.94-.94-2.06-.94 2.06-2.06.94z\"/><path d=\"M17.41 7.96l-1.37-1.37c-.4-.4-.92-.59-1.43-.59-.52 0-1.04.2-1.43.59L10.3 9.45l-7.72 7.72c-.78.78-.78 2.05 0 2.83L4 21.41c.39.39.9.59 1.41.59.51 0 1.02-.2 1.41-.59l7.78-7.78 2.81-2.81c.8-.78.8-2.07 0-2.86zM5.41 20L4 18.59l7.72-7.72 1.47 1.35L5.41 20z\"/>\n",
              "  </svg>\n",
              "      </button>\n",
              "      \n",
              "  <style>\n",
              "    .colab-df-container {\n",
              "      display:flex;\n",
              "      flex-wrap:wrap;\n",
              "      gap: 12px;\n",
              "    }\n",
              "\n",
              "    .colab-df-convert {\n",
              "      background-color: #E8F0FE;\n",
              "      border: none;\n",
              "      border-radius: 50%;\n",
              "      cursor: pointer;\n",
              "      display: none;\n",
              "      fill: #1967D2;\n",
              "      height: 32px;\n",
              "      padding: 0 0 0 0;\n",
              "      width: 32px;\n",
              "    }\n",
              "\n",
              "    .colab-df-convert:hover {\n",
              "      background-color: #E2EBFA;\n",
              "      box-shadow: 0px 1px 2px rgba(60, 64, 67, 0.3), 0px 1px 3px 1px rgba(60, 64, 67, 0.15);\n",
              "      fill: #174EA6;\n",
              "    }\n",
              "\n",
              "    [theme=dark] .colab-df-convert {\n",
              "      background-color: #3B4455;\n",
              "      fill: #D2E3FC;\n",
              "    }\n",
              "\n",
              "    [theme=dark] .colab-df-convert:hover {\n",
              "      background-color: #434B5C;\n",
              "      box-shadow: 0px 1px 3px 1px rgba(0, 0, 0, 0.15);\n",
              "      filter: drop-shadow(0px 1px 2px rgba(0, 0, 0, 0.3));\n",
              "      fill: #FFFFFF;\n",
              "    }\n",
              "  </style>\n",
              "\n",
              "      <script>\n",
              "        const buttonEl =\n",
              "          document.querySelector('#df-e723256d-a197-4cac-851d-ad906741494f button.colab-df-convert');\n",
              "        buttonEl.style.display =\n",
              "          google.colab.kernel.accessAllowed ? 'block' : 'none';\n",
              "\n",
              "        async function convertToInteractive(key) {\n",
              "          const element = document.querySelector('#df-e723256d-a197-4cac-851d-ad906741494f');\n",
              "          const dataTable =\n",
              "            await google.colab.kernel.invokeFunction('convertToInteractive',\n",
              "                                                     [key], {});\n",
              "          if (!dataTable) return;\n",
              "\n",
              "          const docLinkHtml = 'Like what you see? Visit the ' +\n",
              "            '<a target=\"_blank\" href=https://colab.research.google.com/notebooks/data_table.ipynb>data table notebook</a>'\n",
              "            + ' to learn more about interactive tables.';\n",
              "          element.innerHTML = '';\n",
              "          dataTable['output_type'] = 'display_data';\n",
              "          await google.colab.output.renderOutput(dataTable, element);\n",
              "          const docLink = document.createElement('div');\n",
              "          docLink.innerHTML = docLinkHtml;\n",
              "          element.appendChild(docLink);\n",
              "        }\n",
              "      </script>\n",
              "    </div>\n",
              "  </div>\n",
              "  "
            ]
          },
          "metadata": {},
          "execution_count": 61
        }
      ],
      "source": [
        "dfMetrics=pd.merge(dfMetrics,model_metrics,right_index=True,left_index=True)\n",
        "dfMetrics"
      ]
    },
    {
      "cell_type": "code",
      "execution_count": 62,
      "metadata": {
        "id": "slxhcG_LlGXB"
      },
      "outputs": [],
      "source": [
        "from sklearn.metrics import confusion_matrix"
      ]
    },
    {
      "cell_type": "markdown",
      "metadata": {
        "id": "_60IecdJlGXC"
      },
      "source": [
        "# DCT Visualizing the rules"
      ]
    },
    {
      "cell_type": "code",
      "execution_count": 67,
      "metadata": {
        "id": "Mok7XlJ6lGXC",
        "outputId": "ba194775-7d24-48fc-e866-96ebcaddbb70",
        "colab": {
          "base_uri": "https://localhost:8080/"
        }
      },
      "outputs": [
        {
          "output_type": "stream",
          "name": "stdout",
          "text": [
            "\n",
            "Confusion Matrix :\n",
            "[[639 158]\n",
            " [166 828]]\n",
            "\n",
            "Report : \n",
            "              precision    recall  f1-score   support\n",
            "\n",
            "          -1       0.79      0.80      0.80       797\n",
            "           1       0.84      0.83      0.84       994\n",
            "\n",
            "    accuracy                           0.82      1791\n",
            "   macro avg       0.82      0.82      0.82      1791\n",
            "weighted avg       0.82      0.82      0.82      1791\n",
            "\n",
            "Recall score : 0.8017565872020075\n",
            "DecisionTreeClassifier(max_depth=7, min_impurity_decrease=0.001,\n",
            "                       min_samples_split=3)\n",
            "0.8017565872020075\n",
            "CPU times: user 44.4 ms, sys: 1.04 ms, total: 45.4 ms\n",
            "Wall time: 75.6 ms\n"
          ]
        }
      ],
      "source": [
        "%%time\n",
        "final_dtc = DecisionTreeClassifier(criterion='gini',\n",
        "    splitter='best',\n",
        "    max_depth=7,\n",
        "    min_samples_split=3,\n",
        "    min_samples_leaf=1,\n",
        "    min_weight_fraction_leaf=0.0,\n",
        "    max_features=None,\n",
        "    random_state=None,\n",
        "    max_leaf_nodes=None,\n",
        "    min_impurity_decrease=0.001,\n",
        "    class_weight=None,\n",
        "    ccp_alpha=0.0,\n",
        ")\n",
        "                                   \n",
        "final_dtc_model = fn_train_model(final_dtc, X_train, y_train)\n",
        "final_dtc_model_metrics = fn_compute_metrics_train(final_dtc_model,X_test,y_test)\n",
        "\n",
        "print(final_dtc_model)\n",
        "print(final_dtc_model_metrics)"
      ]
    },
    {
      "cell_type": "code",
      "execution_count": 68,
      "metadata": {
        "id": "98u2E3ZUlGXC"
      },
      "outputs": [],
      "source": [
        "from sklearn.tree import export_graphviz\n",
        "import graphviz\n",
        "\n",
        "# Function to generate the tree\n",
        "def plot_tree(model, dataframe, plot_title):\n",
        "    # Class labels\n",
        "    label_names=[\"1\", \"-1\"]\n",
        "    \n",
        "    # Obtaining plot data.\n",
        "    graph_data=export_graphviz(model,\n",
        "                               feature_names=dataframe.columns,\n",
        "                               class_names=label_names,\n",
        "                               filled=True,\n",
        "                               rounded=True,\n",
        "                               out_file=None)\n",
        "\n",
        "    # Generating plot.\n",
        "    graph=graphviz.Source(graph_data)\n",
        "    graph.render(plot_title)\n",
        "    return graph"
      ]
    },
    {
      "cell_type": "code",
      "execution_count": 69,
      "metadata": {
        "id": "X384e7GClGXC",
        "outputId": "7459f7a0-3b30-443e-dca2-bbd1746b654b",
        "colab": {
          "base_uri": "https://localhost:8080/",
          "height": 1000
        }
      },
      "outputs": [
        {
          "output_type": "execute_result",
          "data": {
            "text/plain": [
              "<graphviz.files.Source at 0x7fc02cc7fdd0>"
            ],
            "image/svg+xml": "<?xml version=\"1.0\" encoding=\"UTF-8\" standalone=\"no\"?>\n<!DOCTYPE svg PUBLIC \"-//W3C//DTD SVG 1.1//EN\"\n \"http://www.w3.org/Graphics/SVG/1.1/DTD/svg11.dtd\">\n<!-- Generated by graphviz version 2.40.1 (20161225.0304)\n -->\n<!-- Title: Tree Pages: 1 -->\n<svg width=\"1958pt\" height=\"909pt\"\n viewBox=\"0.00 0.00 1958.00 909.00\" xmlns=\"http://www.w3.org/2000/svg\" xmlns:xlink=\"http://www.w3.org/1999/xlink\">\n<g id=\"graph0\" class=\"graph\" transform=\"scale(1 1) rotate(0) translate(4 905)\">\n<title>Tree</title>\n<polygon fill=\"#ffffff\" stroke=\"transparent\" points=\"-4,4 -4,-905 1954,-905 1954,4 -4,4\"/>\n<!-- 0 -->\n<g id=\"node1\" class=\"node\">\n<title>0</title>\n<path fill=\"#d2e9f9\" stroke=\"#000000\" d=\"M800.5,-901C800.5,-901 675.5,-901 675.5,-901 669.5,-901 663.5,-895 663.5,-889 663.5,-889 663.5,-830 663.5,-830 663.5,-824 669.5,-818 675.5,-818 675.5,-818 800.5,-818 800.5,-818 806.5,-818 812.5,-824 812.5,-830 812.5,-830 812.5,-889 812.5,-889 812.5,-895 806.5,-901 800.5,-901\"/>\n<text text-anchor=\"middle\" x=\"738\" y=\"-885.8\" font-family=\"Helvetica,sans-Serif\" font-size=\"14.00\" fill=\"#000000\">web_traffic &lt;= 0.5</text>\n<text text-anchor=\"middle\" x=\"738\" y=\"-870.8\" font-family=\"Helvetica,sans-Serif\" font-size=\"14.00\" fill=\"#000000\">gini = 0.492</text>\n<text text-anchor=\"middle\" x=\"738\" y=\"-855.8\" font-family=\"Helvetica,sans-Serif\" font-size=\"14.00\" fill=\"#000000\">samples = 7164</text>\n<text text-anchor=\"middle\" x=\"738\" y=\"-840.8\" font-family=\"Helvetica,sans-Serif\" font-size=\"14.00\" fill=\"#000000\">value = [3124, 4040]</text>\n<text text-anchor=\"middle\" x=\"738\" y=\"-825.8\" font-family=\"Helvetica,sans-Serif\" font-size=\"14.00\" fill=\"#000000\">class = &#45;1</text>\n</g>\n<!-- 1 -->\n<g id=\"node2\" class=\"node\">\n<title>1</title>\n<path fill=\"#f3c5a3\" stroke=\"#000000\" d=\"M677.5,-782C677.5,-782 504.5,-782 504.5,-782 498.5,-782 492.5,-776 492.5,-770 492.5,-770 492.5,-711 492.5,-711 492.5,-705 498.5,-699 504.5,-699 504.5,-699 677.5,-699 677.5,-699 683.5,-699 689.5,-705 689.5,-711 689.5,-711 689.5,-770 689.5,-770 689.5,-776 683.5,-782 677.5,-782\"/>\n<text text-anchor=\"middle\" x=\"591\" y=\"-766.8\" font-family=\"Helvetica,sans-Serif\" font-size=\"14.00\" fill=\"#000000\">having_Sub_Domain &lt;= 0.5</text>\n<text text-anchor=\"middle\" x=\"591\" y=\"-751.8\" font-family=\"Helvetica,sans-Serif\" font-size=\"14.00\" fill=\"#000000\">gini = 0.455</text>\n<text text-anchor=\"middle\" x=\"591\" y=\"-736.8\" font-family=\"Helvetica,sans-Serif\" font-size=\"14.00\" fill=\"#000000\">samples = 3388</text>\n<text text-anchor=\"middle\" x=\"591\" y=\"-721.8\" font-family=\"Helvetica,sans-Serif\" font-size=\"14.00\" fill=\"#000000\">value = [2205, 1183]</text>\n<text text-anchor=\"middle\" x=\"591\" y=\"-706.8\" font-family=\"Helvetica,sans-Serif\" font-size=\"14.00\" fill=\"#000000\">class = 1</text>\n</g>\n<!-- 0&#45;&gt;1 -->\n<g id=\"edge1\" class=\"edge\">\n<title>0&#45;&gt;1</title>\n<path fill=\"none\" stroke=\"#000000\" d=\"M686.5865,-817.8796C674.9048,-808.4229 662.4025,-798.302 650.419,-788.6011\"/>\n<polygon fill=\"#000000\" stroke=\"#000000\" points=\"652.6076,-785.8697 642.6329,-782.2981 648.2032,-791.3105 652.6076,-785.8697\"/>\n<text text-anchor=\"middle\" x=\"645.25\" y=\"-803.4607\" font-family=\"Helvetica,sans-Serif\" font-size=\"14.00\" fill=\"#000000\">True</text>\n</g>\n<!-- 18 -->\n<g id=\"node19\" class=\"node\">\n<title>18</title>\n<path fill=\"#79bded\" stroke=\"#000000\" d=\"M1039.5,-782C1039.5,-782 908.5,-782 908.5,-782 902.5,-782 896.5,-776 896.5,-770 896.5,-770 896.5,-711 896.5,-711 896.5,-705 902.5,-699 908.5,-699 908.5,-699 1039.5,-699 1039.5,-699 1045.5,-699 1051.5,-705 1051.5,-711 1051.5,-711 1051.5,-770 1051.5,-770 1051.5,-776 1045.5,-782 1039.5,-782\"/>\n<text text-anchor=\"middle\" x=\"974\" y=\"-766.8\" font-family=\"Helvetica,sans-Serif\" font-size=\"14.00\" fill=\"#000000\">Links_in_tags &lt;= &#45;0.5</text>\n<text text-anchor=\"middle\" x=\"974\" y=\"-751.8\" font-family=\"Helvetica,sans-Serif\" font-size=\"14.00\" fill=\"#000000\">gini = 0.368</text>\n<text text-anchor=\"middle\" x=\"974\" y=\"-736.8\" font-family=\"Helvetica,sans-Serif\" font-size=\"14.00\" fill=\"#000000\">samples = 3776</text>\n<text text-anchor=\"middle\" x=\"974\" y=\"-721.8\" font-family=\"Helvetica,sans-Serif\" font-size=\"14.00\" fill=\"#000000\">value = [919, 2857]</text>\n<text text-anchor=\"middle\" x=\"974\" y=\"-706.8\" font-family=\"Helvetica,sans-Serif\" font-size=\"14.00\" fill=\"#000000\">class = &#45;1</text>\n</g>\n<!-- 0&#45;&gt;18 -->\n<g id=\"edge18\" class=\"edge\">\n<title>0&#45;&gt;18</title>\n<path fill=\"none\" stroke=\"#000000\" d=\"M812.6719,-821.8477C836.2612,-809.953 862.5332,-796.7057 886.9116,-784.4132\"/>\n<polygon fill=\"#000000\" stroke=\"#000000\" points=\"888.7993,-787.3812 896.1525,-779.7536 885.6476,-781.1308 888.7993,-787.3812\"/>\n<text text-anchor=\"middle\" x=\"888.3272\" y=\"-799.7973\" font-family=\"Helvetica,sans-Serif\" font-size=\"14.00\" fill=\"#000000\">False</text>\n</g>\n<!-- 2 -->\n<g id=\"node3\" class=\"node\">\n<title>2</title>\n<path fill=\"#ea9a60\" stroke=\"#000000\" d=\"M440,-663C440,-663 322,-663 322,-663 316,-663 310,-657 310,-651 310,-651 310,-592 310,-592 310,-586 316,-580 322,-580 322,-580 440,-580 440,-580 446,-580 452,-586 452,-592 452,-592 452,-651 452,-651 452,-657 446,-663 440,-663\"/>\n<text text-anchor=\"middle\" x=\"381\" y=\"-647.8\" font-family=\"Helvetica,sans-Serif\" font-size=\"14.00\" fill=\"#000000\">Prefix_Suffix &lt;= 0.0</text>\n<text text-anchor=\"middle\" x=\"381\" y=\"-632.8\" font-family=\"Helvetica,sans-Serif\" font-size=\"14.00\" fill=\"#000000\">gini = 0.277</text>\n<text text-anchor=\"middle\" x=\"381\" y=\"-617.8\" font-family=\"Helvetica,sans-Serif\" font-size=\"14.00\" fill=\"#000000\">samples = 2197</text>\n<text text-anchor=\"middle\" x=\"381\" y=\"-602.8\" font-family=\"Helvetica,sans-Serif\" font-size=\"14.00\" fill=\"#000000\">value = [1832, 365]</text>\n<text text-anchor=\"middle\" x=\"381\" y=\"-587.8\" font-family=\"Helvetica,sans-Serif\" font-size=\"14.00\" fill=\"#000000\">class = 1</text>\n</g>\n<!-- 1&#45;&gt;2 -->\n<g id=\"edge2\" class=\"edge\">\n<title>1&#45;&gt;2</title>\n<path fill=\"none\" stroke=\"#000000\" d=\"M517.5522,-698.8796C499.2751,-688.5226 479.592,-677.3688 461.0163,-666.8426\"/>\n<polygon fill=\"#000000\" stroke=\"#000000\" points=\"462.7099,-663.7794 452.2841,-661.8943 459.2588,-669.8696 462.7099,-663.7794\"/>\n</g>\n<!-- 7 -->\n<g id=\"node8\" class=\"node\">\n<title>7</title>\n<path fill=\"#93caf1\" stroke=\"#000000\" d=\"M650,-663C650,-663 532,-663 532,-663 526,-663 520,-657 520,-651 520,-651 520,-592 520,-592 520,-586 526,-580 532,-580 532,-580 650,-580 650,-580 656,-580 662,-586 662,-592 662,-592 662,-651 662,-651 662,-657 656,-663 650,-663\"/>\n<text text-anchor=\"middle\" x=\"591\" y=\"-647.8\" font-family=\"Helvetica,sans-Serif\" font-size=\"14.00\" fill=\"#000000\">Prefix_Suffix &lt;= 0.0</text>\n<text text-anchor=\"middle\" x=\"591\" y=\"-632.8\" font-family=\"Helvetica,sans-Serif\" font-size=\"14.00\" fill=\"#000000\">gini = 0.43</text>\n<text text-anchor=\"middle\" x=\"591\" y=\"-617.8\" font-family=\"Helvetica,sans-Serif\" font-size=\"14.00\" fill=\"#000000\">samples = 1191</text>\n<text text-anchor=\"middle\" x=\"591\" y=\"-602.8\" font-family=\"Helvetica,sans-Serif\" font-size=\"14.00\" fill=\"#000000\">value = [373, 818]</text>\n<text text-anchor=\"middle\" x=\"591\" y=\"-587.8\" font-family=\"Helvetica,sans-Serif\" font-size=\"14.00\" fill=\"#000000\">class = &#45;1</text>\n</g>\n<!-- 1&#45;&gt;7 -->\n<g id=\"edge7\" class=\"edge\">\n<title>1&#45;&gt;7</title>\n<path fill=\"none\" stroke=\"#000000\" d=\"M591,-698.8796C591,-690.6838 591,-681.9891 591,-673.5013\"/>\n<polygon fill=\"#000000\" stroke=\"#000000\" points=\"594.5001,-673.298 591,-663.2981 587.5001,-673.2981 594.5001,-673.298\"/>\n</g>\n<!-- 3 -->\n<g id=\"node4\" class=\"node\">\n<title>3</title>\n<path fill=\"#e99457\" stroke=\"#000000\" d=\"M288,-544C288,-544 160,-544 160,-544 154,-544 148,-538 148,-532 148,-532 148,-473 148,-473 148,-467 154,-461 160,-461 160,-461 288,-461 288,-461 294,-461 300,-467 300,-473 300,-473 300,-532 300,-532 300,-538 294,-544 288,-544\"/>\n<text text-anchor=\"middle\" x=\"224\" y=\"-528.8\" font-family=\"Helvetica,sans-Serif\" font-size=\"14.00\" fill=\"#000000\">Request_URL &lt;= 0.0</text>\n<text text-anchor=\"middle\" x=\"224\" y=\"-513.8\" font-family=\"Helvetica,sans-Serif\" font-size=\"14.00\" fill=\"#000000\">gini = 0.23</text>\n<text text-anchor=\"middle\" x=\"224\" y=\"-498.8\" font-family=\"Helvetica,sans-Serif\" font-size=\"14.00\" fill=\"#000000\">samples = 2112</text>\n<text text-anchor=\"middle\" x=\"224\" y=\"-483.8\" font-family=\"Helvetica,sans-Serif\" font-size=\"14.00\" fill=\"#000000\">value = [1832, 280]</text>\n<text text-anchor=\"middle\" x=\"224\" y=\"-468.8\" font-family=\"Helvetica,sans-Serif\" font-size=\"14.00\" fill=\"#000000\">class = 1</text>\n</g>\n<!-- 2&#45;&gt;3 -->\n<g id=\"edge3\" class=\"edge\">\n<title>2&#45;&gt;3</title>\n<path fill=\"none\" stroke=\"#000000\" d=\"M326.089,-579.8796C313.4206,-570.2774 299.8485,-559.9903 286.8705,-550.1534\"/>\n<polygon fill=\"#000000\" stroke=\"#000000\" points=\"288.9636,-547.3482 278.88,-544.0969 284.7352,-552.9268 288.9636,-547.3482\"/>\n</g>\n<!-- 6 -->\n<g id=\"node7\" class=\"node\">\n<title>6</title>\n<path fill=\"#399de5\" stroke=\"#000000\" d=\"M422.5,-536.5C422.5,-536.5 339.5,-536.5 339.5,-536.5 333.5,-536.5 327.5,-530.5 327.5,-524.5 327.5,-524.5 327.5,-480.5 327.5,-480.5 327.5,-474.5 333.5,-468.5 339.5,-468.5 339.5,-468.5 422.5,-468.5 422.5,-468.5 428.5,-468.5 434.5,-474.5 434.5,-480.5 434.5,-480.5 434.5,-524.5 434.5,-524.5 434.5,-530.5 428.5,-536.5 422.5,-536.5\"/>\n<text text-anchor=\"middle\" x=\"381\" y=\"-521.3\" font-family=\"Helvetica,sans-Serif\" font-size=\"14.00\" fill=\"#000000\">gini = 0.0</text>\n<text text-anchor=\"middle\" x=\"381\" y=\"-506.3\" font-family=\"Helvetica,sans-Serif\" font-size=\"14.00\" fill=\"#000000\">samples = 85</text>\n<text text-anchor=\"middle\" x=\"381\" y=\"-491.3\" font-family=\"Helvetica,sans-Serif\" font-size=\"14.00\" fill=\"#000000\">value = [0, 85]</text>\n<text text-anchor=\"middle\" x=\"381\" y=\"-476.3\" font-family=\"Helvetica,sans-Serif\" font-size=\"14.00\" fill=\"#000000\">class = &#45;1</text>\n</g>\n<!-- 2&#45;&gt;6 -->\n<g id=\"edge6\" class=\"edge\">\n<title>2&#45;&gt;6</title>\n<path fill=\"none\" stroke=\"#000000\" d=\"M381,-579.8796C381,-569.2134 381,-557.7021 381,-546.9015\"/>\n<polygon fill=\"#000000\" stroke=\"#000000\" points=\"384.5001,-546.8149 381,-536.8149 377.5001,-546.815 384.5001,-546.8149\"/>\n</g>\n<!-- 4 -->\n<g id=\"node5\" class=\"node\">\n<title>4</title>\n<path fill=\"#e88e4d\" stroke=\"#000000\" d=\"M128,-417.5C128,-417.5 12,-417.5 12,-417.5 6,-417.5 0,-411.5 0,-405.5 0,-405.5 0,-361.5 0,-361.5 0,-355.5 6,-349.5 12,-349.5 12,-349.5 128,-349.5 128,-349.5 134,-349.5 140,-355.5 140,-361.5 140,-361.5 140,-405.5 140,-405.5 140,-411.5 134,-417.5 128,-417.5\"/>\n<text text-anchor=\"middle\" x=\"70\" y=\"-402.3\" font-family=\"Helvetica,sans-Serif\" font-size=\"14.00\" fill=\"#000000\">gini = 0.167</text>\n<text text-anchor=\"middle\" x=\"70\" y=\"-387.3\" font-family=\"Helvetica,sans-Serif\" font-size=\"14.00\" fill=\"#000000\">samples = 1163</text>\n<text text-anchor=\"middle\" x=\"70\" y=\"-372.3\" font-family=\"Helvetica,sans-Serif\" font-size=\"14.00\" fill=\"#000000\">value = [1056, 107]</text>\n<text text-anchor=\"middle\" x=\"70\" y=\"-357.3\" font-family=\"Helvetica,sans-Serif\" font-size=\"14.00\" fill=\"#000000\">class = 1</text>\n</g>\n<!-- 3&#45;&gt;4 -->\n<g id=\"edge4\" class=\"edge\">\n<title>3&#45;&gt;4</title>\n<path fill=\"none\" stroke=\"#000000\" d=\"M170.1383,-460.8796C154.7696,-449.0038 138.0453,-436.0804 122.7441,-424.2568\"/>\n<polygon fill=\"#000000\" stroke=\"#000000\" points=\"124.4605,-421.1599 114.4076,-417.8149 120.1804,-426.699 124.4605,-421.1599\"/>\n</g>\n<!-- 5 -->\n<g id=\"node6\" class=\"node\">\n<title>5</title>\n<path fill=\"#eb9d65\" stroke=\"#000000\" d=\"M278,-417.5C278,-417.5 170,-417.5 170,-417.5 164,-417.5 158,-411.5 158,-405.5 158,-405.5 158,-361.5 158,-361.5 158,-355.5 164,-349.5 170,-349.5 170,-349.5 278,-349.5 278,-349.5 284,-349.5 290,-355.5 290,-361.5 290,-361.5 290,-405.5 290,-405.5 290,-411.5 284,-417.5 278,-417.5\"/>\n<text text-anchor=\"middle\" x=\"224\" y=\"-402.3\" font-family=\"Helvetica,sans-Serif\" font-size=\"14.00\" fill=\"#000000\">gini = 0.298</text>\n<text text-anchor=\"middle\" x=\"224\" y=\"-387.3\" font-family=\"Helvetica,sans-Serif\" font-size=\"14.00\" fill=\"#000000\">samples = 949</text>\n<text text-anchor=\"middle\" x=\"224\" y=\"-372.3\" font-family=\"Helvetica,sans-Serif\" font-size=\"14.00\" fill=\"#000000\">value = [776, 173]</text>\n<text text-anchor=\"middle\" x=\"224\" y=\"-357.3\" font-family=\"Helvetica,sans-Serif\" font-size=\"14.00\" fill=\"#000000\">class = 1</text>\n</g>\n<!-- 3&#45;&gt;5 -->\n<g id=\"edge5\" class=\"edge\">\n<title>3&#45;&gt;5</title>\n<path fill=\"none\" stroke=\"#000000\" d=\"M224,-460.8796C224,-450.2134 224,-438.7021 224,-427.9015\"/>\n<polygon fill=\"#000000\" stroke=\"#000000\" points=\"227.5001,-427.8149 224,-417.8149 220.5001,-427.815 227.5001,-427.8149\"/>\n</g>\n<!-- 8 -->\n<g id=\"node9\" class=\"node\">\n<title>8</title>\n<path fill=\"#aed7f4\" stroke=\"#000000\" d=\"M581,-544C581,-544 473,-544 473,-544 467,-544 461,-538 461,-532 461,-532 461,-473 461,-473 461,-467 467,-461 473,-461 473,-461 581,-461 581,-461 587,-461 593,-467 593,-473 593,-473 593,-532 593,-532 593,-538 587,-544 581,-544\"/>\n<text text-anchor=\"middle\" x=\"527\" y=\"-528.8\" font-family=\"Helvetica,sans-Serif\" font-size=\"14.00\" fill=\"#000000\">SFH &lt;= &#45;0.5</text>\n<text text-anchor=\"middle\" x=\"527\" y=\"-513.8\" font-family=\"Helvetica,sans-Serif\" font-size=\"14.00\" fill=\"#000000\">gini = 0.467</text>\n<text text-anchor=\"middle\" x=\"527\" y=\"-498.8\" font-family=\"Helvetica,sans-Serif\" font-size=\"14.00\" fill=\"#000000\">samples = 1002</text>\n<text text-anchor=\"middle\" x=\"527\" y=\"-483.8\" font-family=\"Helvetica,sans-Serif\" font-size=\"14.00\" fill=\"#000000\">value = [373, 629]</text>\n<text text-anchor=\"middle\" x=\"527\" y=\"-468.8\" font-family=\"Helvetica,sans-Serif\" font-size=\"14.00\" fill=\"#000000\">class = &#45;1</text>\n</g>\n<!-- 7&#45;&gt;8 -->\n<g id=\"edge8\" class=\"edge\">\n<title>7&#45;&gt;8</title>\n<path fill=\"none\" stroke=\"#000000\" d=\"M568.6159,-579.8796C564.0144,-571.3236 559.1204,-562.2238 554.3658,-553.3833\"/>\n<polygon fill=\"#000000\" stroke=\"#000000\" points=\"557.2988,-551.4473 549.4796,-544.2981 551.1338,-554.763 557.2988,-551.4473\"/>\n</g>\n<!-- 17 -->\n<g id=\"node18\" class=\"node\">\n<title>17</title>\n<path fill=\"#399de5\" stroke=\"#000000\" d=\"M715,-536.5C715,-536.5 623,-536.5 623,-536.5 617,-536.5 611,-530.5 611,-524.5 611,-524.5 611,-480.5 611,-480.5 611,-474.5 617,-468.5 623,-468.5 623,-468.5 715,-468.5 715,-468.5 721,-468.5 727,-474.5 727,-480.5 727,-480.5 727,-524.5 727,-524.5 727,-530.5 721,-536.5 715,-536.5\"/>\n<text text-anchor=\"middle\" x=\"669\" y=\"-521.3\" font-family=\"Helvetica,sans-Serif\" font-size=\"14.00\" fill=\"#000000\">gini = 0.0</text>\n<text text-anchor=\"middle\" x=\"669\" y=\"-506.3\" font-family=\"Helvetica,sans-Serif\" font-size=\"14.00\" fill=\"#000000\">samples = 189</text>\n<text text-anchor=\"middle\" x=\"669\" y=\"-491.3\" font-family=\"Helvetica,sans-Serif\" font-size=\"14.00\" fill=\"#000000\">value = [0, 189]</text>\n<text text-anchor=\"middle\" x=\"669\" y=\"-476.3\" font-family=\"Helvetica,sans-Serif\" font-size=\"14.00\" fill=\"#000000\">class = &#45;1</text>\n</g>\n<!-- 7&#45;&gt;17 -->\n<g id=\"edge17\" class=\"edge\">\n<title>7&#45;&gt;17</title>\n<path fill=\"none\" stroke=\"#000000\" d=\"M618.2806,-579.8796C625.6323,-568.6636 633.5964,-556.5131 640.9874,-545.2372\"/>\n<polygon fill=\"#000000\" stroke=\"#000000\" points=\"643.9531,-547.0972 646.5079,-536.8149 638.0986,-543.2598 643.9531,-547.0972\"/>\n</g>\n<!-- 9 -->\n<g id=\"node10\" class=\"node\">\n<title>9</title>\n<path fill=\"#e4f1fb\" stroke=\"#000000\" d=\"M451.5,-425C451.5,-425 320.5,-425 320.5,-425 314.5,-425 308.5,-419 308.5,-413 308.5,-413 308.5,-354 308.5,-354 308.5,-348 314.5,-342 320.5,-342 320.5,-342 451.5,-342 451.5,-342 457.5,-342 463.5,-348 463.5,-354 463.5,-354 463.5,-413 463.5,-413 463.5,-419 457.5,-425 451.5,-425\"/>\n<text text-anchor=\"middle\" x=\"386\" y=\"-409.8\" font-family=\"Helvetica,sans-Serif\" font-size=\"14.00\" fill=\"#000000\">Links_in_tags &lt;= &#45;0.5</text>\n<text text-anchor=\"middle\" x=\"386\" y=\"-394.8\" font-family=\"Helvetica,sans-Serif\" font-size=\"14.00\" fill=\"#000000\">gini = 0.497</text>\n<text text-anchor=\"middle\" x=\"386\" y=\"-379.8\" font-family=\"Helvetica,sans-Serif\" font-size=\"14.00\" fill=\"#000000\">samples = 702</text>\n<text text-anchor=\"middle\" x=\"386\" y=\"-364.8\" font-family=\"Helvetica,sans-Serif\" font-size=\"14.00\" fill=\"#000000\">value = [325, 377]</text>\n<text text-anchor=\"middle\" x=\"386\" y=\"-349.8\" font-family=\"Helvetica,sans-Serif\" font-size=\"14.00\" fill=\"#000000\">class = &#45;1</text>\n</g>\n<!-- 8&#45;&gt;9 -->\n<g id=\"edge9\" class=\"edge\">\n<title>8&#45;&gt;9</title>\n<path fill=\"none\" stroke=\"#000000\" d=\"M477.685,-460.8796C466.5868,-451.513 454.7165,-441.4948 443.3223,-431.8784\"/>\n<polygon fill=\"#000000\" stroke=\"#000000\" points=\"445.425,-429.0731 435.5254,-425.2981 440.9101,-434.4225 445.425,-429.0731\"/>\n</g>\n<!-- 16 -->\n<g id=\"node17\" class=\"node\">\n<title>16</title>\n<path fill=\"#5fb0ea\" stroke=\"#000000\" d=\"M594,-417.5C594,-417.5 494,-417.5 494,-417.5 488,-417.5 482,-411.5 482,-405.5 482,-405.5 482,-361.5 482,-361.5 482,-355.5 488,-349.5 494,-349.5 494,-349.5 594,-349.5 594,-349.5 600,-349.5 606,-355.5 606,-361.5 606,-361.5 606,-405.5 606,-405.5 606,-411.5 600,-417.5 594,-417.5\"/>\n<text text-anchor=\"middle\" x=\"544\" y=\"-402.3\" font-family=\"Helvetica,sans-Serif\" font-size=\"14.00\" fill=\"#000000\">gini = 0.269</text>\n<text text-anchor=\"middle\" x=\"544\" y=\"-387.3\" font-family=\"Helvetica,sans-Serif\" font-size=\"14.00\" fill=\"#000000\">samples = 300</text>\n<text text-anchor=\"middle\" x=\"544\" y=\"-372.3\" font-family=\"Helvetica,sans-Serif\" font-size=\"14.00\" fill=\"#000000\">value = [48, 252]</text>\n<text text-anchor=\"middle\" x=\"544\" y=\"-357.3\" font-family=\"Helvetica,sans-Serif\" font-size=\"14.00\" fill=\"#000000\">class = &#45;1</text>\n</g>\n<!-- 8&#45;&gt;16 -->\n<g id=\"edge16\" class=\"edge\">\n<title>8&#45;&gt;16</title>\n<path fill=\"none\" stroke=\"#000000\" d=\"M532.9458,-460.8796C534.4695,-450.2134 536.114,-438.7021 537.6569,-427.9015\"/>\n<polygon fill=\"#000000\" stroke=\"#000000\" points=\"541.1484,-428.2094 539.0979,-417.8149 534.2187,-427.2194 541.1484,-428.2094\"/>\n</g>\n<!-- 10 -->\n<g id=\"node11\" class=\"node\">\n<title>10</title>\n<path fill=\"#f3c4a2\" stroke=\"#000000\" d=\"M249,-298.5C249,-298.5 149,-298.5 149,-298.5 143,-298.5 137,-292.5 137,-286.5 137,-286.5 137,-242.5 137,-242.5 137,-236.5 143,-230.5 149,-230.5 149,-230.5 249,-230.5 249,-230.5 255,-230.5 261,-236.5 261,-242.5 261,-242.5 261,-286.5 261,-286.5 261,-292.5 255,-298.5 249,-298.5\"/>\n<text text-anchor=\"middle\" x=\"199\" y=\"-283.3\" font-family=\"Helvetica,sans-Serif\" font-size=\"14.00\" fill=\"#000000\">gini = 0.453</text>\n<text text-anchor=\"middle\" x=\"199\" y=\"-268.3\" font-family=\"Helvetica,sans-Serif\" font-size=\"14.00\" fill=\"#000000\">samples = 274</text>\n<text text-anchor=\"middle\" x=\"199\" y=\"-253.3\" font-family=\"Helvetica,sans-Serif\" font-size=\"14.00\" fill=\"#000000\">value = [179, 95]</text>\n<text text-anchor=\"middle\" x=\"199\" y=\"-238.3\" font-family=\"Helvetica,sans-Serif\" font-size=\"14.00\" fill=\"#000000\">class = 1</text>\n</g>\n<!-- 9&#45;&gt;10 -->\n<g id=\"edge10\" class=\"edge\">\n<title>9&#45;&gt;10</title>\n<path fill=\"none\" stroke=\"#000000\" d=\"M320.5965,-341.8796C301.3248,-329.6158 280.2976,-316.2348 261.231,-304.1015\"/>\n<polygon fill=\"#000000\" stroke=\"#000000\" points=\"262.9376,-301.039 252.6219,-298.623 259.1795,-306.9447 262.9376,-301.039\"/>\n</g>\n<!-- 11 -->\n<g id=\"node12\" class=\"node\">\n<title>11</title>\n<path fill=\"#a0d0f2\" stroke=\"#000000\" d=\"M483,-306C483,-306 291,-306 291,-306 285,-306 279,-300 279,-294 279,-294 279,-235 279,-235 279,-229 285,-223 291,-223 291,-223 483,-223 483,-223 489,-223 495,-229 495,-235 495,-235 495,-294 495,-294 495,-300 489,-306 483,-306\"/>\n<text text-anchor=\"middle\" x=\"387\" y=\"-290.8\" font-family=\"Helvetica,sans-Serif\" font-size=\"14.00\" fill=\"#000000\">Links_pointing_to_page &lt;= 0.5</text>\n<text text-anchor=\"middle\" x=\"387\" y=\"-275.8\" font-family=\"Helvetica,sans-Serif\" font-size=\"14.00\" fill=\"#000000\">gini = 0.45</text>\n<text text-anchor=\"middle\" x=\"387\" y=\"-260.8\" font-family=\"Helvetica,sans-Serif\" font-size=\"14.00\" fill=\"#000000\">samples = 428</text>\n<text text-anchor=\"middle\" x=\"387\" y=\"-245.8\" font-family=\"Helvetica,sans-Serif\" font-size=\"14.00\" fill=\"#000000\">value = [146, 282]</text>\n<text text-anchor=\"middle\" x=\"387\" y=\"-230.8\" font-family=\"Helvetica,sans-Serif\" font-size=\"14.00\" fill=\"#000000\">class = &#45;1</text>\n</g>\n<!-- 9&#45;&gt;11 -->\n<g id=\"edge11\" class=\"edge\">\n<title>9&#45;&gt;11</title>\n<path fill=\"none\" stroke=\"#000000\" d=\"M386.3498,-341.8796C386.4186,-333.6838 386.4917,-324.9891 386.563,-316.5013\"/>\n<polygon fill=\"#000000\" stroke=\"#000000\" points=\"390.0645,-316.3272 386.6488,-306.2981 383.0648,-316.2683 390.0645,-316.3272\"/>\n</g>\n<!-- 12 -->\n<g id=\"node13\" class=\"node\">\n<title>12</title>\n<path fill=\"#d3e9f9\" stroke=\"#000000\" d=\"M296,-187C296,-187 188,-187 188,-187 182,-187 176,-181 176,-175 176,-175 176,-116 176,-116 176,-110 182,-104 188,-104 188,-104 296,-104 296,-104 302,-104 308,-110 308,-116 308,-116 308,-175 308,-175 308,-181 302,-187 296,-187\"/>\n<text text-anchor=\"middle\" x=\"242\" y=\"-171.8\" font-family=\"Helvetica,sans-Serif\" font-size=\"14.00\" fill=\"#000000\">having_IP &lt;= 0.0</text>\n<text text-anchor=\"middle\" x=\"242\" y=\"-156.8\" font-family=\"Helvetica,sans-Serif\" font-size=\"14.00\" fill=\"#000000\">gini = 0.492</text>\n<text text-anchor=\"middle\" x=\"242\" y=\"-141.8\" font-family=\"Helvetica,sans-Serif\" font-size=\"14.00\" fill=\"#000000\">samples = 254</text>\n<text text-anchor=\"middle\" x=\"242\" y=\"-126.8\" font-family=\"Helvetica,sans-Serif\" font-size=\"14.00\" fill=\"#000000\">value = [111, 143]</text>\n<text text-anchor=\"middle\" x=\"242\" y=\"-111.8\" font-family=\"Helvetica,sans-Serif\" font-size=\"14.00\" fill=\"#000000\">class = &#45;1</text>\n</g>\n<!-- 11&#45;&gt;12 -->\n<g id=\"edge12\" class=\"edge\">\n<title>11&#45;&gt;12</title>\n<path fill=\"none\" stroke=\"#000000\" d=\"M336.286,-222.8796C324.873,-213.513 312.6659,-203.4948 300.9485,-193.8784\"/>\n<polygon fill=\"#000000\" stroke=\"#000000\" points=\"302.8809,-190.9366 292.9304,-187.2981 298.4401,-196.3476 302.8809,-190.9366\"/>\n</g>\n<!-- 15 -->\n<g id=\"node16\" class=\"node\">\n<title>15</title>\n<path fill=\"#6bb6ec\" stroke=\"#000000\" d=\"M438,-179.5C438,-179.5 338,-179.5 338,-179.5 332,-179.5 326,-173.5 326,-167.5 326,-167.5 326,-123.5 326,-123.5 326,-117.5 332,-111.5 338,-111.5 338,-111.5 438,-111.5 438,-111.5 444,-111.5 450,-117.5 450,-123.5 450,-123.5 450,-167.5 450,-167.5 450,-173.5 444,-179.5 438,-179.5\"/>\n<text text-anchor=\"middle\" x=\"388\" y=\"-164.3\" font-family=\"Helvetica,sans-Serif\" font-size=\"14.00\" fill=\"#000000\">gini = 0.321</text>\n<text text-anchor=\"middle\" x=\"388\" y=\"-149.3\" font-family=\"Helvetica,sans-Serif\" font-size=\"14.00\" fill=\"#000000\">samples = 174</text>\n<text text-anchor=\"middle\" x=\"388\" y=\"-134.3\" font-family=\"Helvetica,sans-Serif\" font-size=\"14.00\" fill=\"#000000\">value = [35, 139]</text>\n<text text-anchor=\"middle\" x=\"388\" y=\"-119.3\" font-family=\"Helvetica,sans-Serif\" font-size=\"14.00\" fill=\"#000000\">class = &#45;1</text>\n</g>\n<!-- 11&#45;&gt;15 -->\n<g id=\"edge15\" class=\"edge\">\n<title>11&#45;&gt;15</title>\n<path fill=\"none\" stroke=\"#000000\" d=\"M387.3498,-222.8796C387.4394,-212.2134 387.5361,-200.7021 387.6269,-189.9015\"/>\n<polygon fill=\"#000000\" stroke=\"#000000\" points=\"391.1274,-189.844 387.7116,-179.8149 384.1276,-189.7851 391.1274,-189.844\"/>\n</g>\n<!-- 13 -->\n<g id=\"node14\" class=\"node\">\n<title>13</title>\n<path fill=\"#efb286\" stroke=\"#000000\" d=\"M219,-68C219,-68 127,-68 127,-68 121,-68 115,-62 115,-56 115,-56 115,-12 115,-12 115,-6 121,0 127,0 127,0 219,0 219,0 225,0 231,-6 231,-12 231,-12 231,-56 231,-56 231,-62 225,-68 219,-68\"/>\n<text text-anchor=\"middle\" x=\"173\" y=\"-52.8\" font-family=\"Helvetica,sans-Serif\" font-size=\"14.00\" fill=\"#000000\">gini = 0.402</text>\n<text text-anchor=\"middle\" x=\"173\" y=\"-37.8\" font-family=\"Helvetica,sans-Serif\" font-size=\"14.00\" fill=\"#000000\">samples = 43</text>\n<text text-anchor=\"middle\" x=\"173\" y=\"-22.8\" font-family=\"Helvetica,sans-Serif\" font-size=\"14.00\" fill=\"#000000\">value = [31, 12]</text>\n<text text-anchor=\"middle\" x=\"173\" y=\"-7.8\" font-family=\"Helvetica,sans-Serif\" font-size=\"14.00\" fill=\"#000000\">class = 1</text>\n</g>\n<!-- 12&#45;&gt;13 -->\n<g id=\"edge13\" class=\"edge\">\n<title>12&#45;&gt;13</title>\n<path fill=\"none\" stroke=\"#000000\" d=\"M216.3069,-103.9815C210.8469,-95.1585 205.0716,-85.8258 199.5793,-76.9506\"/>\n<polygon fill=\"#000000\" stroke=\"#000000\" points=\"202.442,-74.9254 194.2035,-68.2637 196.4896,-78.609 202.442,-74.9254\"/>\n</g>\n<!-- 14 -->\n<g id=\"node15\" class=\"node\">\n<title>14</title>\n<path fill=\"#b2d9f5\" stroke=\"#000000\" d=\"M361,-68C361,-68 261,-68 261,-68 255,-68 249,-62 249,-56 249,-56 249,-12 249,-12 249,-6 255,0 261,0 261,0 361,0 361,0 367,0 373,-6 373,-12 373,-12 373,-56 373,-56 373,-62 367,-68 361,-68\"/>\n<text text-anchor=\"middle\" x=\"311\" y=\"-52.8\" font-family=\"Helvetica,sans-Serif\" font-size=\"14.00\" fill=\"#000000\">gini = 0.471</text>\n<text text-anchor=\"middle\" x=\"311\" y=\"-37.8\" font-family=\"Helvetica,sans-Serif\" font-size=\"14.00\" fill=\"#000000\">samples = 211</text>\n<text text-anchor=\"middle\" x=\"311\" y=\"-22.8\" font-family=\"Helvetica,sans-Serif\" font-size=\"14.00\" fill=\"#000000\">value = [80, 131]</text>\n<text text-anchor=\"middle\" x=\"311\" y=\"-7.8\" font-family=\"Helvetica,sans-Serif\" font-size=\"14.00\" fill=\"#000000\">class = &#45;1</text>\n</g>\n<!-- 12&#45;&gt;14 -->\n<g id=\"edge14\" class=\"edge\">\n<title>12&#45;&gt;14</title>\n<path fill=\"none\" stroke=\"#000000\" d=\"M267.6931,-103.9815C273.1531,-95.1585 278.9284,-85.8258 284.4207,-76.9506\"/>\n<polygon fill=\"#000000\" stroke=\"#000000\" points=\"287.5104,-78.609 289.7965,-68.2637 281.558,-74.9254 287.5104,-78.609\"/>\n</g>\n<!-- 19 -->\n<g id=\"node20\" class=\"node\">\n<title>19</title>\n<path fill=\"#c5e2f7\" stroke=\"#000000\" d=\"M1028,-663C1028,-663 920,-663 920,-663 914,-663 908,-657 908,-651 908,-651 908,-592 908,-592 908,-586 914,-580 920,-580 920,-580 1028,-580 1028,-580 1034,-580 1040,-586 1040,-592 1040,-592 1040,-651 1040,-651 1040,-657 1034,-663 1028,-663\"/>\n<text text-anchor=\"middle\" x=\"974\" y=\"-647.8\" font-family=\"Helvetica,sans-Serif\" font-size=\"14.00\" fill=\"#000000\">SFH &lt;= &#45;0.5</text>\n<text text-anchor=\"middle\" x=\"974\" y=\"-632.8\" font-family=\"Helvetica,sans-Serif\" font-size=\"14.00\" fill=\"#000000\">gini = 0.485</text>\n<text text-anchor=\"middle\" x=\"974\" y=\"-617.8\" font-family=\"Helvetica,sans-Serif\" font-size=\"14.00\" fill=\"#000000\">samples = 1184</text>\n<text text-anchor=\"middle\" x=\"974\" y=\"-602.8\" font-family=\"Helvetica,sans-Serif\" font-size=\"14.00\" fill=\"#000000\">value = [491, 693]</text>\n<text text-anchor=\"middle\" x=\"974\" y=\"-587.8\" font-family=\"Helvetica,sans-Serif\" font-size=\"14.00\" fill=\"#000000\">class = &#45;1</text>\n</g>\n<!-- 18&#45;&gt;19 -->\n<g id=\"edge19\" class=\"edge\">\n<title>18&#45;&gt;19</title>\n<path fill=\"none\" stroke=\"#000000\" d=\"M974,-698.8796C974,-690.6838 974,-681.9891 974,-673.5013\"/>\n<polygon fill=\"#000000\" stroke=\"#000000\" points=\"977.5001,-673.298 974,-663.2981 970.5001,-673.2981 977.5001,-673.298\"/>\n</g>\n<!-- 38 -->\n<g id=\"node39\" class=\"node\">\n<title>38</title>\n<path fill=\"#60b0ea\" stroke=\"#000000\" d=\"M1430.5,-663C1430.5,-663 1257.5,-663 1257.5,-663 1251.5,-663 1245.5,-657 1245.5,-651 1245.5,-651 1245.5,-592 1245.5,-592 1245.5,-586 1251.5,-580 1257.5,-580 1257.5,-580 1430.5,-580 1430.5,-580 1436.5,-580 1442.5,-586 1442.5,-592 1442.5,-592 1442.5,-651 1442.5,-651 1442.5,-657 1436.5,-663 1430.5,-663\"/>\n<text text-anchor=\"middle\" x=\"1344\" y=\"-647.8\" font-family=\"Helvetica,sans-Serif\" font-size=\"14.00\" fill=\"#000000\">having_Sub_Domain &lt;= 0.5</text>\n<text text-anchor=\"middle\" x=\"1344\" y=\"-632.8\" font-family=\"Helvetica,sans-Serif\" font-size=\"14.00\" fill=\"#000000\">gini = 0.276</text>\n<text text-anchor=\"middle\" x=\"1344\" y=\"-617.8\" font-family=\"Helvetica,sans-Serif\" font-size=\"14.00\" fill=\"#000000\">samples = 2592</text>\n<text text-anchor=\"middle\" x=\"1344\" y=\"-602.8\" font-family=\"Helvetica,sans-Serif\" font-size=\"14.00\" fill=\"#000000\">value = [428, 2164]</text>\n<text text-anchor=\"middle\" x=\"1344\" y=\"-587.8\" font-family=\"Helvetica,sans-Serif\" font-size=\"14.00\" fill=\"#000000\">class = &#45;1</text>\n</g>\n<!-- 18&#45;&gt;38 -->\n<g id=\"edge38\" class=\"edge\">\n<title>18&#45;&gt;38</title>\n<path fill=\"none\" stroke=\"#000000\" d=\"M1051.5641,-715.5537C1104.9586,-698.3809 1176.6254,-675.3313 1235.6477,-656.3484\"/>\n<polygon fill=\"#000000\" stroke=\"#000000\" points=\"1236.934,-659.6114 1245.3822,-653.2176 1234.7908,-652.9475 1236.934,-659.6114\"/>\n</g>\n<!-- 20 -->\n<g id=\"node21\" class=\"node\">\n<title>20</title>\n<path fill=\"#fffdfc\" stroke=\"#000000\" d=\"M938,-544C938,-544 820,-544 820,-544 814,-544 808,-538 808,-532 808,-532 808,-473 808,-473 808,-467 814,-461 820,-461 820,-461 938,-461 938,-461 944,-461 950,-467 950,-473 950,-473 950,-532 950,-532 950,-538 944,-544 938,-544\"/>\n<text text-anchor=\"middle\" x=\"879\" y=\"-528.8\" font-family=\"Helvetica,sans-Serif\" font-size=\"14.00\" fill=\"#000000\">Prefix_Suffix &lt;= 0.0</text>\n<text text-anchor=\"middle\" x=\"879\" y=\"-513.8\" font-family=\"Helvetica,sans-Serif\" font-size=\"14.00\" fill=\"#000000\">gini = 0.5</text>\n<text text-anchor=\"middle\" x=\"879\" y=\"-498.8\" font-family=\"Helvetica,sans-Serif\" font-size=\"14.00\" fill=\"#000000\">samples = 912</text>\n<text text-anchor=\"middle\" x=\"879\" y=\"-483.8\" font-family=\"Helvetica,sans-Serif\" font-size=\"14.00\" fill=\"#000000\">value = [459, 453]</text>\n<text text-anchor=\"middle\" x=\"879\" y=\"-468.8\" font-family=\"Helvetica,sans-Serif\" font-size=\"14.00\" fill=\"#000000\">class = 1</text>\n</g>\n<!-- 19&#45;&gt;20 -->\n<g id=\"edge20\" class=\"edge\">\n<title>19&#45;&gt;20</title>\n<path fill=\"none\" stroke=\"#000000\" d=\"M940.7736,-579.8796C933.6556,-570.9633 926.0661,-561.4565 918.7308,-552.268\"/>\n<polygon fill=\"#000000\" stroke=\"#000000\" points=\"921.3425,-549.9295 912.3682,-544.2981 915.8719,-554.2968 921.3425,-549.9295\"/>\n</g>\n<!-- 33 -->\n<g id=\"node34\" class=\"node\">\n<title>33</title>\n<path fill=\"#53aae8\" stroke=\"#000000\" d=\"M1158,-544C1158,-544 980,-544 980,-544 974,-544 968,-538 968,-532 968,-532 968,-473 968,-473 968,-467 974,-461 980,-461 980,-461 1158,-461 1158,-461 1164,-461 1170,-467 1170,-473 1170,-473 1170,-532 1170,-532 1170,-538 1164,-544 1158,-544\"/>\n<text text-anchor=\"middle\" x=\"1069\" y=\"-528.8\" font-family=\"Helvetica,sans-Serif\" font-size=\"14.00\" fill=\"#000000\">having_Sub_Domain &lt;= &#45;0.5</text>\n<text text-anchor=\"middle\" x=\"1069\" y=\"-513.8\" font-family=\"Helvetica,sans-Serif\" font-size=\"14.00\" fill=\"#000000\">gini = 0.208</text>\n<text text-anchor=\"middle\" x=\"1069\" y=\"-498.8\" font-family=\"Helvetica,sans-Serif\" font-size=\"14.00\" fill=\"#000000\">samples = 272</text>\n<text text-anchor=\"middle\" x=\"1069\" y=\"-483.8\" font-family=\"Helvetica,sans-Serif\" font-size=\"14.00\" fill=\"#000000\">value = [32, 240]</text>\n<text text-anchor=\"middle\" x=\"1069\" y=\"-468.8\" font-family=\"Helvetica,sans-Serif\" font-size=\"14.00\" fill=\"#000000\">class = &#45;1</text>\n</g>\n<!-- 19&#45;&gt;33 -->\n<g id=\"edge33\" class=\"edge\">\n<title>19&#45;&gt;33</title>\n<path fill=\"none\" stroke=\"#000000\" d=\"M1007.2264,-579.8796C1014.3444,-570.9633 1021.9339,-561.4565 1029.2692,-552.268\"/>\n<polygon fill=\"#000000\" stroke=\"#000000\" points=\"1032.1281,-554.2968 1035.6318,-544.2981 1026.6575,-549.9295 1032.1281,-554.2968\"/>\n</g>\n<!-- 21 -->\n<g id=\"node22\" class=\"node\">\n<title>21</title>\n<path fill=\"#f9e0ce\" stroke=\"#000000\" d=\"M809.5,-425C809.5,-425 636.5,-425 636.5,-425 630.5,-425 624.5,-419 624.5,-413 624.5,-413 624.5,-354 624.5,-354 624.5,-348 630.5,-342 636.5,-342 636.5,-342 809.5,-342 809.5,-342 815.5,-342 821.5,-348 821.5,-354 821.5,-354 821.5,-413 821.5,-413 821.5,-419 815.5,-425 809.5,-425\"/>\n<text text-anchor=\"middle\" x=\"723\" y=\"-409.8\" font-family=\"Helvetica,sans-Serif\" font-size=\"14.00\" fill=\"#000000\">having_Sub_Domain &lt;= 0.5</text>\n<text text-anchor=\"middle\" x=\"723\" y=\"-394.8\" font-family=\"Helvetica,sans-Serif\" font-size=\"14.00\" fill=\"#000000\">gini = 0.49</text>\n<text text-anchor=\"middle\" x=\"723\" y=\"-379.8\" font-family=\"Helvetica,sans-Serif\" font-size=\"14.00\" fill=\"#000000\">samples = 804</text>\n<text text-anchor=\"middle\" x=\"723\" y=\"-364.8\" font-family=\"Helvetica,sans-Serif\" font-size=\"14.00\" fill=\"#000000\">value = [459, 345]</text>\n<text text-anchor=\"middle\" x=\"723\" y=\"-349.8\" font-family=\"Helvetica,sans-Serif\" font-size=\"14.00\" fill=\"#000000\">class = 1</text>\n</g>\n<!-- 20&#45;&gt;21 -->\n<g id=\"edge21\" class=\"edge\">\n<title>20&#45;&gt;21</title>\n<path fill=\"none\" stroke=\"#000000\" d=\"M824.4388,-460.8796C811.9698,-451.368 798.6198,-441.1843 785.8352,-431.432\"/>\n<polygon fill=\"#000000\" stroke=\"#000000\" points=\"787.604,-428.3792 777.5304,-425.0969 783.3585,-433.9448 787.604,-428.3792\"/>\n</g>\n<!-- 32 -->\n<g id=\"node33\" class=\"node\">\n<title>32</title>\n<path fill=\"#399de5\" stroke=\"#000000\" d=\"M944,-417.5C944,-417.5 852,-417.5 852,-417.5 846,-417.5 840,-411.5 840,-405.5 840,-405.5 840,-361.5 840,-361.5 840,-355.5 846,-349.5 852,-349.5 852,-349.5 944,-349.5 944,-349.5 950,-349.5 956,-355.5 956,-361.5 956,-361.5 956,-405.5 956,-405.5 956,-411.5 950,-417.5 944,-417.5\"/>\n<text text-anchor=\"middle\" x=\"898\" y=\"-402.3\" font-family=\"Helvetica,sans-Serif\" font-size=\"14.00\" fill=\"#000000\">gini = 0.0</text>\n<text text-anchor=\"middle\" x=\"898\" y=\"-387.3\" font-family=\"Helvetica,sans-Serif\" font-size=\"14.00\" fill=\"#000000\">samples = 108</text>\n<text text-anchor=\"middle\" x=\"898\" y=\"-372.3\" font-family=\"Helvetica,sans-Serif\" font-size=\"14.00\" fill=\"#000000\">value = [0, 108]</text>\n<text text-anchor=\"middle\" x=\"898\" y=\"-357.3\" font-family=\"Helvetica,sans-Serif\" font-size=\"14.00\" fill=\"#000000\">class = &#45;1</text>\n</g>\n<!-- 20&#45;&gt;32 -->\n<g id=\"edge32\" class=\"edge\">\n<title>20&#45;&gt;32</title>\n<path fill=\"none\" stroke=\"#000000\" d=\"M885.6453,-460.8796C887.3483,-450.2134 889.1862,-438.7021 890.9107,-427.9015\"/>\n<polygon fill=\"#000000\" stroke=\"#000000\" points=\"894.4006,-428.2417 892.5211,-417.8149 887.4882,-427.138 894.4006,-428.2417\"/>\n</g>\n<!-- 22 -->\n<g id=\"node23\" class=\"node\">\n<title>22</title>\n<path fill=\"#f2c09c\" stroke=\"#000000\" d=\"M781,-306C781,-306 589,-306 589,-306 583,-306 577,-300 577,-294 577,-294 577,-235 577,-235 577,-229 583,-223 589,-223 589,-223 781,-223 781,-223 787,-223 793,-229 793,-235 793,-235 793,-294 793,-294 793,-300 787,-306 781,-306\"/>\n<text text-anchor=\"middle\" x=\"685\" y=\"-290.8\" font-family=\"Helvetica,sans-Serif\" font-size=\"14.00\" fill=\"#000000\">Links_pointing_to_page &lt;= 0.5</text>\n<text text-anchor=\"middle\" x=\"685\" y=\"-275.8\" font-family=\"Helvetica,sans-Serif\" font-size=\"14.00\" fill=\"#000000\">gini = 0.445</text>\n<text text-anchor=\"middle\" x=\"685\" y=\"-260.8\" font-family=\"Helvetica,sans-Serif\" font-size=\"14.00\" fill=\"#000000\">samples = 560</text>\n<text text-anchor=\"middle\" x=\"685\" y=\"-245.8\" font-family=\"Helvetica,sans-Serif\" font-size=\"14.00\" fill=\"#000000\">value = [373, 187]</text>\n<text text-anchor=\"middle\" x=\"685\" y=\"-230.8\" font-family=\"Helvetica,sans-Serif\" font-size=\"14.00\" fill=\"#000000\">class = 1</text>\n</g>\n<!-- 21&#45;&gt;22 -->\n<g id=\"edge22\" class=\"edge\">\n<title>21&#45;&gt;22</title>\n<path fill=\"none\" stroke=\"#000000\" d=\"M709.7094,-341.8796C707.0348,-333.5037 704.1937,-324.6067 701.4269,-315.942\"/>\n<polygon fill=\"#000000\" stroke=\"#000000\" points=\"704.7234,-314.7595 698.3473,-306.2981 698.0552,-316.8889 704.7234,-314.7595\"/>\n</g>\n<!-- 27 -->\n<g id=\"node28\" class=\"node\">\n<title>27</title>\n<path fill=\"#a5d2f3\" stroke=\"#000000\" d=\"M937,-306C937,-306 823,-306 823,-306 817,-306 811,-300 811,-294 811,-294 811,-235 811,-235 811,-229 817,-223 823,-223 823,-223 937,-223 937,-223 943,-223 949,-229 949,-235 949,-235 949,-294 949,-294 949,-300 943,-306 937,-306\"/>\n<text text-anchor=\"middle\" x=\"880\" y=\"-290.8\" font-family=\"Helvetica,sans-Serif\" font-size=\"14.00\" fill=\"#000000\">Page_Rank &lt;= 0.0</text>\n<text text-anchor=\"middle\" x=\"880\" y=\"-275.8\" font-family=\"Helvetica,sans-Serif\" font-size=\"14.00\" fill=\"#000000\">gini = 0.456</text>\n<text text-anchor=\"middle\" x=\"880\" y=\"-260.8\" font-family=\"Helvetica,sans-Serif\" font-size=\"14.00\" fill=\"#000000\">samples = 244</text>\n<text text-anchor=\"middle\" x=\"880\" y=\"-245.8\" font-family=\"Helvetica,sans-Serif\" font-size=\"14.00\" fill=\"#000000\">value = [86, 158]</text>\n<text text-anchor=\"middle\" x=\"880\" y=\"-230.8\" font-family=\"Helvetica,sans-Serif\" font-size=\"14.00\" fill=\"#000000\">class = &#45;1</text>\n</g>\n<!-- 21&#45;&gt;27 -->\n<g id=\"edge27\" class=\"edge\">\n<title>21&#45;&gt;27</title>\n<path fill=\"none\" stroke=\"#000000\" d=\"M777.911,-341.8796C790.5794,-332.2774 804.1515,-321.9903 817.1295,-312.1534\"/>\n<polygon fill=\"#000000\" stroke=\"#000000\" points=\"819.2648,-314.9268 825.12,-306.0969 815.0364,-309.3482 819.2648,-314.9268\"/>\n</g>\n<!-- 23 -->\n<g id=\"node24\" class=\"node\">\n<title>23</title>\n<path fill=\"#eba06a\" stroke=\"#000000\" d=\"M603,-179.5C603,-179.5 503,-179.5 503,-179.5 497,-179.5 491,-173.5 491,-167.5 491,-167.5 491,-123.5 491,-123.5 491,-117.5 497,-111.5 503,-111.5 503,-111.5 603,-111.5 603,-111.5 609,-111.5 615,-117.5 615,-123.5 615,-123.5 615,-167.5 615,-167.5 615,-173.5 609,-179.5 603,-179.5\"/>\n<text text-anchor=\"middle\" x=\"553\" y=\"-164.3\" font-family=\"Helvetica,sans-Serif\" font-size=\"14.00\" fill=\"#000000\">gini = 0.318</text>\n<text text-anchor=\"middle\" x=\"553\" y=\"-149.3\" font-family=\"Helvetica,sans-Serif\" font-size=\"14.00\" fill=\"#000000\">samples = 312</text>\n<text text-anchor=\"middle\" x=\"553\" y=\"-134.3\" font-family=\"Helvetica,sans-Serif\" font-size=\"14.00\" fill=\"#000000\">value = [250, 62]</text>\n<text text-anchor=\"middle\" x=\"553\" y=\"-119.3\" font-family=\"Helvetica,sans-Serif\" font-size=\"14.00\" fill=\"#000000\">class = 1</text>\n</g>\n<!-- 22&#45;&gt;23 -->\n<g id=\"edge23\" class=\"edge\">\n<title>22&#45;&gt;23</title>\n<path fill=\"none\" stroke=\"#000000\" d=\"M638.8328,-222.8796C625.7817,-211.1138 611.5899,-198.3197 598.5739,-186.5855\"/>\n<polygon fill=\"#000000\" stroke=\"#000000\" points=\"600.8346,-183.9113 591.0636,-179.8149 596.1474,-189.1104 600.8346,-183.9113\"/>\n</g>\n<!-- 24 -->\n<g id=\"node25\" class=\"node\">\n<title>24</title>\n<path fill=\"#fcfdff\" stroke=\"#000000\" d=\"M760.5,-187C760.5,-187 645.5,-187 645.5,-187 639.5,-187 633.5,-181 633.5,-175 633.5,-175 633.5,-116 633.5,-116 633.5,-110 639.5,-104 645.5,-104 645.5,-104 760.5,-104 760.5,-104 766.5,-104 772.5,-110 772.5,-116 772.5,-116 772.5,-175 772.5,-175 772.5,-181 766.5,-187 760.5,-187\"/>\n<text text-anchor=\"middle\" x=\"703\" y=\"-171.8\" font-family=\"Helvetica,sans-Serif\" font-size=\"14.00\" fill=\"#000000\">DNSRecord &lt;= 0.0</text>\n<text text-anchor=\"middle\" x=\"703\" y=\"-156.8\" font-family=\"Helvetica,sans-Serif\" font-size=\"14.00\" fill=\"#000000\">gini = 0.5</text>\n<text text-anchor=\"middle\" x=\"703\" y=\"-141.8\" font-family=\"Helvetica,sans-Serif\" font-size=\"14.00\" fill=\"#000000\">samples = 248</text>\n<text text-anchor=\"middle\" x=\"703\" y=\"-126.8\" font-family=\"Helvetica,sans-Serif\" font-size=\"14.00\" fill=\"#000000\">value = [123, 125]</text>\n<text text-anchor=\"middle\" x=\"703\" y=\"-111.8\" font-family=\"Helvetica,sans-Serif\" font-size=\"14.00\" fill=\"#000000\">class = &#45;1</text>\n</g>\n<!-- 22&#45;&gt;24 -->\n<g id=\"edge24\" class=\"edge\">\n<title>22&#45;&gt;24</title>\n<path fill=\"none\" stroke=\"#000000\" d=\"M691.2955,-222.8796C692.5488,-214.5938 693.8793,-205.798 695.1766,-197.2216\"/>\n<polygon fill=\"#000000\" stroke=\"#000000\" points=\"698.6426,-197.7091 696.6776,-187.2981 691.7213,-196.6621 698.6426,-197.7091\"/>\n</g>\n<!-- 25 -->\n<g id=\"node26\" class=\"node\">\n<title>25</title>\n<path fill=\"#9acdf2\" stroke=\"#000000\" d=\"M625,-68C625,-68 525,-68 525,-68 519,-68 513,-62 513,-56 513,-56 513,-12 513,-12 513,-6 519,0 525,0 525,0 625,0 625,0 631,0 637,-6 637,-12 637,-12 637,-56 637,-56 637,-62 631,-68 625,-68\"/>\n<text text-anchor=\"middle\" x=\"575\" y=\"-52.8\" font-family=\"Helvetica,sans-Serif\" font-size=\"14.00\" fill=\"#000000\">gini = 0.441</text>\n<text text-anchor=\"middle\" x=\"575\" y=\"-37.8\" font-family=\"Helvetica,sans-Serif\" font-size=\"14.00\" fill=\"#000000\">samples = 149</text>\n<text text-anchor=\"middle\" x=\"575\" y=\"-22.8\" font-family=\"Helvetica,sans-Serif\" font-size=\"14.00\" fill=\"#000000\">value = [49, 100]</text>\n<text text-anchor=\"middle\" x=\"575\" y=\"-7.8\" font-family=\"Helvetica,sans-Serif\" font-size=\"14.00\" fill=\"#000000\">class = &#45;1</text>\n</g>\n<!-- 24&#45;&gt;25 -->\n<g id=\"edge25\" class=\"edge\">\n<title>24&#45;&gt;25</title>\n<path fill=\"none\" stroke=\"#000000\" d=\"M655.3375,-103.9815C644.4703,-94.5151 632.9295,-84.462 622.0865,-75.0168\"/>\n<polygon fill=\"#000000\" stroke=\"#000000\" points=\"624.1734,-72.1929 614.3341,-68.2637 619.5755,-77.4712 624.1734,-72.1929\"/>\n</g>\n<!-- 26 -->\n<g id=\"node27\" class=\"node\">\n<title>26</title>\n<path fill=\"#eeac7c\" stroke=\"#000000\" d=\"M759,-68C759,-68 667,-68 667,-68 661,-68 655,-62 655,-56 655,-56 655,-12 655,-12 655,-6 661,0 667,0 667,0 759,0 759,0 765,0 771,-6 771,-12 771,-12 771,-56 771,-56 771,-62 765,-68 759,-68\"/>\n<text text-anchor=\"middle\" x=\"713\" y=\"-52.8\" font-family=\"Helvetica,sans-Serif\" font-size=\"14.00\" fill=\"#000000\">gini = 0.378</text>\n<text text-anchor=\"middle\" x=\"713\" y=\"-37.8\" font-family=\"Helvetica,sans-Serif\" font-size=\"14.00\" fill=\"#000000\">samples = 99</text>\n<text text-anchor=\"middle\" x=\"713\" y=\"-22.8\" font-family=\"Helvetica,sans-Serif\" font-size=\"14.00\" fill=\"#000000\">value = [74, 25]</text>\n<text text-anchor=\"middle\" x=\"713\" y=\"-7.8\" font-family=\"Helvetica,sans-Serif\" font-size=\"14.00\" fill=\"#000000\">class = 1</text>\n</g>\n<!-- 24&#45;&gt;26 -->\n<g id=\"edge26\" class=\"edge\">\n<title>24&#45;&gt;26</title>\n<path fill=\"none\" stroke=\"#000000\" d=\"M706.7236,-103.9815C707.4737,-95.618 708.2649,-86.7965 709.0232,-78.3409\"/>\n<polygon fill=\"#000000\" stroke=\"#000000\" points=\"712.5197,-78.5364 709.927,-68.2637 705.5477,-77.911 712.5197,-78.5364\"/>\n</g>\n<!-- 28 -->\n<g id=\"node29\" class=\"node\">\n<title>28</title>\n<path fill=\"#daedfa\" stroke=\"#000000\" d=\"M943,-187C943,-187 815,-187 815,-187 809,-187 803,-181 803,-175 803,-175 803,-116 803,-116 803,-110 809,-104 815,-104 815,-104 943,-104 943,-104 949,-104 955,-110 955,-116 955,-116 955,-175 955,-175 955,-181 949,-187 943,-187\"/>\n<text text-anchor=\"middle\" x=\"879\" y=\"-171.8\" font-family=\"Helvetica,sans-Serif\" font-size=\"14.00\" fill=\"#000000\">Request_URL &lt;= 0.0</text>\n<text text-anchor=\"middle\" x=\"879\" y=\"-156.8\" font-family=\"Helvetica,sans-Serif\" font-size=\"14.00\" fill=\"#000000\">gini = 0.495</text>\n<text text-anchor=\"middle\" x=\"879\" y=\"-141.8\" font-family=\"Helvetica,sans-Serif\" font-size=\"14.00\" fill=\"#000000\">samples = 176</text>\n<text text-anchor=\"middle\" x=\"879\" y=\"-126.8\" font-family=\"Helvetica,sans-Serif\" font-size=\"14.00\" fill=\"#000000\">value = [79, 97]</text>\n<text text-anchor=\"middle\" x=\"879\" y=\"-111.8\" font-family=\"Helvetica,sans-Serif\" font-size=\"14.00\" fill=\"#000000\">class = &#45;1</text>\n</g>\n<!-- 27&#45;&gt;28 -->\n<g id=\"edge28\" class=\"edge\">\n<title>27&#45;&gt;28</title>\n<path fill=\"none\" stroke=\"#000000\" d=\"M879.6502,-222.8796C879.5814,-214.6838 879.5083,-205.9891 879.437,-197.5013\"/>\n<polygon fill=\"#000000\" stroke=\"#000000\" points=\"882.9352,-197.2683 879.3512,-187.2981 875.9355,-197.3272 882.9352,-197.2683\"/>\n</g>\n<!-- 31 -->\n<g id=\"node32\" class=\"node\">\n<title>31</title>\n<path fill=\"#50a8e8\" stroke=\"#000000\" d=\"M1068.5,-179.5C1068.5,-179.5 985.5,-179.5 985.5,-179.5 979.5,-179.5 973.5,-173.5 973.5,-167.5 973.5,-167.5 973.5,-123.5 973.5,-123.5 973.5,-117.5 979.5,-111.5 985.5,-111.5 985.5,-111.5 1068.5,-111.5 1068.5,-111.5 1074.5,-111.5 1080.5,-117.5 1080.5,-123.5 1080.5,-123.5 1080.5,-167.5 1080.5,-167.5 1080.5,-173.5 1074.5,-179.5 1068.5,-179.5\"/>\n<text text-anchor=\"middle\" x=\"1027\" y=\"-164.3\" font-family=\"Helvetica,sans-Serif\" font-size=\"14.00\" fill=\"#000000\">gini = 0.185</text>\n<text text-anchor=\"middle\" x=\"1027\" y=\"-149.3\" font-family=\"Helvetica,sans-Serif\" font-size=\"14.00\" fill=\"#000000\">samples = 68</text>\n<text text-anchor=\"middle\" x=\"1027\" y=\"-134.3\" font-family=\"Helvetica,sans-Serif\" font-size=\"14.00\" fill=\"#000000\">value = [7, 61]</text>\n<text text-anchor=\"middle\" x=\"1027\" y=\"-119.3\" font-family=\"Helvetica,sans-Serif\" font-size=\"14.00\" fill=\"#000000\">class = &#45;1</text>\n</g>\n<!-- 27&#45;&gt;31 -->\n<g id=\"edge31\" class=\"edge\">\n<title>27&#45;&gt;31</title>\n<path fill=\"none\" stroke=\"#000000\" d=\"M931.4135,-222.8796C946.0835,-211.0038 962.0477,-198.0804 976.6533,-186.2568\"/>\n<polygon fill=\"#000000\" stroke=\"#000000\" points=\"979.0407,-188.8273 984.611,-179.8149 974.6363,-183.3866 979.0407,-188.8273\"/>\n</g>\n<!-- 29 -->\n<g id=\"node30\" class=\"node\">\n<title>29</title>\n<path fill=\"#f6d3ba\" stroke=\"#000000\" d=\"M904,-68C904,-68 812,-68 812,-68 806,-68 800,-62 800,-56 800,-56 800,-12 800,-12 800,-6 806,0 812,0 812,0 904,0 904,0 910,0 916,-6 916,-12 916,-12 916,-56 916,-56 916,-62 910,-68 904,-68\"/>\n<text text-anchor=\"middle\" x=\"858\" y=\"-52.8\" font-family=\"Helvetica,sans-Serif\" font-size=\"14.00\" fill=\"#000000\">gini = 0.478</text>\n<text text-anchor=\"middle\" x=\"858\" y=\"-37.8\" font-family=\"Helvetica,sans-Serif\" font-size=\"14.00\" fill=\"#000000\">samples = 81</text>\n<text text-anchor=\"middle\" x=\"858\" y=\"-22.8\" font-family=\"Helvetica,sans-Serif\" font-size=\"14.00\" fill=\"#000000\">value = [49, 32]</text>\n<text text-anchor=\"middle\" x=\"858\" y=\"-7.8\" font-family=\"Helvetica,sans-Serif\" font-size=\"14.00\" fill=\"#000000\">class = 1</text>\n</g>\n<!-- 28&#45;&gt;29 -->\n<g id=\"edge29\" class=\"edge\">\n<title>28&#45;&gt;29</title>\n<path fill=\"none\" stroke=\"#000000\" d=\"M871.1804,-103.9815C869.6052,-95.618 867.9437,-86.7965 866.3512,-78.3409\"/>\n<polygon fill=\"#000000\" stroke=\"#000000\" points=\"869.7437,-77.4431 864.4532,-68.2637 862.8647,-78.7387 869.7437,-77.4431\"/>\n</g>\n<!-- 30 -->\n<g id=\"node31\" class=\"node\">\n<title>30</title>\n<path fill=\"#94caf1\" stroke=\"#000000\" d=\"M1038,-68C1038,-68 946,-68 946,-68 940,-68 934,-62 934,-56 934,-56 934,-12 934,-12 934,-6 940,0 946,0 946,0 1038,0 1038,0 1044,0 1050,-6 1050,-12 1050,-12 1050,-56 1050,-56 1050,-62 1044,-68 1038,-68\"/>\n<text text-anchor=\"middle\" x=\"992\" y=\"-52.8\" font-family=\"Helvetica,sans-Serif\" font-size=\"14.00\" fill=\"#000000\">gini = 0.432</text>\n<text text-anchor=\"middle\" x=\"992\" y=\"-37.8\" font-family=\"Helvetica,sans-Serif\" font-size=\"14.00\" fill=\"#000000\">samples = 95</text>\n<text text-anchor=\"middle\" x=\"992\" y=\"-22.8\" font-family=\"Helvetica,sans-Serif\" font-size=\"14.00\" fill=\"#000000\">value = [30, 65]</text>\n<text text-anchor=\"middle\" x=\"992\" y=\"-7.8\" font-family=\"Helvetica,sans-Serif\" font-size=\"14.00\" fill=\"#000000\">class = &#45;1</text>\n</g>\n<!-- 28&#45;&gt;30 -->\n<g id=\"edge30\" class=\"edge\">\n<title>28&#45;&gt;30</title>\n<path fill=\"none\" stroke=\"#000000\" d=\"M921.077,-103.9815C930.5776,-94.607 940.6613,-84.6572 950.1524,-75.2921\"/>\n<polygon fill=\"#000000\" stroke=\"#000000\" points=\"952.6155,-77.7787 957.2754,-68.2637 947.6989,-72.796 952.6155,-77.7787\"/>\n</g>\n<!-- 34 -->\n<g id=\"node35\" class=\"node\">\n<title>34</title>\n<path fill=\"#9ecff2\" stroke=\"#000000\" d=\"M1114,-425C1114,-425 986,-425 986,-425 980,-425 974,-419 974,-413 974,-413 974,-354 974,-354 974,-348 980,-342 986,-342 986,-342 1114,-342 1114,-342 1120,-342 1126,-348 1126,-354 1126,-354 1126,-413 1126,-413 1126,-419 1120,-425 1114,-425\"/>\n<text text-anchor=\"middle\" x=\"1050\" y=\"-409.8\" font-family=\"Helvetica,sans-Serif\" font-size=\"14.00\" fill=\"#000000\">Request_URL &lt;= 0.0</text>\n<text text-anchor=\"middle\" x=\"1050\" y=\"-394.8\" font-family=\"Helvetica,sans-Serif\" font-size=\"14.00\" fill=\"#000000\">gini = 0.447</text>\n<text text-anchor=\"middle\" x=\"1050\" y=\"-379.8\" font-family=\"Helvetica,sans-Serif\" font-size=\"14.00\" fill=\"#000000\">samples = 86</text>\n<text text-anchor=\"middle\" x=\"1050\" y=\"-364.8\" font-family=\"Helvetica,sans-Serif\" font-size=\"14.00\" fill=\"#000000\">value = [29, 57]</text>\n<text text-anchor=\"middle\" x=\"1050\" y=\"-349.8\" font-family=\"Helvetica,sans-Serif\" font-size=\"14.00\" fill=\"#000000\">class = &#45;1</text>\n</g>\n<!-- 33&#45;&gt;34 -->\n<g id=\"edge34\" class=\"edge\">\n<title>33&#45;&gt;34</title>\n<path fill=\"none\" stroke=\"#000000\" d=\"M1062.3547,-460.8796C1061.0318,-452.5938 1059.6274,-443.798 1058.2581,-435.2216\"/>\n<polygon fill=\"#000000\" stroke=\"#000000\" points=\"1061.7066,-434.6211 1056.6736,-425.2981 1054.7942,-435.7249 1061.7066,-434.6211\"/>\n</g>\n<!-- 37 -->\n<g id=\"node38\" class=\"node\">\n<title>37</title>\n<path fill=\"#3c9fe5\" stroke=\"#000000\" d=\"M1248,-417.5C1248,-417.5 1156,-417.5 1156,-417.5 1150,-417.5 1144,-411.5 1144,-405.5 1144,-405.5 1144,-361.5 1144,-361.5 1144,-355.5 1150,-349.5 1156,-349.5 1156,-349.5 1248,-349.5 1248,-349.5 1254,-349.5 1260,-355.5 1260,-361.5 1260,-361.5 1260,-405.5 1260,-405.5 1260,-411.5 1254,-417.5 1248,-417.5\"/>\n<text text-anchor=\"middle\" x=\"1202\" y=\"-402.3\" font-family=\"Helvetica,sans-Serif\" font-size=\"14.00\" fill=\"#000000\">gini = 0.032</text>\n<text text-anchor=\"middle\" x=\"1202\" y=\"-387.3\" font-family=\"Helvetica,sans-Serif\" font-size=\"14.00\" fill=\"#000000\">samples = 186</text>\n<text text-anchor=\"middle\" x=\"1202\" y=\"-372.3\" font-family=\"Helvetica,sans-Serif\" font-size=\"14.00\" fill=\"#000000\">value = [3, 183]</text>\n<text text-anchor=\"middle\" x=\"1202\" y=\"-357.3\" font-family=\"Helvetica,sans-Serif\" font-size=\"14.00\" fill=\"#000000\">class = &#45;1</text>\n</g>\n<!-- 33&#45;&gt;37 -->\n<g id=\"edge37\" class=\"edge\">\n<title>33&#45;&gt;37</title>\n<path fill=\"none\" stroke=\"#000000\" d=\"M1115.5169,-460.8796C1128.667,-449.1138 1142.9663,-436.3197 1156.0809,-424.5855\"/>\n<polygon fill=\"#000000\" stroke=\"#000000\" points=\"1158.5294,-427.0913 1163.648,-417.8149 1153.8618,-421.8746 1158.5294,-427.0913\"/>\n</g>\n<!-- 35 -->\n<g id=\"node36\" class=\"node\">\n<title>35</title>\n<path fill=\"#f1bc96\" stroke=\"#000000\" d=\"M1068.5,-298.5C1068.5,-298.5 985.5,-298.5 985.5,-298.5 979.5,-298.5 973.5,-292.5 973.5,-286.5 973.5,-286.5 973.5,-242.5 973.5,-242.5 973.5,-236.5 979.5,-230.5 985.5,-230.5 985.5,-230.5 1068.5,-230.5 1068.5,-230.5 1074.5,-230.5 1080.5,-236.5 1080.5,-242.5 1080.5,-242.5 1080.5,-286.5 1080.5,-286.5 1080.5,-292.5 1074.5,-298.5 1068.5,-298.5\"/>\n<text text-anchor=\"middle\" x=\"1027\" y=\"-283.3\" font-family=\"Helvetica,sans-Serif\" font-size=\"14.00\" fill=\"#000000\">gini = 0.435</text>\n<text text-anchor=\"middle\" x=\"1027\" y=\"-268.3\" font-family=\"Helvetica,sans-Serif\" font-size=\"14.00\" fill=\"#000000\">samples = 25</text>\n<text text-anchor=\"middle\" x=\"1027\" y=\"-253.3\" font-family=\"Helvetica,sans-Serif\" font-size=\"14.00\" fill=\"#000000\">value = [17, 8]</text>\n<text text-anchor=\"middle\" x=\"1027\" y=\"-238.3\" font-family=\"Helvetica,sans-Serif\" font-size=\"14.00\" fill=\"#000000\">class = 1</text>\n</g>\n<!-- 34&#45;&gt;35 -->\n<g id=\"edge35\" class=\"edge\">\n<title>34&#45;&gt;35</title>\n<path fill=\"none\" stroke=\"#000000\" d=\"M1041.9557,-341.8796C1039.8942,-331.2134 1037.6693,-319.7021 1035.5818,-308.9015\"/>\n<polygon fill=\"#000000\" stroke=\"#000000\" points=\"1038.9664,-307.969 1033.6323,-298.8149 1032.0936,-309.2974 1038.9664,-307.969\"/>\n</g>\n<!-- 36 -->\n<g id=\"node37\" class=\"node\">\n<title>36</title>\n<path fill=\"#69b5eb\" stroke=\"#000000\" d=\"M1203,-298.5C1203,-298.5 1111,-298.5 1111,-298.5 1105,-298.5 1099,-292.5 1099,-286.5 1099,-286.5 1099,-242.5 1099,-242.5 1099,-236.5 1105,-230.5 1111,-230.5 1111,-230.5 1203,-230.5 1203,-230.5 1209,-230.5 1215,-236.5 1215,-242.5 1215,-242.5 1215,-286.5 1215,-286.5 1215,-292.5 1209,-298.5 1203,-298.5\"/>\n<text text-anchor=\"middle\" x=\"1157\" y=\"-283.3\" font-family=\"Helvetica,sans-Serif\" font-size=\"14.00\" fill=\"#000000\">gini = 0.316</text>\n<text text-anchor=\"middle\" x=\"1157\" y=\"-268.3\" font-family=\"Helvetica,sans-Serif\" font-size=\"14.00\" fill=\"#000000\">samples = 61</text>\n<text text-anchor=\"middle\" x=\"1157\" y=\"-253.3\" font-family=\"Helvetica,sans-Serif\" font-size=\"14.00\" fill=\"#000000\">value = [12, 49]</text>\n<text text-anchor=\"middle\" x=\"1157\" y=\"-238.3\" font-family=\"Helvetica,sans-Serif\" font-size=\"14.00\" fill=\"#000000\">class = &#45;1</text>\n</g>\n<!-- 34&#45;&gt;36 -->\n<g id=\"edge36\" class=\"edge\">\n<title>34&#45;&gt;36</title>\n<path fill=\"none\" stroke=\"#000000\" d=\"M1087.4234,-341.8796C1097.7061,-330.4436 1108.8623,-318.0363 1119.1679,-306.575\"/>\n<polygon fill=\"#000000\" stroke=\"#000000\" points=\"1122.0618,-308.5912 1126.1454,-298.8149 1116.8565,-303.9108 1122.0618,-308.5912\"/>\n</g>\n<!-- 39 -->\n<g id=\"node40\" class=\"node\">\n<title>39</title>\n<path fill=\"#77bced\" stroke=\"#000000\" d=\"M1403,-544C1403,-544 1285,-544 1285,-544 1279,-544 1273,-538 1273,-532 1273,-532 1273,-473 1273,-473 1273,-467 1279,-461 1285,-461 1285,-461 1403,-461 1403,-461 1409,-461 1415,-467 1415,-473 1415,-473 1415,-532 1415,-532 1415,-538 1409,-544 1403,-544\"/>\n<text text-anchor=\"middle\" x=\"1344\" y=\"-528.8\" font-family=\"Helvetica,sans-Serif\" font-size=\"14.00\" fill=\"#000000\">Prefix_Suffix &lt;= 0.0</text>\n<text text-anchor=\"middle\" x=\"1344\" y=\"-513.8\" font-family=\"Helvetica,sans-Serif\" font-size=\"14.00\" fill=\"#000000\">gini = 0.362</text>\n<text text-anchor=\"middle\" x=\"1344\" y=\"-498.8\" font-family=\"Helvetica,sans-Serif\" font-size=\"14.00\" fill=\"#000000\">samples = 1531</text>\n<text text-anchor=\"middle\" x=\"1344\" y=\"-483.8\" font-family=\"Helvetica,sans-Serif\" font-size=\"14.00\" fill=\"#000000\">value = [364, 1167]</text>\n<text text-anchor=\"middle\" x=\"1344\" y=\"-468.8\" font-family=\"Helvetica,sans-Serif\" font-size=\"14.00\" fill=\"#000000\">class = &#45;1</text>\n</g>\n<!-- 38&#45;&gt;39 -->\n<g id=\"edge39\" class=\"edge\">\n<title>38&#45;&gt;39</title>\n<path fill=\"none\" stroke=\"#000000\" d=\"M1344,-579.8796C1344,-571.6838 1344,-562.9891 1344,-554.5013\"/>\n<polygon fill=\"#000000\" stroke=\"#000000\" points=\"1347.5001,-554.298 1344,-544.2981 1340.5001,-554.2981 1347.5001,-554.298\"/>\n</g>\n<!-- 54 -->\n<g id=\"node55\" class=\"node\">\n<title>54</title>\n<path fill=\"#46a3e7\" stroke=\"#000000\" d=\"M1545,-536.5C1545,-536.5 1445,-536.5 1445,-536.5 1439,-536.5 1433,-530.5 1433,-524.5 1433,-524.5 1433,-480.5 1433,-480.5 1433,-474.5 1439,-468.5 1445,-468.5 1445,-468.5 1545,-468.5 1545,-468.5 1551,-468.5 1557,-474.5 1557,-480.5 1557,-480.5 1557,-524.5 1557,-524.5 1557,-530.5 1551,-536.5 1545,-536.5\"/>\n<text text-anchor=\"middle\" x=\"1495\" y=\"-521.3\" font-family=\"Helvetica,sans-Serif\" font-size=\"14.00\" fill=\"#000000\">gini = 0.113</text>\n<text text-anchor=\"middle\" x=\"1495\" y=\"-506.3\" font-family=\"Helvetica,sans-Serif\" font-size=\"14.00\" fill=\"#000000\">samples = 1061</text>\n<text text-anchor=\"middle\" x=\"1495\" y=\"-491.3\" font-family=\"Helvetica,sans-Serif\" font-size=\"14.00\" fill=\"#000000\">value = [64, 997]</text>\n<text text-anchor=\"middle\" x=\"1495\" y=\"-476.3\" font-family=\"Helvetica,sans-Serif\" font-size=\"14.00\" fill=\"#000000\">class = &#45;1</text>\n</g>\n<!-- 38&#45;&gt;54 -->\n<g id=\"edge54\" class=\"edge\">\n<title>38&#45;&gt;54</title>\n<path fill=\"none\" stroke=\"#000000\" d=\"M1396.8125,-579.8796C1411.8817,-568.0038 1428.2803,-555.0804 1443.2834,-543.2568\"/>\n<polygon fill=\"#000000\" stroke=\"#000000\" points=\"1445.7698,-545.7536 1451.4575,-536.8149 1441.4369,-540.2557 1445.7698,-545.7536\"/>\n</g>\n<!-- 40 -->\n<g id=\"node41\" class=\"node\">\n<title>40</title>\n<path fill=\"#8bc6f0\" stroke=\"#000000\" d=\"M1398,-425C1398,-425 1290,-425 1290,-425 1284,-425 1278,-419 1278,-413 1278,-413 1278,-354 1278,-354 1278,-348 1284,-342 1290,-342 1290,-342 1398,-342 1398,-342 1404,-342 1410,-348 1410,-354 1410,-354 1410,-413 1410,-413 1410,-419 1404,-425 1398,-425\"/>\n<text text-anchor=\"middle\" x=\"1344\" y=\"-409.8\" font-family=\"Helvetica,sans-Serif\" font-size=\"14.00\" fill=\"#000000\">having_IP &lt;= 0.0</text>\n<text text-anchor=\"middle\" x=\"1344\" y=\"-394.8\" font-family=\"Helvetica,sans-Serif\" font-size=\"14.00\" fill=\"#000000\">gini = 0.415</text>\n<text text-anchor=\"middle\" x=\"1344\" y=\"-379.8\" font-family=\"Helvetica,sans-Serif\" font-size=\"14.00\" fill=\"#000000\">samples = 1239</text>\n<text text-anchor=\"middle\" x=\"1344\" y=\"-364.8\" font-family=\"Helvetica,sans-Serif\" font-size=\"14.00\" fill=\"#000000\">value = [364, 875]</text>\n<text text-anchor=\"middle\" x=\"1344\" y=\"-349.8\" font-family=\"Helvetica,sans-Serif\" font-size=\"14.00\" fill=\"#000000\">class = &#45;1</text>\n</g>\n<!-- 39&#45;&gt;40 -->\n<g id=\"edge40\" class=\"edge\">\n<title>39&#45;&gt;40</title>\n<path fill=\"none\" stroke=\"#000000\" d=\"M1344,-460.8796C1344,-452.6838 1344,-443.9891 1344,-435.5013\"/>\n<polygon fill=\"#000000\" stroke=\"#000000\" points=\"1347.5001,-435.298 1344,-425.2981 1340.5001,-435.2981 1347.5001,-435.298\"/>\n</g>\n<!-- 53 -->\n<g id=\"node54\" class=\"node\">\n<title>53</title>\n<path fill=\"#399de5\" stroke=\"#000000\" d=\"M1532,-417.5C1532,-417.5 1440,-417.5 1440,-417.5 1434,-417.5 1428,-411.5 1428,-405.5 1428,-405.5 1428,-361.5 1428,-361.5 1428,-355.5 1434,-349.5 1440,-349.5 1440,-349.5 1532,-349.5 1532,-349.5 1538,-349.5 1544,-355.5 1544,-361.5 1544,-361.5 1544,-405.5 1544,-405.5 1544,-411.5 1538,-417.5 1532,-417.5\"/>\n<text text-anchor=\"middle\" x=\"1486\" y=\"-402.3\" font-family=\"Helvetica,sans-Serif\" font-size=\"14.00\" fill=\"#000000\">gini = 0.0</text>\n<text text-anchor=\"middle\" x=\"1486\" y=\"-387.3\" font-family=\"Helvetica,sans-Serif\" font-size=\"14.00\" fill=\"#000000\">samples = 292</text>\n<text text-anchor=\"middle\" x=\"1486\" y=\"-372.3\" font-family=\"Helvetica,sans-Serif\" font-size=\"14.00\" fill=\"#000000\">value = [0, 292]</text>\n<text text-anchor=\"middle\" x=\"1486\" y=\"-357.3\" font-family=\"Helvetica,sans-Serif\" font-size=\"14.00\" fill=\"#000000\">class = &#45;1</text>\n</g>\n<!-- 39&#45;&gt;53 -->\n<g id=\"edge53\" class=\"edge\">\n<title>39&#45;&gt;53</title>\n<path fill=\"none\" stroke=\"#000000\" d=\"M1393.6647,-460.8796C1407.8358,-449.0038 1423.257,-436.0804 1437.3658,-424.2568\"/>\n<polygon fill=\"#000000\" stroke=\"#000000\" points=\"1439.6363,-426.9206 1445.0528,-417.8149 1435.1402,-421.5554 1439.6363,-426.9206\"/>\n</g>\n<!-- 41 -->\n<g id=\"node42\" class=\"node\">\n<title>41</title>\n<path fill=\"#e3f1fb\" stroke=\"#000000\" d=\"M1440,-306C1440,-306 1248,-306 1248,-306 1242,-306 1236,-300 1236,-294 1236,-294 1236,-235 1236,-235 1236,-229 1242,-223 1248,-223 1248,-223 1440,-223 1440,-223 1446,-223 1452,-229 1452,-235 1452,-235 1452,-294 1452,-294 1452,-300 1446,-306 1440,-306\"/>\n<text text-anchor=\"middle\" x=\"1344\" y=\"-290.8\" font-family=\"Helvetica,sans-Serif\" font-size=\"14.00\" fill=\"#000000\">Links_pointing_to_page &lt;= 0.5</text>\n<text text-anchor=\"middle\" x=\"1344\" y=\"-275.8\" font-family=\"Helvetica,sans-Serif\" font-size=\"14.00\" fill=\"#000000\">gini = 0.497</text>\n<text text-anchor=\"middle\" x=\"1344\" y=\"-260.8\" font-family=\"Helvetica,sans-Serif\" font-size=\"14.00\" fill=\"#000000\">samples = 398</text>\n<text text-anchor=\"middle\" x=\"1344\" y=\"-245.8\" font-family=\"Helvetica,sans-Serif\" font-size=\"14.00\" fill=\"#000000\">value = [184, 214]</text>\n<text text-anchor=\"middle\" x=\"1344\" y=\"-230.8\" font-family=\"Helvetica,sans-Serif\" font-size=\"14.00\" fill=\"#000000\">class = &#45;1</text>\n</g>\n<!-- 40&#45;&gt;41 -->\n<g id=\"edge41\" class=\"edge\">\n<title>40&#45;&gt;41</title>\n<path fill=\"none\" stroke=\"#000000\" d=\"M1344,-341.8796C1344,-333.6838 1344,-324.9891 1344,-316.5013\"/>\n<polygon fill=\"#000000\" stroke=\"#000000\" points=\"1347.5001,-316.298 1344,-306.2981 1340.5001,-316.2981 1347.5001,-316.298\"/>\n</g>\n<!-- 46 -->\n<g id=\"node47\" class=\"node\">\n<title>46</title>\n<path fill=\"#6fb8ec\" stroke=\"#000000\" d=\"M1635,-306C1635,-306 1507,-306 1507,-306 1501,-306 1495,-300 1495,-294 1495,-294 1495,-235 1495,-235 1495,-229 1501,-223 1507,-223 1507,-223 1635,-223 1635,-223 1641,-223 1647,-229 1647,-235 1647,-235 1647,-294 1647,-294 1647,-300 1641,-306 1635,-306\"/>\n<text text-anchor=\"middle\" x=\"1571\" y=\"-290.8\" font-family=\"Helvetica,sans-Serif\" font-size=\"14.00\" fill=\"#000000\">Google_Index &lt;= 0.0</text>\n<text text-anchor=\"middle\" x=\"1571\" y=\"-275.8\" font-family=\"Helvetica,sans-Serif\" font-size=\"14.00\" fill=\"#000000\">gini = 0.336</text>\n<text text-anchor=\"middle\" x=\"1571\" y=\"-260.8\" font-family=\"Helvetica,sans-Serif\" font-size=\"14.00\" fill=\"#000000\">samples = 841</text>\n<text text-anchor=\"middle\" x=\"1571\" y=\"-245.8\" font-family=\"Helvetica,sans-Serif\" font-size=\"14.00\" fill=\"#000000\">value = [180, 661]</text>\n<text text-anchor=\"middle\" x=\"1571\" y=\"-230.8\" font-family=\"Helvetica,sans-Serif\" font-size=\"14.00\" fill=\"#000000\">class = &#45;1</text>\n</g>\n<!-- 40&#45;&gt;46 -->\n<g id=\"edge46\" class=\"edge\">\n<title>40&#45;&gt;46</title>\n<path fill=\"none\" stroke=\"#000000\" d=\"M1410.1871,-346.7176C1413.1609,-345.115 1416.109,-343.5363 1419,-342 1440.6103,-330.5162 1464.1031,-318.3729 1486.0128,-307.1919\"/>\n<polygon fill=\"#000000\" stroke=\"#000000\" points=\"1487.6476,-310.2871 1494.9695,-302.6294 1484.4703,-304.0497 1487.6476,-310.2871\"/>\n</g>\n<!-- 42 -->\n<g id=\"node43\" class=\"node\">\n<title>42</title>\n<path fill=\"#f1bd97\" stroke=\"#000000\" d=\"M1218,-179.5C1218,-179.5 1126,-179.5 1126,-179.5 1120,-179.5 1114,-173.5 1114,-167.5 1114,-167.5 1114,-123.5 1114,-123.5 1114,-117.5 1120,-111.5 1126,-111.5 1126,-111.5 1218,-111.5 1218,-111.5 1224,-111.5 1230,-117.5 1230,-123.5 1230,-123.5 1230,-167.5 1230,-167.5 1230,-173.5 1224,-179.5 1218,-179.5\"/>\n<text text-anchor=\"middle\" x=\"1172\" y=\"-164.3\" font-family=\"Helvetica,sans-Serif\" font-size=\"14.00\" fill=\"#000000\">gini = 0.436</text>\n<text text-anchor=\"middle\" x=\"1172\" y=\"-149.3\" font-family=\"Helvetica,sans-Serif\" font-size=\"14.00\" fill=\"#000000\">samples = 112</text>\n<text text-anchor=\"middle\" x=\"1172\" y=\"-134.3\" font-family=\"Helvetica,sans-Serif\" font-size=\"14.00\" fill=\"#000000\">value = [76, 36]</text>\n<text text-anchor=\"middle\" x=\"1172\" y=\"-119.3\" font-family=\"Helvetica,sans-Serif\" font-size=\"14.00\" fill=\"#000000\">class = 1</text>\n</g>\n<!-- 41&#45;&gt;42 -->\n<g id=\"edge42\" class=\"edge\">\n<title>41&#45;&gt;42</title>\n<path fill=\"none\" stroke=\"#000000\" d=\"M1283.8427,-222.8796C1266.2766,-210.7263 1247.1248,-197.4759 1229.7136,-185.4297\"/>\n<polygon fill=\"#000000\" stroke=\"#000000\" points=\"1231.5357,-182.4344 1221.3207,-179.623 1227.553,-188.191 1231.5357,-182.4344\"/>\n</g>\n<!-- 43 -->\n<g id=\"node44\" class=\"node\">\n<title>43</title>\n<path fill=\"#b1d8f5\" stroke=\"#000000\" d=\"M1428,-187C1428,-187 1260,-187 1260,-187 1254,-187 1248,-181 1248,-175 1248,-175 1248,-116 1248,-116 1248,-110 1254,-104 1260,-104 1260,-104 1428,-104 1428,-104 1434,-104 1440,-110 1440,-116 1440,-116 1440,-175 1440,-175 1440,-181 1434,-187 1428,-187\"/>\n<text text-anchor=\"middle\" x=\"1344\" y=\"-171.8\" font-family=\"Helvetica,sans-Serif\" font-size=\"14.00\" fill=\"#000000\">Submitting_to_email &lt;= 0.0</text>\n<text text-anchor=\"middle\" x=\"1344\" y=\"-156.8\" font-family=\"Helvetica,sans-Serif\" font-size=\"14.00\" fill=\"#000000\">gini = 0.47</text>\n<text text-anchor=\"middle\" x=\"1344\" y=\"-141.8\" font-family=\"Helvetica,sans-Serif\" font-size=\"14.00\" fill=\"#000000\">samples = 286</text>\n<text text-anchor=\"middle\" x=\"1344\" y=\"-126.8\" font-family=\"Helvetica,sans-Serif\" font-size=\"14.00\" fill=\"#000000\">value = [108, 178]</text>\n<text text-anchor=\"middle\" x=\"1344\" y=\"-111.8\" font-family=\"Helvetica,sans-Serif\" font-size=\"14.00\" fill=\"#000000\">class = &#45;1</text>\n</g>\n<!-- 41&#45;&gt;43 -->\n<g id=\"edge43\" class=\"edge\">\n<title>41&#45;&gt;43</title>\n<path fill=\"none\" stroke=\"#000000\" d=\"M1344,-222.8796C1344,-214.6838 1344,-205.9891 1344,-197.5013\"/>\n<polygon fill=\"#000000\" stroke=\"#000000\" points=\"1347.5001,-197.298 1344,-187.2981 1340.5001,-197.2981 1347.5001,-197.298\"/>\n</g>\n<!-- 44 -->\n<g id=\"node45\" class=\"node\">\n<title>44</title>\n<path fill=\"#f1bc96\" stroke=\"#000000\" d=\"M1252,-68C1252,-68 1160,-68 1160,-68 1154,-68 1148,-62 1148,-56 1148,-56 1148,-12 1148,-12 1148,-6 1154,0 1160,0 1160,0 1252,0 1252,0 1258,0 1264,-6 1264,-12 1264,-12 1264,-56 1264,-56 1264,-62 1258,-68 1252,-68\"/>\n<text text-anchor=\"middle\" x=\"1206\" y=\"-52.8\" font-family=\"Helvetica,sans-Serif\" font-size=\"14.00\" fill=\"#000000\">gini = 0.435</text>\n<text text-anchor=\"middle\" x=\"1206\" y=\"-37.8\" font-family=\"Helvetica,sans-Serif\" font-size=\"14.00\" fill=\"#000000\">samples = 50</text>\n<text text-anchor=\"middle\" x=\"1206\" y=\"-22.8\" font-family=\"Helvetica,sans-Serif\" font-size=\"14.00\" fill=\"#000000\">value = [34, 16]</text>\n<text text-anchor=\"middle\" x=\"1206\" y=\"-7.8\" font-family=\"Helvetica,sans-Serif\" font-size=\"14.00\" fill=\"#000000\">class = 1</text>\n</g>\n<!-- 43&#45;&gt;44 -->\n<g id=\"edge44\" class=\"edge\">\n<title>43&#45;&gt;44</title>\n<path fill=\"none\" stroke=\"#000000\" d=\"M1292.6139,-103.9815C1280.7839,-94.4232 1268.2136,-84.2668 1256.4249,-74.7419\"/>\n<polygon fill=\"#000000\" stroke=\"#000000\" points=\"1258.3851,-71.826 1248.4071,-68.2637 1253.9858,-77.2708 1258.3851,-71.826\"/>\n</g>\n<!-- 45 -->\n<g id=\"node46\" class=\"node\">\n<title>45</title>\n<path fill=\"#93caf1\" stroke=\"#000000\" d=\"M1394,-68C1394,-68 1294,-68 1294,-68 1288,-68 1282,-62 1282,-56 1282,-56 1282,-12 1282,-12 1282,-6 1288,0 1294,0 1294,0 1394,0 1394,0 1400,0 1406,-6 1406,-12 1406,-12 1406,-56 1406,-56 1406,-62 1400,-68 1394,-68\"/>\n<text text-anchor=\"middle\" x=\"1344\" y=\"-52.8\" font-family=\"Helvetica,sans-Serif\" font-size=\"14.00\" fill=\"#000000\">gini = 0.43</text>\n<text text-anchor=\"middle\" x=\"1344\" y=\"-37.8\" font-family=\"Helvetica,sans-Serif\" font-size=\"14.00\" fill=\"#000000\">samples = 236</text>\n<text text-anchor=\"middle\" x=\"1344\" y=\"-22.8\" font-family=\"Helvetica,sans-Serif\" font-size=\"14.00\" fill=\"#000000\">value = [74, 162]</text>\n<text text-anchor=\"middle\" x=\"1344\" y=\"-7.8\" font-family=\"Helvetica,sans-Serif\" font-size=\"14.00\" fill=\"#000000\">class = &#45;1</text>\n</g>\n<!-- 43&#45;&gt;45 -->\n<g id=\"edge45\" class=\"edge\">\n<title>43&#45;&gt;45</title>\n<path fill=\"none\" stroke=\"#000000\" d=\"M1344,-103.9815C1344,-95.618 1344,-86.7965 1344,-78.3409\"/>\n<polygon fill=\"#000000\" stroke=\"#000000\" points=\"1347.5001,-78.2636 1344,-68.2637 1340.5001,-78.2637 1347.5001,-78.2636\"/>\n</g>\n<!-- 47 -->\n<g id=\"node48\" class=\"node\">\n<title>47</title>\n<path fill=\"#d1e8f9\" stroke=\"#000000\" d=\"M1628,-187C1628,-187 1514,-187 1514,-187 1508,-187 1502,-181 1502,-175 1502,-175 1502,-116 1502,-116 1502,-110 1508,-104 1514,-104 1514,-104 1628,-104 1628,-104 1634,-104 1640,-110 1640,-116 1640,-116 1640,-175 1640,-175 1640,-181 1634,-187 1628,-187\"/>\n<text text-anchor=\"middle\" x=\"1571\" y=\"-171.8\" font-family=\"Helvetica,sans-Serif\" font-size=\"14.00\" fill=\"#000000\">Page_Rank &lt;= 0.0</text>\n<text text-anchor=\"middle\" x=\"1571\" y=\"-156.8\" font-family=\"Helvetica,sans-Serif\" font-size=\"14.00\" fill=\"#000000\">gini = 0.491</text>\n<text text-anchor=\"middle\" x=\"1571\" y=\"-141.8\" font-family=\"Helvetica,sans-Serif\" font-size=\"14.00\" fill=\"#000000\">samples = 113</text>\n<text text-anchor=\"middle\" x=\"1571\" y=\"-126.8\" font-family=\"Helvetica,sans-Serif\" font-size=\"14.00\" fill=\"#000000\">value = [49, 64]</text>\n<text text-anchor=\"middle\" x=\"1571\" y=\"-111.8\" font-family=\"Helvetica,sans-Serif\" font-size=\"14.00\" fill=\"#000000\">class = &#45;1</text>\n</g>\n<!-- 46&#45;&gt;47 -->\n<g id=\"edge47\" class=\"edge\">\n<title>46&#45;&gt;47</title>\n<path fill=\"none\" stroke=\"#000000\" d=\"M1571,-222.8796C1571,-214.6838 1571,-205.9891 1571,-197.5013\"/>\n<polygon fill=\"#000000\" stroke=\"#000000\" points=\"1574.5001,-197.298 1571,-187.2981 1567.5001,-197.2981 1574.5001,-197.298\"/>\n</g>\n<!-- 50 -->\n<g id=\"node51\" class=\"node\">\n<title>50</title>\n<path fill=\"#64b3eb\" stroke=\"#000000\" d=\"M1804,-187C1804,-187 1696,-187 1696,-187 1690,-187 1684,-181 1684,-175 1684,-175 1684,-116 1684,-116 1684,-110 1690,-104 1696,-104 1696,-104 1804,-104 1804,-104 1810,-104 1816,-110 1816,-116 1816,-116 1816,-175 1816,-175 1816,-181 1810,-187 1804,-187\"/>\n<text text-anchor=\"middle\" x=\"1750\" y=\"-171.8\" font-family=\"Helvetica,sans-Serif\" font-size=\"14.00\" fill=\"#000000\">SFH &lt;= 0.5</text>\n<text text-anchor=\"middle\" x=\"1750\" y=\"-156.8\" font-family=\"Helvetica,sans-Serif\" font-size=\"14.00\" fill=\"#000000\">gini = 0.295</text>\n<text text-anchor=\"middle\" x=\"1750\" y=\"-141.8\" font-family=\"Helvetica,sans-Serif\" font-size=\"14.00\" fill=\"#000000\">samples = 728</text>\n<text text-anchor=\"middle\" x=\"1750\" y=\"-126.8\" font-family=\"Helvetica,sans-Serif\" font-size=\"14.00\" fill=\"#000000\">value = [131, 597]</text>\n<text text-anchor=\"middle\" x=\"1750\" y=\"-111.8\" font-family=\"Helvetica,sans-Serif\" font-size=\"14.00\" fill=\"#000000\">class = &#45;1</text>\n</g>\n<!-- 46&#45;&gt;50 -->\n<g id=\"edge50\" class=\"edge\">\n<title>46&#45;&gt;50</title>\n<path fill=\"none\" stroke=\"#000000\" d=\"M1633.6055,-222.8796C1648.1854,-213.1868 1663.8151,-202.7961 1678.7382,-192.8752\"/>\n<polygon fill=\"#000000\" stroke=\"#000000\" points=\"1681.0399,-195.5479 1687.4298,-187.0969 1677.1645,-189.7185 1681.0399,-195.5479\"/>\n</g>\n<!-- 48 -->\n<g id=\"node49\" class=\"node\">\n<title>48</title>\n<path fill=\"#f1bb94\" stroke=\"#000000\" d=\"M1528,-68C1528,-68 1436,-68 1436,-68 1430,-68 1424,-62 1424,-56 1424,-56 1424,-12 1424,-12 1424,-6 1430,0 1436,0 1436,0 1528,0 1528,0 1534,0 1540,-6 1540,-12 1540,-12 1540,-56 1540,-56 1540,-62 1534,-68 1528,-68\"/>\n<text text-anchor=\"middle\" x=\"1482\" y=\"-52.8\" font-family=\"Helvetica,sans-Serif\" font-size=\"14.00\" fill=\"#000000\">gini = 0.431</text>\n<text text-anchor=\"middle\" x=\"1482\" y=\"-37.8\" font-family=\"Helvetica,sans-Serif\" font-size=\"14.00\" fill=\"#000000\">samples = 70</text>\n<text text-anchor=\"middle\" x=\"1482\" y=\"-22.8\" font-family=\"Helvetica,sans-Serif\" font-size=\"14.00\" fill=\"#000000\">value = [48, 22]</text>\n<text text-anchor=\"middle\" x=\"1482\" y=\"-7.8\" font-family=\"Helvetica,sans-Serif\" font-size=\"14.00\" fill=\"#000000\">class = 1</text>\n</g>\n<!-- 47&#45;&gt;48 -->\n<g id=\"edge48\" class=\"edge\">\n<title>47&#45;&gt;48</title>\n<path fill=\"none\" stroke=\"#000000\" d=\"M1537.8597,-103.9815C1530.597,-94.8828 1522.9017,-85.242 1515.6204,-76.1199\"/>\n<polygon fill=\"#000000\" stroke=\"#000000\" points=\"1518.3234,-73.8958 1509.3495,-68.2637 1512.8525,-78.2627 1518.3234,-73.8958\"/>\n</g>\n<!-- 49 -->\n<g id=\"node50\" class=\"node\">\n<title>49</title>\n<path fill=\"#3e9fe6\" stroke=\"#000000\" d=\"M1653.5,-68C1653.5,-68 1570.5,-68 1570.5,-68 1564.5,-68 1558.5,-62 1558.5,-56 1558.5,-56 1558.5,-12 1558.5,-12 1558.5,-6 1564.5,0 1570.5,0 1570.5,0 1653.5,0 1653.5,0 1659.5,0 1665.5,-6 1665.5,-12 1665.5,-12 1665.5,-56 1665.5,-56 1665.5,-62 1659.5,-68 1653.5,-68\"/>\n<text text-anchor=\"middle\" x=\"1612\" y=\"-52.8\" font-family=\"Helvetica,sans-Serif\" font-size=\"14.00\" fill=\"#000000\">gini = 0.045</text>\n<text text-anchor=\"middle\" x=\"1612\" y=\"-37.8\" font-family=\"Helvetica,sans-Serif\" font-size=\"14.00\" fill=\"#000000\">samples = 43</text>\n<text text-anchor=\"middle\" x=\"1612\" y=\"-22.8\" font-family=\"Helvetica,sans-Serif\" font-size=\"14.00\" fill=\"#000000\">value = [1, 42]</text>\n<text text-anchor=\"middle\" x=\"1612\" y=\"-7.8\" font-family=\"Helvetica,sans-Serif\" font-size=\"14.00\" fill=\"#000000\">class = &#45;1</text>\n</g>\n<!-- 47&#45;&gt;49 -->\n<g id=\"edge49\" class=\"edge\">\n<title>47&#45;&gt;49</title>\n<path fill=\"none\" stroke=\"#000000\" d=\"M1586.2669,-103.9815C1589.4098,-95.4342 1592.7287,-86.4086 1595.9001,-77.7839\"/>\n<polygon fill=\"#000000\" stroke=\"#000000\" points=\"1599.2345,-78.8572 1599.4008,-68.2637 1592.6646,-76.4413 1599.2345,-78.8572\"/>\n</g>\n<!-- 51 -->\n<g id=\"node52\" class=\"node\">\n<title>51</title>\n<path fill=\"#71b9ec\" stroke=\"#000000\" d=\"M1804,-68C1804,-68 1696,-68 1696,-68 1690,-68 1684,-62 1684,-56 1684,-56 1684,-12 1684,-12 1684,-6 1690,0 1696,0 1696,0 1804,0 1804,0 1810,0 1816,-6 1816,-12 1816,-12 1816,-56 1816,-56 1816,-62 1810,-68 1804,-68\"/>\n<text text-anchor=\"middle\" x=\"1750\" y=\"-52.8\" font-family=\"Helvetica,sans-Serif\" font-size=\"14.00\" fill=\"#000000\">gini = 0.343</text>\n<text text-anchor=\"middle\" x=\"1750\" y=\"-37.8\" font-family=\"Helvetica,sans-Serif\" font-size=\"14.00\" fill=\"#000000\">samples = 568</text>\n<text text-anchor=\"middle\" x=\"1750\" y=\"-22.8\" font-family=\"Helvetica,sans-Serif\" font-size=\"14.00\" fill=\"#000000\">value = [125, 443]</text>\n<text text-anchor=\"middle\" x=\"1750\" y=\"-7.8\" font-family=\"Helvetica,sans-Serif\" font-size=\"14.00\" fill=\"#000000\">class = &#45;1</text>\n</g>\n<!-- 50&#45;&gt;51 -->\n<g id=\"edge51\" class=\"edge\">\n<title>50&#45;&gt;51</title>\n<path fill=\"none\" stroke=\"#000000\" d=\"M1750,-103.9815C1750,-95.618 1750,-86.7965 1750,-78.3409\"/>\n<polygon fill=\"#000000\" stroke=\"#000000\" points=\"1753.5001,-78.2636 1750,-68.2637 1746.5001,-78.2637 1753.5001,-78.2636\"/>\n</g>\n<!-- 52 -->\n<g id=\"node53\" class=\"node\">\n<title>52</title>\n<path fill=\"#41a1e6\" stroke=\"#000000\" d=\"M1938,-68C1938,-68 1846,-68 1846,-68 1840,-68 1834,-62 1834,-56 1834,-56 1834,-12 1834,-12 1834,-6 1840,0 1846,0 1846,0 1938,0 1938,0 1944,0 1950,-6 1950,-12 1950,-12 1950,-56 1950,-56 1950,-62 1944,-68 1938,-68\"/>\n<text text-anchor=\"middle\" x=\"1892\" y=\"-52.8\" font-family=\"Helvetica,sans-Serif\" font-size=\"14.00\" fill=\"#000000\">gini = 0.072</text>\n<text text-anchor=\"middle\" x=\"1892\" y=\"-37.8\" font-family=\"Helvetica,sans-Serif\" font-size=\"14.00\" fill=\"#000000\">samples = 160</text>\n<text text-anchor=\"middle\" x=\"1892\" y=\"-22.8\" font-family=\"Helvetica,sans-Serif\" font-size=\"14.00\" fill=\"#000000\">value = [6, 154]</text>\n<text text-anchor=\"middle\" x=\"1892\" y=\"-7.8\" font-family=\"Helvetica,sans-Serif\" font-size=\"14.00\" fill=\"#000000\">class = &#45;1</text>\n</g>\n<!-- 50&#45;&gt;52 -->\n<g id=\"edge52\" class=\"edge\">\n<title>50&#45;&gt;52</title>\n<path fill=\"none\" stroke=\"#000000\" d=\"M1802.8756,-103.9815C1815.1655,-94.3313 1828.2319,-84.0714 1840.4632,-74.4673\"/>\n<polygon fill=\"#000000\" stroke=\"#000000\" points=\"1842.6602,-77.1923 1848.3638,-68.2637 1838.3371,-71.6867 1842.6602,-77.1923\"/>\n</g>\n</g>\n</svg>\n"
          },
          "metadata": {},
          "execution_count": 69
        }
      ],
      "source": [
        "tree_graph=plot_tree(final_dtc, X_train, 'Tree')\n",
        "tree_graph"
      ]
    },
    {
      "cell_type": "markdown",
      "metadata": {
        "id": "oKpImokTlGXD"
      },
      "source": [
        "# Print DCT the rules"
      ]
    },
    {
      "cell_type": "code",
      "execution_count": 70,
      "metadata": {
        "id": "V6waqFbelGXD",
        "outputId": "61f55687-c379-46de-dee9-1c8a1487bad9",
        "colab": {
          "base_uri": "https://localhost:8080/"
        }
      },
      "outputs": [
        {
          "output_type": "stream",
          "name": "stdout",
          "text": [
            "|--- web_traffic <= 0.50\n",
            "|   |--- having_Sub_Domain <= 0.50\n",
            "|   |   |--- Prefix_Suffix <= 0.00\n",
            "|   |   |   |--- Request_URL <= 0.00\n",
            "|   |   |   |   |--- class: -1\n",
            "|   |   |   |--- Request_URL >  0.00\n",
            "|   |   |   |   |--- class: -1\n",
            "|   |   |--- Prefix_Suffix >  0.00\n",
            "|   |   |   |--- class: 1\n",
            "|   |--- having_Sub_Domain >  0.50\n",
            "|   |   |--- Prefix_Suffix <= 0.00\n",
            "|   |   |   |--- SFH <= -0.50\n",
            "|   |   |   |   |--- Links_in_tags <= -0.50\n",
            "|   |   |   |   |   |--- class: -1\n",
            "|   |   |   |   |--- Links_in_tags >  -0.50\n",
            "|   |   |   |   |   |--- Links_pointing_to_page <= 0.50\n",
            "|   |   |   |   |   |   |--- having_IP <= 0.00\n",
            "|   |   |   |   |   |   |   |--- class: -1\n",
            "|   |   |   |   |   |   |--- having_IP >  0.00\n",
            "|   |   |   |   |   |   |   |--- class: 1\n",
            "|   |   |   |   |   |--- Links_pointing_to_page >  0.50\n",
            "|   |   |   |   |   |   |--- class: 1\n",
            "|   |   |   |--- SFH >  -0.50\n",
            "|   |   |   |   |--- class: 1\n",
            "|   |   |--- Prefix_Suffix >  0.00\n",
            "|   |   |   |--- class: 1\n",
            "|--- web_traffic >  0.50\n",
            "|   |--- Links_in_tags <= -0.50\n",
            "|   |   |--- SFH <= -0.50\n",
            "|   |   |   |--- Prefix_Suffix <= 0.00\n",
            "|   |   |   |   |--- having_Sub_Domain <= 0.50\n",
            "|   |   |   |   |   |--- Links_pointing_to_page <= 0.50\n",
            "|   |   |   |   |   |   |--- class: -1\n",
            "|   |   |   |   |   |--- Links_pointing_to_page >  0.50\n",
            "|   |   |   |   |   |   |--- DNSRecord <= 0.00\n",
            "|   |   |   |   |   |   |   |--- class: 1\n",
            "|   |   |   |   |   |   |--- DNSRecord >  0.00\n",
            "|   |   |   |   |   |   |   |--- class: -1\n",
            "|   |   |   |   |--- having_Sub_Domain >  0.50\n",
            "|   |   |   |   |   |--- Page_Rank <= 0.00\n",
            "|   |   |   |   |   |   |--- Request_URL <= 0.00\n",
            "|   |   |   |   |   |   |   |--- class: -1\n",
            "|   |   |   |   |   |   |--- Request_URL >  0.00\n",
            "|   |   |   |   |   |   |   |--- class: 1\n",
            "|   |   |   |   |   |--- Page_Rank >  0.00\n",
            "|   |   |   |   |   |   |--- class: 1\n",
            "|   |   |   |--- Prefix_Suffix >  0.00\n",
            "|   |   |   |   |--- class: 1\n",
            "|   |   |--- SFH >  -0.50\n",
            "|   |   |   |--- having_Sub_Domain <= -0.50\n",
            "|   |   |   |   |--- Request_URL <= 0.00\n",
            "|   |   |   |   |   |--- class: -1\n",
            "|   |   |   |   |--- Request_URL >  0.00\n",
            "|   |   |   |   |   |--- class: 1\n",
            "|   |   |   |--- having_Sub_Domain >  -0.50\n",
            "|   |   |   |   |--- class: 1\n",
            "|   |--- Links_in_tags >  -0.50\n",
            "|   |   |--- having_Sub_Domain <= 0.50\n",
            "|   |   |   |--- Prefix_Suffix <= 0.00\n",
            "|   |   |   |   |--- having_IP <= 0.00\n",
            "|   |   |   |   |   |--- Links_pointing_to_page <= 0.50\n",
            "|   |   |   |   |   |   |--- class: -1\n",
            "|   |   |   |   |   |--- Links_pointing_to_page >  0.50\n",
            "|   |   |   |   |   |   |--- Submitting_to_email <= 0.00\n",
            "|   |   |   |   |   |   |   |--- class: -1\n",
            "|   |   |   |   |   |   |--- Submitting_to_email >  0.00\n",
            "|   |   |   |   |   |   |   |--- class: 1\n",
            "|   |   |   |   |--- having_IP >  0.00\n",
            "|   |   |   |   |   |--- Google_Index <= 0.00\n",
            "|   |   |   |   |   |   |--- Page_Rank <= 0.00\n",
            "|   |   |   |   |   |   |   |--- class: -1\n",
            "|   |   |   |   |   |   |--- Page_Rank >  0.00\n",
            "|   |   |   |   |   |   |   |--- class: 1\n",
            "|   |   |   |   |   |--- Google_Index >  0.00\n",
            "|   |   |   |   |   |   |--- SFH <= 0.50\n",
            "|   |   |   |   |   |   |   |--- class: 1\n",
            "|   |   |   |   |   |   |--- SFH >  0.50\n",
            "|   |   |   |   |   |   |   |--- class: 1\n",
            "|   |   |   |--- Prefix_Suffix >  0.00\n",
            "|   |   |   |   |--- class: 1\n",
            "|   |   |--- having_Sub_Domain >  0.50\n",
            "|   |   |   |--- class: 1\n",
            "\n"
          ]
        }
      ],
      "source": [
        "from sklearn.tree import export_text\n",
        "r = export_text(final_dtc, \n",
        "                feature_names=X_train.columns.values.tolist())\n",
        "print(r)"
      ]
    },
    {
      "cell_type": "markdown",
      "metadata": {
        "id": "il58meWPlGXD"
      },
      "source": [
        "# RandomForestClassifier"
      ]
    },
    {
      "cell_type": "code",
      "execution_count": 71,
      "metadata": {
        "id": "5o2ybf2SlGXD"
      },
      "outputs": [],
      "source": [
        "from sklearn.ensemble import RandomForestClassifier\n",
        "\n",
        "rfc = RandomForestClassifier(n_jobs = -2,\n",
        "                             random_state = 1)\n",
        "# Function for training the model\n",
        "from sklearn.metrics import make_scorer"
      ]
    },
    {
      "cell_type": "code",
      "execution_count": 72,
      "metadata": {
        "id": "wHJG4APYlGXD",
        "outputId": "17764ad2-9068-467a-eaab-2546813e8b1b",
        "colab": {
          "base_uri": "https://localhost:8080/"
        }
      },
      "outputs": [
        {
          "output_type": "stream",
          "name": "stdout",
          "text": [
            "CPU times: user 767 ms, sys: 237 µs, total: 768 ms\n",
            "Wall time: 775 ms\n"
          ]
        }
      ],
      "source": [
        "%%time\n",
        "base_metrics = fn_compute_model_metrics(rfc, 'base_rfc', \n",
        "                       X_train, y_train, X_test, y_test,\n",
        "                        parameters = None, k = 1)\n",
        "base_metrics= base_metrics.to_frame()"
      ]
    },
    {
      "cell_type": "code",
      "execution_count": 73,
      "metadata": {
        "id": "Ej790_ZOlGXE",
        "colab": {
          "base_uri": "https://localhost:8080/"
        },
        "outputId": "c224de40-95cf-4403-a44b-af6cefbb3589"
      },
      "outputs": [
        {
          "output_type": "stream",
          "name": "stdout",
          "text": [
            "RandomForestClassifier(class_weight='balanced_subsample', max_features=0.5,\n",
            "                       min_samples_leaf=3, n_estimators=150, n_jobs=-2,\n",
            "                       random_state=1)\n",
            "CPU times: user 2min 6s, sys: 383 ms, total: 2min 7s\n",
            "Wall time: 2min 6s\n"
          ]
        }
      ],
      "source": [
        "%%time\n",
        "\n",
        "parameters = {\"n_estimators\" :[100, 150,200]\n",
        "    ,\"min_samples_leaf\" : [  3, 5, 10]\n",
        "    ,\"max_features\":  [0.5, 'log2', 'sqrt']\n",
        "    ,\"class_weight\" : ['balanced_subsample']\n",
        "}\n",
        "\n",
        "cv_model = fn_train_model(rfc, X_train, y_train, parameters, k = 5)\n",
        "\n",
        "print(cv_model)\n"
      ]
    },
    {
      "cell_type": "code",
      "execution_count": 74,
      "metadata": {
        "id": "6dbLnZAulGXE"
      },
      "outputs": [],
      "source": [
        "parametersBest = {\"n_estimators\" :[200]\n",
        "    ,\"min_samples_leaf\" : [  3]\n",
        "    ,\"max_features\":  [ 'sqrt']\n",
        "    ,\"class_weight\" : ['balanced_subsample']\n",
        "}\n",
        "para_metrics = fn_compute_model_metrics(rfc, 'para_rfc', \n",
        "                       X_train, y_train, X_test, y_test,\n",
        "                       parameters = parametersBest, k = 5)\n",
        "para_metrics= para_metrics.to_frame()"
      ]
    },
    {
      "cell_type": "code",
      "execution_count": 75,
      "metadata": {
        "id": "xjTA6EZKlGXE"
      },
      "outputs": [],
      "source": [
        "model_metrics=pd.merge(base_metrics,para_metrics,right_index=True,left_index=True)"
      ]
    },
    {
      "cell_type": "code",
      "execution_count": 78,
      "metadata": {
        "id": "XW_VrWQnlGXE",
        "outputId": "8b520143-4a53-4403-b77e-6f7bddacf0d2",
        "colab": {
          "base_uri": "https://localhost:8080/"
        }
      },
      "outputs": [
        {
          "output_type": "stream",
          "name": "stdout",
          "text": [
            "RandomForestClassifier(max_features='sqrt', min_samples_leaf=3,\n",
            "                       n_estimators=200, n_jobs=-1)\n",
            "train_accuracy     0.938023\n",
            "train_precision    0.962925\n",
            "train_recall       0.925743\n",
            "train_f1_score     0.943968\n",
            "test_accuracy      0.887772\n",
            "test_precision     0.907503\n",
            "test_recall        0.888330\n",
            "test_f1_score      0.897814\n",
            "Name: parameters, dtype: float64\n",
            "CPU times: user 1.86 s, sys: 26.3 ms, total: 1.88 s\n",
            "Wall time: 1.97 s\n"
          ]
        }
      ],
      "source": [
        "%%time\n",
        "final_rfc= RandomForestClassifier(\n",
        "    n_estimators=200,\n",
        "    criterion='gini',\n",
        "    max_depth=None,\n",
        "    min_samples_split=2,\n",
        "    min_samples_leaf=3,\n",
        "    min_weight_fraction_leaf=0.0,\n",
        "    max_features= 'sqrt', #'auto', 0.5\n",
        "    max_leaf_nodes=None,\n",
        "    min_impurity_decrease=0.0,\n",
        "    bootstrap=True,\n",
        "    oob_score=False,\n",
        "    n_jobs=-1,\n",
        "    random_state=None,\n",
        "    verbose=0,\n",
        "    warm_start=False,\n",
        "    class_weight=None,\n",
        "    ccp_alpha=0.0, \n",
        "    max_samples=None,\n",
        ")\n",
        "\n",
        "final_rfc_model = fn_train_model(final_rfc, X_train, y_train)\n",
        "final_rfc_model_metrics = fn_compute_metrics(cv_model, 'parameters',\n",
        "                                        X_train, y_train,\n",
        "                                        X_test, y_test)\n",
        "\n",
        "print(final_rfc_model)\n",
        "print(final_rfc_model_metrics)"
      ]
    },
    {
      "cell_type": "code",
      "execution_count": 79,
      "metadata": {
        "id": "Gm7TMKx7lGXF",
        "outputId": "8876a41a-4000-45aa-841a-0e64fa88d9bd",
        "colab": {
          "base_uri": "https://localhost:8080/"
        }
      },
      "outputs": [
        {
          "output_type": "stream",
          "name": "stdout",
          "text": [
            "\n",
            "Confusion Matrix :\n",
            "[[694 103]\n",
            " [102 892]]\n",
            "\n",
            "Report : \n",
            "              precision    recall  f1-score   support\n",
            "\n",
            "          -1       0.87      0.87      0.87       797\n",
            "           1       0.90      0.90      0.90       994\n",
            "\n",
            "    accuracy                           0.89      1791\n",
            "   macro avg       0.88      0.88      0.88      1791\n",
            "weighted avg       0.89      0.89      0.89      1791\n",
            "\n",
            "Recall score : 0.8707653701380176\n",
            "0.8707653701380176\n"
          ]
        }
      ],
      "source": [
        "train_dtc_model_metrics = fn_compute_metrics_train(final_rfc_model,X_test,y_test)\n",
        "print(train_dtc_model_metrics)"
      ]
    },
    {
      "cell_type": "code",
      "execution_count": 80,
      "metadata": {
        "id": "gTXZxrZulGXF",
        "outputId": "7d54b7b0-5d0c-4f3d-c400-c8c0f9175589",
        "colab": {
          "base_uri": "https://localhost:8080/"
        }
      },
      "outputs": [
        {
          "output_type": "execute_result",
          "data": {
            "text/plain": [
              "array([0.02894032, 0.01877171, 0.01194821, 0.00852674, 0.00906161,\n",
              "       0.11363297, 0.16935121, 0.03220425, 0.01073714, 0.00767089,\n",
              "       0.0108582 , 0.04645689, 0.07490232, 0.0500381 , 0.01219357,\n",
              "       0.01039846, 0.00873426, 0.01024724, 0.01232893, 0.00628148,\n",
              "       0.02975861, 0.02486317, 0.20755117, 0.02450678, 0.01693201,\n",
              "       0.03290098, 0.01020278])"
            ]
          },
          "metadata": {},
          "execution_count": 80
        }
      ],
      "source": [
        "final_rfc_model.feature_importances_"
      ]
    },
    {
      "cell_type": "code",
      "execution_count": 81,
      "metadata": {
        "id": "GDNLMZYTlGXF",
        "outputId": "a85e03f4-20d7-4807-9658-bf54b45e45bf",
        "colab": {
          "base_uri": "https://localhost:8080/",
          "height": 242
        }
      },
      "outputs": [
        {
          "output_type": "execute_result",
          "data": {
            "text/plain": [
              "<matplotlib.axes._subplots.AxesSubplot at 0x7fc02cc3a690>"
            ]
          },
          "metadata": {},
          "execution_count": 81
        },
        {
          "output_type": "display_data",
          "data": {
            "text/plain": [
              "<Figure size 360x216 with 1 Axes>"
            ],
            "image/png": "[encoded data removed]"
          },
          "metadata": {
            "needs_background": "light"
          }
        }
      ],
      "source": [
        "feature_names = list(X_train.columns)\n",
        "plt.figure(figsize=(5,3))\n",
        "d = pd.DataFrame([feature_names,final_rfc_model.feature_importances_]).T\n",
        "d = d.sort_values([1],ascending=False)[0:10]\n",
        "sns.barplot(d[1],d[0])"
      ]
    },
    {
      "cell_type": "code",
      "execution_count": 82,
      "metadata": {
        "id": "Q5EjwCzglGXG",
        "outputId": "02854e13-1a03-4038-ecfc-97bc4a42d21f",
        "colab": {
          "base_uri": "https://localhost:8080/",
          "height": 363
        }
      },
      "outputs": [
        {
          "output_type": "execute_result",
          "data": {
            "text/plain": [
              "                       variable percantage (%)\n",
              "22                  web_traffic      20.755117\n",
              "6             having_Sub_Domain      16.935121\n",
              "5                 Prefix_Suffix      11.363297\n",
              "12                Links_in_tags       7.490232\n",
              "13                          SFH        5.00381\n",
              "11                  Request_URL       4.645689\n",
              "25       Links_pointing_to_page       3.290098\n",
              "7   Domain_registeration_length       3.220425\n",
              "20                age_of_domain       2.975861\n",
              "0                     having_IP       2.894032"
            ],
            "text/html": [
              "\n",
              "  <div id=\"df-9ae8df11-67cf-43de-b06f-e50b86d224ae\">\n",
              "    <div class=\"colab-df-container\">\n",
              "      <div>\n",
              "<style scoped>\n",
              "    .dataframe tbody tr th:only-of-type {\n",
              "        vertical-align: middle;\n",
              "    }\n",
              "\n",
              "    .dataframe tbody tr th {\n",
              "        vertical-align: top;\n",
              "    }\n",
              "\n",
              "    .dataframe thead th {\n",
              "        text-align: right;\n",
              "    }\n",
              "</style>\n",
              "<table border=\"1\" class=\"dataframe\">\n",
              "  <thead>\n",
              "    <tr style=\"text-align: right;\">\n",
              "      <th></th>\n",
              "      <th>variable</th>\n",
              "      <th>percantage (%)</th>\n",
              "    </tr>\n",
              "  </thead>\n",
              "  <tbody>\n",
              "    <tr>\n",
              "      <th>22</th>\n",
              "      <td>web_traffic</td>\n",
              "      <td>20.755117</td>\n",
              "    </tr>\n",
              "    <tr>\n",
              "      <th>6</th>\n",
              "      <td>having_Sub_Domain</td>\n",
              "      <td>16.935121</td>\n",
              "    </tr>\n",
              "    <tr>\n",
              "      <th>5</th>\n",
              "      <td>Prefix_Suffix</td>\n",
              "      <td>11.363297</td>\n",
              "    </tr>\n",
              "    <tr>\n",
              "      <th>12</th>\n",
              "      <td>Links_in_tags</td>\n",
              "      <td>7.490232</td>\n",
              "    </tr>\n",
              "    <tr>\n",
              "      <th>13</th>\n",
              "      <td>SFH</td>\n",
              "      <td>5.00381</td>\n",
              "    </tr>\n",
              "    <tr>\n",
              "      <th>11</th>\n",
              "      <td>Request_URL</td>\n",
              "      <td>4.645689</td>\n",
              "    </tr>\n",
              "    <tr>\n",
              "      <th>25</th>\n",
              "      <td>Links_pointing_to_page</td>\n",
              "      <td>3.290098</td>\n",
              "    </tr>\n",
              "    <tr>\n",
              "      <th>7</th>\n",
              "      <td>Domain_registeration_length</td>\n",
              "      <td>3.220425</td>\n",
              "    </tr>\n",
              "    <tr>\n",
              "      <th>20</th>\n",
              "      <td>age_of_domain</td>\n",
              "      <td>2.975861</td>\n",
              "    </tr>\n",
              "    <tr>\n",
              "      <th>0</th>\n",
              "      <td>having_IP</td>\n",
              "      <td>2.894032</td>\n",
              "    </tr>\n",
              "  </tbody>\n",
              "</table>\n",
              "</div>\n",
              "      <button class=\"colab-df-convert\" onclick=\"convertToInteractive('df-9ae8df11-67cf-43de-b06f-e50b86d224ae')\"\n",
              "              title=\"Convert this dataframe to an interactive table.\"\n",
              "              style=\"display:none;\">\n",
              "        \n",
              "  <svg xmlns=\"http://www.w3.org/2000/svg\" height=\"24px\"viewBox=\"0 0 24 24\"\n",
              "       width=\"24px\">\n",
              "    <path d=\"M0 0h24v24H0V0z\" fill=\"none\"/>\n",
              "    <path d=\"M18.56 5.44l.94 2.06.94-2.06 2.06-.94-2.06-.94-.94-2.06-.94 2.06-2.06.94zm-11 1L8.5 8.5l.94-2.06 2.06-.94-2.06-.94L8.5 2.5l-.94 2.06-2.06.94zm10 10l.94 2.06.94-2.06 2.06-.94-2.06-.94-.94-2.06-.94 2.06-2.06.94z\"/><path d=\"M17.41 7.96l-1.37-1.37c-.4-.4-.92-.59-1.43-.59-.52 0-1.04.2-1.43.59L10.3 9.45l-7.72 7.72c-.78.78-.78 2.05 0 2.83L4 21.41c.39.39.9.59 1.41.59.51 0 1.02-.2 1.41-.59l7.78-7.78 2.81-2.81c.8-.78.8-2.07 0-2.86zM5.41 20L4 18.59l7.72-7.72 1.47 1.35L5.41 20z\"/>\n",
              "  </svg>\n",
              "      </button>\n",
              "      \n",
              "  <style>\n",
              "    .colab-df-container {\n",
              "      display:flex;\n",
              "      flex-wrap:wrap;\n",
              "      gap: 12px;\n",
              "    }\n",
              "\n",
              "    .colab-df-convert {\n",
              "      background-color: #E8F0FE;\n",
              "      border: none;\n",
              "      border-radius: 50%;\n",
              "      cursor: pointer;\n",
              "      display: none;\n",
              "      fill: #1967D2;\n",
              "      height: 32px;\n",
              "      padding: 0 0 0 0;\n",
              "      width: 32px;\n",
              "    }\n",
              "\n",
              "    .colab-df-convert:hover {\n",
              "      background-color: #E2EBFA;\n",
              "      box-shadow: 0px 1px 2px rgba(60, 64, 67, 0.3), 0px 1px 3px 1px rgba(60, 64, 67, 0.15);\n",
              "      fill: #174EA6;\n",
              "    }\n",
              "\n",
              "    [theme=dark] .colab-df-convert {\n",
              "      background-color: #3B4455;\n",
              "      fill: #D2E3FC;\n",
              "    }\n",
              "\n",
              "    [theme=dark] .colab-df-convert:hover {\n",
              "      background-color: #434B5C;\n",
              "      box-shadow: 0px 1px 3px 1px rgba(0, 0, 0, 0.15);\n",
              "      filter: drop-shadow(0px 1px 2px rgba(0, 0, 0, 0.3));\n",
              "      fill: #FFFFFF;\n",
              "    }\n",
              "  </style>\n",
              "\n",
              "      <script>\n",
              "        const buttonEl =\n",
              "          document.querySelector('#df-9ae8df11-67cf-43de-b06f-e50b86d224ae button.colab-df-convert');\n",
              "        buttonEl.style.display =\n",
              "          google.colab.kernel.accessAllowed ? 'block' : 'none';\n",
              "\n",
              "        async function convertToInteractive(key) {\n",
              "          const element = document.querySelector('#df-9ae8df11-67cf-43de-b06f-e50b86d224ae');\n",
              "          const dataTable =\n",
              "            await google.colab.kernel.invokeFunction('convertToInteractive',\n",
              "                                                     [key], {});\n",
              "          if (!dataTable) return;\n",
              "\n",
              "          const docLinkHtml = 'Like what you see? Visit the ' +\n",
              "            '<a target=\"_blank\" href=https://colab.research.google.com/notebooks/data_table.ipynb>data table notebook</a>'\n",
              "            + ' to learn more about interactive tables.';\n",
              "          element.innerHTML = '';\n",
              "          dataTable['output_type'] = 'display_data';\n",
              "          await google.colab.output.renderOutput(dataTable, element);\n",
              "          const docLink = document.createElement('div');\n",
              "          docLink.innerHTML = docLinkHtml;\n",
              "          element.appendChild(docLink);\n",
              "        }\n",
              "      </script>\n",
              "    </div>\n",
              "  </div>\n",
              "  "
            ]
          },
          "metadata": {},
          "execution_count": 82
        }
      ],
      "source": [
        "d.columns=[\"variable\", \"percantage (%)\"]\n",
        "d[\"percantage (%)\"] = d[\"percantage (%)\"] * 100\n",
        "d"
      ]
    },
    {
      "cell_type": "code",
      "execution_count": 83,
      "metadata": {
        "id": "VXhoEPPglGXG"
      },
      "outputs": [],
      "source": [
        "pd.set_option('precision', 2)"
      ]
    },
    {
      "cell_type": "code",
      "execution_count": 84,
      "metadata": {
        "id": "50NGWTxSlGXG",
        "outputId": "da2a196e-3615-45f6-a842-401fe6966d13",
        "colab": {
          "base_uri": "https://localhost:8080/",
          "height": 913
        }
      },
      "outputs": [
        {
          "output_type": "execute_result",
          "data": {
            "text/plain": [
              "                                                    0      1\n",
              "22  web_trafficweb_trafficweb_trafficweb_trafficwe...  20.76\n",
              "6   having_Sub_Domainhaving_Sub_Domainhaving_Sub_D...  16.94\n",
              "5   Prefix_SuffixPrefix_SuffixPrefix_SuffixPrefix_...  11.36\n",
              "12  Links_in_tagsLinks_in_tagsLinks_in_tagsLinks_i...   7.49\n",
              "13  SFHSFHSFHSFHSFHSFHSFHSFHSFHSFHSFHSFHSFHSFHSFHS...    5.0\n",
              "11  Request_URLRequest_URLRequest_URLRequest_URLRe...   4.65\n",
              "25  Links_pointing_to_pageLinks_pointing_to_pageLi...   3.29\n",
              "7   Domain_registeration_lengthDomain_registeratio...   3.22\n",
              "20  age_of_domainage_of_domainage_of_domainage_of_...   2.98\n",
              "0   having_IPhaving_IPhaving_IPhaving_IPhaving_IPh...   2.89\n",
              "21  DNSRecordDNSRecordDNSRecordDNSRecordDNSRecordD...   2.49\n",
              "23  Page_RankPage_RankPage_RankPage_RankPage_RankP...   2.45\n",
              "1   URL_LengthURL_LengthURL_LengthURL_LengthURL_Le...   1.88\n",
              "24  Google_IndexGoogle_IndexGoogle_IndexGoogle_Ind...   1.69\n",
              "18  popUpWidnowpopUpWidnowpopUpWidnowpopUpWidnowpo...   1.23\n",
              "14  Submitting_to_emailSubmitting_to_emailSubmitti...   1.22\n",
              "2   Shortining_ServiceShortining_ServiceShortining...   1.19\n",
              "10  HTTPS_tokenHTTPS_tokenHTTPS_tokenHTTPS_tokenHT...   1.09\n",
              "8   FaviconFaviconFaviconFaviconFaviconFaviconFavi...   1.07\n",
              "15  Abnormal_URLAbnormal_URLAbnormal_URLAbnormal_U...   1.04\n",
              "17  on_mouseoveron_mouseoveron_mouseoveron_mouseov...   1.02\n",
              "26  Statistical_reportStatistical_reportStatistica...   1.02\n",
              "4   double_slash_redirectingdouble_slash_redirecti...   0.91\n",
              "16  RedirectRedirectRedirectRedirectRedirectRedire...   0.87\n",
              "3   having_At_Symbolhaving_At_Symbolhaving_At_Symb...   0.85\n",
              "9   portportportportportportportportportportportpo...   0.77\n",
              "19  IframeIframeIframeIframeIframeIframeIframeIfra...   0.63"
            ],
            "text/html": [
              "\n",
              "  <div id=\"df-f7219051-6849-4f5e-9a0b-3bb51bf32783\">\n",
              "    <div class=\"colab-df-container\">\n",
              "      <div>\n",
              "<style scoped>\n",
              "    .dataframe tbody tr th:only-of-type {\n",
              "        vertical-align: middle;\n",
              "    }\n",
              "\n",
              "    .dataframe tbody tr th {\n",
              "        vertical-align: top;\n",
              "    }\n",
              "\n",
              "    .dataframe thead th {\n",
              "        text-align: right;\n",
              "    }\n",
              "</style>\n",
              "<table border=\"1\" class=\"dataframe\">\n",
              "  <thead>\n",
              "    <tr style=\"text-align: right;\">\n",
              "      <th></th>\n",
              "      <th>0</th>\n",
              "      <th>1</th>\n",
              "    </tr>\n",
              "  </thead>\n",
              "  <tbody>\n",
              "    <tr>\n",
              "      <th>22</th>\n",
              "      <td>web_trafficweb_trafficweb_trafficweb_trafficwe...</td>\n",
              "      <td>20.76</td>\n",
              "    </tr>\n",
              "    <tr>\n",
              "      <th>6</th>\n",
              "      <td>having_Sub_Domainhaving_Sub_Domainhaving_Sub_D...</td>\n",
              "      <td>16.94</td>\n",
              "    </tr>\n",
              "    <tr>\n",
              "      <th>5</th>\n",
              "      <td>Prefix_SuffixPrefix_SuffixPrefix_SuffixPrefix_...</td>\n",
              "      <td>11.36</td>\n",
              "    </tr>\n",
              "    <tr>\n",
              "      <th>12</th>\n",
              "      <td>Links_in_tagsLinks_in_tagsLinks_in_tagsLinks_i...</td>\n",
              "      <td>7.49</td>\n",
              "    </tr>\n",
              "    <tr>\n",
              "      <th>13</th>\n",
              "      <td>SFHSFHSFHSFHSFHSFHSFHSFHSFHSFHSFHSFHSFHSFHSFHS...</td>\n",
              "      <td>5.0</td>\n",
              "    </tr>\n",
              "    <tr>\n",
              "      <th>11</th>\n",
              "      <td>Request_URLRequest_URLRequest_URLRequest_URLRe...</td>\n",
              "      <td>4.65</td>\n",
              "    </tr>\n",
              "    <tr>\n",
              "      <th>25</th>\n",
              "      <td>Links_pointing_to_pageLinks_pointing_to_pageLi...</td>\n",
              "      <td>3.29</td>\n",
              "    </tr>\n",
              "    <tr>\n",
              "      <th>7</th>\n",
              "      <td>Domain_registeration_lengthDomain_registeratio...</td>\n",
              "      <td>3.22</td>\n",
              "    </tr>\n",
              "    <tr>\n",
              "      <th>20</th>\n",
              "      <td>age_of_domainage_of_domainage_of_domainage_of_...</td>\n",
              "      <td>2.98</td>\n",
              "    </tr>\n",
              "    <tr>\n",
              "      <th>0</th>\n",
              "      <td>having_IPhaving_IPhaving_IPhaving_IPhaving_IPh...</td>\n",
              "      <td>2.89</td>\n",
              "    </tr>\n",
              "    <tr>\n",
              "      <th>21</th>\n",
              "      <td>DNSRecordDNSRecordDNSRecordDNSRecordDNSRecordD...</td>\n",
              "      <td>2.49</td>\n",
              "    </tr>\n",
              "    <tr>\n",
              "      <th>23</th>\n",
              "      <td>Page_RankPage_RankPage_RankPage_RankPage_RankP...</td>\n",
              "      <td>2.45</td>\n",
              "    </tr>\n",
              "    <tr>\n",
              "      <th>1</th>\n",
              "      <td>URL_LengthURL_LengthURL_LengthURL_LengthURL_Le...</td>\n",
              "      <td>1.88</td>\n",
              "    </tr>\n",
              "    <tr>\n",
              "      <th>24</th>\n",
              "      <td>Google_IndexGoogle_IndexGoogle_IndexGoogle_Ind...</td>\n",
              "      <td>1.69</td>\n",
              "    </tr>\n",
              "    <tr>\n",
              "      <th>18</th>\n",
              "      <td>popUpWidnowpopUpWidnowpopUpWidnowpopUpWidnowpo...</td>\n",
              "      <td>1.23</td>\n",
              "    </tr>\n",
              "    <tr>\n",
              "      <th>14</th>\n",
              "      <td>Submitting_to_emailSubmitting_to_emailSubmitti...</td>\n",
              "      <td>1.22</td>\n",
              "    </tr>\n",
              "    <tr>\n",
              "      <th>2</th>\n",
              "      <td>Shortining_ServiceShortining_ServiceShortining...</td>\n",
              "      <td>1.19</td>\n",
              "    </tr>\n",
              "    <tr>\n",
              "      <th>10</th>\n",
              "      <td>HTTPS_tokenHTTPS_tokenHTTPS_tokenHTTPS_tokenHT...</td>\n",
              "      <td>1.09</td>\n",
              "    </tr>\n",
              "    <tr>\n",
              "      <th>8</th>\n",
              "      <td>FaviconFaviconFaviconFaviconFaviconFaviconFavi...</td>\n",
              "      <td>1.07</td>\n",
              "    </tr>\n",
              "    <tr>\n",
              "      <th>15</th>\n",
              "      <td>Abnormal_URLAbnormal_URLAbnormal_URLAbnormal_U...</td>\n",
              "      <td>1.04</td>\n",
              "    </tr>\n",
              "    <tr>\n",
              "      <th>17</th>\n",
              "      <td>on_mouseoveron_mouseoveron_mouseoveron_mouseov...</td>\n",
              "      <td>1.02</td>\n",
              "    </tr>\n",
              "    <tr>\n",
              "      <th>26</th>\n",
              "      <td>Statistical_reportStatistical_reportStatistica...</td>\n",
              "      <td>1.02</td>\n",
              "    </tr>\n",
              "    <tr>\n",
              "      <th>4</th>\n",
              "      <td>double_slash_redirectingdouble_slash_redirecti...</td>\n",
              "      <td>0.91</td>\n",
              "    </tr>\n",
              "    <tr>\n",
              "      <th>16</th>\n",
              "      <td>RedirectRedirectRedirectRedirectRedirectRedire...</td>\n",
              "      <td>0.87</td>\n",
              "    </tr>\n",
              "    <tr>\n",
              "      <th>3</th>\n",
              "      <td>having_At_Symbolhaving_At_Symbolhaving_At_Symb...</td>\n",
              "      <td>0.85</td>\n",
              "    </tr>\n",
              "    <tr>\n",
              "      <th>9</th>\n",
              "      <td>portportportportportportportportportportportpo...</td>\n",
              "      <td>0.77</td>\n",
              "    </tr>\n",
              "    <tr>\n",
              "      <th>19</th>\n",
              "      <td>IframeIframeIframeIframeIframeIframeIframeIfra...</td>\n",
              "      <td>0.63</td>\n",
              "    </tr>\n",
              "  </tbody>\n",
              "</table>\n",
              "</div>\n",
              "      <button class=\"colab-df-convert\" onclick=\"convertToInteractive('df-f7219051-6849-4f5e-9a0b-3bb51bf32783')\"\n",
              "              title=\"Convert this dataframe to an interactive table.\"\n",
              "              style=\"display:none;\">\n",
              "        \n",
              "  <svg xmlns=\"http://www.w3.org/2000/svg\" height=\"24px\"viewBox=\"0 0 24 24\"\n",
              "       width=\"24px\">\n",
              "    <path d=\"M0 0h24v24H0V0z\" fill=\"none\"/>\n",
              "    <path d=\"M18.56 5.44l.94 2.06.94-2.06 2.06-.94-2.06-.94-.94-2.06-.94 2.06-2.06.94zm-11 1L8.5 8.5l.94-2.06 2.06-.94-2.06-.94L8.5 2.5l-.94 2.06-2.06.94zm10 10l.94 2.06.94-2.06 2.06-.94-2.06-.94-.94-2.06-.94 2.06-2.06.94z\"/><path d=\"M17.41 7.96l-1.37-1.37c-.4-.4-.92-.59-1.43-.59-.52 0-1.04.2-1.43.59L10.3 9.45l-7.72 7.72c-.78.78-.78 2.05 0 2.83L4 21.41c.39.39.9.59 1.41.59.51 0 1.02-.2 1.41-.59l7.78-7.78 2.81-2.81c.8-.78.8-2.07 0-2.86zM5.41 20L4 18.59l7.72-7.72 1.47 1.35L5.41 20z\"/>\n",
              "  </svg>\n",
              "      </button>\n",
              "      \n",
              "  <style>\n",
              "    .colab-df-container {\n",
              "      display:flex;\n",
              "      flex-wrap:wrap;\n",
              "      gap: 12px;\n",
              "    }\n",
              "\n",
              "    .colab-df-convert {\n",
              "      background-color: #E8F0FE;\n",
              "      border: none;\n",
              "      border-radius: 50%;\n",
              "      cursor: pointer;\n",
              "      display: none;\n",
              "      fill: #1967D2;\n",
              "      height: 32px;\n",
              "      padding: 0 0 0 0;\n",
              "      width: 32px;\n",
              "    }\n",
              "\n",
              "    .colab-df-convert:hover {\n",
              "      background-color: #E2EBFA;\n",
              "      box-shadow: 0px 1px 2px rgba(60, 64, 67, 0.3), 0px 1px 3px 1px rgba(60, 64, 67, 0.15);\n",
              "      fill: #174EA6;\n",
              "    }\n",
              "\n",
              "    [theme=dark] .colab-df-convert {\n",
              "      background-color: #3B4455;\n",
              "      fill: #D2E3FC;\n",
              "    }\n",
              "\n",
              "    [theme=dark] .colab-df-convert:hover {\n",
              "      background-color: #434B5C;\n",
              "      box-shadow: 0px 1px 3px 1px rgba(0, 0, 0, 0.15);\n",
              "      filter: drop-shadow(0px 1px 2px rgba(0, 0, 0, 0.3));\n",
              "      fill: #FFFFFF;\n",
              "    }\n",
              "  </style>\n",
              "\n",
              "      <script>\n",
              "        const buttonEl =\n",
              "          document.querySelector('#df-f7219051-6849-4f5e-9a0b-3bb51bf32783 button.colab-df-convert');\n",
              "        buttonEl.style.display =\n",
              "          google.colab.kernel.accessAllowed ? 'block' : 'none';\n",
              "\n",
              "        async function convertToInteractive(key) {\n",
              "          const element = document.querySelector('#df-f7219051-6849-4f5e-9a0b-3bb51bf32783');\n",
              "          const dataTable =\n",
              "            await google.colab.kernel.invokeFunction('convertToInteractive',\n",
              "                                                     [key], {});\n",
              "          if (!dataTable) return;\n",
              "\n",
              "          const docLinkHtml = 'Like what you see? Visit the ' +\n",
              "            '<a target=\"_blank\" href=https://colab.research.google.com/notebooks/data_table.ipynb>data table notebook</a>'\n",
              "            + ' to learn more about interactive tables.';\n",
              "          element.innerHTML = '';\n",
              "          dataTable['output_type'] = 'display_data';\n",
              "          await google.colab.output.renderOutput(dataTable, element);\n",
              "          const docLink = document.createElement('div');\n",
              "          docLink.innerHTML = docLinkHtml;\n",
              "          element.appendChild(docLink);\n",
              "        }\n",
              "      </script>\n",
              "    </div>\n",
              "  </div>\n",
              "  "
            ]
          },
          "metadata": {},
          "execution_count": 84
        },
        {
          "output_type": "display_data",
          "data": {
            "text/plain": [
              "<Figure size 1440x1152 with 0 Axes>"
            ]
          },
          "metadata": {}
        }
      ],
      "source": [
        "feature_names = list(X_train.columns)\n",
        "plt.figure(figsize=(20,16))\n",
        "d = pd.DataFrame([feature_names,final_rfc_model.feature_importances_]).T\n",
        "d = d.sort_values([1],ascending=False)[0:]\n",
        "d*100"
      ]
    },
    {
      "cell_type": "code",
      "execution_count": null,
      "metadata": {
        "id": "3uMP8DoslGXG",
        "outputId": "3f15abae-0f1f-44de-e072-e33e7e51dce2"
      },
      "outputs": [
        {
          "data": {
            "text/plain": [
              "<matplotlib.axes._subplots.AxesSubplot at 0x2c9e1a23880>"
            ]
          },
          "execution_count": 100,
          "metadata": {},
          "output_type": "execute_result"
        },
        {
          "data": {
            "image/png": "[encoded data removed]",
            "text/plain": [
              "<Figure size 1440x1152 with 1 Axes>"
            ]
          },
          "metadata": {
            "needs_background": "light"
          },
          "output_type": "display_data"
        }
      ],
      "source": [
        "feature_names = list(X_train.columns)\n",
        "plt.figure(figsize=(20,16))\n",
        "d = pd.DataFrame([feature_names,final_rfc_model.feature_importances_]).T\n",
        "d = d.sort_values([1],ascending=False)[0:]\n",
        "sns.barplot(d[1],d[0])"
      ]
    },
    {
      "cell_type": "code",
      "execution_count": null,
      "metadata": {
        "id": "0sFYX3IalGXH",
        "outputId": "5137630e-12ca-427a-e42c-1dd54ded49e6"
      },
      "outputs": [
        {
          "data": {
            "text/html": [
              "<div>\n",
              "<style scoped>\n",
              "    .dataframe tbody tr th:only-of-type {\n",
              "        vertical-align: middle;\n",
              "    }\n",
              "\n",
              "    .dataframe tbody tr th {\n",
              "        vertical-align: top;\n",
              "    }\n",
              "\n",
              "    .dataframe thead th {\n",
              "        text-align: right;\n",
              "    }\n",
              "</style>\n",
              "<table border=\"1\" class=\"dataframe\">\n",
              "  <thead>\n",
              "    <tr style=\"text-align: right;\">\n",
              "      <th></th>\n",
              "      <th>base_lrc</th>\n",
              "      <th>para_lrc</th>\n",
              "      <th>base_knn</th>\n",
              "      <th>para_knn</th>\n",
              "      <th>base_svm</th>\n",
              "      <th>para_svm</th>\n",
              "      <th>base_dtc</th>\n",
              "      <th>para_dtc</th>\n",
              "      <th>bg_dtc</th>\n",
              "      <th>para_bgdtc</th>\n",
              "      <th>base_adb</th>\n",
              "      <th>para_adb</th>\n",
              "      <th>base_rfc</th>\n",
              "      <th>para_rfc</th>\n",
              "    </tr>\n",
              "  </thead>\n",
              "  <tbody>\n",
              "    <tr>\n",
              "      <th>train_accuracy</th>\n",
              "      <td>0.8206</td>\n",
              "      <td>0.8170</td>\n",
              "      <td>0.9178</td>\n",
              "      <td>0.9183</td>\n",
              "      <td>0.8204</td>\n",
              "      <td>0.8222</td>\n",
              "      <td>0.9676</td>\n",
              "      <td>0.8308</td>\n",
              "      <td>0.9644</td>\n",
              "      <td>0.9132</td>\n",
              "      <td>0.8321</td>\n",
              "      <td>0.8333</td>\n",
              "      <td>0.9676</td>\n",
              "      <td>0.9238</td>\n",
              "    </tr>\n",
              "    <tr>\n",
              "      <th>train_precision</th>\n",
              "      <td>0.8443</td>\n",
              "      <td>0.8616</td>\n",
              "      <td>0.9302</td>\n",
              "      <td>0.9324</td>\n",
              "      <td>0.8440</td>\n",
              "      <td>0.8456</td>\n",
              "      <td>0.9732</td>\n",
              "      <td>0.8355</td>\n",
              "      <td>0.9637</td>\n",
              "      <td>0.9239</td>\n",
              "      <td>0.8474</td>\n",
              "      <td>0.8510</td>\n",
              "      <td>0.9680</td>\n",
              "      <td>0.9519</td>\n",
              "    </tr>\n",
              "    <tr>\n",
              "      <th>train_recall</th>\n",
              "      <td>0.8361</td>\n",
              "      <td>0.8047</td>\n",
              "      <td>0.9235</td>\n",
              "      <td>0.9220</td>\n",
              "      <td>0.8359</td>\n",
              "      <td>0.8376</td>\n",
              "      <td>0.9693</td>\n",
              "      <td>0.8715</td>\n",
              "      <td>0.9735</td>\n",
              "      <td>0.9220</td>\n",
              "      <td>0.8564</td>\n",
              "      <td>0.8540</td>\n",
              "      <td>0.9748</td>\n",
              "      <td>0.9109</td>\n",
              "    </tr>\n",
              "    <tr>\n",
              "      <th>train_f1_score</th>\n",
              "      <td>0.8402</td>\n",
              "      <td>0.8322</td>\n",
              "      <td>0.9268</td>\n",
              "      <td>0.9272</td>\n",
              "      <td>0.8399</td>\n",
              "      <td>0.8416</td>\n",
              "      <td>0.9712</td>\n",
              "      <td>0.8532</td>\n",
              "      <td>0.9686</td>\n",
              "      <td>0.9229</td>\n",
              "      <td>0.8519</td>\n",
              "      <td>0.8525</td>\n",
              "      <td>0.9714</td>\n",
              "      <td>0.9309</td>\n",
              "    </tr>\n",
              "    <tr>\n",
              "      <th>test_accuracy</th>\n",
              "      <td>0.8046</td>\n",
              "      <td>0.8018</td>\n",
              "      <td>0.8621</td>\n",
              "      <td>0.8649</td>\n",
              "      <td>0.8051</td>\n",
              "      <td>0.8074</td>\n",
              "      <td>0.9006</td>\n",
              "      <td>0.8102</td>\n",
              "      <td>0.8989</td>\n",
              "      <td>0.8794</td>\n",
              "      <td>0.8219</td>\n",
              "      <td>0.8241</td>\n",
              "      <td>0.9107</td>\n",
              "      <td>0.8883</td>\n",
              "    </tr>\n",
              "    <tr>\n",
              "      <th>test_precision</th>\n",
              "      <td>0.8326</td>\n",
              "      <td>0.8546</td>\n",
              "      <td>0.8769</td>\n",
              "      <td>0.8798</td>\n",
              "      <td>0.8328</td>\n",
              "      <td>0.8356</td>\n",
              "      <td>0.9040</td>\n",
              "      <td>0.8156</td>\n",
              "      <td>0.9029</td>\n",
              "      <td>0.8867</td>\n",
              "      <td>0.8469</td>\n",
              "      <td>0.8518</td>\n",
              "      <td>0.9064</td>\n",
              "      <td>0.9110</td>\n",
              "    </tr>\n",
              "    <tr>\n",
              "      <th>test_recall</th>\n",
              "      <td>0.8109</td>\n",
              "      <td>0.7746</td>\n",
              "      <td>0.8742</td>\n",
              "      <td>0.8763</td>\n",
              "      <td>0.8119</td>\n",
              "      <td>0.8129</td>\n",
              "      <td>0.9185</td>\n",
              "      <td>0.8501</td>\n",
              "      <td>0.9165</td>\n",
              "      <td>0.8974</td>\n",
              "      <td>0.8290</td>\n",
              "      <td>0.8270</td>\n",
              "      <td>0.9356</td>\n",
              "      <td>0.8853</td>\n",
              "    </tr>\n",
              "    <tr>\n",
              "      <th>test_f1_score</th>\n",
              "      <td>0.8216</td>\n",
              "      <td>0.8127</td>\n",
              "      <td>0.8756</td>\n",
              "      <td>0.8780</td>\n",
              "      <td>0.8222</td>\n",
              "      <td>0.8241</td>\n",
              "      <td>0.9112</td>\n",
              "      <td>0.8325</td>\n",
              "      <td>0.9096</td>\n",
              "      <td>0.8920</td>\n",
              "      <td>0.8378</td>\n",
              "      <td>0.8392</td>\n",
              "      <td>0.9208</td>\n",
              "      <td>0.8980</td>\n",
              "    </tr>\n",
              "  </tbody>\n",
              "</table>\n",
              "</div>"
            ],
            "text/plain": [
              "                 base_lrc  para_lrc  base_knn  para_knn  base_svm  para_svm  \\\n",
              "train_accuracy     0.8206    0.8170    0.9178    0.9183    0.8204    0.8222   \n",
              "train_precision    0.8443    0.8616    0.9302    0.9324    0.8440    0.8456   \n",
              "train_recall       0.8361    0.8047    0.9235    0.9220    0.8359    0.8376   \n",
              "train_f1_score     0.8402    0.8322    0.9268    0.9272    0.8399    0.8416   \n",
              "test_accuracy      0.8046    0.8018    0.8621    0.8649    0.8051    0.8074   \n",
              "test_precision     0.8326    0.8546    0.8769    0.8798    0.8328    0.8356   \n",
              "test_recall        0.8109    0.7746    0.8742    0.8763    0.8119    0.8129   \n",
              "test_f1_score      0.8216    0.8127    0.8756    0.8780    0.8222    0.8241   \n",
              "\n",
              "                 base_dtc  para_dtc  bg_dtc  para_bgdtc  base_adb  para_adb  \\\n",
              "train_accuracy     0.9676    0.8308  0.9644      0.9132    0.8321    0.8333   \n",
              "train_precision    0.9732    0.8355  0.9637      0.9239    0.8474    0.8510   \n",
              "train_recall       0.9693    0.8715  0.9735      0.9220    0.8564    0.8540   \n",
              "train_f1_score     0.9712    0.8532  0.9686      0.9229    0.8519    0.8525   \n",
              "test_accuracy      0.9006    0.8102  0.8989      0.8794    0.8219    0.8241   \n",
              "test_precision     0.9040    0.8156  0.9029      0.8867    0.8469    0.8518   \n",
              "test_recall        0.9185    0.8501  0.9165      0.8974    0.8290    0.8270   \n",
              "test_f1_score      0.9112    0.8325  0.9096      0.8920    0.8378    0.8392   \n",
              "\n",
              "                 base_rfc  para_rfc  \n",
              "train_accuracy     0.9676    0.9238  \n",
              "train_precision    0.9680    0.9519  \n",
              "train_recall       0.9748    0.9109  \n",
              "train_f1_score     0.9714    0.9309  \n",
              "test_accuracy      0.9107    0.8883  \n",
              "test_precision     0.9064    0.9110  \n",
              "test_recall        0.9356    0.8853  \n",
              "test_f1_score      0.9208    0.8980  "
            ]
          },
          "execution_count": 101,
          "metadata": {},
          "output_type": "execute_result"
        }
      ],
      "source": [
        "dfMetrics=pd.merge(dfMetrics,model_metrics,right_index=True,left_index=True)\n",
        "dfMetrics"
      ]
    },
    {
      "cell_type": "markdown",
      "metadata": {
        "id": "pundKjiNlGXH"
      },
      "source": [
        "# Gradient Boosting Machines model."
      ]
    },
    {
      "cell_type": "code",
      "execution_count": 85,
      "metadata": {
        "id": "AAla6ORulGXH"
      },
      "outputs": [],
      "source": [
        "from sklearn.ensemble import GradientBoostingClassifier\n",
        "gb=GradientBoostingClassifier()"
      ]
    },
    {
      "cell_type": "code",
      "execution_count": 86,
      "metadata": {
        "id": "o_3hAmKJlGXH",
        "outputId": "8aaa244f-e929-47e3-c389-4d255838bb23",
        "colab": {
          "base_uri": "https://localhost:8080/"
        }
      },
      "outputs": [
        {
          "output_type": "stream",
          "name": "stdout",
          "text": [
            "CPU times: user 737 ms, sys: 4.68 ms, total: 742 ms\n",
            "Wall time: 742 ms\n"
          ]
        }
      ],
      "source": [
        "%%time\n",
        "base_metrics = fn_compute_model_metrics(gb, 'base_gb', \n",
        "                       X_train, y_train, X_test, y_test,\n",
        "                        parameters = None, k = 1)\n",
        "base_metrics= base_metrics.to_frame()"
      ]
    },
    {
      "cell_type": "code",
      "execution_count": 87,
      "metadata": {
        "id": "sRPjubgqlGXI",
        "colab": {
          "base_uri": "https://localhost:8080/"
        },
        "outputId": "a58850fe-1bf0-4e13-8edd-7233c0839516"
      },
      "outputs": [
        {
          "output_type": "stream",
          "name": "stdout",
          "text": [
            "GradientBoostingClassifier(learning_rate=0.8, max_depth=10, n_estimators=20,\n",
            "                           warm_start=True)\n",
            "CPU times: user 38.6 s, sys: 482 ms, total: 39 s\n",
            "Wall time: 40.1 s\n"
          ]
        }
      ],
      "source": [
        "%%time\n",
        "from sklearn.model_selection import GridSearchCV\n",
        "\n",
        "parameters = { 'learning_rate':[0.1, 0.5, 0.8],\n",
        "               'n_estimators':[5, 10,15, 20],\n",
        "               'max_depth':[2, 3, 5, 10],\n",
        "               'warm_start': [True]\n",
        "                }\n",
        "\n",
        "cv_model = fn_train_model(gb,\n",
        "                          X_train,\n",
        "                          y_train,\n",
        "                          parameters,\n",
        "                          k = 5)\n",
        "print(cv_model)"
      ]
    },
    {
      "cell_type": "code",
      "execution_count": 88,
      "metadata": {
        "id": "5E1EtTBflGXI"
      },
      "outputs": [],
      "source": [
        "parametersBest = { 'learning_rate':[0.8],\n",
        "               'n_estimators':[20],\n",
        "               'max_depth':[5],\n",
        "               'warm_start': [True]\n",
        "                }\n",
        "para_metrics = fn_compute_model_metrics(gb, 'para_gb', \n",
        "                       X_train, y_train, X_test, y_test,\n",
        "                       parameters = parametersBest, k = 5)\n",
        "para_metrics= para_metrics.to_frame()"
      ]
    },
    {
      "cell_type": "code",
      "execution_count": 89,
      "metadata": {
        "id": "mihIheXklGXI"
      },
      "outputs": [],
      "source": [
        "model_metrics=pd.merge(base_metrics,para_metrics,right_index=True,left_index=True)"
      ]
    },
    {
      "cell_type": "code",
      "execution_count": 90,
      "metadata": {
        "id": "VCrZCuIElGXI",
        "outputId": "0fa62ee7-d13a-43ec-f79b-091ac66c8dc5",
        "colab": {
          "base_uri": "https://localhost:8080/",
          "height": 300
        }
      },
      "outputs": [
        {
          "output_type": "execute_result",
          "data": {
            "text/plain": [
              "                 base_lrc  para_lrc  base_knn  para_knn  base_svm  para_svm  \\\n",
              "train_accuracy       0.82      0.82      0.92      0.92      0.82      0.82   \n",
              "train_precision      0.84      0.86      0.93      0.92      0.84      0.85   \n",
              "train_recall         0.84      0.80      0.92      0.93      0.84      0.84   \n",
              "train_f1_score       0.84      0.83      0.93      0.93      0.84      0.84   \n",
              "test_accuracy        0.80      0.80      0.86      0.86      0.81      0.81   \n",
              "test_precision       0.83      0.85      0.88      0.87      0.83      0.84   \n",
              "test_recall          0.81      0.77      0.87      0.88      0.81      0.81   \n",
              "test_f1_score        0.82      0.81      0.88      0.88      0.82      0.82   \n",
              "\n",
              "                 base_dtc  para_dtc  bg_dtc  para_bgdtc  base_adb  para_adb  \\\n",
              "train_accuracy       0.97      0.83    0.96        0.92      0.83      0.83   \n",
              "train_precision      0.97      0.84    0.97        0.93      0.85      0.85   \n",
              "train_recall         0.97      0.87    0.97        0.93      0.86      0.85   \n",
              "train_f1_score       0.97      0.85    0.97        0.93      0.85      0.85   \n",
              "test_accuracy        0.90      0.81    0.91        0.89      0.82      0.82   \n",
              "test_precision       0.91      0.82    0.91        0.89      0.85      0.85   \n",
              "test_recall          0.92      0.85    0.93        0.91      0.83      0.83   \n",
              "test_f1_score        0.91      0.83    0.92        0.90      0.84      0.84   \n",
              "\n",
              "                 base_gb  para_gb  \n",
              "train_accuracy      0.87     0.92  \n",
              "train_precision     0.88     0.93  \n",
              "train_recall        0.88     0.93  \n",
              "train_f1_score      0.88     0.93  \n",
              "test_accuracy       0.85     0.90  \n",
              "test_precision      0.85     0.91  \n",
              "test_recall         0.87     0.91  \n",
              "test_f1_score       0.86     0.91  "
            ],
            "text/html": [
              "\n",
              "  <div id=\"df-e0f6ef07-c2a8-45c9-87d6-61edcff1a74a\">\n",
              "    <div class=\"colab-df-container\">\n",
              "      <div>\n",
              "<style scoped>\n",
              "    .dataframe tbody tr th:only-of-type {\n",
              "        vertical-align: middle;\n",
              "    }\n",
              "\n",
              "    .dataframe tbody tr th {\n",
              "        vertical-align: top;\n",
              "    }\n",
              "\n",
              "    .dataframe thead th {\n",
              "        text-align: right;\n",
              "    }\n",
              "</style>\n",
              "<table border=\"1\" class=\"dataframe\">\n",
              "  <thead>\n",
              "    <tr style=\"text-align: right;\">\n",
              "      <th></th>\n",
              "      <th>base_lrc</th>\n",
              "      <th>para_lrc</th>\n",
              "      <th>base_knn</th>\n",
              "      <th>para_knn</th>\n",
              "      <th>base_svm</th>\n",
              "      <th>para_svm</th>\n",
              "      <th>base_dtc</th>\n",
              "      <th>para_dtc</th>\n",
              "      <th>bg_dtc</th>\n",
              "      <th>para_bgdtc</th>\n",
              "      <th>base_adb</th>\n",
              "      <th>para_adb</th>\n",
              "      <th>base_gb</th>\n",
              "      <th>para_gb</th>\n",
              "    </tr>\n",
              "  </thead>\n",
              "  <tbody>\n",
              "    <tr>\n",
              "      <th>train_accuracy</th>\n",
              "      <td>0.82</td>\n",
              "      <td>0.82</td>\n",
              "      <td>0.92</td>\n",
              "      <td>0.92</td>\n",
              "      <td>0.82</td>\n",
              "      <td>0.82</td>\n",
              "      <td>0.97</td>\n",
              "      <td>0.83</td>\n",
              "      <td>0.96</td>\n",
              "      <td>0.92</td>\n",
              "      <td>0.83</td>\n",
              "      <td>0.83</td>\n",
              "      <td>0.87</td>\n",
              "      <td>0.92</td>\n",
              "    </tr>\n",
              "    <tr>\n",
              "      <th>train_precision</th>\n",
              "      <td>0.84</td>\n",
              "      <td>0.86</td>\n",
              "      <td>0.93</td>\n",
              "      <td>0.92</td>\n",
              "      <td>0.84</td>\n",
              "      <td>0.85</td>\n",
              "      <td>0.97</td>\n",
              "      <td>0.84</td>\n",
              "      <td>0.97</td>\n",
              "      <td>0.93</td>\n",
              "      <td>0.85</td>\n",
              "      <td>0.85</td>\n",
              "      <td>0.88</td>\n",
              "      <td>0.93</td>\n",
              "    </tr>\n",
              "    <tr>\n",
              "      <th>train_recall</th>\n",
              "      <td>0.84</td>\n",
              "      <td>0.80</td>\n",
              "      <td>0.92</td>\n",
              "      <td>0.93</td>\n",
              "      <td>0.84</td>\n",
              "      <td>0.84</td>\n",
              "      <td>0.97</td>\n",
              "      <td>0.87</td>\n",
              "      <td>0.97</td>\n",
              "      <td>0.93</td>\n",
              "      <td>0.86</td>\n",
              "      <td>0.85</td>\n",
              "      <td>0.88</td>\n",
              "      <td>0.93</td>\n",
              "    </tr>\n",
              "    <tr>\n",
              "      <th>train_f1_score</th>\n",
              "      <td>0.84</td>\n",
              "      <td>0.83</td>\n",
              "      <td>0.93</td>\n",
              "      <td>0.93</td>\n",
              "      <td>0.84</td>\n",
              "      <td>0.84</td>\n",
              "      <td>0.97</td>\n",
              "      <td>0.85</td>\n",
              "      <td>0.97</td>\n",
              "      <td>0.93</td>\n",
              "      <td>0.85</td>\n",
              "      <td>0.85</td>\n",
              "      <td>0.88</td>\n",
              "      <td>0.93</td>\n",
              "    </tr>\n",
              "    <tr>\n",
              "      <th>test_accuracy</th>\n",
              "      <td>0.80</td>\n",
              "      <td>0.80</td>\n",
              "      <td>0.86</td>\n",
              "      <td>0.86</td>\n",
              "      <td>0.81</td>\n",
              "      <td>0.81</td>\n",
              "      <td>0.90</td>\n",
              "      <td>0.81</td>\n",
              "      <td>0.91</td>\n",
              "      <td>0.89</td>\n",
              "      <td>0.82</td>\n",
              "      <td>0.82</td>\n",
              "      <td>0.85</td>\n",
              "      <td>0.90</td>\n",
              "    </tr>\n",
              "    <tr>\n",
              "      <th>test_precision</th>\n",
              "      <td>0.83</td>\n",
              "      <td>0.85</td>\n",
              "      <td>0.88</td>\n",
              "      <td>0.87</td>\n",
              "      <td>0.83</td>\n",
              "      <td>0.84</td>\n",
              "      <td>0.91</td>\n",
              "      <td>0.82</td>\n",
              "      <td>0.91</td>\n",
              "      <td>0.89</td>\n",
              "      <td>0.85</td>\n",
              "      <td>0.85</td>\n",
              "      <td>0.85</td>\n",
              "      <td>0.91</td>\n",
              "    </tr>\n",
              "    <tr>\n",
              "      <th>test_recall</th>\n",
              "      <td>0.81</td>\n",
              "      <td>0.77</td>\n",
              "      <td>0.87</td>\n",
              "      <td>0.88</td>\n",
              "      <td>0.81</td>\n",
              "      <td>0.81</td>\n",
              "      <td>0.92</td>\n",
              "      <td>0.85</td>\n",
              "      <td>0.93</td>\n",
              "      <td>0.91</td>\n",
              "      <td>0.83</td>\n",
              "      <td>0.83</td>\n",
              "      <td>0.87</td>\n",
              "      <td>0.91</td>\n",
              "    </tr>\n",
              "    <tr>\n",
              "      <th>test_f1_score</th>\n",
              "      <td>0.82</td>\n",
              "      <td>0.81</td>\n",
              "      <td>0.88</td>\n",
              "      <td>0.88</td>\n",
              "      <td>0.82</td>\n",
              "      <td>0.82</td>\n",
              "      <td>0.91</td>\n",
              "      <td>0.83</td>\n",
              "      <td>0.92</td>\n",
              "      <td>0.90</td>\n",
              "      <td>0.84</td>\n",
              "      <td>0.84</td>\n",
              "      <td>0.86</td>\n",
              "      <td>0.91</td>\n",
              "    </tr>\n",
              "  </tbody>\n",
              "</table>\n",
              "</div>\n",
              "      <button class=\"colab-df-convert\" onclick=\"convertToInteractive('df-e0f6ef07-c2a8-45c9-87d6-61edcff1a74a')\"\n",
              "              title=\"Convert this dataframe to an interactive table.\"\n",
              "              style=\"display:none;\">\n",
              "        \n",
              "  <svg xmlns=\"http://www.w3.org/2000/svg\" height=\"24px\"viewBox=\"0 0 24 24\"\n",
              "       width=\"24px\">\n",
              "    <path d=\"M0 0h24v24H0V0z\" fill=\"none\"/>\n",
              "    <path d=\"M18.56 5.44l.94 2.06.94-2.06 2.06-.94-2.06-.94-.94-2.06-.94 2.06-2.06.94zm-11 1L8.5 8.5l.94-2.06 2.06-.94-2.06-.94L8.5 2.5l-.94 2.06-2.06.94zm10 10l.94 2.06.94-2.06 2.06-.94-2.06-.94-.94-2.06-.94 2.06-2.06.94z\"/><path d=\"M17.41 7.96l-1.37-1.37c-.4-.4-.92-.59-1.43-.59-.52 0-1.04.2-1.43.59L10.3 9.45l-7.72 7.72c-.78.78-.78 2.05 0 2.83L4 21.41c.39.39.9.59 1.41.59.51 0 1.02-.2 1.41-.59l7.78-7.78 2.81-2.81c.8-.78.8-2.07 0-2.86zM5.41 20L4 18.59l7.72-7.72 1.47 1.35L5.41 20z\"/>\n",
              "  </svg>\n",
              "      </button>\n",
              "      \n",
              "  <style>\n",
              "    .colab-df-container {\n",
              "      display:flex;\n",
              "      flex-wrap:wrap;\n",
              "      gap: 12px;\n",
              "    }\n",
              "\n",
              "    .colab-df-convert {\n",
              "      background-color: #E8F0FE;\n",
              "      border: none;\n",
              "      border-radius: 50%;\n",
              "      cursor: pointer;\n",
              "      display: none;\n",
              "      fill: #1967D2;\n",
              "      height: 32px;\n",
              "      padding: 0 0 0 0;\n",
              "      width: 32px;\n",
              "    }\n",
              "\n",
              "    .colab-df-convert:hover {\n",
              "      background-color: #E2EBFA;\n",
              "      box-shadow: 0px 1px 2px rgba(60, 64, 67, 0.3), 0px 1px 3px 1px rgba(60, 64, 67, 0.15);\n",
              "      fill: #174EA6;\n",
              "    }\n",
              "\n",
              "    [theme=dark] .colab-df-convert {\n",
              "      background-color: #3B4455;\n",
              "      fill: #D2E3FC;\n",
              "    }\n",
              "\n",
              "    [theme=dark] .colab-df-convert:hover {\n",
              "      background-color: #434B5C;\n",
              "      box-shadow: 0px 1px 3px 1px rgba(0, 0, 0, 0.15);\n",
              "      filter: drop-shadow(0px 1px 2px rgba(0, 0, 0, 0.3));\n",
              "      fill: #FFFFFF;\n",
              "    }\n",
              "  </style>\n",
              "\n",
              "      <script>\n",
              "        const buttonEl =\n",
              "          document.querySelector('#df-e0f6ef07-c2a8-45c9-87d6-61edcff1a74a button.colab-df-convert');\n",
              "        buttonEl.style.display =\n",
              "          google.colab.kernel.accessAllowed ? 'block' : 'none';\n",
              "\n",
              "        async function convertToInteractive(key) {\n",
              "          const element = document.querySelector('#df-e0f6ef07-c2a8-45c9-87d6-61edcff1a74a');\n",
              "          const dataTable =\n",
              "            await google.colab.kernel.invokeFunction('convertToInteractive',\n",
              "                                                     [key], {});\n",
              "          if (!dataTable) return;\n",
              "\n",
              "          const docLinkHtml = 'Like what you see? Visit the ' +\n",
              "            '<a target=\"_blank\" href=https://colab.research.google.com/notebooks/data_table.ipynb>data table notebook</a>'\n",
              "            + ' to learn more about interactive tables.';\n",
              "          element.innerHTML = '';\n",
              "          dataTable['output_type'] = 'display_data';\n",
              "          await google.colab.output.renderOutput(dataTable, element);\n",
              "          const docLink = document.createElement('div');\n",
              "          docLink.innerHTML = docLinkHtml;\n",
              "          element.appendChild(docLink);\n",
              "        }\n",
              "      </script>\n",
              "    </div>\n",
              "  </div>\n",
              "  "
            ]
          },
          "metadata": {},
          "execution_count": 90
        }
      ],
      "source": [
        "dfMetrics=pd.merge(dfMetrics,model_metrics,right_index=True,left_index=True)\n",
        "dfMetrics"
      ]
    },
    {
      "cell_type": "markdown",
      "metadata": {
        "id": "GPVg66YslGXI"
      },
      "source": [
        "# Ensembles: XGBoost"
      ]
    },
    {
      "cell_type": "code",
      "execution_count": 91,
      "metadata": {
        "id": "vtZW7A3ylGXJ"
      },
      "outputs": [],
      "source": [
        "from xgboost import XGBClassifier\n",
        "xgb = XGBClassifier()"
      ]
    },
    {
      "cell_type": "code",
      "execution_count": 92,
      "metadata": {
        "id": "LcN2TpKplGXJ",
        "outputId": "e2d7807c-7a2b-4899-85b3-3d2f3da77d74",
        "colab": {
          "base_uri": "https://localhost:8080/"
        }
      },
      "outputs": [
        {
          "output_type": "stream",
          "name": "stdout",
          "text": [
            "CPU times: user 649 ms, sys: 13 ms, total: 662 ms\n",
            "Wall time: 756 ms\n"
          ]
        }
      ],
      "source": [
        "%%time\n",
        "base_metrics = fn_compute_model_metrics(xgb, 'base_xgb', \n",
        "                       X_train, y_train, X_test, y_test,\n",
        "                        parameters = None, k = 1)\n",
        "base_metrics= base_metrics.to_frame()"
      ]
    },
    {
      "cell_type": "code",
      "execution_count": 93,
      "metadata": {
        "id": "egSCDK8llGXJ",
        "colab": {
          "base_uri": "https://localhost:8080/"
        },
        "outputId": "37b5f1f9-c49b-4b1c-b648-f4b0d05943ba"
      },
      "outputs": [
        {
          "output_type": "stream",
          "name": "stdout",
          "text": [
            "XGBClassifier(model__learning_rate=0.05, model__n_estimators=10)\n",
            "CPU times: user 40.3 s, sys: 410 ms, total: 40.7 s\n",
            "Wall time: 43.2 s\n"
          ]
        }
      ],
      "source": [
        "%%time\n",
        "param_grid = {\n",
        "    \"model__n_estimators\": [10, 50, 100, 500],\n",
        "    \"model__learning_rate\": [0.05, 0.1, 0.5, 1],\n",
        "}\n",
        "\n",
        "xgb_cv_model = fn_train_model(xgb,\n",
        "                          X_train,\n",
        "                          y_train,\n",
        "                          param_grid,\n",
        "                          k = 5)\n",
        "print(xgb_cv_model)\n",
        "final_xgb_model_metrics = fn_compute_metrics(xgb_cv_model, 'param_grid',\n",
        "                                        X_train, y_train,\n",
        "                                        X_test, y_test)\n",
        "\n"
      ]
    },
    {
      "cell_type": "code",
      "execution_count": 94,
      "metadata": {
        "id": "TVnZOem_lGXJ"
      },
      "outputs": [],
      "source": [
        "parametersBest = {\n",
        "    \"model__n_estimators\": [10],\n",
        "    'base_score':[0.5],\n",
        "    'booster':['gbtree'],\n",
        "    'max_depth':[6],\n",
        "    'learning_rate':[0.3],\n",
        "    \"model__learning_rate\": [0.05],\n",
        "}\n",
        "\n",
        "para_metrics = fn_compute_model_metrics(xgb, 'para_xgb', \n",
        "                       X_train, y_train, X_test, y_test,\n",
        "                       parameters = parametersBest, k = 5)\n",
        "para_metrics= para_metrics.to_frame()"
      ]
    },
    {
      "cell_type": "code",
      "execution_count": 95,
      "metadata": {
        "id": "XgZf4-k9lGXK"
      },
      "outputs": [],
      "source": [
        "model_metrics=pd.merge(base_metrics,para_metrics,right_index=True,left_index=True)"
      ]
    },
    {
      "cell_type": "code",
      "execution_count": 96,
      "metadata": {
        "id": "cwIJvpqUlGXK",
        "outputId": "4c6da286-dcb9-4898-e0a5-6b4b73200131",
        "colab": {
          "base_uri": "https://localhost:8080/",
          "height": 300
        }
      },
      "outputs": [
        {
          "output_type": "execute_result",
          "data": {
            "text/plain": [
              "                 base_lrc  para_lrc  base_knn  para_knn  base_svm  para_svm  \\\n",
              "train_accuracy       0.82      0.82      0.92      0.92      0.82      0.82   \n",
              "train_precision      0.84      0.86      0.93      0.92      0.84      0.85   \n",
              "train_recall         0.84      0.80      0.92      0.93      0.84      0.84   \n",
              "train_f1_score       0.84      0.83      0.93      0.93      0.84      0.84   \n",
              "test_accuracy        0.80      0.80      0.86      0.86      0.81      0.81   \n",
              "test_precision       0.83      0.85      0.88      0.87      0.83      0.84   \n",
              "test_recall          0.81      0.77      0.87      0.88      0.81      0.81   \n",
              "test_f1_score        0.82      0.81      0.88      0.88      0.82      0.82   \n",
              "\n",
              "                 base_dtc  para_dtc  bg_dtc  para_bgdtc  base_adb  para_adb  \\\n",
              "train_accuracy       0.97      0.83    0.96        0.92      0.83      0.83   \n",
              "train_precision      0.97      0.84    0.97        0.93      0.85      0.85   \n",
              "train_recall         0.97      0.87    0.97        0.93      0.86      0.85   \n",
              "train_f1_score       0.97      0.85    0.97        0.93      0.85      0.85   \n",
              "test_accuracy        0.90      0.81    0.91        0.89      0.82      0.82   \n",
              "test_precision       0.91      0.82    0.91        0.89      0.85      0.85   \n",
              "test_recall          0.92      0.85    0.93        0.91      0.83      0.83   \n",
              "test_f1_score        0.91      0.83    0.92        0.90      0.84      0.84   \n",
              "\n",
              "                 base_gb  para_gb  base_xgb  para_xgb  \n",
              "train_accuracy      0.87     0.92      0.87      0.95  \n",
              "train_precision     0.88     0.93      0.88      0.96  \n",
              "train_recall        0.88     0.93      0.88      0.95  \n",
              "train_f1_score      0.88     0.93      0.88      0.95  \n",
              "test_accuracy       0.85     0.90      0.84      0.91  \n",
              "test_precision      0.85     0.91      0.85      0.92  \n",
              "test_recall         0.87     0.91      0.87      0.92  \n",
              "test_f1_score       0.86     0.91      0.86      0.92  "
            ],
            "text/html": [
              "\n",
              "  <div id=\"df-20ab9112-61dc-4f09-9c06-402f8a98cb93\">\n",
              "    <div class=\"colab-df-container\">\n",
              "      <div>\n",
              "<style scoped>\n",
              "    .dataframe tbody tr th:only-of-type {\n",
              "        vertical-align: middle;\n",
              "    }\n",
              "\n",
              "    .dataframe tbody tr th {\n",
              "        vertical-align: top;\n",
              "    }\n",
              "\n",
              "    .dataframe thead th {\n",
              "        text-align: right;\n",
              "    }\n",
              "</style>\n",
              "<table border=\"1\" class=\"dataframe\">\n",
              "  <thead>\n",
              "    <tr style=\"text-align: right;\">\n",
              "      <th></th>\n",
              "      <th>base_lrc</th>\n",
              "      <th>para_lrc</th>\n",
              "      <th>base_knn</th>\n",
              "      <th>para_knn</th>\n",
              "      <th>base_svm</th>\n",
              "      <th>para_svm</th>\n",
              "      <th>base_dtc</th>\n",
              "      <th>para_dtc</th>\n",
              "      <th>bg_dtc</th>\n",
              "      <th>para_bgdtc</th>\n",
              "      <th>base_adb</th>\n",
              "      <th>para_adb</th>\n",
              "      <th>base_gb</th>\n",
              "      <th>para_gb</th>\n",
              "      <th>base_xgb</th>\n",
              "      <th>para_xgb</th>\n",
              "    </tr>\n",
              "  </thead>\n",
              "  <tbody>\n",
              "    <tr>\n",
              "      <th>train_accuracy</th>\n",
              "      <td>0.82</td>\n",
              "      <td>0.82</td>\n",
              "      <td>0.92</td>\n",
              "      <td>0.92</td>\n",
              "      <td>0.82</td>\n",
              "      <td>0.82</td>\n",
              "      <td>0.97</td>\n",
              "      <td>0.83</td>\n",
              "      <td>0.96</td>\n",
              "      <td>0.92</td>\n",
              "      <td>0.83</td>\n",
              "      <td>0.83</td>\n",
              "      <td>0.87</td>\n",
              "      <td>0.92</td>\n",
              "      <td>0.87</td>\n",
              "      <td>0.95</td>\n",
              "    </tr>\n",
              "    <tr>\n",
              "      <th>train_precision</th>\n",
              "      <td>0.84</td>\n",
              "      <td>0.86</td>\n",
              "      <td>0.93</td>\n",
              "      <td>0.92</td>\n",
              "      <td>0.84</td>\n",
              "      <td>0.85</td>\n",
              "      <td>0.97</td>\n",
              "      <td>0.84</td>\n",
              "      <td>0.97</td>\n",
              "      <td>0.93</td>\n",
              "      <td>0.85</td>\n",
              "      <td>0.85</td>\n",
              "      <td>0.88</td>\n",
              "      <td>0.93</td>\n",
              "      <td>0.88</td>\n",
              "      <td>0.96</td>\n",
              "    </tr>\n",
              "    <tr>\n",
              "      <th>train_recall</th>\n",
              "      <td>0.84</td>\n",
              "      <td>0.80</td>\n",
              "      <td>0.92</td>\n",
              "      <td>0.93</td>\n",
              "      <td>0.84</td>\n",
              "      <td>0.84</td>\n",
              "      <td>0.97</td>\n",
              "      <td>0.87</td>\n",
              "      <td>0.97</td>\n",
              "      <td>0.93</td>\n",
              "      <td>0.86</td>\n",
              "      <td>0.85</td>\n",
              "      <td>0.88</td>\n",
              "      <td>0.93</td>\n",
              "      <td>0.88</td>\n",
              "      <td>0.95</td>\n",
              "    </tr>\n",
              "    <tr>\n",
              "      <th>train_f1_score</th>\n",
              "      <td>0.84</td>\n",
              "      <td>0.83</td>\n",
              "      <td>0.93</td>\n",
              "      <td>0.93</td>\n",
              "      <td>0.84</td>\n",
              "      <td>0.84</td>\n",
              "      <td>0.97</td>\n",
              "      <td>0.85</td>\n",
              "      <td>0.97</td>\n",
              "      <td>0.93</td>\n",
              "      <td>0.85</td>\n",
              "      <td>0.85</td>\n",
              "      <td>0.88</td>\n",
              "      <td>0.93</td>\n",
              "      <td>0.88</td>\n",
              "      <td>0.95</td>\n",
              "    </tr>\n",
              "    <tr>\n",
              "      <th>test_accuracy</th>\n",
              "      <td>0.80</td>\n",
              "      <td>0.80</td>\n",
              "      <td>0.86</td>\n",
              "      <td>0.86</td>\n",
              "      <td>0.81</td>\n",
              "      <td>0.81</td>\n",
              "      <td>0.90</td>\n",
              "      <td>0.81</td>\n",
              "      <td>0.91</td>\n",
              "      <td>0.89</td>\n",
              "      <td>0.82</td>\n",
              "      <td>0.82</td>\n",
              "      <td>0.85</td>\n",
              "      <td>0.90</td>\n",
              "      <td>0.84</td>\n",
              "      <td>0.91</td>\n",
              "    </tr>\n",
              "    <tr>\n",
              "      <th>test_precision</th>\n",
              "      <td>0.83</td>\n",
              "      <td>0.85</td>\n",
              "      <td>0.88</td>\n",
              "      <td>0.87</td>\n",
              "      <td>0.83</td>\n",
              "      <td>0.84</td>\n",
              "      <td>0.91</td>\n",
              "      <td>0.82</td>\n",
              "      <td>0.91</td>\n",
              "      <td>0.89</td>\n",
              "      <td>0.85</td>\n",
              "      <td>0.85</td>\n",
              "      <td>0.85</td>\n",
              "      <td>0.91</td>\n",
              "      <td>0.85</td>\n",
              "      <td>0.92</td>\n",
              "    </tr>\n",
              "    <tr>\n",
              "      <th>test_recall</th>\n",
              "      <td>0.81</td>\n",
              "      <td>0.77</td>\n",
              "      <td>0.87</td>\n",
              "      <td>0.88</td>\n",
              "      <td>0.81</td>\n",
              "      <td>0.81</td>\n",
              "      <td>0.92</td>\n",
              "      <td>0.85</td>\n",
              "      <td>0.93</td>\n",
              "      <td>0.91</td>\n",
              "      <td>0.83</td>\n",
              "      <td>0.83</td>\n",
              "      <td>0.87</td>\n",
              "      <td>0.91</td>\n",
              "      <td>0.87</td>\n",
              "      <td>0.92</td>\n",
              "    </tr>\n",
              "    <tr>\n",
              "      <th>test_f1_score</th>\n",
              "      <td>0.82</td>\n",
              "      <td>0.81</td>\n",
              "      <td>0.88</td>\n",
              "      <td>0.88</td>\n",
              "      <td>0.82</td>\n",
              "      <td>0.82</td>\n",
              "      <td>0.91</td>\n",
              "      <td>0.83</td>\n",
              "      <td>0.92</td>\n",
              "      <td>0.90</td>\n",
              "      <td>0.84</td>\n",
              "      <td>0.84</td>\n",
              "      <td>0.86</td>\n",
              "      <td>0.91</td>\n",
              "      <td>0.86</td>\n",
              "      <td>0.92</td>\n",
              "    </tr>\n",
              "  </tbody>\n",
              "</table>\n",
              "</div>\n",
              "      <button class=\"colab-df-convert\" onclick=\"convertToInteractive('df-20ab9112-61dc-4f09-9c06-402f8a98cb93')\"\n",
              "              title=\"Convert this dataframe to an interactive table.\"\n",
              "              style=\"display:none;\">\n",
              "        \n",
              "  <svg xmlns=\"http://www.w3.org/2000/svg\" height=\"24px\"viewBox=\"0 0 24 24\"\n",
              "       width=\"24px\">\n",
              "    <path d=\"M0 0h24v24H0V0z\" fill=\"none\"/>\n",
              "    <path d=\"M18.56 5.44l.94 2.06.94-2.06 2.06-.94-2.06-.94-.94-2.06-.94 2.06-2.06.94zm-11 1L8.5 8.5l.94-2.06 2.06-.94-2.06-.94L8.5 2.5l-.94 2.06-2.06.94zm10 10l.94 2.06.94-2.06 2.06-.94-2.06-.94-.94-2.06-.94 2.06-2.06.94z\"/><path d=\"M17.41 7.96l-1.37-1.37c-.4-.4-.92-.59-1.43-.59-.52 0-1.04.2-1.43.59L10.3 9.45l-7.72 7.72c-.78.78-.78 2.05 0 2.83L4 21.41c.39.39.9.59 1.41.59.51 0 1.02-.2 1.41-.59l7.78-7.78 2.81-2.81c.8-.78.8-2.07 0-2.86zM5.41 20L4 18.59l7.72-7.72 1.47 1.35L5.41 20z\"/>\n",
              "  </svg>\n",
              "      </button>\n",
              "      \n",
              "  <style>\n",
              "    .colab-df-container {\n",
              "      display:flex;\n",
              "      flex-wrap:wrap;\n",
              "      gap: 12px;\n",
              "    }\n",
              "\n",
              "    .colab-df-convert {\n",
              "      background-color: #E8F0FE;\n",
              "      border: none;\n",
              "      border-radius: 50%;\n",
              "      cursor: pointer;\n",
              "      display: none;\n",
              "      fill: #1967D2;\n",
              "      height: 32px;\n",
              "      padding: 0 0 0 0;\n",
              "      width: 32px;\n",
              "    }\n",
              "\n",
              "    .colab-df-convert:hover {\n",
              "      background-color: #E2EBFA;\n",
              "      box-shadow: 0px 1px 2px rgba(60, 64, 67, 0.3), 0px 1px 3px 1px rgba(60, 64, 67, 0.15);\n",
              "      fill: #174EA6;\n",
              "    }\n",
              "\n",
              "    [theme=dark] .colab-df-convert {\n",
              "      background-color: #3B4455;\n",
              "      fill: #D2E3FC;\n",
              "    }\n",
              "\n",
              "    [theme=dark] .colab-df-convert:hover {\n",
              "      background-color: #434B5C;\n",
              "      box-shadow: 0px 1px 3px 1px rgba(0, 0, 0, 0.15);\n",
              "      filter: drop-shadow(0px 1px 2px rgba(0, 0, 0, 0.3));\n",
              "      fill: #FFFFFF;\n",
              "    }\n",
              "  </style>\n",
              "\n",
              "      <script>\n",
              "        const buttonEl =\n",
              "          document.querySelector('#df-20ab9112-61dc-4f09-9c06-402f8a98cb93 button.colab-df-convert');\n",
              "        buttonEl.style.display =\n",
              "          google.colab.kernel.accessAllowed ? 'block' : 'none';\n",
              "\n",
              "        async function convertToInteractive(key) {\n",
              "          const element = document.querySelector('#df-20ab9112-61dc-4f09-9c06-402f8a98cb93');\n",
              "          const dataTable =\n",
              "            await google.colab.kernel.invokeFunction('convertToInteractive',\n",
              "                                                     [key], {});\n",
              "          if (!dataTable) return;\n",
              "\n",
              "          const docLinkHtml = 'Like what you see? Visit the ' +\n",
              "            '<a target=\"_blank\" href=https://colab.research.google.com/notebooks/data_table.ipynb>data table notebook</a>'\n",
              "            + ' to learn more about interactive tables.';\n",
              "          element.innerHTML = '';\n",
              "          dataTable['output_type'] = 'display_data';\n",
              "          await google.colab.output.renderOutput(dataTable, element);\n",
              "          const docLink = document.createElement('div');\n",
              "          docLink.innerHTML = docLinkHtml;\n",
              "          element.appendChild(docLink);\n",
              "        }\n",
              "      </script>\n",
              "    </div>\n",
              "  </div>\n",
              "  "
            ]
          },
          "metadata": {},
          "execution_count": 96
        }
      ],
      "source": [
        "dfMetrics=pd.merge(dfMetrics,model_metrics,right_index=True,left_index=True)\n",
        "dfMetrics"
      ]
    },
    {
      "cell_type": "markdown",
      "metadata": {
        "id": "zrnLP153lGXK"
      },
      "source": [
        "# LightGBM"
      ]
    },
    {
      "cell_type": "code",
      "execution_count": 97,
      "metadata": {
        "id": "r3HDyM1BlGXK"
      },
      "outputs": [],
      "source": [
        "from lightgbm import LGBMClassifier\n",
        "lgbm = LGBMClassifier()"
      ]
    },
    {
      "cell_type": "code",
      "execution_count": 98,
      "metadata": {
        "id": "iu8VaqtklGXK",
        "outputId": "5fcf5672-481b-43f4-dede-8f88475803eb",
        "colab": {
          "base_uri": "https://localhost:8080/"
        }
      },
      "outputs": [
        {
          "output_type": "stream",
          "name": "stdout",
          "text": [
            "CPU times: user 321 ms, sys: 11 ms, total: 332 ms\n",
            "Wall time: 345 ms\n"
          ]
        }
      ],
      "source": [
        "%%time\n",
        "base_metrics = fn_compute_model_metrics(lgbm, 'base_lgbm', \n",
        "                       X_train, y_train, X_test, y_test,\n",
        "                        parameters = None, k = 1)\n",
        "base_metrics= base_metrics.to_frame()"
      ]
    },
    {
      "cell_type": "code",
      "execution_count": 99,
      "metadata": {
        "id": "0XZVR_1elGXL",
        "colab": {
          "base_uri": "https://localhost:8080/"
        },
        "outputId": "2ea6ceb4-d747-4774-96b1-1bcebb0741b2"
      },
      "outputs": [
        {
          "output_type": "stream",
          "name": "stdout",
          "text": [
            "LGBMClassifier(learning_rate=1, random_state=2)\n",
            "train_accuracy     0.97\n",
            "train_precision    0.97\n",
            "train_recall       0.97\n",
            "train_f1_score     0.97\n",
            "test_accuracy      0.92\n",
            "test_precision     0.92\n",
            "test_recall        0.94\n",
            "test_f1_score      0.93\n",
            "Name: param_grid, dtype: float64\n"
          ]
        }
      ],
      "source": [
        "param_grid = {\n",
        "    \"n_estimators\": [10, 50, 100, 500],\n",
        "    \"learning_rate\": [0.05, 0.1, 0.5, 1],\n",
        "    \"n_jobs\" :[-1],\n",
        "                            'random_state' : [2]\n",
        "}\n",
        "\n",
        "lgbm_cv_model = fn_train_model(lgbm,\n",
        "                          X_train,\n",
        "                          y_train,\n",
        "                          param_grid,\n",
        "                          k = 5)\n",
        "print(lgbm_cv_model)\n",
        "lgbm_cv_model_metrics = fn_compute_metrics(lgbm_cv_model, 'param_grid',\n",
        "                                        X_train, y_train,\n",
        "                                        X_test, y_test)\n",
        "\n",
        "print(lgbm_cv_model_metrics)"
      ]
    },
    {
      "cell_type": "code",
      "execution_count": 100,
      "metadata": {
        "id": "6tNkPPFnlGXL"
      },
      "outputs": [],
      "source": [
        "param_grid = {\n",
        "    \"n_estimators\": [500],\n",
        "    \"learning_rate\": [0.05],\n",
        "    \"n_jobs\" :[-1],\n",
        "                            'random_state' : [2]\n",
        "}\n",
        "\n",
        "\n",
        "para_metrics = fn_compute_model_metrics(lgbm, 'param_lgbm', \n",
        "                       X_train, y_train, X_test, y_test,\n",
        "                       parameters = param_grid, k = 5)\n",
        "para_metrics= para_metrics.to_frame()"
      ]
    },
    {
      "cell_type": "code",
      "execution_count": 101,
      "metadata": {
        "id": "A34h2-9BlGXL"
      },
      "outputs": [],
      "source": [
        "model_metrics=pd.merge(base_metrics,para_metrics,right_index=True,left_index=True)"
      ]
    },
    {
      "cell_type": "code",
      "execution_count": 102,
      "metadata": {
        "id": "-d8mE_xNlGXL",
        "outputId": "25cb00d4-6e3c-4a07-e2e2-d5ca7198c41e",
        "colab": {
          "base_uri": "https://localhost:8080/",
          "height": 364
        }
      },
      "outputs": [
        {
          "output_type": "execute_result",
          "data": {
            "text/plain": [
              "                 base_lrc  para_lrc  base_knn  para_knn  base_svm  para_svm  \\\n",
              "train_accuracy       0.82      0.82      0.92      0.92      0.82      0.82   \n",
              "train_precision      0.84      0.86      0.93      0.92      0.84      0.85   \n",
              "train_recall         0.84      0.80      0.92      0.93      0.84      0.84   \n",
              "train_f1_score       0.84      0.83      0.93      0.93      0.84      0.84   \n",
              "test_accuracy        0.80      0.80      0.86      0.86      0.81      0.81   \n",
              "test_precision       0.83      0.85      0.88      0.87      0.83      0.84   \n",
              "test_recall          0.81      0.77      0.87      0.88      0.81      0.81   \n",
              "test_f1_score        0.82      0.81      0.88      0.88      0.82      0.82   \n",
              "\n",
              "                 base_dtc  para_dtc  bg_dtc  para_bgdtc  base_adb  para_adb  \\\n",
              "train_accuracy       0.97      0.83    0.96        0.92      0.83      0.83   \n",
              "train_precision      0.97      0.84    0.97        0.93      0.85      0.85   \n",
              "train_recall         0.97      0.87    0.97        0.93      0.86      0.85   \n",
              "train_f1_score       0.97      0.85    0.97        0.93      0.85      0.85   \n",
              "test_accuracy        0.90      0.81    0.91        0.89      0.82      0.82   \n",
              "test_precision       0.91      0.82    0.91        0.89      0.85      0.85   \n",
              "test_recall          0.92      0.85    0.93        0.91      0.83      0.83   \n",
              "test_f1_score        0.91      0.83    0.92        0.90      0.84      0.84   \n",
              "\n",
              "                 base_gb  para_gb  base_xgb  para_xgb  base_lgbm  param_lgbm  \n",
              "train_accuracy      0.87     0.92      0.87      0.95       0.92        0.94  \n",
              "train_precision     0.88     0.93      0.88      0.96       0.94        0.95  \n",
              "train_recall        0.88     0.93      0.88      0.95       0.93        0.95  \n",
              "train_f1_score      0.88     0.93      0.88      0.95       0.93        0.95  \n",
              "test_accuracy       0.85     0.90      0.84      0.91       0.90        0.91  \n",
              "test_precision      0.85     0.91      0.85      0.92       0.91        0.92  \n",
              "test_recall         0.87     0.91      0.87      0.92       0.90        0.92  \n",
              "test_f1_score       0.86     0.91      0.86      0.92       0.90        0.92  "
            ],
            "text/html": [
              "\n",
              "  <div id=\"df-ec2dcc7e-4cca-46f0-b059-f8185c349b00\">\n",
              "    <div class=\"colab-df-container\">\n",
              "      <div>\n",
              "<style scoped>\n",
              "    .dataframe tbody tr th:only-of-type {\n",
              "        vertical-align: middle;\n",
              "    }\n",
              "\n",
              "    .dataframe tbody tr th {\n",
              "        vertical-align: top;\n",
              "    }\n",
              "\n",
              "    .dataframe thead th {\n",
              "        text-align: right;\n",
              "    }\n",
              "</style>\n",
              "<table border=\"1\" class=\"dataframe\">\n",
              "  <thead>\n",
              "    <tr style=\"text-align: right;\">\n",
              "      <th></th>\n",
              "      <th>base_lrc</th>\n",
              "      <th>para_lrc</th>\n",
              "      <th>base_knn</th>\n",
              "      <th>para_knn</th>\n",
              "      <th>base_svm</th>\n",
              "      <th>para_svm</th>\n",
              "      <th>base_dtc</th>\n",
              "      <th>para_dtc</th>\n",
              "      <th>bg_dtc</th>\n",
              "      <th>para_bgdtc</th>\n",
              "      <th>base_adb</th>\n",
              "      <th>para_adb</th>\n",
              "      <th>base_gb</th>\n",
              "      <th>para_gb</th>\n",
              "      <th>base_xgb</th>\n",
              "      <th>para_xgb</th>\n",
              "      <th>base_lgbm</th>\n",
              "      <th>param_lgbm</th>\n",
              "    </tr>\n",
              "  </thead>\n",
              "  <tbody>\n",
              "    <tr>\n",
              "      <th>train_accuracy</th>\n",
              "      <td>0.82</td>\n",
              "      <td>0.82</td>\n",
              "      <td>0.92</td>\n",
              "      <td>0.92</td>\n",
              "      <td>0.82</td>\n",
              "      <td>0.82</td>\n",
              "      <td>0.97</td>\n",
              "      <td>0.83</td>\n",
              "      <td>0.96</td>\n",
              "      <td>0.92</td>\n",
              "      <td>0.83</td>\n",
              "      <td>0.83</td>\n",
              "      <td>0.87</td>\n",
              "      <td>0.92</td>\n",
              "      <td>0.87</td>\n",
              "      <td>0.95</td>\n",
              "      <td>0.92</td>\n",
              "      <td>0.94</td>\n",
              "    </tr>\n",
              "    <tr>\n",
              "      <th>train_precision</th>\n",
              "      <td>0.84</td>\n",
              "      <td>0.86</td>\n",
              "      <td>0.93</td>\n",
              "      <td>0.92</td>\n",
              "      <td>0.84</td>\n",
              "      <td>0.85</td>\n",
              "      <td>0.97</td>\n",
              "      <td>0.84</td>\n",
              "      <td>0.97</td>\n",
              "      <td>0.93</td>\n",
              "      <td>0.85</td>\n",
              "      <td>0.85</td>\n",
              "      <td>0.88</td>\n",
              "      <td>0.93</td>\n",
              "      <td>0.88</td>\n",
              "      <td>0.96</td>\n",
              "      <td>0.94</td>\n",
              "      <td>0.95</td>\n",
              "    </tr>\n",
              "    <tr>\n",
              "      <th>train_recall</th>\n",
              "      <td>0.84</td>\n",
              "      <td>0.80</td>\n",
              "      <td>0.92</td>\n",
              "      <td>0.93</td>\n",
              "      <td>0.84</td>\n",
              "      <td>0.84</td>\n",
              "      <td>0.97</td>\n",
              "      <td>0.87</td>\n",
              "      <td>0.97</td>\n",
              "      <td>0.93</td>\n",
              "      <td>0.86</td>\n",
              "      <td>0.85</td>\n",
              "      <td>0.88</td>\n",
              "      <td>0.93</td>\n",
              "      <td>0.88</td>\n",
              "      <td>0.95</td>\n",
              "      <td>0.93</td>\n",
              "      <td>0.95</td>\n",
              "    </tr>\n",
              "    <tr>\n",
              "      <th>train_f1_score</th>\n",
              "      <td>0.84</td>\n",
              "      <td>0.83</td>\n",
              "      <td>0.93</td>\n",
              "      <td>0.93</td>\n",
              "      <td>0.84</td>\n",
              "      <td>0.84</td>\n",
              "      <td>0.97</td>\n",
              "      <td>0.85</td>\n",
              "      <td>0.97</td>\n",
              "      <td>0.93</td>\n",
              "      <td>0.85</td>\n",
              "      <td>0.85</td>\n",
              "      <td>0.88</td>\n",
              "      <td>0.93</td>\n",
              "      <td>0.88</td>\n",
              "      <td>0.95</td>\n",
              "      <td>0.93</td>\n",
              "      <td>0.95</td>\n",
              "    </tr>\n",
              "    <tr>\n",
              "      <th>test_accuracy</th>\n",
              "      <td>0.80</td>\n",
              "      <td>0.80</td>\n",
              "      <td>0.86</td>\n",
              "      <td>0.86</td>\n",
              "      <td>0.81</td>\n",
              "      <td>0.81</td>\n",
              "      <td>0.90</td>\n",
              "      <td>0.81</td>\n",
              "      <td>0.91</td>\n",
              "      <td>0.89</td>\n",
              "      <td>0.82</td>\n",
              "      <td>0.82</td>\n",
              "      <td>0.85</td>\n",
              "      <td>0.90</td>\n",
              "      <td>0.84</td>\n",
              "      <td>0.91</td>\n",
              "      <td>0.90</td>\n",
              "      <td>0.91</td>\n",
              "    </tr>\n",
              "    <tr>\n",
              "      <th>test_precision</th>\n",
              "      <td>0.83</td>\n",
              "      <td>0.85</td>\n",
              "      <td>0.88</td>\n",
              "      <td>0.87</td>\n",
              "      <td>0.83</td>\n",
              "      <td>0.84</td>\n",
              "      <td>0.91</td>\n",
              "      <td>0.82</td>\n",
              "      <td>0.91</td>\n",
              "      <td>0.89</td>\n",
              "      <td>0.85</td>\n",
              "      <td>0.85</td>\n",
              "      <td>0.85</td>\n",
              "      <td>0.91</td>\n",
              "      <td>0.85</td>\n",
              "      <td>0.92</td>\n",
              "      <td>0.91</td>\n",
              "      <td>0.92</td>\n",
              "    </tr>\n",
              "    <tr>\n",
              "      <th>test_recall</th>\n",
              "      <td>0.81</td>\n",
              "      <td>0.77</td>\n",
              "      <td>0.87</td>\n",
              "      <td>0.88</td>\n",
              "      <td>0.81</td>\n",
              "      <td>0.81</td>\n",
              "      <td>0.92</td>\n",
              "      <td>0.85</td>\n",
              "      <td>0.93</td>\n",
              "      <td>0.91</td>\n",
              "      <td>0.83</td>\n",
              "      <td>0.83</td>\n",
              "      <td>0.87</td>\n",
              "      <td>0.91</td>\n",
              "      <td>0.87</td>\n",
              "      <td>0.92</td>\n",
              "      <td>0.90</td>\n",
              "      <td>0.92</td>\n",
              "    </tr>\n",
              "    <tr>\n",
              "      <th>test_f1_score</th>\n",
              "      <td>0.82</td>\n",
              "      <td>0.81</td>\n",
              "      <td>0.88</td>\n",
              "      <td>0.88</td>\n",
              "      <td>0.82</td>\n",
              "      <td>0.82</td>\n",
              "      <td>0.91</td>\n",
              "      <td>0.83</td>\n",
              "      <td>0.92</td>\n",
              "      <td>0.90</td>\n",
              "      <td>0.84</td>\n",
              "      <td>0.84</td>\n",
              "      <td>0.86</td>\n",
              "      <td>0.91</td>\n",
              "      <td>0.86</td>\n",
              "      <td>0.92</td>\n",
              "      <td>0.90</td>\n",
              "      <td>0.92</td>\n",
              "    </tr>\n",
              "  </tbody>\n",
              "</table>\n",
              "</div>\n",
              "      <button class=\"colab-df-convert\" onclick=\"convertToInteractive('df-ec2dcc7e-4cca-46f0-b059-f8185c349b00')\"\n",
              "              title=\"Convert this dataframe to an interactive table.\"\n",
              "              style=\"display:none;\">\n",
              "        \n",
              "  <svg xmlns=\"http://www.w3.org/2000/svg\" height=\"24px\"viewBox=\"0 0 24 24\"\n",
              "       width=\"24px\">\n",
              "    <path d=\"M0 0h24v24H0V0z\" fill=\"none\"/>\n",
              "    <path d=\"M18.56 5.44l.94 2.06.94-2.06 2.06-.94-2.06-.94-.94-2.06-.94 2.06-2.06.94zm-11 1L8.5 8.5l.94-2.06 2.06-.94-2.06-.94L8.5 2.5l-.94 2.06-2.06.94zm10 10l.94 2.06.94-2.06 2.06-.94-2.06-.94-.94-2.06-.94 2.06-2.06.94z\"/><path d=\"M17.41 7.96l-1.37-1.37c-.4-.4-.92-.59-1.43-.59-.52 0-1.04.2-1.43.59L10.3 9.45l-7.72 7.72c-.78.78-.78 2.05 0 2.83L4 21.41c.39.39.9.59 1.41.59.51 0 1.02-.2 1.41-.59l7.78-7.78 2.81-2.81c.8-.78.8-2.07 0-2.86zM5.41 20L4 18.59l7.72-7.72 1.47 1.35L5.41 20z\"/>\n",
              "  </svg>\n",
              "      </button>\n",
              "      \n",
              "  <style>\n",
              "    .colab-df-container {\n",
              "      display:flex;\n",
              "      flex-wrap:wrap;\n",
              "      gap: 12px;\n",
              "    }\n",
              "\n",
              "    .colab-df-convert {\n",
              "      background-color: #E8F0FE;\n",
              "      border: none;\n",
              "      border-radius: 50%;\n",
              "      cursor: pointer;\n",
              "      display: none;\n",
              "      fill: #1967D2;\n",
              "      height: 32px;\n",
              "      padding: 0 0 0 0;\n",
              "      width: 32px;\n",
              "    }\n",
              "\n",
              "    .colab-df-convert:hover {\n",
              "      background-color: #E2EBFA;\n",
              "      box-shadow: 0px 1px 2px rgba(60, 64, 67, 0.3), 0px 1px 3px 1px rgba(60, 64, 67, 0.15);\n",
              "      fill: #174EA6;\n",
              "    }\n",
              "\n",
              "    [theme=dark] .colab-df-convert {\n",
              "      background-color: #3B4455;\n",
              "      fill: #D2E3FC;\n",
              "    }\n",
              "\n",
              "    [theme=dark] .colab-df-convert:hover {\n",
              "      background-color: #434B5C;\n",
              "      box-shadow: 0px 1px 3px 1px rgba(0, 0, 0, 0.15);\n",
              "      filter: drop-shadow(0px 1px 2px rgba(0, 0, 0, 0.3));\n",
              "      fill: #FFFFFF;\n",
              "    }\n",
              "  </style>\n",
              "\n",
              "      <script>\n",
              "        const buttonEl =\n",
              "          document.querySelector('#df-ec2dcc7e-4cca-46f0-b059-f8185c349b00 button.colab-df-convert');\n",
              "        buttonEl.style.display =\n",
              "          google.colab.kernel.accessAllowed ? 'block' : 'none';\n",
              "\n",
              "        async function convertToInteractive(key) {\n",
              "          const element = document.querySelector('#df-ec2dcc7e-4cca-46f0-b059-f8185c349b00');\n",
              "          const dataTable =\n",
              "            await google.colab.kernel.invokeFunction('convertToInteractive',\n",
              "                                                     [key], {});\n",
              "          if (!dataTable) return;\n",
              "\n",
              "          const docLinkHtml = 'Like what you see? Visit the ' +\n",
              "            '<a target=\"_blank\" href=https://colab.research.google.com/notebooks/data_table.ipynb>data table notebook</a>'\n",
              "            + ' to learn more about interactive tables.';\n",
              "          element.innerHTML = '';\n",
              "          dataTable['output_type'] = 'display_data';\n",
              "          await google.colab.output.renderOutput(dataTable, element);\n",
              "          const docLink = document.createElement('div');\n",
              "          docLink.innerHTML = docLinkHtml;\n",
              "          element.appendChild(docLink);\n",
              "        }\n",
              "      </script>\n",
              "    </div>\n",
              "  </div>\n",
              "  "
            ]
          },
          "metadata": {},
          "execution_count": 102
        }
      ],
      "source": [
        "dfMetrics=pd.merge(dfMetrics,model_metrics,right_index=True,left_index=True)\n",
        "dfMetrics"
      ]
    },
    {
      "cell_type": "code",
      "execution_count": 103,
      "metadata": {
        "id": "Ppi7sh4HlGXL"
      },
      "outputs": [],
      "source": [
        "#dfMetrics.to_excel(folder+u'//'+ \"dfMetrics_After2RemovalV4.xlsx\")"
      ]
    },
    {
      "cell_type": "markdown",
      "metadata": {
        "id": "wq12FVoYlGXM"
      },
      "source": [
        "## Final Model Building"
      ]
    },
    {
      "cell_type": "code",
      "source": [
        "dfMetrics"
      ],
      "metadata": {
        "colab": {
          "base_uri": "https://localhost:8080/",
          "height": 364
        },
        "id": "_DcqwdbTtQHi",
        "outputId": "7e6d2780-a4f3-4418-cdca-80b3d34ebb37"
      },
      "execution_count": 108,
      "outputs": [
        {
          "output_type": "execute_result",
          "data": {
            "text/plain": [
              "                 base_lrc  para_lrc  base_knn  para_knn  base_svm  para_svm  \\\n",
              "train_accuracy       0.82      0.82      0.92      0.92      0.82      0.82   \n",
              "train_precision      0.84      0.86      0.93      0.92      0.84      0.85   \n",
              "train_recall         0.84      0.80      0.92      0.93      0.84      0.84   \n",
              "train_f1_score       0.84      0.83      0.93      0.93      0.84      0.84   \n",
              "test_accuracy        0.80      0.80      0.86      0.86      0.81      0.81   \n",
              "test_precision       0.83      0.85      0.88      0.87      0.83      0.84   \n",
              "test_recall          0.81      0.77      0.87      0.88      0.81      0.81   \n",
              "test_f1_score        0.82      0.81      0.88      0.88      0.82      0.82   \n",
              "\n",
              "                 base_dtc  para_dtc  bg_dtc  para_bgdtc  base_adb  para_adb  \\\n",
              "train_accuracy       0.97      0.83    0.96        0.92      0.83      0.83   \n",
              "train_precision      0.97      0.84    0.97        0.93      0.85      0.85   \n",
              "train_recall         0.97      0.87    0.97        0.93      0.86      0.85   \n",
              "train_f1_score       0.97      0.85    0.97        0.93      0.85      0.85   \n",
              "test_accuracy        0.90      0.81    0.91        0.89      0.82      0.82   \n",
              "test_precision       0.91      0.82    0.91        0.89      0.85      0.85   \n",
              "test_recall          0.92      0.85    0.93        0.91      0.83      0.83   \n",
              "test_f1_score        0.91      0.83    0.92        0.90      0.84      0.84   \n",
              "\n",
              "                 base_gb  para_gb  base_xgb  para_xgb  base_lgbm  param_lgbm  \n",
              "train_accuracy      0.87     0.92      0.87      0.95       0.92        0.94  \n",
              "train_precision     0.88     0.93      0.88      0.96       0.94        0.95  \n",
              "train_recall        0.88     0.93      0.88      0.95       0.93        0.95  \n",
              "train_f1_score      0.88     0.93      0.88      0.95       0.93        0.95  \n",
              "test_accuracy       0.85     0.90      0.84      0.91       0.90        0.91  \n",
              "test_precision      0.85     0.91      0.85      0.92       0.91        0.92  \n",
              "test_recall         0.87     0.91      0.87      0.92       0.90        0.92  \n",
              "test_f1_score       0.86     0.91      0.86      0.92       0.90        0.92  "
            ],
            "text/html": [
              "\n",
              "  <div id=\"df-1fa29dd6-7d4e-4273-b3fa-d0933298ff96\">\n",
              "    <div class=\"colab-df-container\">\n",
              "      <div>\n",
              "<style scoped>\n",
              "    .dataframe tbody tr th:only-of-type {\n",
              "        vertical-align: middle;\n",
              "    }\n",
              "\n",
              "    .dataframe tbody tr th {\n",
              "        vertical-align: top;\n",
              "    }\n",
              "\n",
              "    .dataframe thead th {\n",
              "        text-align: right;\n",
              "    }\n",
              "</style>\n",
              "<table border=\"1\" class=\"dataframe\">\n",
              "  <thead>\n",
              "    <tr style=\"text-align: right;\">\n",
              "      <th></th>\n",
              "      <th>base_lrc</th>\n",
              "      <th>para_lrc</th>\n",
              "      <th>base_knn</th>\n",
              "      <th>para_knn</th>\n",
              "      <th>base_svm</th>\n",
              "      <th>para_svm</th>\n",
              "      <th>base_dtc</th>\n",
              "      <th>para_dtc</th>\n",
              "      <th>bg_dtc</th>\n",
              "      <th>para_bgdtc</th>\n",
              "      <th>base_adb</th>\n",
              "      <th>para_adb</th>\n",
              "      <th>base_gb</th>\n",
              "      <th>para_gb</th>\n",
              "      <th>base_xgb</th>\n",
              "      <th>para_xgb</th>\n",
              "      <th>base_lgbm</th>\n",
              "      <th>param_lgbm</th>\n",
              "    </tr>\n",
              "  </thead>\n",
              "  <tbody>\n",
              "    <tr>\n",
              "      <th>train_accuracy</th>\n",
              "      <td>0.82</td>\n",
              "      <td>0.82</td>\n",
              "      <td>0.92</td>\n",
              "      <td>0.92</td>\n",
              "      <td>0.82</td>\n",
              "      <td>0.82</td>\n",
              "      <td>0.97</td>\n",
              "      <td>0.83</td>\n",
              "      <td>0.96</td>\n",
              "      <td>0.92</td>\n",
              "      <td>0.83</td>\n",
              "      <td>0.83</td>\n",
              "      <td>0.87</td>\n",
              "      <td>0.92</td>\n",
              "      <td>0.87</td>\n",
              "      <td>0.95</td>\n",
              "      <td>0.92</td>\n",
              "      <td>0.94</td>\n",
              "    </tr>\n",
              "    <tr>\n",
              "      <th>train_precision</th>\n",
              "      <td>0.84</td>\n",
              "      <td>0.86</td>\n",
              "      <td>0.93</td>\n",
              "      <td>0.92</td>\n",
              "      <td>0.84</td>\n",
              "      <td>0.85</td>\n",
              "      <td>0.97</td>\n",
              "      <td>0.84</td>\n",
              "      <td>0.97</td>\n",
              "      <td>0.93</td>\n",
              "      <td>0.85</td>\n",
              "      <td>0.85</td>\n",
              "      <td>0.88</td>\n",
              "      <td>0.93</td>\n",
              "      <td>0.88</td>\n",
              "      <td>0.96</td>\n",
              "      <td>0.94</td>\n",
              "      <td>0.95</td>\n",
              "    </tr>\n",
              "    <tr>\n",
              "      <th>train_recall</th>\n",
              "      <td>0.84</td>\n",
              "      <td>0.80</td>\n",
              "      <td>0.92</td>\n",
              "      <td>0.93</td>\n",
              "      <td>0.84</td>\n",
              "      <td>0.84</td>\n",
              "      <td>0.97</td>\n",
              "      <td>0.87</td>\n",
              "      <td>0.97</td>\n",
              "      <td>0.93</td>\n",
              "      <td>0.86</td>\n",
              "      <td>0.85</td>\n",
              "      <td>0.88</td>\n",
              "      <td>0.93</td>\n",
              "      <td>0.88</td>\n",
              "      <td>0.95</td>\n",
              "      <td>0.93</td>\n",
              "      <td>0.95</td>\n",
              "    </tr>\n",
              "    <tr>\n",
              "      <th>train_f1_score</th>\n",
              "      <td>0.84</td>\n",
              "      <td>0.83</td>\n",
              "      <td>0.93</td>\n",
              "      <td>0.93</td>\n",
              "      <td>0.84</td>\n",
              "      <td>0.84</td>\n",
              "      <td>0.97</td>\n",
              "      <td>0.85</td>\n",
              "      <td>0.97</td>\n",
              "      <td>0.93</td>\n",
              "      <td>0.85</td>\n",
              "      <td>0.85</td>\n",
              "      <td>0.88</td>\n",
              "      <td>0.93</td>\n",
              "      <td>0.88</td>\n",
              "      <td>0.95</td>\n",
              "      <td>0.93</td>\n",
              "      <td>0.95</td>\n",
              "    </tr>\n",
              "    <tr>\n",
              "      <th>test_accuracy</th>\n",
              "      <td>0.80</td>\n",
              "      <td>0.80</td>\n",
              "      <td>0.86</td>\n",
              "      <td>0.86</td>\n",
              "      <td>0.81</td>\n",
              "      <td>0.81</td>\n",
              "      <td>0.90</td>\n",
              "      <td>0.81</td>\n",
              "      <td>0.91</td>\n",
              "      <td>0.89</td>\n",
              "      <td>0.82</td>\n",
              "      <td>0.82</td>\n",
              "      <td>0.85</td>\n",
              "      <td>0.90</td>\n",
              "      <td>0.84</td>\n",
              "      <td>0.91</td>\n",
              "      <td>0.90</td>\n",
              "      <td>0.91</td>\n",
              "    </tr>\n",
              "    <tr>\n",
              "      <th>test_precision</th>\n",
              "      <td>0.83</td>\n",
              "      <td>0.85</td>\n",
              "      <td>0.88</td>\n",
              "      <td>0.87</td>\n",
              "      <td>0.83</td>\n",
              "      <td>0.84</td>\n",
              "      <td>0.91</td>\n",
              "      <td>0.82</td>\n",
              "      <td>0.91</td>\n",
              "      <td>0.89</td>\n",
              "      <td>0.85</td>\n",
              "      <td>0.85</td>\n",
              "      <td>0.85</td>\n",
              "      <td>0.91</td>\n",
              "      <td>0.85</td>\n",
              "      <td>0.92</td>\n",
              "      <td>0.91</td>\n",
              "      <td>0.92</td>\n",
              "    </tr>\n",
              "    <tr>\n",
              "      <th>test_recall</th>\n",
              "      <td>0.81</td>\n",
              "      <td>0.77</td>\n",
              "      <td>0.87</td>\n",
              "      <td>0.88</td>\n",
              "      <td>0.81</td>\n",
              "      <td>0.81</td>\n",
              "      <td>0.92</td>\n",
              "      <td>0.85</td>\n",
              "      <td>0.93</td>\n",
              "      <td>0.91</td>\n",
              "      <td>0.83</td>\n",
              "      <td>0.83</td>\n",
              "      <td>0.87</td>\n",
              "      <td>0.91</td>\n",
              "      <td>0.87</td>\n",
              "      <td>0.92</td>\n",
              "      <td>0.90</td>\n",
              "      <td>0.92</td>\n",
              "    </tr>\n",
              "    <tr>\n",
              "      <th>test_f1_score</th>\n",
              "      <td>0.82</td>\n",
              "      <td>0.81</td>\n",
              "      <td>0.88</td>\n",
              "      <td>0.88</td>\n",
              "      <td>0.82</td>\n",
              "      <td>0.82</td>\n",
              "      <td>0.91</td>\n",
              "      <td>0.83</td>\n",
              "      <td>0.92</td>\n",
              "      <td>0.90</td>\n",
              "      <td>0.84</td>\n",
              "      <td>0.84</td>\n",
              "      <td>0.86</td>\n",
              "      <td>0.91</td>\n",
              "      <td>0.86</td>\n",
              "      <td>0.92</td>\n",
              "      <td>0.90</td>\n",
              "      <td>0.92</td>\n",
              "    </tr>\n",
              "  </tbody>\n",
              "</table>\n",
              "</div>\n",
              "      <button class=\"colab-df-convert\" onclick=\"convertToInteractive('df-1fa29dd6-7d4e-4273-b3fa-d0933298ff96')\"\n",
              "              title=\"Convert this dataframe to an interactive table.\"\n",
              "              style=\"display:none;\">\n",
              "        \n",
              "  <svg xmlns=\"http://www.w3.org/2000/svg\" height=\"24px\"viewBox=\"0 0 24 24\"\n",
              "       width=\"24px\">\n",
              "    <path d=\"M0 0h24v24H0V0z\" fill=\"none\"/>\n",
              "    <path d=\"M18.56 5.44l.94 2.06.94-2.06 2.06-.94-2.06-.94-.94-2.06-.94 2.06-2.06.94zm-11 1L8.5 8.5l.94-2.06 2.06-.94-2.06-.94L8.5 2.5l-.94 2.06-2.06.94zm10 10l.94 2.06.94-2.06 2.06-.94-2.06-.94-.94-2.06-.94 2.06-2.06.94z\"/><path d=\"M17.41 7.96l-1.37-1.37c-.4-.4-.92-.59-1.43-.59-.52 0-1.04.2-1.43.59L10.3 9.45l-7.72 7.72c-.78.78-.78 2.05 0 2.83L4 21.41c.39.39.9.59 1.41.59.51 0 1.02-.2 1.41-.59l7.78-7.78 2.81-2.81c.8-.78.8-2.07 0-2.86zM5.41 20L4 18.59l7.72-7.72 1.47 1.35L5.41 20z\"/>\n",
              "  </svg>\n",
              "      </button>\n",
              "      \n",
              "  <style>\n",
              "    .colab-df-container {\n",
              "      display:flex;\n",
              "      flex-wrap:wrap;\n",
              "      gap: 12px;\n",
              "    }\n",
              "\n",
              "    .colab-df-convert {\n",
              "      background-color: #E8F0FE;\n",
              "      border: none;\n",
              "      border-radius: 50%;\n",
              "      cursor: pointer;\n",
              "      display: none;\n",
              "      fill: #1967D2;\n",
              "      height: 32px;\n",
              "      padding: 0 0 0 0;\n",
              "      width: 32px;\n",
              "    }\n",
              "\n",
              "    .colab-df-convert:hover {\n",
              "      background-color: #E2EBFA;\n",
              "      box-shadow: 0px 1px 2px rgba(60, 64, 67, 0.3), 0px 1px 3px 1px rgba(60, 64, 67, 0.15);\n",
              "      fill: #174EA6;\n",
              "    }\n",
              "\n",
              "    [theme=dark] .colab-df-convert {\n",
              "      background-color: #3B4455;\n",
              "      fill: #D2E3FC;\n",
              "    }\n",
              "\n",
              "    [theme=dark] .colab-df-convert:hover {\n",
              "      background-color: #434B5C;\n",
              "      box-shadow: 0px 1px 3px 1px rgba(0, 0, 0, 0.15);\n",
              "      filter: drop-shadow(0px 1px 2px rgba(0, 0, 0, 0.3));\n",
              "      fill: #FFFFFF;\n",
              "    }\n",
              "  </style>\n",
              "\n",
              "      <script>\n",
              "        const buttonEl =\n",
              "          document.querySelector('#df-1fa29dd6-7d4e-4273-b3fa-d0933298ff96 button.colab-df-convert');\n",
              "        buttonEl.style.display =\n",
              "          google.colab.kernel.accessAllowed ? 'block' : 'none';\n",
              "\n",
              "        async function convertToInteractive(key) {\n",
              "          const element = document.querySelector('#df-1fa29dd6-7d4e-4273-b3fa-d0933298ff96');\n",
              "          const dataTable =\n",
              "            await google.colab.kernel.invokeFunction('convertToInteractive',\n",
              "                                                     [key], {});\n",
              "          if (!dataTable) return;\n",
              "\n",
              "          const docLinkHtml = 'Like what you see? Visit the ' +\n",
              "            '<a target=\"_blank\" href=https://colab.research.google.com/notebooks/data_table.ipynb>data table notebook</a>'\n",
              "            + ' to learn more about interactive tables.';\n",
              "          element.innerHTML = '';\n",
              "          dataTable['output_type'] = 'display_data';\n",
              "          await google.colab.output.renderOutput(dataTable, element);\n",
              "          const docLink = document.createElement('div');\n",
              "          docLink.innerHTML = docLinkHtml;\n",
              "          element.appendChild(docLink);\n",
              "        }\n",
              "      </script>\n",
              "    </div>\n",
              "  </div>\n",
              "  "
            ]
          },
          "metadata": {},
          "execution_count": 108
        }
      ]
    },
    {
      "cell_type": "markdown",
      "source": [
        "XGBoost model I haven Choosen for the prediction due ~(train-test) accuracy very low\n"
      ],
      "metadata": {
        "id": "GF4Vq_cZtpYT"
      }
    },
    {
      "cell_type": "code",
      "execution_count": 145,
      "metadata": {
        "id": "lbg6w2HGlGXM",
        "outputId": "2db7f86e-e8d8-49d3-b02b-35471c9e9f61",
        "colab": {
          "base_uri": "https://localhost:8080/",
          "height": 254
        }
      },
      "outputs": [
        {
          "output_type": "stream",
          "name": "stdout",
          "text": [
            "(2100, 31)\n"
          ]
        },
        {
          "output_type": "execute_result",
          "data": {
            "text/plain": [
              "         key  having_IP  URL_Length  Shortining_Service  having_At_Symbol  \\\n",
              "key                                                                         \n",
              "21338  21338          1           1                   1                 1   \n",
              "21339  21339          1          -1                   1                 1   \n",
              "\n",
              "       double_slash_redirecting  Prefix_Suffix  having_Sub_Domain  \\\n",
              "key                                                                 \n",
              "21338                         1              1                 -1   \n",
              "21339                         1             -1                  0   \n",
              "\n",
              "       SSLfinal_State  Domain_registeration_length  ...  RightClick  \\\n",
              "key                                                 ...               \n",
              "21338               1                           -1  ...           1   \n",
              "21339              -1                            1  ...           1   \n",
              "\n",
              "       popUpWidnow  Iframe  age_of_domain  DNSRecord  web_traffic  Page_Rank  \\\n",
              "key                                                                            \n",
              "21338            1       1              1          1            1          1   \n",
              "21339            1       1             -1         -1            0         -1   \n",
              "\n",
              "       Google_Index  Links_pointing_to_page  Statistical_report  \n",
              "key                                                              \n",
              "21338            -1                       0                   1  \n",
              "21339            -1                       0                   1  \n",
              "\n",
              "[2 rows x 31 columns]"
            ],
            "text/html": [
              "\n",
              "  <div id=\"df-982d7cb5-d590-4306-b578-fecb3d6e5265\">\n",
              "    <div class=\"colab-df-container\">\n",
              "      <div>\n",
              "<style scoped>\n",
              "    .dataframe tbody tr th:only-of-type {\n",
              "        vertical-align: middle;\n",
              "    }\n",
              "\n",
              "    .dataframe tbody tr th {\n",
              "        vertical-align: top;\n",
              "    }\n",
              "\n",
              "    .dataframe thead th {\n",
              "        text-align: right;\n",
              "    }\n",
              "</style>\n",
              "<table border=\"1\" class=\"dataframe\">\n",
              "  <thead>\n",
              "    <tr style=\"text-align: right;\">\n",
              "      <th></th>\n",
              "      <th>key</th>\n",
              "      <th>having_IP</th>\n",
              "      <th>URL_Length</th>\n",
              "      <th>Shortining_Service</th>\n",
              "      <th>having_At_Symbol</th>\n",
              "      <th>double_slash_redirecting</th>\n",
              "      <th>Prefix_Suffix</th>\n",
              "      <th>having_Sub_Domain</th>\n",
              "      <th>SSLfinal_State</th>\n",
              "      <th>Domain_registeration_length</th>\n",
              "      <th>...</th>\n",
              "      <th>RightClick</th>\n",
              "      <th>popUpWidnow</th>\n",
              "      <th>Iframe</th>\n",
              "      <th>age_of_domain</th>\n",
              "      <th>DNSRecord</th>\n",
              "      <th>web_traffic</th>\n",
              "      <th>Page_Rank</th>\n",
              "      <th>Google_Index</th>\n",
              "      <th>Links_pointing_to_page</th>\n",
              "      <th>Statistical_report</th>\n",
              "    </tr>\n",
              "    <tr>\n",
              "      <th>key</th>\n",
              "      <th></th>\n",
              "      <th></th>\n",
              "      <th></th>\n",
              "      <th></th>\n",
              "      <th></th>\n",
              "      <th></th>\n",
              "      <th></th>\n",
              "      <th></th>\n",
              "      <th></th>\n",
              "      <th></th>\n",
              "      <th></th>\n",
              "      <th></th>\n",
              "      <th></th>\n",
              "      <th></th>\n",
              "      <th></th>\n",
              "      <th></th>\n",
              "      <th></th>\n",
              "      <th></th>\n",
              "      <th></th>\n",
              "      <th></th>\n",
              "      <th></th>\n",
              "    </tr>\n",
              "  </thead>\n",
              "  <tbody>\n",
              "    <tr>\n",
              "      <th>21338</th>\n",
              "      <td>21338</td>\n",
              "      <td>1</td>\n",
              "      <td>1</td>\n",
              "      <td>1</td>\n",
              "      <td>1</td>\n",
              "      <td>1</td>\n",
              "      <td>1</td>\n",
              "      <td>-1</td>\n",
              "      <td>1</td>\n",
              "      <td>-1</td>\n",
              "      <td>...</td>\n",
              "      <td>1</td>\n",
              "      <td>1</td>\n",
              "      <td>1</td>\n",
              "      <td>1</td>\n",
              "      <td>1</td>\n",
              "      <td>1</td>\n",
              "      <td>1</td>\n",
              "      <td>-1</td>\n",
              "      <td>0</td>\n",
              "      <td>1</td>\n",
              "    </tr>\n",
              "    <tr>\n",
              "      <th>21339</th>\n",
              "      <td>21339</td>\n",
              "      <td>1</td>\n",
              "      <td>-1</td>\n",
              "      <td>1</td>\n",
              "      <td>1</td>\n",
              "      <td>1</td>\n",
              "      <td>-1</td>\n",
              "      <td>0</td>\n",
              "      <td>-1</td>\n",
              "      <td>1</td>\n",
              "      <td>...</td>\n",
              "      <td>1</td>\n",
              "      <td>1</td>\n",
              "      <td>1</td>\n",
              "      <td>-1</td>\n",
              "      <td>-1</td>\n",
              "      <td>0</td>\n",
              "      <td>-1</td>\n",
              "      <td>-1</td>\n",
              "      <td>0</td>\n",
              "      <td>1</td>\n",
              "    </tr>\n",
              "  </tbody>\n",
              "</table>\n",
              "<p>2 rows × 31 columns</p>\n",
              "</div>\n",
              "      <button class=\"colab-df-convert\" onclick=\"convertToInteractive('df-982d7cb5-d590-4306-b578-fecb3d6e5265')\"\n",
              "              title=\"Convert this dataframe to an interactive table.\"\n",
              "              style=\"display:none;\">\n",
              "        \n",
              "  <svg xmlns=\"http://www.w3.org/2000/svg\" height=\"24px\"viewBox=\"0 0 24 24\"\n",
              "       width=\"24px\">\n",
              "    <path d=\"M0 0h24v24H0V0z\" fill=\"none\"/>\n",
              "    <path d=\"M18.56 5.44l.94 2.06.94-2.06 2.06-.94-2.06-.94-.94-2.06-.94 2.06-2.06.94zm-11 1L8.5 8.5l.94-2.06 2.06-.94-2.06-.94L8.5 2.5l-.94 2.06-2.06.94zm10 10l.94 2.06.94-2.06 2.06-.94-2.06-.94-.94-2.06-.94 2.06-2.06.94z\"/><path d=\"M17.41 7.96l-1.37-1.37c-.4-.4-.92-.59-1.43-.59-.52 0-1.04.2-1.43.59L10.3 9.45l-7.72 7.72c-.78.78-.78 2.05 0 2.83L4 21.41c.39.39.9.59 1.41.59.51 0 1.02-.2 1.41-.59l7.78-7.78 2.81-2.81c.8-.78.8-2.07 0-2.86zM5.41 20L4 18.59l7.72-7.72 1.47 1.35L5.41 20z\"/>\n",
              "  </svg>\n",
              "      </button>\n",
              "      \n",
              "  <style>\n",
              "    .colab-df-container {\n",
              "      display:flex;\n",
              "      flex-wrap:wrap;\n",
              "      gap: 12px;\n",
              "    }\n",
              "\n",
              "    .colab-df-convert {\n",
              "      background-color: #E8F0FE;\n",
              "      border: none;\n",
              "      border-radius: 50%;\n",
              "      cursor: pointer;\n",
              "      display: none;\n",
              "      fill: #1967D2;\n",
              "      height: 32px;\n",
              "      padding: 0 0 0 0;\n",
              "      width: 32px;\n",
              "    }\n",
              "\n",
              "    .colab-df-convert:hover {\n",
              "      background-color: #E2EBFA;\n",
              "      box-shadow: 0px 1px 2px rgba(60, 64, 67, 0.3), 0px 1px 3px 1px rgba(60, 64, 67, 0.15);\n",
              "      fill: #174EA6;\n",
              "    }\n",
              "\n",
              "    [theme=dark] .colab-df-convert {\n",
              "      background-color: #3B4455;\n",
              "      fill: #D2E3FC;\n",
              "    }\n",
              "\n",
              "    [theme=dark] .colab-df-convert:hover {\n",
              "      background-color: #434B5C;\n",
              "      box-shadow: 0px 1px 3px 1px rgba(0, 0, 0, 0.15);\n",
              "      filter: drop-shadow(0px 1px 2px rgba(0, 0, 0, 0.3));\n",
              "      fill: #FFFFFF;\n",
              "    }\n",
              "  </style>\n",
              "\n",
              "      <script>\n",
              "        const buttonEl =\n",
              "          document.querySelector('#df-982d7cb5-d590-4306-b578-fecb3d6e5265 button.colab-df-convert');\n",
              "        buttonEl.style.display =\n",
              "          google.colab.kernel.accessAllowed ? 'block' : 'none';\n",
              "\n",
              "        async function convertToInteractive(key) {\n",
              "          const element = document.querySelector('#df-982d7cb5-d590-4306-b578-fecb3d6e5265');\n",
              "          const dataTable =\n",
              "            await google.colab.kernel.invokeFunction('convertToInteractive',\n",
              "                                                     [key], {});\n",
              "          if (!dataTable) return;\n",
              "\n",
              "          const docLinkHtml = 'Like what you see? Visit the ' +\n",
              "            '<a target=\"_blank\" href=https://colab.research.google.com/notebooks/data_table.ipynb>data table notebook</a>'\n",
              "            + ' to learn more about interactive tables.';\n",
              "          element.innerHTML = '';\n",
              "          dataTable['output_type'] = 'display_data';\n",
              "          await google.colab.output.renderOutput(dataTable, element);\n",
              "          const docLink = document.createElement('div');\n",
              "          docLink.innerHTML = docLinkHtml;\n",
              "          element.appendChild(docLink);\n",
              "        }\n",
              "      </script>\n",
              "    </div>\n",
              "  </div>\n",
              "  "
            ]
          },
          "metadata": {},
          "execution_count": 145
        }
      ],
      "source": [
        "df_predict = pd.read_csv('https://raw.githubusercontent.com/hariehkr/techGig/main/data/Phising_Testing_Dataset.csv')\n",
        "df_predict.index=df_predict['key']\n",
        "print(df_predict.shape)\n",
        "df_predict.head(2)"
      ]
    },
    {
      "cell_type": "code",
      "execution_count": 134,
      "metadata": {
        "id": "MmFl-8M3lGXM",
        "outputId": "255fa147-4cd4-419b-96bd-da1977798ac7",
        "colab": {
          "base_uri": "https://localhost:8080/"
        }
      },
      "outputs": [
        {
          "output_type": "execute_result",
          "data": {
            "text/plain": [
              "(2100, 27)"
            ]
          },
          "metadata": {},
          "execution_count": 134
        }
      ],
      "source": [
        "df_predict.drop(columns=dropCol,inplace=True)\n",
        "df_predict.shape"
      ]
    },
    {
      "cell_type": "code",
      "execution_count": 135,
      "metadata": {
        "id": "1x0o1TVylGXN",
        "colab": {
          "base_uri": "https://localhost:8080/"
        },
        "outputId": "ba11f87f-30e3-4574-8c11-901b7f15bfa6"
      },
      "outputs": [
        {
          "output_type": "stream",
          "name": "stdout",
          "text": [
            "XGBClassifier(model__learning_rate=0.05, model__n_estimators=10)\n",
            "CPU times: user 38.4 s, sys: 144 ms, total: 38.6 s\n",
            "Wall time: 38.9 s\n"
          ]
        }
      ],
      "source": [
        "%%time\n",
        "param_grid = {\n",
        "    \"model__n_estimators\": [10, 50, 100, 500],\n",
        "    \"model__learning_rate\": [0.05, 0.1, 0.5, 1],\n",
        "}\n",
        "\n",
        "xgb_cv_model = fn_train_model(xgb,\n",
        "                          X_train,\n",
        "                          y_train,\n",
        "                          param_grid,\n",
        "                          k = 5)\n",
        "print(xgb_cv_model)"
      ]
    },
    {
      "cell_type": "code",
      "execution_count": 136,
      "metadata": {
        "id": "LfEOLMRtlGXN",
        "outputId": "8b48eca3-2f43-447e-dcec-80df8ab8a572",
        "colab": {
          "base_uri": "https://localhost:8080/"
        }
      },
      "outputs": [
        {
          "output_type": "stream",
          "name": "stdout",
          "text": [
            "\n",
            "Confusion Matrix :\n",
            "[[3285  636]\n",
            " [ 607 4427]]\n",
            "\n",
            "Report : \n",
            "              precision    recall  f1-score   support\n",
            "\n",
            "          -1       0.84      0.84      0.84      3921\n",
            "           1       0.87      0.88      0.88      5034\n",
            "\n",
            "    accuracy                           0.86      8955\n",
            "   macro avg       0.86      0.86      0.86      8955\n",
            "weighted avg       0.86      0.86      0.86      8955\n",
            "\n",
            "Recall score : 0.837796480489671\n"
          ]
        }
      ],
      "source": [
        "xgb_cv_train  = fn_compute_metrics_train(xgb_cv_model, \n",
        "                             X_train_all,\n",
        "                             y_train_all)"
      ]
    },
    {
      "cell_type": "code",
      "execution_count": 137,
      "metadata": {
        "id": "jkf3OVwTlGXN"
      },
      "outputs": [],
      "source": [
        "train_predictions = xgb_cv_model.predict(X_train_all)"
      ]
    },
    {
      "cell_type": "code",
      "execution_count": 138,
      "metadata": {
        "id": "oz9pgPTglGXO",
        "outputId": "b7219541-bf11-49f5-ebd5-f407765c660a",
        "colab": {
          "base_uri": "https://localhost:8080/"
        }
      },
      "outputs": [
        {
          "output_type": "stream",
          "name": "stdout",
          "text": [
            "{'train_accuracy': 0.8612, 'train_precision': 0.8744, 'train_recall': 0.8794, 'train_f1_score': 0.8769}\n"
          ]
        }
      ],
      "source": [
        "metrics = {}\n",
        "# train metrics\n",
        "metrics['train_accuracy']    = round(accuracy_score(y_train_all, train_predictions),4)\n",
        "metrics['train_precision']   = round(precision_score(y_train_all, train_predictions),4)\n",
        "metrics['train_recall']      = round(recall_score(y_train_all, train_predictions),4)\n",
        "metrics['train_f1_score']    = round(f1_score(y_train_all, train_predictions),4)\n",
        "print(metrics)"
      ]
    },
    {
      "cell_type": "code",
      "execution_count": 139,
      "metadata": {
        "id": "SIj5pijulGXO"
      },
      "outputs": [],
      "source": [
        "test_pred = xgb_cv_model.predict(df_predict)"
      ]
    },
    {
      "cell_type": "code",
      "execution_count": 140,
      "metadata": {
        "id": "crDMAB7TlGXP",
        "outputId": "e3167da5-fb19-417c-93a2-8b0977516858",
        "colab": {
          "base_uri": "https://localhost:8080/"
        }
      },
      "outputs": [
        {
          "output_type": "execute_result",
          "data": {
            "text/plain": [
              "array([ 1, -1, -1, -1,  1,  1,  1,  1,  1, -1])"
            ]
          },
          "metadata": {},
          "execution_count": 140
        }
      ],
      "source": [
        "test_pred[0:10]"
      ]
    },
    {
      "cell_type": "code",
      "execution_count": 147,
      "metadata": {
        "id": "XNmegbu8lGXP",
        "outputId": "707cade8-12c2-47fb-adc5-d37c9e7368b3",
        "colab": {
          "base_uri": "https://localhost:8080/",
          "height": 237
        }
      },
      "outputs": [
        {
          "output_type": "execute_result",
          "data": {
            "text/plain": [
              "         key  Result\n",
              "key                 \n",
              "21338  21338       1\n",
              "21339  21339      -1\n",
              "21340  21340      -1\n",
              "21341  21341      -1\n",
              "21342  21342       1"
            ],
            "text/html": [
              "\n",
              "  <div id=\"df-64d7a018-2861-4aed-b933-ba0d3e3d371c\">\n",
              "    <div class=\"colab-df-container\">\n",
              "      <div>\n",
              "<style scoped>\n",
              "    .dataframe tbody tr th:only-of-type {\n",
              "        vertical-align: middle;\n",
              "    }\n",
              "\n",
              "    .dataframe tbody tr th {\n",
              "        vertical-align: top;\n",
              "    }\n",
              "\n",
              "    .dataframe thead th {\n",
              "        text-align: right;\n",
              "    }\n",
              "</style>\n",
              "<table border=\"1\" class=\"dataframe\">\n",
              "  <thead>\n",
              "    <tr style=\"text-align: right;\">\n",
              "      <th></th>\n",
              "      <th>key</th>\n",
              "      <th>Result</th>\n",
              "    </tr>\n",
              "    <tr>\n",
              "      <th>key</th>\n",
              "      <th></th>\n",
              "      <th></th>\n",
              "    </tr>\n",
              "  </thead>\n",
              "  <tbody>\n",
              "    <tr>\n",
              "      <th>21338</th>\n",
              "      <td>21338</td>\n",
              "      <td>1</td>\n",
              "    </tr>\n",
              "    <tr>\n",
              "      <th>21339</th>\n",
              "      <td>21339</td>\n",
              "      <td>-1</td>\n",
              "    </tr>\n",
              "    <tr>\n",
              "      <th>21340</th>\n",
              "      <td>21340</td>\n",
              "      <td>-1</td>\n",
              "    </tr>\n",
              "    <tr>\n",
              "      <th>21341</th>\n",
              "      <td>21341</td>\n",
              "      <td>-1</td>\n",
              "    </tr>\n",
              "    <tr>\n",
              "      <th>21342</th>\n",
              "      <td>21342</td>\n",
              "      <td>1</td>\n",
              "    </tr>\n",
              "  </tbody>\n",
              "</table>\n",
              "</div>\n",
              "      <button class=\"colab-df-convert\" onclick=\"convertToInteractive('df-64d7a018-2861-4aed-b933-ba0d3e3d371c')\"\n",
              "              title=\"Convert this dataframe to an interactive table.\"\n",
              "              style=\"display:none;\">\n",
              "        \n",
              "  <svg xmlns=\"http://www.w3.org/2000/svg\" height=\"24px\"viewBox=\"0 0 24 24\"\n",
              "       width=\"24px\">\n",
              "    <path d=\"M0 0h24v24H0V0z\" fill=\"none\"/>\n",
              "    <path d=\"M18.56 5.44l.94 2.06.94-2.06 2.06-.94-2.06-.94-.94-2.06-.94 2.06-2.06.94zm-11 1L8.5 8.5l.94-2.06 2.06-.94-2.06-.94L8.5 2.5l-.94 2.06-2.06.94zm10 10l.94 2.06.94-2.06 2.06-.94-2.06-.94-.94-2.06-.94 2.06-2.06.94z\"/><path d=\"M17.41 7.96l-1.37-1.37c-.4-.4-.92-.59-1.43-.59-.52 0-1.04.2-1.43.59L10.3 9.45l-7.72 7.72c-.78.78-.78 2.05 0 2.83L4 21.41c.39.39.9.59 1.41.59.51 0 1.02-.2 1.41-.59l7.78-7.78 2.81-2.81c.8-.78.8-2.07 0-2.86zM5.41 20L4 18.59l7.72-7.72 1.47 1.35L5.41 20z\"/>\n",
              "  </svg>\n",
              "      </button>\n",
              "      \n",
              "  <style>\n",
              "    .colab-df-container {\n",
              "      display:flex;\n",
              "      flex-wrap:wrap;\n",
              "      gap: 12px;\n",
              "    }\n",
              "\n",
              "    .colab-df-convert {\n",
              "      background-color: #E8F0FE;\n",
              "      border: none;\n",
              "      border-radius: 50%;\n",
              "      cursor: pointer;\n",
              "      display: none;\n",
              "      fill: #1967D2;\n",
              "      height: 32px;\n",
              "      padding: 0 0 0 0;\n",
              "      width: 32px;\n",
              "    }\n",
              "\n",
              "    .colab-df-convert:hover {\n",
              "      background-color: #E2EBFA;\n",
              "      box-shadow: 0px 1px 2px rgba(60, 64, 67, 0.3), 0px 1px 3px 1px rgba(60, 64, 67, 0.15);\n",
              "      fill: #174EA6;\n",
              "    }\n",
              "\n",
              "    [theme=dark] .colab-df-convert {\n",
              "      background-color: #3B4455;\n",
              "      fill: #D2E3FC;\n",
              "    }\n",
              "\n",
              "    [theme=dark] .colab-df-convert:hover {\n",
              "      background-color: #434B5C;\n",
              "      box-shadow: 0px 1px 3px 1px rgba(0, 0, 0, 0.15);\n",
              "      filter: drop-shadow(0px 1px 2px rgba(0, 0, 0, 0.3));\n",
              "      fill: #FFFFFF;\n",
              "    }\n",
              "  </style>\n",
              "\n",
              "      <script>\n",
              "        const buttonEl =\n",
              "          document.querySelector('#df-64d7a018-2861-4aed-b933-ba0d3e3d371c button.colab-df-convert');\n",
              "        buttonEl.style.display =\n",
              "          google.colab.kernel.accessAllowed ? 'block' : 'none';\n",
              "\n",
              "        async function convertToInteractive(key) {\n",
              "          const element = document.querySelector('#df-64d7a018-2861-4aed-b933-ba0d3e3d371c');\n",
              "          const dataTable =\n",
              "            await google.colab.kernel.invokeFunction('convertToInteractive',\n",
              "                                                     [key], {});\n",
              "          if (!dataTable) return;\n",
              "\n",
              "          const docLinkHtml = 'Like what you see? Visit the ' +\n",
              "            '<a target=\"_blank\" href=https://colab.research.google.com/notebooks/data_table.ipynb>data table notebook</a>'\n",
              "            + ' to learn more about interactive tables.';\n",
              "          element.innerHTML = '';\n",
              "          dataTable['output_type'] = 'display_data';\n",
              "          await google.colab.output.renderOutput(dataTable, element);\n",
              "          const docLink = document.createElement('div');\n",
              "          docLink.innerHTML = docLinkHtml;\n",
              "          element.appendChild(docLink);\n",
              "        }\n",
              "      </script>\n",
              "    </div>\n",
              "  </div>\n",
              "  "
            ]
          },
          "metadata": {},
          "execution_count": 147
        }
      ],
      "source": [
        "submissions_df = pd.DataFrame({'key': df_predict.key, 'Result': test_pred})\n",
        "submissions_df.head()"
      ]
    },
    {
      "cell_type": "code",
      "execution_count": 148,
      "metadata": {
        "id": "XPIc5VDClGXP",
        "outputId": "a695e38f-641c-4551-e1bc-fd9cd3d41c25",
        "colab": {
          "base_uri": "https://localhost:8080/"
        }
      },
      "outputs": [
        {
          "output_type": "execute_result",
          "data": {
            "text/plain": [
              " 1    1159\n",
              "-1     941\n",
              "Name: Result, dtype: int64"
            ]
          },
          "metadata": {},
          "execution_count": 148
        }
      ],
      "source": [
        "submissions_df['Result'].value_counts()"
      ]
    },
    {
      "cell_type": "code",
      "execution_count": null,
      "metadata": {
        "id": "lV8_O1H8lGXQ"
      },
      "outputs": [],
      "source": [
        "#submissions_df.to_csv(folder+u'//'+ \"test_predictions_25thJulyV4_XgB.csv\", index=None)"
      ]
    }
  ],
  "metadata": {
    "kernelspec": {
      "display_name": "Python 3 (ipykernel)",
      "language": "python",
      "name": "python3"
    },
    "language_info": {
      "codemirror_mode": {
        "name": "ipython",
        "version": 3
      },
      "file_extension": ".py",
      "mimetype": "text/x-python",
      "name": "python",
      "nbconvert_exporter": "python",
      "pygments_lexer": "ipython3",
      "version": "3.8.3"
    },
    "vscode": {
      "interpreter": {
        "hash": "a2139415ead76099472184cb0576b4e8b1352e223b8bc1790582e99bcddf7d52"
      }
    },
    "colab": {
      "name": "TechGig_MLModels_GrandFinal.ipynb",
      "provenance": [],
      "collapsed_sections": [
        "T4gsmpjilGW3"
      ],
      "include_colab_link": true
    }
  },
  "nbformat": 4,
  "nbformat_minor": 0
}