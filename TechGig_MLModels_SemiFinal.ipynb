{
  "cells": [
    {
      "cell_type": "markdown",
      "metadata": {
        "id": "view-in-github",
        "colab_type": "text"
      },
      "source": [
        "<a href=\"https://colab.research.google.com/github/hariehkr/techGig/blob/main/TechGig_MLModels_SemiFinal.ipynb\" target=\"_parent\"><img src=\"https://colab.research.google.com/assets/colab-badge.svg\" alt=\"Open In Colab\"/></a>"
      ]
    },
    {
      "cell_type": "markdown",
      "metadata": {
        "id": "t3zjHXZRZrT2"
      },
      "source": [
        "## Import Libraries"
      ]
    },
    {
      "cell_type": "code",
      "execution_count": 2,
      "metadata": {
        "id": "LimUDdaWZrT6"
      },
      "outputs": [],
      "source": [
        "import pandas as pd # Pandas for data manipulations\n",
        "import numpy as np  # Numpy for the computations\n",
        "import os\n",
        "from sklearn.metrics import accuracy_score,classification_report # For metrics\n",
        "from sklearn.model_selection import train_test_split             # For train and test splits\n",
        "from sklearn.model_selection import GridSearchCV                 # For GridSearch and K-fold cross validation\n",
        "from sklearn.impute import SimpleImputer                         # For Imputation\n",
        "\n",
        "import matplotlib.pyplot as plt # For visualizations\n",
        "import seaborn as sns           # For visualizations\n",
        "\n",
        "import warnings                   # For warnings\n",
        "warnings.filterwarnings('ignore') # Supress/Ignore warnings"
      ]
    },
    {
      "cell_type": "markdown",
      "metadata": {
        "id": "W9mTqerjZrT8"
      },
      "source": [
        "### Function for training the model"
      ]
    },
    {
      "cell_type": "code",
      "execution_count": 3,
      "metadata": {
        "id": "NtaLdNHjZrT8"
      },
      "outputs": [],
      "source": [
        "# Function for training the model\n",
        "from sklearn.metrics import make_scorer\n",
        "from sklearn.metrics import recall_score\n",
        "\n",
        "def fn_train_model(model, \n",
        "                X_train, \n",
        "                y_train, \n",
        "                parameters = None, \n",
        "                k = 1):\n",
        "    if parameters == None:\n",
        "        model.fit(X_train, y_train) \n",
        "    else:\n",
        "        model_cv = GridSearchCV(model, \n",
        "                                param_grid = parameters, \n",
        "                                cv = k)\n",
        "        \n",
        "        model_cv.fit(X_train, y_train)\n",
        "        model = model_cv.best_estimator_\n",
        "        \n",
        "    return model"
      ]
    },
    {
      "cell_type": "markdown",
      "metadata": {
        "id": "Soa25Pw0ZrT-"
      },
      "source": [
        "### # Function to generate classification metrics"
      ]
    },
    {
      "cell_type": "code",
      "execution_count": 15,
      "metadata": {
        "id": "KVaGWsMwZrT-"
      },
      "outputs": [],
      "source": [
        "# Function to generate classification metrics\n",
        "from sklearn.metrics import accuracy_score,recall_score,precision_score,f1_score\n",
        "\n",
        "def fn_compute_metrics(model,\n",
        "                       model_name,\n",
        "                       train_data, \n",
        "                       train_actuals,\n",
        "                       test_data,\n",
        "                       test_actuals):\n",
        "    metrics = {}\n",
        "    # train metrics\n",
        "    train_predictions = model.predict(train_data)\n",
        "    metrics['train_accuracy']    = accuracy_score(train_actuals, train_predictions)\n",
        "    metrics['train_precision']   = precision_score(train_actuals, train_predictions)\n",
        "    metrics['train_recall']      = recall_score(train_actuals, train_predictions)\n",
        "    metrics['train_f1_score']    = f1_score(train_actuals, train_predictions)\n",
        "    # test metrics\n",
        "    test_predictions  = model.predict(test_data)\n",
        "    metrics['validation_accuracy']     = accuracy_score(test_actuals, test_predictions)\n",
        "    metrics['validation_precision']    = precision_score(test_actuals, test_predictions)\n",
        "    metrics['validation_recall']       = recall_score(test_actuals, test_predictions)\n",
        "    metrics['validation_f1_score']     = f1_score(test_actuals, test_predictions)\n",
        "    \n",
        "    return pd.Series(metrics, name = model_name)"
      ]
    },
    {
      "cell_type": "code",
      "execution_count": 16,
      "metadata": {
        "id": "w8QpzEVaZrT_"
      },
      "outputs": [],
      "source": [
        "# Function to generate classification metrics\n",
        "from sklearn.metrics import recall_score\n",
        "from sklearn.metrics import confusion_matrix\n",
        "from sklearn.metrics import classification_report\n",
        "\n",
        "def fn_compute_metrics_train(model, \n",
        "                       data, \n",
        "                       actuals):\n",
        "    \n",
        "    predictions = model.predict(data)\n",
        "    print('\\nConfusion Matrix :')\n",
        "    print(confusion_matrix(actuals, predictions) ) \n",
        "    \n",
        "    print('\\nReport : ')\n",
        "    print(classification_report(actuals, predictions))\n",
        "    \n",
        "    fe_recall = recall_score(actuals, predictions, average = None)[0]\n",
        "    print('Recall score :', fe_recall)\n",
        "    \n",
        "    return fe_recall"
      ]
    },
    {
      "cell_type": "markdown",
      "metadata": {
        "id": "d88Ytv8FZrUA"
      },
      "source": [
        "### Train/Validation data reading"
      ]
    },
    {
      "cell_type": "code",
      "execution_count": 6,
      "metadata": {
        "colab": {
          "base_uri": "https://localhost:8080/",
          "height": 348
        },
        "id": "KiSjSY1xZrUC",
        "outputId": "42887bf2-2848-4792-e913-6747c5988973"
      },
      "outputs": [
        {
          "output_type": "stream",
          "name": "stdout",
          "text": [
            "(8955, 31)\n"
          ]
        },
        {
          "output_type": "execute_result",
          "data": {
            "text/plain": [
              "       having_IP  URL_Length  Shortining_Service  having_At_Symbol  \\\n",
              "key                                                                  \n",
              "12344         -1           1                   1                 1   \n",
              "12345          1           1                   1                 1   \n",
              "12346          1           0                   1                 1   \n",
              "12347          1           0                   1                 1   \n",
              "12348          1           0                  -1                 1   \n",
              "\n",
              "       double_slash_redirecting  Prefix_Suffix  having_Sub_Domain  \\\n",
              "key                                                                 \n",
              "12344                        -1             -1                 -1   \n",
              "12345                         1             -1                  0   \n",
              "12346                         1             -1                 -1   \n",
              "12347                         1             -1                 -1   \n",
              "12348                         1             -1                  1   \n",
              "\n",
              "       SSLfinal_State  Domain_registeration_length  Favicon  ...  popUpWidnow  \\\n",
              "key                                                          ...                \n",
              "12344              -1                           -1        1  ...            1   \n",
              "12345               1                           -1        1  ...            1   \n",
              "12346              -1                           -1        1  ...            1   \n",
              "12347              -1                            1        1  ...            1   \n",
              "12348               1                           -1        1  ...           -1   \n",
              "\n",
              "       Iframe  age_of_domain  DNSRecord  web_traffic  Page_Rank  Google_Index  \\\n",
              "key                                                                             \n",
              "12344       1             -1         -1           -1         -1             1   \n",
              "12345       1             -1         -1            0         -1             1   \n",
              "12346       1              1         -1            1         -1             1   \n",
              "12347       1             -1         -1            1         -1             1   \n",
              "12348       1             -1         -1            0         -1             1   \n",
              "\n",
              "       Links_pointing_to_page  Statistical_report  Result  \n",
              "key                                                        \n",
              "12344                       1                  -1      -1  \n",
              "12345                       1                   1      -1  \n",
              "12346                       0                  -1      -1  \n",
              "12347                      -1                   1      -1  \n",
              "12348                       1                   1       1  \n",
              "\n",
              "[5 rows x 31 columns]"
            ],
            "text/html": [
              "\n",
              "  <div id=\"df-2c09a3c2-f5b2-4fcd-8ece-289bdcf019a7\">\n",
              "    <div class=\"colab-df-container\">\n",
              "      <div>\n",
              "<style scoped>\n",
              "    .dataframe tbody tr th:only-of-type {\n",
              "        vertical-align: middle;\n",
              "    }\n",
              "\n",
              "    .dataframe tbody tr th {\n",
              "        vertical-align: top;\n",
              "    }\n",
              "\n",
              "    .dataframe thead th {\n",
              "        text-align: right;\n",
              "    }\n",
              "</style>\n",
              "<table border=\"1\" class=\"dataframe\">\n",
              "  <thead>\n",
              "    <tr style=\"text-align: right;\">\n",
              "      <th></th>\n",
              "      <th>having_IP</th>\n",
              "      <th>URL_Length</th>\n",
              "      <th>Shortining_Service</th>\n",
              "      <th>having_At_Symbol</th>\n",
              "      <th>double_slash_redirecting</th>\n",
              "      <th>Prefix_Suffix</th>\n",
              "      <th>having_Sub_Domain</th>\n",
              "      <th>SSLfinal_State</th>\n",
              "      <th>Domain_registeration_length</th>\n",
              "      <th>Favicon</th>\n",
              "      <th>...</th>\n",
              "      <th>popUpWidnow</th>\n",
              "      <th>Iframe</th>\n",
              "      <th>age_of_domain</th>\n",
              "      <th>DNSRecord</th>\n",
              "      <th>web_traffic</th>\n",
              "      <th>Page_Rank</th>\n",
              "      <th>Google_Index</th>\n",
              "      <th>Links_pointing_to_page</th>\n",
              "      <th>Statistical_report</th>\n",
              "      <th>Result</th>\n",
              "    </tr>\n",
              "    <tr>\n",
              "      <th>key</th>\n",
              "      <th></th>\n",
              "      <th></th>\n",
              "      <th></th>\n",
              "      <th></th>\n",
              "      <th></th>\n",
              "      <th></th>\n",
              "      <th></th>\n",
              "      <th></th>\n",
              "      <th></th>\n",
              "      <th></th>\n",
              "      <th></th>\n",
              "      <th></th>\n",
              "      <th></th>\n",
              "      <th></th>\n",
              "      <th></th>\n",
              "      <th></th>\n",
              "      <th></th>\n",
              "      <th></th>\n",
              "      <th></th>\n",
              "      <th></th>\n",
              "      <th></th>\n",
              "    </tr>\n",
              "  </thead>\n",
              "  <tbody>\n",
              "    <tr>\n",
              "      <th>12344</th>\n",
              "      <td>-1</td>\n",
              "      <td>1</td>\n",
              "      <td>1</td>\n",
              "      <td>1</td>\n",
              "      <td>-1</td>\n",
              "      <td>-1</td>\n",
              "      <td>-1</td>\n",
              "      <td>-1</td>\n",
              "      <td>-1</td>\n",
              "      <td>1</td>\n",
              "      <td>...</td>\n",
              "      <td>1</td>\n",
              "      <td>1</td>\n",
              "      <td>-1</td>\n",
              "      <td>-1</td>\n",
              "      <td>-1</td>\n",
              "      <td>-1</td>\n",
              "      <td>1</td>\n",
              "      <td>1</td>\n",
              "      <td>-1</td>\n",
              "      <td>-1</td>\n",
              "    </tr>\n",
              "    <tr>\n",
              "      <th>12345</th>\n",
              "      <td>1</td>\n",
              "      <td>1</td>\n",
              "      <td>1</td>\n",
              "      <td>1</td>\n",
              "      <td>1</td>\n",
              "      <td>-1</td>\n",
              "      <td>0</td>\n",
              "      <td>1</td>\n",
              "      <td>-1</td>\n",
              "      <td>1</td>\n",
              "      <td>...</td>\n",
              "      <td>1</td>\n",
              "      <td>1</td>\n",
              "      <td>-1</td>\n",
              "      <td>-1</td>\n",
              "      <td>0</td>\n",
              "      <td>-1</td>\n",
              "      <td>1</td>\n",
              "      <td>1</td>\n",
              "      <td>1</td>\n",
              "      <td>-1</td>\n",
              "    </tr>\n",
              "    <tr>\n",
              "      <th>12346</th>\n",
              "      <td>1</td>\n",
              "      <td>0</td>\n",
              "      <td>1</td>\n",
              "      <td>1</td>\n",
              "      <td>1</td>\n",
              "      <td>-1</td>\n",
              "      <td>-1</td>\n",
              "      <td>-1</td>\n",
              "      <td>-1</td>\n",
              "      <td>1</td>\n",
              "      <td>...</td>\n",
              "      <td>1</td>\n",
              "      <td>1</td>\n",
              "      <td>1</td>\n",
              "      <td>-1</td>\n",
              "      <td>1</td>\n",
              "      <td>-1</td>\n",
              "      <td>1</td>\n",
              "      <td>0</td>\n",
              "      <td>-1</td>\n",
              "      <td>-1</td>\n",
              "    </tr>\n",
              "    <tr>\n",
              "      <th>12347</th>\n",
              "      <td>1</td>\n",
              "      <td>0</td>\n",
              "      <td>1</td>\n",
              "      <td>1</td>\n",
              "      <td>1</td>\n",
              "      <td>-1</td>\n",
              "      <td>-1</td>\n",
              "      <td>-1</td>\n",
              "      <td>1</td>\n",
              "      <td>1</td>\n",
              "      <td>...</td>\n",
              "      <td>1</td>\n",
              "      <td>1</td>\n",
              "      <td>-1</td>\n",
              "      <td>-1</td>\n",
              "      <td>1</td>\n",
              "      <td>-1</td>\n",
              "      <td>1</td>\n",
              "      <td>-1</td>\n",
              "      <td>1</td>\n",
              "      <td>-1</td>\n",
              "    </tr>\n",
              "    <tr>\n",
              "      <th>12348</th>\n",
              "      <td>1</td>\n",
              "      <td>0</td>\n",
              "      <td>-1</td>\n",
              "      <td>1</td>\n",
              "      <td>1</td>\n",
              "      <td>-1</td>\n",
              "      <td>1</td>\n",
              "      <td>1</td>\n",
              "      <td>-1</td>\n",
              "      <td>1</td>\n",
              "      <td>...</td>\n",
              "      <td>-1</td>\n",
              "      <td>1</td>\n",
              "      <td>-1</td>\n",
              "      <td>-1</td>\n",
              "      <td>0</td>\n",
              "      <td>-1</td>\n",
              "      <td>1</td>\n",
              "      <td>1</td>\n",
              "      <td>1</td>\n",
              "      <td>1</td>\n",
              "    </tr>\n",
              "  </tbody>\n",
              "</table>\n",
              "<p>5 rows × 31 columns</p>\n",
              "</div>\n",
              "      <button class=\"colab-df-convert\" onclick=\"convertToInteractive('df-2c09a3c2-f5b2-4fcd-8ece-289bdcf019a7')\"\n",
              "              title=\"Convert this dataframe to an interactive table.\"\n",
              "              style=\"display:none;\">\n",
              "        \n",
              "  <svg xmlns=\"http://www.w3.org/2000/svg\" height=\"24px\"viewBox=\"0 0 24 24\"\n",
              "       width=\"24px\">\n",
              "    <path d=\"M0 0h24v24H0V0z\" fill=\"none\"/>\n",
              "    <path d=\"M18.56 5.44l.94 2.06.94-2.06 2.06-.94-2.06-.94-.94-2.06-.94 2.06-2.06.94zm-11 1L8.5 8.5l.94-2.06 2.06-.94-2.06-.94L8.5 2.5l-.94 2.06-2.06.94zm10 10l.94 2.06.94-2.06 2.06-.94-2.06-.94-.94-2.06-.94 2.06-2.06.94z\"/><path d=\"M17.41 7.96l-1.37-1.37c-.4-.4-.92-.59-1.43-.59-.52 0-1.04.2-1.43.59L10.3 9.45l-7.72 7.72c-.78.78-.78 2.05 0 2.83L4 21.41c.39.39.9.59 1.41.59.51 0 1.02-.2 1.41-.59l7.78-7.78 2.81-2.81c.8-.78.8-2.07 0-2.86zM5.41 20L4 18.59l7.72-7.72 1.47 1.35L5.41 20z\"/>\n",
              "  </svg>\n",
              "      </button>\n",
              "      \n",
              "  <style>\n",
              "    .colab-df-container {\n",
              "      display:flex;\n",
              "      flex-wrap:wrap;\n",
              "      gap: 12px;\n",
              "    }\n",
              "\n",
              "    .colab-df-convert {\n",
              "      background-color: #E8F0FE;\n",
              "      border: none;\n",
              "      border-radius: 50%;\n",
              "      cursor: pointer;\n",
              "      display: none;\n",
              "      fill: #1967D2;\n",
              "      height: 32px;\n",
              "      padding: 0 0 0 0;\n",
              "      width: 32px;\n",
              "    }\n",
              "\n",
              "    .colab-df-convert:hover {\n",
              "      background-color: #E2EBFA;\n",
              "      box-shadow: 0px 1px 2px rgba(60, 64, 67, 0.3), 0px 1px 3px 1px rgba(60, 64, 67, 0.15);\n",
              "      fill: #174EA6;\n",
              "    }\n",
              "\n",
              "    [theme=dark] .colab-df-convert {\n",
              "      background-color: #3B4455;\n",
              "      fill: #D2E3FC;\n",
              "    }\n",
              "\n",
              "    [theme=dark] .colab-df-convert:hover {\n",
              "      background-color: #434B5C;\n",
              "      box-shadow: 0px 1px 3px 1px rgba(0, 0, 0, 0.15);\n",
              "      filter: drop-shadow(0px 1px 2px rgba(0, 0, 0, 0.3));\n",
              "      fill: #FFFFFF;\n",
              "    }\n",
              "  </style>\n",
              "\n",
              "      <script>\n",
              "        const buttonEl =\n",
              "          document.querySelector('#df-2c09a3c2-f5b2-4fcd-8ece-289bdcf019a7 button.colab-df-convert');\n",
              "        buttonEl.style.display =\n",
              "          google.colab.kernel.accessAllowed ? 'block' : 'none';\n",
              "\n",
              "        async function convertToInteractive(key) {\n",
              "          const element = document.querySelector('#df-2c09a3c2-f5b2-4fcd-8ece-289bdcf019a7');\n",
              "          const dataTable =\n",
              "            await google.colab.kernel.invokeFunction('convertToInteractive',\n",
              "                                                     [key], {});\n",
              "          if (!dataTable) return;\n",
              "\n",
              "          const docLinkHtml = 'Like what you see? Visit the ' +\n",
              "            '<a target=\"_blank\" href=https://colab.research.google.com/notebooks/data_table.ipynb>data table notebook</a>'\n",
              "            + ' to learn more about interactive tables.';\n",
              "          element.innerHTML = '';\n",
              "          dataTable['output_type'] = 'display_data';\n",
              "          await google.colab.output.renderOutput(dataTable, element);\n",
              "          const docLink = document.createElement('div');\n",
              "          docLink.innerHTML = docLinkHtml;\n",
              "          element.appendChild(docLink);\n",
              "        }\n",
              "      </script>\n",
              "    </div>\n",
              "  </div>\n",
              "  "
            ]
          },
          "metadata": {},
          "execution_count": 6
        }
      ],
      "source": [
        "df_train = pd.read_csv('https://raw.githubusercontent.com/hariehkr/techGig/main/data/Phising_Training_Dataset.csv')\n",
        "df_train.index=df_train['key']\n",
        "df_train.drop('key', inplace=True, axis=1)\n",
        "print(df_train.shape)\n",
        "df_train.head()"
      ]
    },
    {
      "cell_type": "markdown",
      "metadata": {
        "id": "mNwhsUr3ZrUE"
      },
      "source": [
        "### Divide data into training and validation subsets"
      ]
    },
    {
      "cell_type": "code",
      "execution_count": 7,
      "metadata": {
        "id": "WZGyxJxmZrUE"
      },
      "outputs": [],
      "source": [
        "# Divide data into training and validation subsets\n",
        "y = df_train['Result']\n",
        "X = df_train.drop(['Result'], axis=1)\n",
        "X_train, X_test, y_train, y_test = train_test_split(X, \n",
        "                                                    y, \n",
        "                                                    train_size=0.8, \n",
        "                                                    test_size=0.2,\n",
        "                                                    random_state=0)"
      ]
    },
    {
      "cell_type": "markdown",
      "source": [
        "## Convert tart variable into categorical "
      ],
      "metadata": {
        "id": "v3exCOacaXd-"
      }
    },
    {
      "cell_type": "code",
      "execution_count": 8,
      "metadata": {
        "id": "N5gxCdenZrUH"
      },
      "outputs": [],
      "source": [
        "y_train = y_train.astype('category')\n",
        "y_test = y_test.astype('category')"
      ]
    },
    {
      "cell_type": "code",
      "execution_count": 9,
      "metadata": {
        "colab": {
          "base_uri": "https://localhost:8080/"
        },
        "id": "ZND1yXVrZrUH",
        "outputId": "dc242905-4b97-4909-c3dc-ecabbe0c95b0"
      },
      "outputs": [
        {
          "output_type": "stream",
          "name": "stdout",
          "text": [
            "X_train dimensions:  (7164, 30)\n",
            "y_train dimensions:  (7164,)\n",
            "X_test dimensions:   (1791, 30)\n",
            "y_test dimensions:   (1791,)\n"
          ]
        }
      ],
      "source": [
        "print('X_train dimensions: ', X_train.shape)\n",
        "print('y_train dimensions: ', y_train.shape)\n",
        "print('X_test dimensions:  ', X_test.shape)\n",
        "print('y_test dimensions:  ', y_test.shape)"
      ]
    },
    {
      "cell_type": "code",
      "execution_count": 10,
      "metadata": {
        "colab": {
          "base_uri": "https://localhost:8080/",
          "height": 331
        },
        "id": "3HSetc9DZrUH",
        "outputId": "486fca49-301d-4e7a-933e-13292831dd20"
      },
      "outputs": [
        {
          "output_type": "execute_result",
          "data": {
            "text/plain": [
              " 1    5034\n",
              "-1    3921\n",
              "Name: Result, dtype: int64"
            ]
          },
          "metadata": {},
          "execution_count": 10
        },
        {
          "output_type": "display_data",
          "data": {
            "text/plain": [
              "<Figure size 432x288 with 1 Axes>"
            ],
            "image/png": "[encoded data removed]"
          },
          "metadata": {
            "needs_background": "light"
          }
        }
      ],
      "source": [
        "plot_data = y_train.to_frame()\n",
        "sns.countplot(x = 'Result', data=plot_data)\n",
        "df_train.Result.value_counts()"
      ]
    },
    {
      "cell_type": "markdown",
      "source": [
        "# LogisticRegression"
      ],
      "metadata": {
        "id": "7wchnpbSa0-_"
      }
    },
    {
      "cell_type": "code",
      "source": [
        "from sklearn.linear_model import LogisticRegression\n",
        "\n",
        "lrc = LogisticRegression(penalty='l2',\n",
        "                         class_weight=\"balanced\",\n",
        "                         random_state=1,\n",
        "                         n_jobs=-1)\n",
        "\n",
        "final_lrc_model = fn_train_model(lrc,\n",
        "                          X_train,\n",
        "                          y_train)\n",
        "\n",
        "\n",
        "final_lrc_model_metrics = fn_compute_metrics(final_lrc_model,\n",
        "                                      'Final_lrc_model',\n",
        "                                       X_train,\n",
        "                                       y_train,\n",
        "                                       X_test,\n",
        "                                       y_test)\n",
        "\n",
        "print(final_lrc_model)\n",
        "print(final_lrc_model_metrics)"
      ],
      "metadata": {
        "colab": {
          "base_uri": "https://localhost:8080/"
        },
        "id": "JBK7EP2ya3XQ",
        "outputId": "f2ffdd02-7d6a-480b-da97-3bf407142141"
      },
      "execution_count": 48,
      "outputs": [
        {
          "output_type": "stream",
          "name": "stdout",
          "text": [
            "LogisticRegression(class_weight='balanced', n_jobs=-1, random_state=1)\n",
            "train_accuracy          0.928811\n",
            "train_precision         0.937098\n",
            "train_recall            0.936634\n",
            "train_f1_score          0.936866\n",
            "validation_accuracy     0.921831\n",
            "validation_precision    0.928715\n",
            "validation_recall       0.930584\n",
            "validation_f1_score     0.929648\n",
            "Name: Final_lrc_model, dtype: float64\n"
          ]
        }
      ]
    },
    {
      "cell_type": "markdown",
      "metadata": {
        "id": "6GIuadIrZrUH"
      },
      "source": [
        "# RandomForestClassifier"
      ]
    },
    {
      "cell_type": "code",
      "execution_count": 49,
      "metadata": {
        "id": "IRASU-FsZrUH"
      },
      "outputs": [],
      "source": [
        "from sklearn.ensemble import RandomForestClassifier\n",
        "\n",
        "rfc = RandomForestClassifier(n_jobs = -1,\n",
        "                             random_state = 1)\n"
      ]
    },
    {
      "cell_type": "code",
      "execution_count": 50,
      "metadata": {
        "id": "CDuktl-GZrUH"
      },
      "outputs": [],
      "source": [
        "base_model = fn_train_model(rfc, \n",
        "                            X_train,\n",
        "                            y_train)"
      ]
    },
    {
      "cell_type": "code",
      "execution_count": 51,
      "metadata": {
        "colab": {
          "base_uri": "https://localhost:8080/"
        },
        "id": "myFiHLIfZrUI",
        "outputId": "7adfd2dd-835e-4e78-92f0-acc8312bc70a"
      },
      "outputs": [
        {
          "output_type": "stream",
          "name": "stdout",
          "text": [
            "train_accuracy          0.989671\n",
            "train_precision         0.988664\n",
            "train_recall            0.993069\n",
            "train_f1_score          0.990862\n",
            "validation_accuracy     0.970408\n",
            "validation_precision    0.964462\n",
            "validation_recall       0.982897\n",
            "validation_f1_score     0.973592\n",
            "Name: base_model, dtype: float64\n"
          ]
        }
      ],
      "source": [
        "base_model_metrics = fn_compute_metrics(base_model,\n",
        "                                        'base_model',\n",
        "                                        X_train,\n",
        "                                        y_train,\n",
        "                                        X_test,\n",
        "                                        y_test)\n",
        "print(base_model_metrics)"
      ]
    },
    {
      "cell_type": "code",
      "execution_count": 52,
      "metadata": {
        "colab": {
          "base_uri": "https://localhost:8080/"
        },
        "id": "DxAHfUn-ZrUI",
        "outputId": "c466eef1-0a31-435f-c840-a668344a1550"
      },
      "outputs": [
        {
          "output_type": "stream",
          "name": "stdout",
          "text": [
            "RandomForestClassifier(class_weight='balanced_subsample', max_features=0.5,\n",
            "                       min_samples_leaf=3, n_estimators=150, n_jobs=-1,\n",
            "                       random_state=1)\n",
            "train_accuracy          0.974456\n",
            "train_precision         0.980563\n",
            "train_recall            0.974010\n",
            "train_f1_score          0.977276\n",
            "validation_accuracy     0.951982\n",
            "validation_precision    0.957661\n",
            "validation_recall       0.955734\n",
            "validation_f1_score     0.956697\n",
            "Name: Final_rfc_model, dtype: float64\n"
          ]
        }
      ],
      "source": [
        "parameters = {\n",
        "    \"n_estimators\" : [150],\n",
        "    \"min_samples_leaf\" : [3],\n",
        "    \"max_features\": [0.5],\n",
        "    \"class_weight\" : ['balanced_subsample']}\n",
        "\n",
        "final_rfc_model = fn_train_model(rfc,\n",
        "                          X_train,\n",
        "                          y_train,\n",
        "                          parameters, k = 10)\n",
        "\n",
        "\n",
        "final_rfc_model_metrics = fn_compute_metrics(final_rfc_model,\n",
        "                                      'Final_rfc_model',\n",
        "                                       X_train,\n",
        "                                       y_train,\n",
        "                                       X_test,\n",
        "                                       y_test)\n",
        "\n",
        "print(final_rfc_model)\n",
        "print(final_rfc_model_metrics)"
      ]
    },
    {
      "cell_type": "code",
      "execution_count": 31,
      "metadata": {
        "colab": {
          "base_uri": "https://localhost:8080/"
        },
        "id": "MRF5psaYZrUJ",
        "outputId": "f6fce66e-0325-41b8-f0d2-0316f44c797d"
      },
      "outputs": [
        {
          "output_type": "execute_result",
          "data": {
            "text/plain": [
              "array([0.00700603, 0.00651789, 0.00256098, 0.00147656, 0.00150823,\n",
              "       0.03077751, 0.04334826, 0.4622681 , 0.00854268, 0.00206096,\n",
              "       0.00054235, 0.00232858, 0.01038621, 0.24352271, 0.03526651,\n",
              "       0.01195586, 0.00372484, 0.00149946, 0.00214779, 0.00132842,\n",
              "       0.00070669, 0.00218666, 0.00106242, 0.01029141, 0.00740744,\n",
              "       0.07140135, 0.00554062, 0.00598521, 0.01486912, 0.00177913])"
            ]
          },
          "metadata": {},
          "execution_count": 31
        }
      ],
      "source": [
        "final_rfc_model.feature_importances_"
      ]
    },
    {
      "cell_type": "code",
      "execution_count": 32,
      "metadata": {
        "colab": {
          "base_uri": "https://localhost:8080/",
          "height": 242
        },
        "id": "-_dAglwtZrUJ",
        "outputId": "001cf4ea-df4d-4331-ddda-206f100fc3f7"
      },
      "outputs": [
        {
          "output_type": "execute_result",
          "data": {
            "text/plain": [
              "<matplotlib.axes._subplots.AxesSubplot at 0x7ff8af198f10>"
            ]
          },
          "metadata": {},
          "execution_count": 32
        },
        {
          "output_type": "display_data",
          "data": {
            "text/plain": [
              "<Figure size 360x216 with 1 Axes>"
            ],
            "image/png": "[encoded data removed]"
          },
          "metadata": {
            "needs_background": "light"
          }
        }
      ],
      "source": [
        "feature_names = list(X_train.columns)\n",
        "plt.figure(figsize=(5,3))\n",
        "d = pd.DataFrame([feature_names,final_rfc_model.feature_importances_]).T\n",
        "d = d.sort_values([1],ascending=False)[0:10]\n",
        "sns.barplot(d[1],d[0])\n"
      ]
    },
    {
      "cell_type": "markdown",
      "metadata": {
        "id": "bvtQPHTgZrUK"
      },
      "source": [
        "# DecisionTreeClassifier"
      ]
    },
    {
      "cell_type": "code",
      "execution_count": 33,
      "metadata": {
        "colab": {
          "base_uri": "https://localhost:8080/"
        },
        "id": "5W-WlwH3ZrUK",
        "outputId": "39d5e916-01a4-48c1-9b5f-f2f0c2876f14"
      },
      "outputs": [
        {
          "output_type": "stream",
          "name": "stdout",
          "text": [
            "DecisionTreeClassifier()\n",
            "train_accuracy          0.989671\n",
            "train_precision         0.991815\n",
            "train_recall            0.989851\n",
            "train_f1_score          0.990833\n",
            "validation_accuracy     0.958124\n",
            "validation_precision    0.962739\n",
            "validation_recall       0.961771\n",
            "validation_f1_score     0.962255\n",
            "Name: Final_dtc_model, dtype: float64\n"
          ]
        }
      ],
      "source": [
        "from sklearn.tree import DecisionTreeClassifier\n",
        "\n",
        "dtc = DecisionTreeClassifier()\n",
        "\n",
        "final_dtc_model = fn_train_model(dtc,\n",
        "                          X_train,\n",
        "                          y_train)\n",
        "\n",
        "\n",
        "final_dtc_model_metrics = fn_compute_metrics(final_dtc_model,\n",
        "                                      'Final_dtc_model',\n",
        "                                       X_train,\n",
        "                                       y_train,\n",
        "                                       X_test,\n",
        "                                       y_test)\n",
        "\n",
        "print(final_dtc_model)\n",
        "print(final_dtc_model_metrics)"
      ]
    },
    {
      "cell_type": "markdown",
      "metadata": {
        "id": "tstyemRuZrUL"
      },
      "source": [
        "# Gradient Boosting Machines model."
      ]
    },
    {
      "cell_type": "code",
      "execution_count": 38,
      "metadata": {
        "id": "oAoxzAAqZrUL"
      },
      "outputs": [],
      "source": [
        "from sklearn.ensemble import GradientBoostingClassifier\n",
        "\n",
        "gbm = GradientBoostingClassifier(n_estimators=10,\n",
        "                                 learning_rate=1,\n",
        "                                 max_depth = 2,\n",
        "                                 warm_start = True,\n",
        "                                 random_state=2345)"
      ]
    },
    {
      "cell_type": "code",
      "execution_count": 41,
      "metadata": {
        "id": "5lVdsyIqZrUM"
      },
      "outputs": [],
      "source": [
        "final_model = fn_train_model(gbm, X_train, y_train,)"
      ]
    },
    {
      "cell_type": "code",
      "execution_count": 42,
      "metadata": {
        "colab": {
          "base_uri": "https://localhost:8080/"
        },
        "id": "PiiI5Ib9ZrUM",
        "outputId": "39efa763-be7f-4036-ee4e-918ba6c1baf5"
      },
      "outputs": [
        {
          "output_type": "stream",
          "name": "stdout",
          "text": [
            "\n",
            "Confusion Matrix :\n",
            "[[2861  263]\n",
            " [ 185 3855]]\n",
            "\n",
            "Report : \n",
            "              precision    recall  f1-score   support\n",
            "\n",
            "          -1       0.94      0.92      0.93      3124\n",
            "           1       0.94      0.95      0.95      4040\n",
            "\n",
            "    accuracy                           0.94      7164\n",
            "   macro avg       0.94      0.94      0.94      7164\n",
            "weighted avg       0.94      0.94      0.94      7164\n",
            "\n",
            "Recall score : 0.9158130601792573\n"
          ]
        },
        {
          "output_type": "execute_result",
          "data": {
            "text/plain": [
              "0.9158130601792573"
            ]
          },
          "metadata": {},
          "execution_count": 42
        }
      ],
      "source": [
        "fn_compute_metrics_train(gbm, X_train, y_train,)"
      ]
    },
    {
      "cell_type": "code",
      "source": [
        "final_GBM_model_metrics = fn_compute_metrics(final_model,\n",
        "                                      'final_model',\n",
        "                                       X_train,\n",
        "                                       y_train,\n",
        "                                       X_test,\n",
        "                                       y_test)\n",
        "\n",
        "print(final_model)\n",
        "print(final_GBM_model_metrics)"
      ],
      "metadata": {
        "colab": {
          "base_uri": "https://localhost:8080/"
        },
        "id": "C_CJkZWCew_5",
        "outputId": "6fad16f9-3305-4923-b264-feef2a7970be"
      },
      "execution_count": 53,
      "outputs": [
        {
          "output_type": "stream",
          "name": "stdout",
          "text": [
            "XGBClassifier(n_estimators=15, random_state=2)\n",
            "train_accuracy          0.915690\n",
            "train_precision         0.922528\n",
            "train_recall            0.928465\n",
            "train_f1_score          0.925487\n",
            "validation_accuracy     0.913456\n",
            "validation_precision    0.921608\n",
            "validation_recall       0.922535\n",
            "validation_f1_score     0.922071\n",
            "Name: final_model, dtype: float64\n"
          ]
        }
      ]
    },
    {
      "cell_type": "markdown",
      "metadata": {
        "id": "vvOUtUlMZrUP"
      },
      "source": [
        "# Final Model Building\n",
        "\n",
        " \tModel:  \t     train| validation_accuracy     \n",
        "LogisticRegression :  0.928\t|\t\t    0.921 <br>\n",
        "RandomForestClassifier: 0.989|\t\t\t0.970 <br>\n",
        "DecisionTreeClassifier:  0.989|\t\t\t0.958 <br>\n",
        "Gradient Boosting     :  0.915 |\t\t\t0.913 <br>\n",
        "\n",
        "### RandomForest Choosen for the prediction"
      ]
    },
    {
      "cell_type": "code",
      "source": [
        "X_train_all = pd.concat([X_train, X_test])\n",
        "y_train_all = pd.concat([y_train, y_test])\n",
        "\n",
        "print(X_train_all.shape, y_train_all.shape)"
      ],
      "metadata": {
        "colab": {
          "base_uri": "https://localhost:8080/"
        },
        "id": "QHA6VjcjcoJ4",
        "outputId": "9d5ffbc9-5895-4deb-9e90-3deeb3e713c3"
      },
      "execution_count": 57,
      "outputs": [
        {
          "output_type": "stream",
          "name": "stdout",
          "text": [
            "(8955, 30) (8955,)\n"
          ]
        }
      ]
    },
    {
      "cell_type": "code",
      "source": [
        "df_test = pd.read_csv('https://raw.githubusercontent.com/hariehkr/techGig/main/data/Phising_Testing_Dataset.csv')\n",
        "df_test.index=df_test['key']\n",
        "df_test.drop('key', inplace=True, axis=1)\n",
        "print(df_test.shape)\n",
        "df_test.head(2)"
      ],
      "metadata": {
        "colab": {
          "base_uri": "https://localhost:8080/",
          "height": 254
        },
        "id": "rzFteGwshAbY",
        "outputId": "b9151c4f-9fe4-4d6b-89f5-d2537abe8ef1"
      },
      "execution_count": 66,
      "outputs": [
        {
          "output_type": "stream",
          "name": "stdout",
          "text": [
            "(2100, 30)\n"
          ]
        },
        {
          "output_type": "execute_result",
          "data": {
            "text/plain": [
              "       having_IP  URL_Length  Shortining_Service  having_At_Symbol  \\\n",
              "key                                                                  \n",
              "21338          1           1                   1                 1   \n",
              "21339          1          -1                   1                 1   \n",
              "\n",
              "       double_slash_redirecting  Prefix_Suffix  having_Sub_Domain  \\\n",
              "key                                                                 \n",
              "21338                         1              1                 -1   \n",
              "21339                         1             -1                  0   \n",
              "\n",
              "       SSLfinal_State  Domain_registeration_length  Favicon  ...  RightClick  \\\n",
              "key                                                          ...               \n",
              "21338               1                           -1        1  ...           1   \n",
              "21339              -1                            1        1  ...           1   \n",
              "\n",
              "       popUpWidnow  Iframe  age_of_domain  DNSRecord  web_traffic  Page_Rank  \\\n",
              "key                                                                            \n",
              "21338            1       1              1          1            1          1   \n",
              "21339            1       1             -1         -1            0         -1   \n",
              "\n",
              "       Google_Index  Links_pointing_to_page  Statistical_report  \n",
              "key                                                              \n",
              "21338            -1                       0                   1  \n",
              "21339            -1                       0                   1  \n",
              "\n",
              "[2 rows x 30 columns]"
            ],
            "text/html": [
              "\n",
              "  <div id=\"df-c020a900-4318-403b-bb34-81a2d4bcfa62\">\n",
              "    <div class=\"colab-df-container\">\n",
              "      <div>\n",
              "<style scoped>\n",
              "    .dataframe tbody tr th:only-of-type {\n",
              "        vertical-align: middle;\n",
              "    }\n",
              "\n",
              "    .dataframe tbody tr th {\n",
              "        vertical-align: top;\n",
              "    }\n",
              "\n",
              "    .dataframe thead th {\n",
              "        text-align: right;\n",
              "    }\n",
              "</style>\n",
              "<table border=\"1\" class=\"dataframe\">\n",
              "  <thead>\n",
              "    <tr style=\"text-align: right;\">\n",
              "      <th></th>\n",
              "      <th>having_IP</th>\n",
              "      <th>URL_Length</th>\n",
              "      <th>Shortining_Service</th>\n",
              "      <th>having_At_Symbol</th>\n",
              "      <th>double_slash_redirecting</th>\n",
              "      <th>Prefix_Suffix</th>\n",
              "      <th>having_Sub_Domain</th>\n",
              "      <th>SSLfinal_State</th>\n",
              "      <th>Domain_registeration_length</th>\n",
              "      <th>Favicon</th>\n",
              "      <th>...</th>\n",
              "      <th>RightClick</th>\n",
              "      <th>popUpWidnow</th>\n",
              "      <th>Iframe</th>\n",
              "      <th>age_of_domain</th>\n",
              "      <th>DNSRecord</th>\n",
              "      <th>web_traffic</th>\n",
              "      <th>Page_Rank</th>\n",
              "      <th>Google_Index</th>\n",
              "      <th>Links_pointing_to_page</th>\n",
              "      <th>Statistical_report</th>\n",
              "    </tr>\n",
              "    <tr>\n",
              "      <th>key</th>\n",
              "      <th></th>\n",
              "      <th></th>\n",
              "      <th></th>\n",
              "      <th></th>\n",
              "      <th></th>\n",
              "      <th></th>\n",
              "      <th></th>\n",
              "      <th></th>\n",
              "      <th></th>\n",
              "      <th></th>\n",
              "      <th></th>\n",
              "      <th></th>\n",
              "      <th></th>\n",
              "      <th></th>\n",
              "      <th></th>\n",
              "      <th></th>\n",
              "      <th></th>\n",
              "      <th></th>\n",
              "      <th></th>\n",
              "      <th></th>\n",
              "      <th></th>\n",
              "    </tr>\n",
              "  </thead>\n",
              "  <tbody>\n",
              "    <tr>\n",
              "      <th>21338</th>\n",
              "      <td>1</td>\n",
              "      <td>1</td>\n",
              "      <td>1</td>\n",
              "      <td>1</td>\n",
              "      <td>1</td>\n",
              "      <td>1</td>\n",
              "      <td>-1</td>\n",
              "      <td>1</td>\n",
              "      <td>-1</td>\n",
              "      <td>1</td>\n",
              "      <td>...</td>\n",
              "      <td>1</td>\n",
              "      <td>1</td>\n",
              "      <td>1</td>\n",
              "      <td>1</td>\n",
              "      <td>1</td>\n",
              "      <td>1</td>\n",
              "      <td>1</td>\n",
              "      <td>-1</td>\n",
              "      <td>0</td>\n",
              "      <td>1</td>\n",
              "    </tr>\n",
              "    <tr>\n",
              "      <th>21339</th>\n",
              "      <td>1</td>\n",
              "      <td>-1</td>\n",
              "      <td>1</td>\n",
              "      <td>1</td>\n",
              "      <td>1</td>\n",
              "      <td>-1</td>\n",
              "      <td>0</td>\n",
              "      <td>-1</td>\n",
              "      <td>1</td>\n",
              "      <td>1</td>\n",
              "      <td>...</td>\n",
              "      <td>1</td>\n",
              "      <td>1</td>\n",
              "      <td>1</td>\n",
              "      <td>-1</td>\n",
              "      <td>-1</td>\n",
              "      <td>0</td>\n",
              "      <td>-1</td>\n",
              "      <td>-1</td>\n",
              "      <td>0</td>\n",
              "      <td>1</td>\n",
              "    </tr>\n",
              "  </tbody>\n",
              "</table>\n",
              "<p>2 rows × 30 columns</p>\n",
              "</div>\n",
              "      <button class=\"colab-df-convert\" onclick=\"convertToInteractive('df-c020a900-4318-403b-bb34-81a2d4bcfa62')\"\n",
              "              title=\"Convert this dataframe to an interactive table.\"\n",
              "              style=\"display:none;\">\n",
              "        \n",
              "  <svg xmlns=\"http://www.w3.org/2000/svg\" height=\"24px\"viewBox=\"0 0 24 24\"\n",
              "       width=\"24px\">\n",
              "    <path d=\"M0 0h24v24H0V0z\" fill=\"none\"/>\n",
              "    <path d=\"M18.56 5.44l.94 2.06.94-2.06 2.06-.94-2.06-.94-.94-2.06-.94 2.06-2.06.94zm-11 1L8.5 8.5l.94-2.06 2.06-.94-2.06-.94L8.5 2.5l-.94 2.06-2.06.94zm10 10l.94 2.06.94-2.06 2.06-.94-2.06-.94-.94-2.06-.94 2.06-2.06.94z\"/><path d=\"M17.41 7.96l-1.37-1.37c-.4-.4-.92-.59-1.43-.59-.52 0-1.04.2-1.43.59L10.3 9.45l-7.72 7.72c-.78.78-.78 2.05 0 2.83L4 21.41c.39.39.9.59 1.41.59.51 0 1.02-.2 1.41-.59l7.78-7.78 2.81-2.81c.8-.78.8-2.07 0-2.86zM5.41 20L4 18.59l7.72-7.72 1.47 1.35L5.41 20z\"/>\n",
              "  </svg>\n",
              "      </button>\n",
              "      \n",
              "  <style>\n",
              "    .colab-df-container {\n",
              "      display:flex;\n",
              "      flex-wrap:wrap;\n",
              "      gap: 12px;\n",
              "    }\n",
              "\n",
              "    .colab-df-convert {\n",
              "      background-color: #E8F0FE;\n",
              "      border: none;\n",
              "      border-radius: 50%;\n",
              "      cursor: pointer;\n",
              "      display: none;\n",
              "      fill: #1967D2;\n",
              "      height: 32px;\n",
              "      padding: 0 0 0 0;\n",
              "      width: 32px;\n",
              "    }\n",
              "\n",
              "    .colab-df-convert:hover {\n",
              "      background-color: #E2EBFA;\n",
              "      box-shadow: 0px 1px 2px rgba(60, 64, 67, 0.3), 0px 1px 3px 1px rgba(60, 64, 67, 0.15);\n",
              "      fill: #174EA6;\n",
              "    }\n",
              "\n",
              "    [theme=dark] .colab-df-convert {\n",
              "      background-color: #3B4455;\n",
              "      fill: #D2E3FC;\n",
              "    }\n",
              "\n",
              "    [theme=dark] .colab-df-convert:hover {\n",
              "      background-color: #434B5C;\n",
              "      box-shadow: 0px 1px 3px 1px rgba(0, 0, 0, 0.15);\n",
              "      filter: drop-shadow(0px 1px 2px rgba(0, 0, 0, 0.3));\n",
              "      fill: #FFFFFF;\n",
              "    }\n",
              "  </style>\n",
              "\n",
              "      <script>\n",
              "        const buttonEl =\n",
              "          document.querySelector('#df-c020a900-4318-403b-bb34-81a2d4bcfa62 button.colab-df-convert');\n",
              "        buttonEl.style.display =\n",
              "          google.colab.kernel.accessAllowed ? 'block' : 'none';\n",
              "\n",
              "        async function convertToInteractive(key) {\n",
              "          const element = document.querySelector('#df-c020a900-4318-403b-bb34-81a2d4bcfa62');\n",
              "          const dataTable =\n",
              "            await google.colab.kernel.invokeFunction('convertToInteractive',\n",
              "                                                     [key], {});\n",
              "          if (!dataTable) return;\n",
              "\n",
              "          const docLinkHtml = 'Like what you see? Visit the ' +\n",
              "            '<a target=\"_blank\" href=https://colab.research.google.com/notebooks/data_table.ipynb>data table notebook</a>'\n",
              "            + ' to learn more about interactive tables.';\n",
              "          element.innerHTML = '';\n",
              "          dataTable['output_type'] = 'display_data';\n",
              "          await google.colab.output.renderOutput(dataTable, element);\n",
              "          const docLink = document.createElement('div');\n",
              "          docLink.innerHTML = docLinkHtml;\n",
              "          element.appendChild(docLink);\n",
              "        }\n",
              "      </script>\n",
              "    </div>\n",
              "  </div>\n",
              "  "
            ]
          },
          "metadata": {},
          "execution_count": 66
        }
      ]
    },
    {
      "cell_type": "code",
      "source": [
        "base_model = fn_train_model(rfc, \n",
        "                            X_train_all,\n",
        "                            y_train_all)"
      ],
      "metadata": {
        "id": "kh1M1eQFhiIb"
      },
      "execution_count": 58,
      "outputs": []
    },
    {
      "cell_type": "code",
      "source": [
        "parameters = {\n",
        "    \"n_estimators\" : [150],\n",
        "    \"min_samples_leaf\" : [3],\n",
        "    \"max_features\": [0.5],\n",
        "    \"class_weight\" : ['balanced_subsample']}\n",
        "\n",
        "final_rfc_model = fn_train_model(base_model,\n",
        "                           X_train_all,\n",
        "                           y_train_all,\n",
        "                          parameters, k = 10)"
      ],
      "metadata": {
        "id": "0_R73X0Nh_eC"
      },
      "execution_count": null,
      "outputs": []
    },
    {
      "cell_type": "code",
      "source": [
        "fn_compute_metrics_train(final_rfc_model, X_train_all, y_train_all,)"
      ],
      "metadata": {
        "id": "y7bJjsqMiLd3"
      },
      "execution_count": null,
      "outputs": []
    },
    {
      "cell_type": "markdown",
      "source": [
        "## Final Test Predicton"
      ],
      "metadata": {
        "id": "wMV20sf0ilHf"
      }
    },
    {
      "cell_type": "code",
      "execution_count": 68,
      "metadata": {
        "id": "5EpSdg8UZrUR"
      },
      "outputs": [],
      "source": [
        "test_pred = final_rfc_model.predict(df_test)"
      ]
    },
    {
      "cell_type": "code",
      "execution_count": 69,
      "metadata": {
        "colab": {
          "base_uri": "https://localhost:8080/"
        },
        "id": "nmDu2EWyZrUR",
        "outputId": "f0c27186-4c21-4836-bbe4-bfdfe5cb91d0"
      },
      "outputs": [
        {
          "output_type": "execute_result",
          "data": {
            "text/plain": [
              "array([ 1, -1, -1, -1,  1,  1,  1,  1,  1, -1])"
            ]
          },
          "metadata": {},
          "execution_count": 69
        }
      ],
      "source": [
        "test_pred[0:10]"
      ]
    },
    {
      "cell_type": "markdown",
      "source": [
        "## Submit Test Predicton results"
      ],
      "metadata": {
        "id": "6S3J3zDgiveB"
      }
    },
    {
      "cell_type": "code",
      "execution_count": null,
      "metadata": {
        "id": "GBVePk4yZrUR"
      },
      "outputs": [],
      "source": [
        "submissions_df = pd.DataFrame({'key': df_test.key, 'Result': test_pred})\n",
        "submissions_df.head()"
      ]
    },
    {
      "cell_type": "code",
      "execution_count": null,
      "metadata": {
        "id": "9zM22nflZrUR"
      },
      "outputs": [],
      "source": [
        "submissions_df.to_csv(folder+u'//'+ \"test_predictions_Submission.csv\", index=None)"
      ]
    }
  ],
  "metadata": {
    "kernelspec": {
      "display_name": "Python 3 (ipykernel)",
      "language": "python",
      "name": "python3"
    },
    "language_info": {
      "codemirror_mode": {
        "name": "ipython",
        "version": 3
      },
      "file_extension": ".py",
      "mimetype": "text/x-python",
      "name": "python",
      "nbconvert_exporter": "python",
      "pygments_lexer": "ipython3",
      "version": "3.8.3"
    },
    "colab": {
      "name": "TechGig_MLModels_SemiFinal.ipynb",
      "provenance": [],
      "collapsed_sections": [],
      "include_colab_link": true
    }
  },
  "nbformat": 4,
  "nbformat_minor": 0
}